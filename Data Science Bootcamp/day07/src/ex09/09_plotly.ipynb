{
 "cells": [
  {
   "cell_type": "markdown",
   "metadata": {},
   "source": [
    "##### Load libs:"
   ]
  },
  {
   "cell_type": "code",
   "execution_count": 1,
   "metadata": {},
   "outputs": [],
   "source": [
    "import pandas as pd\n",
    "import sqlite3\n",
    "import plotly.graph_objects as go\n",
    "import numpy as np"
   ]
  },
  {
   "cell_type": "markdown",
   "metadata": {},
   "source": [
    "##### 1.Create connect:"
   ]
  },
  {
   "cell_type": "code",
   "execution_count": 2,
   "metadata": {},
   "outputs": [],
   "source": [
    "connect = sqlite3.connect(\"../data/checking-logs.sqlite\")\n",
    "cur = connect.cursor()"
   ]
  },
  {
   "cell_type": "markdown",
   "metadata": {},
   "source": [
    "##### 2.Load data:"
   ]
  },
  {
   "cell_type": "code",
   "execution_count": 3,
   "metadata": {},
   "outputs": [
    {
     "data": {
      "text/html": [
       "<div>\n",
       "<style scoped>\n",
       "    .dataframe tbody tr th:only-of-type {\n",
       "        vertical-align: middle;\n",
       "    }\n",
       "\n",
       "    .dataframe tbody tr th {\n",
       "        vertical-align: top;\n",
       "    }\n",
       "\n",
       "    .dataframe thead th {\n",
       "        text-align: right;\n",
       "    }\n",
       "</style>\n",
       "<table border=\"1\" class=\"dataframe\">\n",
       "  <thead>\n",
       "    <tr style=\"text-align: right;\">\n",
       "      <th></th>\n",
       "      <th>uid</th>\n",
       "      <th>timestamp</th>\n",
       "      <th>numTrials</th>\n",
       "    </tr>\n",
       "  </thead>\n",
       "  <tbody>\n",
       "    <tr>\n",
       "      <th>0</th>\n",
       "      <td>user_1</td>\n",
       "      <td>2020-05-14</td>\n",
       "      <td>11</td>\n",
       "    </tr>\n",
       "    <tr>\n",
       "      <th>1</th>\n",
       "      <td>user_10</td>\n",
       "      <td>2020-05-12</td>\n",
       "      <td>7</td>\n",
       "    </tr>\n",
       "    <tr>\n",
       "      <th>2</th>\n",
       "      <td>user_10</td>\n",
       "      <td>2020-05-13</td>\n",
       "      <td>21</td>\n",
       "    </tr>\n",
       "    <tr>\n",
       "      <th>3</th>\n",
       "      <td>user_10</td>\n",
       "      <td>2020-05-14</td>\n",
       "      <td>59</td>\n",
       "    </tr>\n",
       "    <tr>\n",
       "      <th>4</th>\n",
       "      <td>user_11</td>\n",
       "      <td>2020-05-03</td>\n",
       "      <td>1</td>\n",
       "    </tr>\n",
       "    <tr>\n",
       "      <th>...</th>\n",
       "      <td>...</td>\n",
       "      <td>...</td>\n",
       "      <td>...</td>\n",
       "    </tr>\n",
       "    <tr>\n",
       "      <th>89</th>\n",
       "      <td>user_4</td>\n",
       "      <td>2020-05-13</td>\n",
       "      <td>137</td>\n",
       "    </tr>\n",
       "    <tr>\n",
       "      <th>90</th>\n",
       "      <td>user_4</td>\n",
       "      <td>2020-05-14</td>\n",
       "      <td>164</td>\n",
       "    </tr>\n",
       "    <tr>\n",
       "      <th>91</th>\n",
       "      <td>user_6</td>\n",
       "      <td>2020-05-13</td>\n",
       "      <td>1</td>\n",
       "    </tr>\n",
       "    <tr>\n",
       "      <th>92</th>\n",
       "      <td>user_6</td>\n",
       "      <td>2020-05-14</td>\n",
       "      <td>2</td>\n",
       "    </tr>\n",
       "    <tr>\n",
       "      <th>93</th>\n",
       "      <td>user_8</td>\n",
       "      <td>2020-05-14</td>\n",
       "      <td>8</td>\n",
       "    </tr>\n",
       "  </tbody>\n",
       "</table>\n",
       "<p>94 rows × 3 columns</p>\n",
       "</div>"
      ],
      "text/plain": [
       "        uid  timestamp  numTrials\n",
       "0    user_1 2020-05-14         11\n",
       "1   user_10 2020-05-12          7\n",
       "2   user_10 2020-05-13         21\n",
       "3   user_10 2020-05-14         59\n",
       "4   user_11 2020-05-03          1\n",
       "..      ...        ...        ...\n",
       "89   user_4 2020-05-13        137\n",
       "90   user_4 2020-05-14        164\n",
       "91   user_6 2020-05-13          1\n",
       "92   user_6 2020-05-14          2\n",
       "93   user_8 2020-05-14          8\n",
       "\n",
       "[94 rows x 3 columns]"
      ]
     },
     "execution_count": 3,
     "metadata": {},
     "output_type": "execute_result"
    }
   ],
   "source": [
    "data = pd.io.sql.read_sql(\n",
    "\t\"SELECT uid, DATE(timestamp) AS timestamp, numTrials \" \\\n",
    "\t\"FROM checker \" \\\n",
    "\t\"WHERE status = 'ready' AND uid LIKE 'user%' AND labname = 'project1'\",\n",
    "\tconnect,\n",
    "\tparse_dates='timestamp'\n",
    ")\n",
    "\n",
    "data=data.groupby(['uid','timestamp'], as_index = False).numTrials.max()\n",
    "data"
   ]
  },
  {
   "cell_type": "code",
   "execution_count": 4,
   "metadata": {},
   "outputs": [],
   "source": [
    "data = data.sort_values(by='timestamp')\n",
    "dates = data['timestamp'].unique()\n"
   ]
  },
  {
   "cell_type": "code",
   "execution_count": 5,
   "metadata": {},
   "outputs": [
    {
     "data": {
      "text/html": [
       "<div>\n",
       "<style scoped>\n",
       "    .dataframe tbody tr th:only-of-type {\n",
       "        vertical-align: middle;\n",
       "    }\n",
       "\n",
       "    .dataframe tbody tr th {\n",
       "        vertical-align: top;\n",
       "    }\n",
       "\n",
       "    .dataframe thead th {\n",
       "        text-align: right;\n",
       "    }\n",
       "</style>\n",
       "<table border=\"1\" class=\"dataframe\">\n",
       "  <thead>\n",
       "    <tr style=\"text-align: right;\">\n",
       "      <th>timestamp</th>\n",
       "      <th>2020-04-17</th>\n",
       "      <th>2020-04-18</th>\n",
       "      <th>2020-04-19</th>\n",
       "      <th>2020-04-22</th>\n",
       "      <th>2020-04-23</th>\n",
       "      <th>2020-04-24</th>\n",
       "      <th>2020-05-03</th>\n",
       "      <th>2020-05-04</th>\n",
       "      <th>2020-05-05</th>\n",
       "      <th>2020-05-06</th>\n",
       "      <th>2020-05-07</th>\n",
       "      <th>2020-05-08</th>\n",
       "      <th>2020-05-09</th>\n",
       "      <th>2020-05-10</th>\n",
       "      <th>2020-05-11</th>\n",
       "      <th>2020-05-12</th>\n",
       "      <th>2020-05-13</th>\n",
       "      <th>2020-05-14</th>\n",
       "      <th>2020-05-15</th>\n",
       "    </tr>\n",
       "    <tr>\n",
       "      <th>uid</th>\n",
       "      <th></th>\n",
       "      <th></th>\n",
       "      <th></th>\n",
       "      <th></th>\n",
       "      <th></th>\n",
       "      <th></th>\n",
       "      <th></th>\n",
       "      <th></th>\n",
       "      <th></th>\n",
       "      <th></th>\n",
       "      <th></th>\n",
       "      <th></th>\n",
       "      <th></th>\n",
       "      <th></th>\n",
       "      <th></th>\n",
       "      <th></th>\n",
       "      <th></th>\n",
       "      <th></th>\n",
       "      <th></th>\n",
       "    </tr>\n",
       "  </thead>\n",
       "  <tbody>\n",
       "    <tr>\n",
       "      <th>user_1</th>\n",
       "      <td>NaN</td>\n",
       "      <td>NaN</td>\n",
       "      <td>NaN</td>\n",
       "      <td>NaN</td>\n",
       "      <td>NaN</td>\n",
       "      <td>NaN</td>\n",
       "      <td>NaN</td>\n",
       "      <td>NaN</td>\n",
       "      <td>NaN</td>\n",
       "      <td>NaN</td>\n",
       "      <td>NaN</td>\n",
       "      <td>NaN</td>\n",
       "      <td>NaN</td>\n",
       "      <td>NaN</td>\n",
       "      <td>NaN</td>\n",
       "      <td>NaN</td>\n",
       "      <td>NaN</td>\n",
       "      <td>11.0</td>\n",
       "      <td>NaN</td>\n",
       "    </tr>\n",
       "    <tr>\n",
       "      <th>user_10</th>\n",
       "      <td>NaN</td>\n",
       "      <td>NaN</td>\n",
       "      <td>NaN</td>\n",
       "      <td>NaN</td>\n",
       "      <td>NaN</td>\n",
       "      <td>NaN</td>\n",
       "      <td>NaN</td>\n",
       "      <td>NaN</td>\n",
       "      <td>NaN</td>\n",
       "      <td>NaN</td>\n",
       "      <td>NaN</td>\n",
       "      <td>NaN</td>\n",
       "      <td>NaN</td>\n",
       "      <td>NaN</td>\n",
       "      <td>NaN</td>\n",
       "      <td>7.0</td>\n",
       "      <td>21.0</td>\n",
       "      <td>59.0</td>\n",
       "      <td>NaN</td>\n",
       "    </tr>\n",
       "    <tr>\n",
       "      <th>user_11</th>\n",
       "      <td>NaN</td>\n",
       "      <td>NaN</td>\n",
       "      <td>NaN</td>\n",
       "      <td>NaN</td>\n",
       "      <td>NaN</td>\n",
       "      <td>NaN</td>\n",
       "      <td>1.0</td>\n",
       "      <td>NaN</td>\n",
       "      <td>NaN</td>\n",
       "      <td>NaN</td>\n",
       "      <td>NaN</td>\n",
       "      <td>NaN</td>\n",
       "      <td>NaN</td>\n",
       "      <td>NaN</td>\n",
       "      <td>NaN</td>\n",
       "      <td>NaN</td>\n",
       "      <td>NaN</td>\n",
       "      <td>NaN</td>\n",
       "      <td>NaN</td>\n",
       "    </tr>\n",
       "    <tr>\n",
       "      <th>user_12</th>\n",
       "      <td>NaN</td>\n",
       "      <td>NaN</td>\n",
       "      <td>NaN</td>\n",
       "      <td>NaN</td>\n",
       "      <td>NaN</td>\n",
       "      <td>NaN</td>\n",
       "      <td>NaN</td>\n",
       "      <td>NaN</td>\n",
       "      <td>NaN</td>\n",
       "      <td>NaN</td>\n",
       "      <td>NaN</td>\n",
       "      <td>NaN</td>\n",
       "      <td>NaN</td>\n",
       "      <td>NaN</td>\n",
       "      <td>NaN</td>\n",
       "      <td>NaN</td>\n",
       "      <td>NaN</td>\n",
       "      <td>4.0</td>\n",
       "      <td>NaN</td>\n",
       "    </tr>\n",
       "    <tr>\n",
       "      <th>user_13</th>\n",
       "      <td>NaN</td>\n",
       "      <td>NaN</td>\n",
       "      <td>NaN</td>\n",
       "      <td>NaN</td>\n",
       "      <td>NaN</td>\n",
       "      <td>NaN</td>\n",
       "      <td>NaN</td>\n",
       "      <td>NaN</td>\n",
       "      <td>NaN</td>\n",
       "      <td>NaN</td>\n",
       "      <td>NaN</td>\n",
       "      <td>NaN</td>\n",
       "      <td>NaN</td>\n",
       "      <td>NaN</td>\n",
       "      <td>2.0</td>\n",
       "      <td>30.0</td>\n",
       "      <td>NaN</td>\n",
       "      <td>32.0</td>\n",
       "      <td>NaN</td>\n",
       "    </tr>\n",
       "    <tr>\n",
       "      <th>user_14</th>\n",
       "      <td>NaN</td>\n",
       "      <td>NaN</td>\n",
       "      <td>NaN</td>\n",
       "      <td>NaN</td>\n",
       "      <td>NaN</td>\n",
       "      <td>NaN</td>\n",
       "      <td>NaN</td>\n",
       "      <td>NaN</td>\n",
       "      <td>1.0</td>\n",
       "      <td>NaN</td>\n",
       "      <td>NaN</td>\n",
       "      <td>NaN</td>\n",
       "      <td>18.0</td>\n",
       "      <td>25.0</td>\n",
       "      <td>49.0</td>\n",
       "      <td>92.0</td>\n",
       "      <td>NaN</td>\n",
       "      <td>99.0</td>\n",
       "      <td>NaN</td>\n",
       "    </tr>\n",
       "    <tr>\n",
       "      <th>user_15</th>\n",
       "      <td>NaN</td>\n",
       "      <td>NaN</td>\n",
       "      <td>NaN</td>\n",
       "      <td>NaN</td>\n",
       "      <td>NaN</td>\n",
       "      <td>NaN</td>\n",
       "      <td>NaN</td>\n",
       "      <td>NaN</td>\n",
       "      <td>NaN</td>\n",
       "      <td>NaN</td>\n",
       "      <td>NaN</td>\n",
       "      <td>NaN</td>\n",
       "      <td>NaN</td>\n",
       "      <td>NaN</td>\n",
       "      <td>NaN</td>\n",
       "      <td>NaN</td>\n",
       "      <td>NaN</td>\n",
       "      <td>3.0</td>\n",
       "      <td>NaN</td>\n",
       "    </tr>\n",
       "    <tr>\n",
       "      <th>user_16</th>\n",
       "      <td>NaN</td>\n",
       "      <td>NaN</td>\n",
       "      <td>NaN</td>\n",
       "      <td>NaN</td>\n",
       "      <td>NaN</td>\n",
       "      <td>NaN</td>\n",
       "      <td>NaN</td>\n",
       "      <td>NaN</td>\n",
       "      <td>NaN</td>\n",
       "      <td>NaN</td>\n",
       "      <td>NaN</td>\n",
       "      <td>NaN</td>\n",
       "      <td>NaN</td>\n",
       "      <td>NaN</td>\n",
       "      <td>NaN</td>\n",
       "      <td>3.0</td>\n",
       "      <td>NaN</td>\n",
       "      <td>10.0</td>\n",
       "      <td>NaN</td>\n",
       "    </tr>\n",
       "    <tr>\n",
       "      <th>user_17</th>\n",
       "      <td>NaN</td>\n",
       "      <td>1.0</td>\n",
       "      <td>NaN</td>\n",
       "      <td>NaN</td>\n",
       "      <td>NaN</td>\n",
       "      <td>NaN</td>\n",
       "      <td>NaN</td>\n",
       "      <td>NaN</td>\n",
       "      <td>NaN</td>\n",
       "      <td>NaN</td>\n",
       "      <td>NaN</td>\n",
       "      <td>NaN</td>\n",
       "      <td>NaN</td>\n",
       "      <td>NaN</td>\n",
       "      <td>NaN</td>\n",
       "      <td>3.0</td>\n",
       "      <td>NaN</td>\n",
       "      <td>6.0</td>\n",
       "      <td>NaN</td>\n",
       "    </tr>\n",
       "    <tr>\n",
       "      <th>user_18</th>\n",
       "      <td>NaN</td>\n",
       "      <td>NaN</td>\n",
       "      <td>NaN</td>\n",
       "      <td>NaN</td>\n",
       "      <td>NaN</td>\n",
       "      <td>NaN</td>\n",
       "      <td>NaN</td>\n",
       "      <td>NaN</td>\n",
       "      <td>NaN</td>\n",
       "      <td>NaN</td>\n",
       "      <td>NaN</td>\n",
       "      <td>NaN</td>\n",
       "      <td>NaN</td>\n",
       "      <td>NaN</td>\n",
       "      <td>7.0</td>\n",
       "      <td>NaN</td>\n",
       "      <td>8.0</td>\n",
       "      <td>31.0</td>\n",
       "      <td>NaN</td>\n",
       "    </tr>\n",
       "    <tr>\n",
       "      <th>user_19</th>\n",
       "      <td>NaN</td>\n",
       "      <td>NaN</td>\n",
       "      <td>NaN</td>\n",
       "      <td>NaN</td>\n",
       "      <td>NaN</td>\n",
       "      <td>NaN</td>\n",
       "      <td>NaN</td>\n",
       "      <td>NaN</td>\n",
       "      <td>NaN</td>\n",
       "      <td>NaN</td>\n",
       "      <td>NaN</td>\n",
       "      <td>NaN</td>\n",
       "      <td>NaN</td>\n",
       "      <td>NaN</td>\n",
       "      <td>NaN</td>\n",
       "      <td>NaN</td>\n",
       "      <td>NaN</td>\n",
       "      <td>25.0</td>\n",
       "      <td>29.0</td>\n",
       "    </tr>\n",
       "    <tr>\n",
       "      <th>user_2</th>\n",
       "      <td>NaN</td>\n",
       "      <td>NaN</td>\n",
       "      <td>NaN</td>\n",
       "      <td>NaN</td>\n",
       "      <td>NaN</td>\n",
       "      <td>NaN</td>\n",
       "      <td>NaN</td>\n",
       "      <td>NaN</td>\n",
       "      <td>57.0</td>\n",
       "      <td>58.0</td>\n",
       "      <td>NaN</td>\n",
       "      <td>NaN</td>\n",
       "      <td>NaN</td>\n",
       "      <td>62.0</td>\n",
       "      <td>74.0</td>\n",
       "      <td>78.0</td>\n",
       "      <td>93.0</td>\n",
       "      <td>95.0</td>\n",
       "      <td>NaN</td>\n",
       "    </tr>\n",
       "    <tr>\n",
       "      <th>user_20</th>\n",
       "      <td>NaN</td>\n",
       "      <td>NaN</td>\n",
       "      <td>NaN</td>\n",
       "      <td>NaN</td>\n",
       "      <td>NaN</td>\n",
       "      <td>NaN</td>\n",
       "      <td>NaN</td>\n",
       "      <td>NaN</td>\n",
       "      <td>NaN</td>\n",
       "      <td>NaN</td>\n",
       "      <td>NaN</td>\n",
       "      <td>NaN</td>\n",
       "      <td>NaN</td>\n",
       "      <td>NaN</td>\n",
       "      <td>11.0</td>\n",
       "      <td>NaN</td>\n",
       "      <td>NaN</td>\n",
       "      <td>54.0</td>\n",
       "      <td>NaN</td>\n",
       "    </tr>\n",
       "    <tr>\n",
       "      <th>user_21</th>\n",
       "      <td>NaN</td>\n",
       "      <td>NaN</td>\n",
       "      <td>NaN</td>\n",
       "      <td>NaN</td>\n",
       "      <td>NaN</td>\n",
       "      <td>NaN</td>\n",
       "      <td>NaN</td>\n",
       "      <td>NaN</td>\n",
       "      <td>NaN</td>\n",
       "      <td>NaN</td>\n",
       "      <td>NaN</td>\n",
       "      <td>NaN</td>\n",
       "      <td>NaN</td>\n",
       "      <td>7.0</td>\n",
       "      <td>NaN</td>\n",
       "      <td>NaN</td>\n",
       "      <td>NaN</td>\n",
       "      <td>9.0</td>\n",
       "      <td>NaN</td>\n",
       "    </tr>\n",
       "    <tr>\n",
       "      <th>user_22</th>\n",
       "      <td>NaN</td>\n",
       "      <td>NaN</td>\n",
       "      <td>NaN</td>\n",
       "      <td>NaN</td>\n",
       "      <td>NaN</td>\n",
       "      <td>NaN</td>\n",
       "      <td>1.0</td>\n",
       "      <td>NaN</td>\n",
       "      <td>NaN</td>\n",
       "      <td>NaN</td>\n",
       "      <td>NaN</td>\n",
       "      <td>NaN</td>\n",
       "      <td>NaN</td>\n",
       "      <td>NaN</td>\n",
       "      <td>NaN</td>\n",
       "      <td>NaN</td>\n",
       "      <td>NaN</td>\n",
       "      <td>2.0</td>\n",
       "      <td>NaN</td>\n",
       "    </tr>\n",
       "    <tr>\n",
       "      <th>user_24</th>\n",
       "      <td>NaN</td>\n",
       "      <td>NaN</td>\n",
       "      <td>NaN</td>\n",
       "      <td>NaN</td>\n",
       "      <td>NaN</td>\n",
       "      <td>NaN</td>\n",
       "      <td>NaN</td>\n",
       "      <td>NaN</td>\n",
       "      <td>NaN</td>\n",
       "      <td>NaN</td>\n",
       "      <td>NaN</td>\n",
       "      <td>NaN</td>\n",
       "      <td>NaN</td>\n",
       "      <td>NaN</td>\n",
       "      <td>NaN</td>\n",
       "      <td>NaN</td>\n",
       "      <td>9.0</td>\n",
       "      <td>34.0</td>\n",
       "      <td>NaN</td>\n",
       "    </tr>\n",
       "    <tr>\n",
       "      <th>user_25</th>\n",
       "      <td>NaN</td>\n",
       "      <td>NaN</td>\n",
       "      <td>NaN</td>\n",
       "      <td>NaN</td>\n",
       "      <td>NaN</td>\n",
       "      <td>NaN</td>\n",
       "      <td>NaN</td>\n",
       "      <td>NaN</td>\n",
       "      <td>NaN</td>\n",
       "      <td>NaN</td>\n",
       "      <td>NaN</td>\n",
       "      <td>5.0</td>\n",
       "      <td>27.0</td>\n",
       "      <td>29.0</td>\n",
       "      <td>33.0</td>\n",
       "      <td>54.0</td>\n",
       "      <td>57.0</td>\n",
       "      <td>77.0</td>\n",
       "      <td>NaN</td>\n",
       "    </tr>\n",
       "    <tr>\n",
       "      <th>user_26</th>\n",
       "      <td>NaN</td>\n",
       "      <td>NaN</td>\n",
       "      <td>NaN</td>\n",
       "      <td>NaN</td>\n",
       "      <td>NaN</td>\n",
       "      <td>NaN</td>\n",
       "      <td>NaN</td>\n",
       "      <td>NaN</td>\n",
       "      <td>NaN</td>\n",
       "      <td>NaN</td>\n",
       "      <td>NaN</td>\n",
       "      <td>NaN</td>\n",
       "      <td>NaN</td>\n",
       "      <td>35.0</td>\n",
       "      <td>NaN</td>\n",
       "      <td>NaN</td>\n",
       "      <td>52.0</td>\n",
       "      <td>67.0</td>\n",
       "      <td>NaN</td>\n",
       "    </tr>\n",
       "    <tr>\n",
       "      <th>user_27</th>\n",
       "      <td>NaN</td>\n",
       "      <td>NaN</td>\n",
       "      <td>NaN</td>\n",
       "      <td>NaN</td>\n",
       "      <td>NaN</td>\n",
       "      <td>NaN</td>\n",
       "      <td>NaN</td>\n",
       "      <td>NaN</td>\n",
       "      <td>NaN</td>\n",
       "      <td>NaN</td>\n",
       "      <td>NaN</td>\n",
       "      <td>NaN</td>\n",
       "      <td>NaN</td>\n",
       "      <td>NaN</td>\n",
       "      <td>NaN</td>\n",
       "      <td>NaN</td>\n",
       "      <td>NaN</td>\n",
       "      <td>8.0</td>\n",
       "      <td>NaN</td>\n",
       "    </tr>\n",
       "    <tr>\n",
       "      <th>user_28</th>\n",
       "      <td>NaN</td>\n",
       "      <td>NaN</td>\n",
       "      <td>NaN</td>\n",
       "      <td>NaN</td>\n",
       "      <td>NaN</td>\n",
       "      <td>NaN</td>\n",
       "      <td>NaN</td>\n",
       "      <td>NaN</td>\n",
       "      <td>NaN</td>\n",
       "      <td>NaN</td>\n",
       "      <td>NaN</td>\n",
       "      <td>NaN</td>\n",
       "      <td>NaN</td>\n",
       "      <td>NaN</td>\n",
       "      <td>NaN</td>\n",
       "      <td>2.0</td>\n",
       "      <td>20.0</td>\n",
       "      <td>26.0</td>\n",
       "      <td>27.0</td>\n",
       "    </tr>\n",
       "    <tr>\n",
       "      <th>user_29</th>\n",
       "      <td>NaN</td>\n",
       "      <td>NaN</td>\n",
       "      <td>NaN</td>\n",
       "      <td>NaN</td>\n",
       "      <td>NaN</td>\n",
       "      <td>NaN</td>\n",
       "      <td>NaN</td>\n",
       "      <td>NaN</td>\n",
       "      <td>NaN</td>\n",
       "      <td>NaN</td>\n",
       "      <td>NaN</td>\n",
       "      <td>NaN</td>\n",
       "      <td>NaN</td>\n",
       "      <td>NaN</td>\n",
       "      <td>5.0</td>\n",
       "      <td>18.0</td>\n",
       "      <td>34.0</td>\n",
       "      <td>35.0</td>\n",
       "      <td>NaN</td>\n",
       "    </tr>\n",
       "    <tr>\n",
       "      <th>user_3</th>\n",
       "      <td>NaN</td>\n",
       "      <td>NaN</td>\n",
       "      <td>NaN</td>\n",
       "      <td>NaN</td>\n",
       "      <td>NaN</td>\n",
       "      <td>NaN</td>\n",
       "      <td>NaN</td>\n",
       "      <td>NaN</td>\n",
       "      <td>NaN</td>\n",
       "      <td>NaN</td>\n",
       "      <td>1.0</td>\n",
       "      <td>28.0</td>\n",
       "      <td>29.0</td>\n",
       "      <td>31.0</td>\n",
       "      <td>54.0</td>\n",
       "      <td>56.0</td>\n",
       "      <td>NaN</td>\n",
       "      <td>58.0</td>\n",
       "      <td>NaN</td>\n",
       "    </tr>\n",
       "    <tr>\n",
       "      <th>user_30</th>\n",
       "      <td>NaN</td>\n",
       "      <td>NaN</td>\n",
       "      <td>NaN</td>\n",
       "      <td>1.0</td>\n",
       "      <td>2.0</td>\n",
       "      <td>NaN</td>\n",
       "      <td>4.0</td>\n",
       "      <td>5.0</td>\n",
       "      <td>NaN</td>\n",
       "      <td>NaN</td>\n",
       "      <td>12.0</td>\n",
       "      <td>NaN</td>\n",
       "      <td>NaN</td>\n",
       "      <td>17.0</td>\n",
       "      <td>NaN</td>\n",
       "      <td>NaN</td>\n",
       "      <td>NaN</td>\n",
       "      <td>19.0</td>\n",
       "      <td>NaN</td>\n",
       "    </tr>\n",
       "    <tr>\n",
       "      <th>user_31</th>\n",
       "      <td>NaN</td>\n",
       "      <td>NaN</td>\n",
       "      <td>NaN</td>\n",
       "      <td>NaN</td>\n",
       "      <td>NaN</td>\n",
       "      <td>NaN</td>\n",
       "      <td>NaN</td>\n",
       "      <td>NaN</td>\n",
       "      <td>NaN</td>\n",
       "      <td>NaN</td>\n",
       "      <td>1.0</td>\n",
       "      <td>NaN</td>\n",
       "      <td>4.0</td>\n",
       "      <td>NaN</td>\n",
       "      <td>6.0</td>\n",
       "      <td>NaN</td>\n",
       "      <td>NaN</td>\n",
       "      <td>8.0</td>\n",
       "      <td>NaN</td>\n",
       "    </tr>\n",
       "    <tr>\n",
       "      <th>user_4</th>\n",
       "      <td>7.0</td>\n",
       "      <td>NaN</td>\n",
       "      <td>11.0</td>\n",
       "      <td>NaN</td>\n",
       "      <td>20.0</td>\n",
       "      <td>27.0</td>\n",
       "      <td>35.0</td>\n",
       "      <td>48.0</td>\n",
       "      <td>53.0</td>\n",
       "      <td>NaN</td>\n",
       "      <td>71.0</td>\n",
       "      <td>83.0</td>\n",
       "      <td>NaN</td>\n",
       "      <td>NaN</td>\n",
       "      <td>87.0</td>\n",
       "      <td>125.0</td>\n",
       "      <td>137.0</td>\n",
       "      <td>164.0</td>\n",
       "      <td>NaN</td>\n",
       "    </tr>\n",
       "    <tr>\n",
       "      <th>user_6</th>\n",
       "      <td>NaN</td>\n",
       "      <td>NaN</td>\n",
       "      <td>NaN</td>\n",
       "      <td>NaN</td>\n",
       "      <td>NaN</td>\n",
       "      <td>NaN</td>\n",
       "      <td>NaN</td>\n",
       "      <td>NaN</td>\n",
       "      <td>NaN</td>\n",
       "      <td>NaN</td>\n",
       "      <td>NaN</td>\n",
       "      <td>NaN</td>\n",
       "      <td>NaN</td>\n",
       "      <td>NaN</td>\n",
       "      <td>NaN</td>\n",
       "      <td>NaN</td>\n",
       "      <td>1.0</td>\n",
       "      <td>2.0</td>\n",
       "      <td>NaN</td>\n",
       "    </tr>\n",
       "    <tr>\n",
       "      <th>user_8</th>\n",
       "      <td>NaN</td>\n",
       "      <td>NaN</td>\n",
       "      <td>NaN</td>\n",
       "      <td>NaN</td>\n",
       "      <td>NaN</td>\n",
       "      <td>NaN</td>\n",
       "      <td>NaN</td>\n",
       "      <td>NaN</td>\n",
       "      <td>NaN</td>\n",
       "      <td>NaN</td>\n",
       "      <td>NaN</td>\n",
       "      <td>NaN</td>\n",
       "      <td>NaN</td>\n",
       "      <td>NaN</td>\n",
       "      <td>NaN</td>\n",
       "      <td>NaN</td>\n",
       "      <td>NaN</td>\n",
       "      <td>8.0</td>\n",
       "      <td>NaN</td>\n",
       "    </tr>\n",
       "  </tbody>\n",
       "</table>\n",
       "</div>"
      ],
      "text/plain": [
       "timestamp  2020-04-17  2020-04-18  2020-04-19  2020-04-22  2020-04-23  \\\n",
       "uid                                                                     \n",
       "user_1            NaN         NaN         NaN         NaN         NaN   \n",
       "user_10           NaN         NaN         NaN         NaN         NaN   \n",
       "user_11           NaN         NaN         NaN         NaN         NaN   \n",
       "user_12           NaN         NaN         NaN         NaN         NaN   \n",
       "user_13           NaN         NaN         NaN         NaN         NaN   \n",
       "user_14           NaN         NaN         NaN         NaN         NaN   \n",
       "user_15           NaN         NaN         NaN         NaN         NaN   \n",
       "user_16           NaN         NaN         NaN         NaN         NaN   \n",
       "user_17           NaN         1.0         NaN         NaN         NaN   \n",
       "user_18           NaN         NaN         NaN         NaN         NaN   \n",
       "user_19           NaN         NaN         NaN         NaN         NaN   \n",
       "user_2            NaN         NaN         NaN         NaN         NaN   \n",
       "user_20           NaN         NaN         NaN         NaN         NaN   \n",
       "user_21           NaN         NaN         NaN         NaN         NaN   \n",
       "user_22           NaN         NaN         NaN         NaN         NaN   \n",
       "user_24           NaN         NaN         NaN         NaN         NaN   \n",
       "user_25           NaN         NaN         NaN         NaN         NaN   \n",
       "user_26           NaN         NaN         NaN         NaN         NaN   \n",
       "user_27           NaN         NaN         NaN         NaN         NaN   \n",
       "user_28           NaN         NaN         NaN         NaN         NaN   \n",
       "user_29           NaN         NaN         NaN         NaN         NaN   \n",
       "user_3            NaN         NaN         NaN         NaN         NaN   \n",
       "user_30           NaN         NaN         NaN         1.0         2.0   \n",
       "user_31           NaN         NaN         NaN         NaN         NaN   \n",
       "user_4            7.0         NaN        11.0         NaN        20.0   \n",
       "user_6            NaN         NaN         NaN         NaN         NaN   \n",
       "user_8            NaN         NaN         NaN         NaN         NaN   \n",
       "\n",
       "timestamp  2020-04-24  2020-05-03  2020-05-04  2020-05-05  2020-05-06  \\\n",
       "uid                                                                     \n",
       "user_1            NaN         NaN         NaN         NaN         NaN   \n",
       "user_10           NaN         NaN         NaN         NaN         NaN   \n",
       "user_11           NaN         1.0         NaN         NaN         NaN   \n",
       "user_12           NaN         NaN         NaN         NaN         NaN   \n",
       "user_13           NaN         NaN         NaN         NaN         NaN   \n",
       "user_14           NaN         NaN         NaN         1.0         NaN   \n",
       "user_15           NaN         NaN         NaN         NaN         NaN   \n",
       "user_16           NaN         NaN         NaN         NaN         NaN   \n",
       "user_17           NaN         NaN         NaN         NaN         NaN   \n",
       "user_18           NaN         NaN         NaN         NaN         NaN   \n",
       "user_19           NaN         NaN         NaN         NaN         NaN   \n",
       "user_2            NaN         NaN         NaN        57.0        58.0   \n",
       "user_20           NaN         NaN         NaN         NaN         NaN   \n",
       "user_21           NaN         NaN         NaN         NaN         NaN   \n",
       "user_22           NaN         1.0         NaN         NaN         NaN   \n",
       "user_24           NaN         NaN         NaN         NaN         NaN   \n",
       "user_25           NaN         NaN         NaN         NaN         NaN   \n",
       "user_26           NaN         NaN         NaN         NaN         NaN   \n",
       "user_27           NaN         NaN         NaN         NaN         NaN   \n",
       "user_28           NaN         NaN         NaN         NaN         NaN   \n",
       "user_29           NaN         NaN         NaN         NaN         NaN   \n",
       "user_3            NaN         NaN         NaN         NaN         NaN   \n",
       "user_30           NaN         4.0         5.0         NaN         NaN   \n",
       "user_31           NaN         NaN         NaN         NaN         NaN   \n",
       "user_4           27.0        35.0        48.0        53.0         NaN   \n",
       "user_6            NaN         NaN         NaN         NaN         NaN   \n",
       "user_8            NaN         NaN         NaN         NaN         NaN   \n",
       "\n",
       "timestamp  2020-05-07  2020-05-08  2020-05-09  2020-05-10  2020-05-11  \\\n",
       "uid                                                                     \n",
       "user_1            NaN         NaN         NaN         NaN         NaN   \n",
       "user_10           NaN         NaN         NaN         NaN         NaN   \n",
       "user_11           NaN         NaN         NaN         NaN         NaN   \n",
       "user_12           NaN         NaN         NaN         NaN         NaN   \n",
       "user_13           NaN         NaN         NaN         NaN         2.0   \n",
       "user_14           NaN         NaN        18.0        25.0        49.0   \n",
       "user_15           NaN         NaN         NaN         NaN         NaN   \n",
       "user_16           NaN         NaN         NaN         NaN         NaN   \n",
       "user_17           NaN         NaN         NaN         NaN         NaN   \n",
       "user_18           NaN         NaN         NaN         NaN         7.0   \n",
       "user_19           NaN         NaN         NaN         NaN         NaN   \n",
       "user_2            NaN         NaN         NaN        62.0        74.0   \n",
       "user_20           NaN         NaN         NaN         NaN        11.0   \n",
       "user_21           NaN         NaN         NaN         7.0         NaN   \n",
       "user_22           NaN         NaN         NaN         NaN         NaN   \n",
       "user_24           NaN         NaN         NaN         NaN         NaN   \n",
       "user_25           NaN         5.0        27.0        29.0        33.0   \n",
       "user_26           NaN         NaN         NaN        35.0         NaN   \n",
       "user_27           NaN         NaN         NaN         NaN         NaN   \n",
       "user_28           NaN         NaN         NaN         NaN         NaN   \n",
       "user_29           NaN         NaN         NaN         NaN         5.0   \n",
       "user_3            1.0        28.0        29.0        31.0        54.0   \n",
       "user_30          12.0         NaN         NaN        17.0         NaN   \n",
       "user_31           1.0         NaN         4.0         NaN         6.0   \n",
       "user_4           71.0        83.0         NaN         NaN        87.0   \n",
       "user_6            NaN         NaN         NaN         NaN         NaN   \n",
       "user_8            NaN         NaN         NaN         NaN         NaN   \n",
       "\n",
       "timestamp  2020-05-12  2020-05-13  2020-05-14  2020-05-15  \n",
       "uid                                                        \n",
       "user_1            NaN         NaN        11.0         NaN  \n",
       "user_10           7.0        21.0        59.0         NaN  \n",
       "user_11           NaN         NaN         NaN         NaN  \n",
       "user_12           NaN         NaN         4.0         NaN  \n",
       "user_13          30.0         NaN        32.0         NaN  \n",
       "user_14          92.0         NaN        99.0         NaN  \n",
       "user_15           NaN         NaN         3.0         NaN  \n",
       "user_16           3.0         NaN        10.0         NaN  \n",
       "user_17           3.0         NaN         6.0         NaN  \n",
       "user_18           NaN         8.0        31.0         NaN  \n",
       "user_19           NaN         NaN        25.0        29.0  \n",
       "user_2           78.0        93.0        95.0         NaN  \n",
       "user_20           NaN         NaN        54.0         NaN  \n",
       "user_21           NaN         NaN         9.0         NaN  \n",
       "user_22           NaN         NaN         2.0         NaN  \n",
       "user_24           NaN         9.0        34.0         NaN  \n",
       "user_25          54.0        57.0        77.0         NaN  \n",
       "user_26           NaN        52.0        67.0         NaN  \n",
       "user_27           NaN         NaN         8.0         NaN  \n",
       "user_28           2.0        20.0        26.0        27.0  \n",
       "user_29          18.0        34.0        35.0         NaN  \n",
       "user_3           56.0         NaN        58.0         NaN  \n",
       "user_30           NaN         NaN        19.0         NaN  \n",
       "user_31           NaN         NaN         8.0         NaN  \n",
       "user_4          125.0       137.0       164.0         NaN  \n",
       "user_6            NaN         1.0         2.0         NaN  \n",
       "user_8            NaN         NaN         8.0         NaN  "
      ]
     },
     "execution_count": 5,
     "metadata": {},
     "output_type": "execute_result"
    }
   ],
   "source": [
    "data = pd.pivot(data = data, index = 'uid', columns = 'timestamp', values = 'numTrials')\n",
    "data"
   ]
  },
  {
   "cell_type": "code",
   "execution_count": 6,
   "metadata": {},
   "outputs": [
    {
     "name": "stderr",
     "output_type": "stream",
     "text": [
      "/tmp/ipykernel_7779/2160501543.py:4: FutureWarning: Series.__getitem__ treating keys as positions is deprecated. In a future version, integer keys will always be treated as labels (consistent with DataFrame behavior). To access a value by position, use `ser.iloc[pos]`\n",
      "  value = data.iloc[j][i]\n",
      "/tmp/ipykernel_7779/2160501543.py:8: FutureWarning: ChainedAssignmentError: behaviour will change in pandas 3.0!\n",
      "You are setting values through chained assignment. Currently this works in certain cases, but when using Copy-on-Write (which will become the default behaviour in pandas 3.0) this will never work to update the original DataFrame or Series, because the intermediate object on which we are setting values will behave as a copy.\n",
      "A typical example is when you are setting values in a column of a DataFrame, like:\n",
      "\n",
      "df[\"col\"][row_indexer] = value\n",
      "\n",
      "Use `df.loc[row_indexer, \"col\"] = values` instead, to perform the assignment in a single step and ensure this keeps updating the original `df`.\n",
      "\n",
      "See the caveats in the documentation: https://pandas.pydata.org/pandas-docs/stable/user_guide/indexing.html#returning-a-view-versus-a-copy\n",
      "\n",
      "  data.iloc[j][i] = last_value\n",
      "/tmp/ipykernel_7779/2160501543.py:8: FutureWarning: Series.__setitem__ treating keys as positions is deprecated. In a future version, integer keys will always be treated as labels (consistent with DataFrame behavior). To set a value by position, use `ser.iloc[pos] = value`\n",
      "  data.iloc[j][i] = last_value\n"
     ]
    },
    {
     "data": {
      "text/html": [
       "<div>\n",
       "<style scoped>\n",
       "    .dataframe tbody tr th:only-of-type {\n",
       "        vertical-align: middle;\n",
       "    }\n",
       "\n",
       "    .dataframe tbody tr th {\n",
       "        vertical-align: top;\n",
       "    }\n",
       "\n",
       "    .dataframe thead th {\n",
       "        text-align: right;\n",
       "    }\n",
       "</style>\n",
       "<table border=\"1\" class=\"dataframe\">\n",
       "  <thead>\n",
       "    <tr style=\"text-align: right;\">\n",
       "      <th>timestamp</th>\n",
       "      <th>uid</th>\n",
       "      <th>2020-04-17 00:00:00</th>\n",
       "      <th>2020-04-18 00:00:00</th>\n",
       "      <th>2020-04-19 00:00:00</th>\n",
       "      <th>2020-04-22 00:00:00</th>\n",
       "      <th>2020-04-23 00:00:00</th>\n",
       "      <th>2020-04-24 00:00:00</th>\n",
       "      <th>2020-05-03 00:00:00</th>\n",
       "      <th>2020-05-04 00:00:00</th>\n",
       "      <th>2020-05-05 00:00:00</th>\n",
       "      <th>2020-05-06 00:00:00</th>\n",
       "      <th>2020-05-07 00:00:00</th>\n",
       "      <th>2020-05-08 00:00:00</th>\n",
       "      <th>2020-05-09 00:00:00</th>\n",
       "      <th>2020-05-10 00:00:00</th>\n",
       "      <th>2020-05-11 00:00:00</th>\n",
       "      <th>2020-05-12 00:00:00</th>\n",
       "      <th>2020-05-13 00:00:00</th>\n",
       "      <th>2020-05-14 00:00:00</th>\n",
       "      <th>2020-05-15 00:00:00</th>\n",
       "    </tr>\n",
       "  </thead>\n",
       "  <tbody>\n",
       "    <tr>\n",
       "      <th>0</th>\n",
       "      <td>user_1</td>\n",
       "      <td>0.0</td>\n",
       "      <td>0.0</td>\n",
       "      <td>0.0</td>\n",
       "      <td>0.0</td>\n",
       "      <td>0.0</td>\n",
       "      <td>0.0</td>\n",
       "      <td>0.0</td>\n",
       "      <td>0.0</td>\n",
       "      <td>0.0</td>\n",
       "      <td>0.0</td>\n",
       "      <td>0.0</td>\n",
       "      <td>0.0</td>\n",
       "      <td>0.0</td>\n",
       "      <td>0.0</td>\n",
       "      <td>0.0</td>\n",
       "      <td>0.0</td>\n",
       "      <td>0.0</td>\n",
       "      <td>11.0</td>\n",
       "      <td>11.0</td>\n",
       "    </tr>\n",
       "    <tr>\n",
       "      <th>1</th>\n",
       "      <td>user_10</td>\n",
       "      <td>0.0</td>\n",
       "      <td>0.0</td>\n",
       "      <td>0.0</td>\n",
       "      <td>0.0</td>\n",
       "      <td>0.0</td>\n",
       "      <td>0.0</td>\n",
       "      <td>0.0</td>\n",
       "      <td>0.0</td>\n",
       "      <td>0.0</td>\n",
       "      <td>0.0</td>\n",
       "      <td>0.0</td>\n",
       "      <td>0.0</td>\n",
       "      <td>0.0</td>\n",
       "      <td>0.0</td>\n",
       "      <td>0.0</td>\n",
       "      <td>7.0</td>\n",
       "      <td>21.0</td>\n",
       "      <td>59.0</td>\n",
       "      <td>59.0</td>\n",
       "    </tr>\n",
       "    <tr>\n",
       "      <th>2</th>\n",
       "      <td>user_11</td>\n",
       "      <td>0.0</td>\n",
       "      <td>0.0</td>\n",
       "      <td>0.0</td>\n",
       "      <td>0.0</td>\n",
       "      <td>0.0</td>\n",
       "      <td>0.0</td>\n",
       "      <td>1.0</td>\n",
       "      <td>1.0</td>\n",
       "      <td>1.0</td>\n",
       "      <td>1.0</td>\n",
       "      <td>1.0</td>\n",
       "      <td>1.0</td>\n",
       "      <td>1.0</td>\n",
       "      <td>1.0</td>\n",
       "      <td>1.0</td>\n",
       "      <td>1.0</td>\n",
       "      <td>1.0</td>\n",
       "      <td>1.0</td>\n",
       "      <td>1.0</td>\n",
       "    </tr>\n",
       "    <tr>\n",
       "      <th>3</th>\n",
       "      <td>user_12</td>\n",
       "      <td>0.0</td>\n",
       "      <td>0.0</td>\n",
       "      <td>0.0</td>\n",
       "      <td>0.0</td>\n",
       "      <td>0.0</td>\n",
       "      <td>0.0</td>\n",
       "      <td>0.0</td>\n",
       "      <td>0.0</td>\n",
       "      <td>0.0</td>\n",
       "      <td>0.0</td>\n",
       "      <td>0.0</td>\n",
       "      <td>0.0</td>\n",
       "      <td>0.0</td>\n",
       "      <td>0.0</td>\n",
       "      <td>0.0</td>\n",
       "      <td>0.0</td>\n",
       "      <td>0.0</td>\n",
       "      <td>4.0</td>\n",
       "      <td>4.0</td>\n",
       "    </tr>\n",
       "    <tr>\n",
       "      <th>4</th>\n",
       "      <td>user_13</td>\n",
       "      <td>0.0</td>\n",
       "      <td>0.0</td>\n",
       "      <td>0.0</td>\n",
       "      <td>0.0</td>\n",
       "      <td>0.0</td>\n",
       "      <td>0.0</td>\n",
       "      <td>0.0</td>\n",
       "      <td>0.0</td>\n",
       "      <td>0.0</td>\n",
       "      <td>0.0</td>\n",
       "      <td>0.0</td>\n",
       "      <td>0.0</td>\n",
       "      <td>0.0</td>\n",
       "      <td>0.0</td>\n",
       "      <td>2.0</td>\n",
       "      <td>30.0</td>\n",
       "      <td>30.0</td>\n",
       "      <td>32.0</td>\n",
       "      <td>32.0</td>\n",
       "    </tr>\n",
       "    <tr>\n",
       "      <th>5</th>\n",
       "      <td>user_14</td>\n",
       "      <td>0.0</td>\n",
       "      <td>0.0</td>\n",
       "      <td>0.0</td>\n",
       "      <td>0.0</td>\n",
       "      <td>0.0</td>\n",
       "      <td>0.0</td>\n",
       "      <td>0.0</td>\n",
       "      <td>0.0</td>\n",
       "      <td>1.0</td>\n",
       "      <td>1.0</td>\n",
       "      <td>1.0</td>\n",
       "      <td>1.0</td>\n",
       "      <td>18.0</td>\n",
       "      <td>25.0</td>\n",
       "      <td>49.0</td>\n",
       "      <td>92.0</td>\n",
       "      <td>92.0</td>\n",
       "      <td>99.0</td>\n",
       "      <td>99.0</td>\n",
       "    </tr>\n",
       "    <tr>\n",
       "      <th>6</th>\n",
       "      <td>user_15</td>\n",
       "      <td>0.0</td>\n",
       "      <td>0.0</td>\n",
       "      <td>0.0</td>\n",
       "      <td>0.0</td>\n",
       "      <td>0.0</td>\n",
       "      <td>0.0</td>\n",
       "      <td>0.0</td>\n",
       "      <td>0.0</td>\n",
       "      <td>0.0</td>\n",
       "      <td>0.0</td>\n",
       "      <td>0.0</td>\n",
       "      <td>0.0</td>\n",
       "      <td>0.0</td>\n",
       "      <td>0.0</td>\n",
       "      <td>0.0</td>\n",
       "      <td>0.0</td>\n",
       "      <td>0.0</td>\n",
       "      <td>3.0</td>\n",
       "      <td>3.0</td>\n",
       "    </tr>\n",
       "    <tr>\n",
       "      <th>7</th>\n",
       "      <td>user_16</td>\n",
       "      <td>0.0</td>\n",
       "      <td>0.0</td>\n",
       "      <td>0.0</td>\n",
       "      <td>0.0</td>\n",
       "      <td>0.0</td>\n",
       "      <td>0.0</td>\n",
       "      <td>0.0</td>\n",
       "      <td>0.0</td>\n",
       "      <td>0.0</td>\n",
       "      <td>0.0</td>\n",
       "      <td>0.0</td>\n",
       "      <td>0.0</td>\n",
       "      <td>0.0</td>\n",
       "      <td>0.0</td>\n",
       "      <td>0.0</td>\n",
       "      <td>3.0</td>\n",
       "      <td>3.0</td>\n",
       "      <td>10.0</td>\n",
       "      <td>10.0</td>\n",
       "    </tr>\n",
       "    <tr>\n",
       "      <th>8</th>\n",
       "      <td>user_17</td>\n",
       "      <td>0.0</td>\n",
       "      <td>1.0</td>\n",
       "      <td>1.0</td>\n",
       "      <td>1.0</td>\n",
       "      <td>1.0</td>\n",
       "      <td>1.0</td>\n",
       "      <td>1.0</td>\n",
       "      <td>1.0</td>\n",
       "      <td>1.0</td>\n",
       "      <td>1.0</td>\n",
       "      <td>1.0</td>\n",
       "      <td>1.0</td>\n",
       "      <td>1.0</td>\n",
       "      <td>1.0</td>\n",
       "      <td>1.0</td>\n",
       "      <td>3.0</td>\n",
       "      <td>3.0</td>\n",
       "      <td>6.0</td>\n",
       "      <td>6.0</td>\n",
       "    </tr>\n",
       "    <tr>\n",
       "      <th>9</th>\n",
       "      <td>user_18</td>\n",
       "      <td>0.0</td>\n",
       "      <td>0.0</td>\n",
       "      <td>0.0</td>\n",
       "      <td>0.0</td>\n",
       "      <td>0.0</td>\n",
       "      <td>0.0</td>\n",
       "      <td>0.0</td>\n",
       "      <td>0.0</td>\n",
       "      <td>0.0</td>\n",
       "      <td>0.0</td>\n",
       "      <td>0.0</td>\n",
       "      <td>0.0</td>\n",
       "      <td>0.0</td>\n",
       "      <td>0.0</td>\n",
       "      <td>7.0</td>\n",
       "      <td>7.0</td>\n",
       "      <td>8.0</td>\n",
       "      <td>31.0</td>\n",
       "      <td>31.0</td>\n",
       "    </tr>\n",
       "    <tr>\n",
       "      <th>10</th>\n",
       "      <td>user_19</td>\n",
       "      <td>0.0</td>\n",
       "      <td>0.0</td>\n",
       "      <td>0.0</td>\n",
       "      <td>0.0</td>\n",
       "      <td>0.0</td>\n",
       "      <td>0.0</td>\n",
       "      <td>0.0</td>\n",
       "      <td>0.0</td>\n",
       "      <td>0.0</td>\n",
       "      <td>0.0</td>\n",
       "      <td>0.0</td>\n",
       "      <td>0.0</td>\n",
       "      <td>0.0</td>\n",
       "      <td>0.0</td>\n",
       "      <td>0.0</td>\n",
       "      <td>0.0</td>\n",
       "      <td>0.0</td>\n",
       "      <td>25.0</td>\n",
       "      <td>29.0</td>\n",
       "    </tr>\n",
       "    <tr>\n",
       "      <th>11</th>\n",
       "      <td>user_2</td>\n",
       "      <td>0.0</td>\n",
       "      <td>0.0</td>\n",
       "      <td>0.0</td>\n",
       "      <td>0.0</td>\n",
       "      <td>0.0</td>\n",
       "      <td>0.0</td>\n",
       "      <td>0.0</td>\n",
       "      <td>0.0</td>\n",
       "      <td>57.0</td>\n",
       "      <td>58.0</td>\n",
       "      <td>58.0</td>\n",
       "      <td>58.0</td>\n",
       "      <td>58.0</td>\n",
       "      <td>62.0</td>\n",
       "      <td>74.0</td>\n",
       "      <td>78.0</td>\n",
       "      <td>93.0</td>\n",
       "      <td>95.0</td>\n",
       "      <td>95.0</td>\n",
       "    </tr>\n",
       "    <tr>\n",
       "      <th>12</th>\n",
       "      <td>user_20</td>\n",
       "      <td>0.0</td>\n",
       "      <td>0.0</td>\n",
       "      <td>0.0</td>\n",
       "      <td>0.0</td>\n",
       "      <td>0.0</td>\n",
       "      <td>0.0</td>\n",
       "      <td>0.0</td>\n",
       "      <td>0.0</td>\n",
       "      <td>0.0</td>\n",
       "      <td>0.0</td>\n",
       "      <td>0.0</td>\n",
       "      <td>0.0</td>\n",
       "      <td>0.0</td>\n",
       "      <td>0.0</td>\n",
       "      <td>11.0</td>\n",
       "      <td>11.0</td>\n",
       "      <td>11.0</td>\n",
       "      <td>54.0</td>\n",
       "      <td>54.0</td>\n",
       "    </tr>\n",
       "    <tr>\n",
       "      <th>13</th>\n",
       "      <td>user_21</td>\n",
       "      <td>0.0</td>\n",
       "      <td>0.0</td>\n",
       "      <td>0.0</td>\n",
       "      <td>0.0</td>\n",
       "      <td>0.0</td>\n",
       "      <td>0.0</td>\n",
       "      <td>0.0</td>\n",
       "      <td>0.0</td>\n",
       "      <td>0.0</td>\n",
       "      <td>0.0</td>\n",
       "      <td>0.0</td>\n",
       "      <td>0.0</td>\n",
       "      <td>0.0</td>\n",
       "      <td>7.0</td>\n",
       "      <td>7.0</td>\n",
       "      <td>7.0</td>\n",
       "      <td>7.0</td>\n",
       "      <td>9.0</td>\n",
       "      <td>9.0</td>\n",
       "    </tr>\n",
       "    <tr>\n",
       "      <th>14</th>\n",
       "      <td>user_22</td>\n",
       "      <td>0.0</td>\n",
       "      <td>0.0</td>\n",
       "      <td>0.0</td>\n",
       "      <td>0.0</td>\n",
       "      <td>0.0</td>\n",
       "      <td>0.0</td>\n",
       "      <td>1.0</td>\n",
       "      <td>1.0</td>\n",
       "      <td>1.0</td>\n",
       "      <td>1.0</td>\n",
       "      <td>1.0</td>\n",
       "      <td>1.0</td>\n",
       "      <td>1.0</td>\n",
       "      <td>1.0</td>\n",
       "      <td>1.0</td>\n",
       "      <td>1.0</td>\n",
       "      <td>1.0</td>\n",
       "      <td>2.0</td>\n",
       "      <td>2.0</td>\n",
       "    </tr>\n",
       "    <tr>\n",
       "      <th>15</th>\n",
       "      <td>user_24</td>\n",
       "      <td>0.0</td>\n",
       "      <td>0.0</td>\n",
       "      <td>0.0</td>\n",
       "      <td>0.0</td>\n",
       "      <td>0.0</td>\n",
       "      <td>0.0</td>\n",
       "      <td>0.0</td>\n",
       "      <td>0.0</td>\n",
       "      <td>0.0</td>\n",
       "      <td>0.0</td>\n",
       "      <td>0.0</td>\n",
       "      <td>0.0</td>\n",
       "      <td>0.0</td>\n",
       "      <td>0.0</td>\n",
       "      <td>0.0</td>\n",
       "      <td>0.0</td>\n",
       "      <td>9.0</td>\n",
       "      <td>34.0</td>\n",
       "      <td>34.0</td>\n",
       "    </tr>\n",
       "    <tr>\n",
       "      <th>16</th>\n",
       "      <td>user_25</td>\n",
       "      <td>0.0</td>\n",
       "      <td>0.0</td>\n",
       "      <td>0.0</td>\n",
       "      <td>0.0</td>\n",
       "      <td>0.0</td>\n",
       "      <td>0.0</td>\n",
       "      <td>0.0</td>\n",
       "      <td>0.0</td>\n",
       "      <td>0.0</td>\n",
       "      <td>0.0</td>\n",
       "      <td>0.0</td>\n",
       "      <td>5.0</td>\n",
       "      <td>27.0</td>\n",
       "      <td>29.0</td>\n",
       "      <td>33.0</td>\n",
       "      <td>54.0</td>\n",
       "      <td>57.0</td>\n",
       "      <td>77.0</td>\n",
       "      <td>77.0</td>\n",
       "    </tr>\n",
       "    <tr>\n",
       "      <th>17</th>\n",
       "      <td>user_26</td>\n",
       "      <td>0.0</td>\n",
       "      <td>0.0</td>\n",
       "      <td>0.0</td>\n",
       "      <td>0.0</td>\n",
       "      <td>0.0</td>\n",
       "      <td>0.0</td>\n",
       "      <td>0.0</td>\n",
       "      <td>0.0</td>\n",
       "      <td>0.0</td>\n",
       "      <td>0.0</td>\n",
       "      <td>0.0</td>\n",
       "      <td>0.0</td>\n",
       "      <td>0.0</td>\n",
       "      <td>35.0</td>\n",
       "      <td>35.0</td>\n",
       "      <td>35.0</td>\n",
       "      <td>52.0</td>\n",
       "      <td>67.0</td>\n",
       "      <td>67.0</td>\n",
       "    </tr>\n",
       "    <tr>\n",
       "      <th>18</th>\n",
       "      <td>user_27</td>\n",
       "      <td>0.0</td>\n",
       "      <td>0.0</td>\n",
       "      <td>0.0</td>\n",
       "      <td>0.0</td>\n",
       "      <td>0.0</td>\n",
       "      <td>0.0</td>\n",
       "      <td>0.0</td>\n",
       "      <td>0.0</td>\n",
       "      <td>0.0</td>\n",
       "      <td>0.0</td>\n",
       "      <td>0.0</td>\n",
       "      <td>0.0</td>\n",
       "      <td>0.0</td>\n",
       "      <td>0.0</td>\n",
       "      <td>0.0</td>\n",
       "      <td>0.0</td>\n",
       "      <td>0.0</td>\n",
       "      <td>8.0</td>\n",
       "      <td>8.0</td>\n",
       "    </tr>\n",
       "    <tr>\n",
       "      <th>19</th>\n",
       "      <td>user_28</td>\n",
       "      <td>0.0</td>\n",
       "      <td>0.0</td>\n",
       "      <td>0.0</td>\n",
       "      <td>0.0</td>\n",
       "      <td>0.0</td>\n",
       "      <td>0.0</td>\n",
       "      <td>0.0</td>\n",
       "      <td>0.0</td>\n",
       "      <td>0.0</td>\n",
       "      <td>0.0</td>\n",
       "      <td>0.0</td>\n",
       "      <td>0.0</td>\n",
       "      <td>0.0</td>\n",
       "      <td>0.0</td>\n",
       "      <td>0.0</td>\n",
       "      <td>2.0</td>\n",
       "      <td>20.0</td>\n",
       "      <td>26.0</td>\n",
       "      <td>27.0</td>\n",
       "    </tr>\n",
       "    <tr>\n",
       "      <th>20</th>\n",
       "      <td>user_29</td>\n",
       "      <td>0.0</td>\n",
       "      <td>0.0</td>\n",
       "      <td>0.0</td>\n",
       "      <td>0.0</td>\n",
       "      <td>0.0</td>\n",
       "      <td>0.0</td>\n",
       "      <td>0.0</td>\n",
       "      <td>0.0</td>\n",
       "      <td>0.0</td>\n",
       "      <td>0.0</td>\n",
       "      <td>0.0</td>\n",
       "      <td>0.0</td>\n",
       "      <td>0.0</td>\n",
       "      <td>0.0</td>\n",
       "      <td>5.0</td>\n",
       "      <td>18.0</td>\n",
       "      <td>34.0</td>\n",
       "      <td>35.0</td>\n",
       "      <td>35.0</td>\n",
       "    </tr>\n",
       "    <tr>\n",
       "      <th>21</th>\n",
       "      <td>user_3</td>\n",
       "      <td>0.0</td>\n",
       "      <td>0.0</td>\n",
       "      <td>0.0</td>\n",
       "      <td>0.0</td>\n",
       "      <td>0.0</td>\n",
       "      <td>0.0</td>\n",
       "      <td>0.0</td>\n",
       "      <td>0.0</td>\n",
       "      <td>0.0</td>\n",
       "      <td>0.0</td>\n",
       "      <td>1.0</td>\n",
       "      <td>28.0</td>\n",
       "      <td>29.0</td>\n",
       "      <td>31.0</td>\n",
       "      <td>54.0</td>\n",
       "      <td>56.0</td>\n",
       "      <td>56.0</td>\n",
       "      <td>58.0</td>\n",
       "      <td>58.0</td>\n",
       "    </tr>\n",
       "    <tr>\n",
       "      <th>22</th>\n",
       "      <td>user_30</td>\n",
       "      <td>0.0</td>\n",
       "      <td>0.0</td>\n",
       "      <td>0.0</td>\n",
       "      <td>1.0</td>\n",
       "      <td>2.0</td>\n",
       "      <td>2.0</td>\n",
       "      <td>4.0</td>\n",
       "      <td>5.0</td>\n",
       "      <td>5.0</td>\n",
       "      <td>5.0</td>\n",
       "      <td>12.0</td>\n",
       "      <td>12.0</td>\n",
       "      <td>12.0</td>\n",
       "      <td>17.0</td>\n",
       "      <td>17.0</td>\n",
       "      <td>17.0</td>\n",
       "      <td>17.0</td>\n",
       "      <td>19.0</td>\n",
       "      <td>19.0</td>\n",
       "    </tr>\n",
       "    <tr>\n",
       "      <th>23</th>\n",
       "      <td>user_31</td>\n",
       "      <td>0.0</td>\n",
       "      <td>0.0</td>\n",
       "      <td>0.0</td>\n",
       "      <td>0.0</td>\n",
       "      <td>0.0</td>\n",
       "      <td>0.0</td>\n",
       "      <td>0.0</td>\n",
       "      <td>0.0</td>\n",
       "      <td>0.0</td>\n",
       "      <td>0.0</td>\n",
       "      <td>1.0</td>\n",
       "      <td>1.0</td>\n",
       "      <td>4.0</td>\n",
       "      <td>4.0</td>\n",
       "      <td>6.0</td>\n",
       "      <td>6.0</td>\n",
       "      <td>6.0</td>\n",
       "      <td>8.0</td>\n",
       "      <td>8.0</td>\n",
       "    </tr>\n",
       "    <tr>\n",
       "      <th>24</th>\n",
       "      <td>user_4</td>\n",
       "      <td>7.0</td>\n",
       "      <td>7.0</td>\n",
       "      <td>11.0</td>\n",
       "      <td>11.0</td>\n",
       "      <td>20.0</td>\n",
       "      <td>27.0</td>\n",
       "      <td>35.0</td>\n",
       "      <td>48.0</td>\n",
       "      <td>53.0</td>\n",
       "      <td>53.0</td>\n",
       "      <td>71.0</td>\n",
       "      <td>83.0</td>\n",
       "      <td>83.0</td>\n",
       "      <td>83.0</td>\n",
       "      <td>87.0</td>\n",
       "      <td>125.0</td>\n",
       "      <td>137.0</td>\n",
       "      <td>164.0</td>\n",
       "      <td>164.0</td>\n",
       "    </tr>\n",
       "    <tr>\n",
       "      <th>25</th>\n",
       "      <td>user_6</td>\n",
       "      <td>0.0</td>\n",
       "      <td>0.0</td>\n",
       "      <td>0.0</td>\n",
       "      <td>0.0</td>\n",
       "      <td>0.0</td>\n",
       "      <td>0.0</td>\n",
       "      <td>0.0</td>\n",
       "      <td>0.0</td>\n",
       "      <td>0.0</td>\n",
       "      <td>0.0</td>\n",
       "      <td>0.0</td>\n",
       "      <td>0.0</td>\n",
       "      <td>0.0</td>\n",
       "      <td>0.0</td>\n",
       "      <td>0.0</td>\n",
       "      <td>0.0</td>\n",
       "      <td>1.0</td>\n",
       "      <td>2.0</td>\n",
       "      <td>2.0</td>\n",
       "    </tr>\n",
       "    <tr>\n",
       "      <th>26</th>\n",
       "      <td>user_8</td>\n",
       "      <td>0.0</td>\n",
       "      <td>0.0</td>\n",
       "      <td>0.0</td>\n",
       "      <td>0.0</td>\n",
       "      <td>0.0</td>\n",
       "      <td>0.0</td>\n",
       "      <td>0.0</td>\n",
       "      <td>0.0</td>\n",
       "      <td>0.0</td>\n",
       "      <td>0.0</td>\n",
       "      <td>0.0</td>\n",
       "      <td>0.0</td>\n",
       "      <td>0.0</td>\n",
       "      <td>0.0</td>\n",
       "      <td>0.0</td>\n",
       "      <td>0.0</td>\n",
       "      <td>0.0</td>\n",
       "      <td>8.0</td>\n",
       "      <td>8.0</td>\n",
       "    </tr>\n",
       "  </tbody>\n",
       "</table>\n",
       "</div>"
      ],
      "text/plain": [
       "timestamp      uid  2020-04-17 00:00:00  2020-04-18 00:00:00  \\\n",
       "0           user_1                  0.0                  0.0   \n",
       "1          user_10                  0.0                  0.0   \n",
       "2          user_11                  0.0                  0.0   \n",
       "3          user_12                  0.0                  0.0   \n",
       "4          user_13                  0.0                  0.0   \n",
       "5          user_14                  0.0                  0.0   \n",
       "6          user_15                  0.0                  0.0   \n",
       "7          user_16                  0.0                  0.0   \n",
       "8          user_17                  0.0                  1.0   \n",
       "9          user_18                  0.0                  0.0   \n",
       "10         user_19                  0.0                  0.0   \n",
       "11          user_2                  0.0                  0.0   \n",
       "12         user_20                  0.0                  0.0   \n",
       "13         user_21                  0.0                  0.0   \n",
       "14         user_22                  0.0                  0.0   \n",
       "15         user_24                  0.0                  0.0   \n",
       "16         user_25                  0.0                  0.0   \n",
       "17         user_26                  0.0                  0.0   \n",
       "18         user_27                  0.0                  0.0   \n",
       "19         user_28                  0.0                  0.0   \n",
       "20         user_29                  0.0                  0.0   \n",
       "21          user_3                  0.0                  0.0   \n",
       "22         user_30                  0.0                  0.0   \n",
       "23         user_31                  0.0                  0.0   \n",
       "24          user_4                  7.0                  7.0   \n",
       "25          user_6                  0.0                  0.0   \n",
       "26          user_8                  0.0                  0.0   \n",
       "\n",
       "timestamp  2020-04-19 00:00:00  2020-04-22 00:00:00  2020-04-23 00:00:00  \\\n",
       "0                          0.0                  0.0                  0.0   \n",
       "1                          0.0                  0.0                  0.0   \n",
       "2                          0.0                  0.0                  0.0   \n",
       "3                          0.0                  0.0                  0.0   \n",
       "4                          0.0                  0.0                  0.0   \n",
       "5                          0.0                  0.0                  0.0   \n",
       "6                          0.0                  0.0                  0.0   \n",
       "7                          0.0                  0.0                  0.0   \n",
       "8                          1.0                  1.0                  1.0   \n",
       "9                          0.0                  0.0                  0.0   \n",
       "10                         0.0                  0.0                  0.0   \n",
       "11                         0.0                  0.0                  0.0   \n",
       "12                         0.0                  0.0                  0.0   \n",
       "13                         0.0                  0.0                  0.0   \n",
       "14                         0.0                  0.0                  0.0   \n",
       "15                         0.0                  0.0                  0.0   \n",
       "16                         0.0                  0.0                  0.0   \n",
       "17                         0.0                  0.0                  0.0   \n",
       "18                         0.0                  0.0                  0.0   \n",
       "19                         0.0                  0.0                  0.0   \n",
       "20                         0.0                  0.0                  0.0   \n",
       "21                         0.0                  0.0                  0.0   \n",
       "22                         0.0                  1.0                  2.0   \n",
       "23                         0.0                  0.0                  0.0   \n",
       "24                        11.0                 11.0                 20.0   \n",
       "25                         0.0                  0.0                  0.0   \n",
       "26                         0.0                  0.0                  0.0   \n",
       "\n",
       "timestamp  2020-04-24 00:00:00  2020-05-03 00:00:00  2020-05-04 00:00:00  \\\n",
       "0                          0.0                  0.0                  0.0   \n",
       "1                          0.0                  0.0                  0.0   \n",
       "2                          0.0                  1.0                  1.0   \n",
       "3                          0.0                  0.0                  0.0   \n",
       "4                          0.0                  0.0                  0.0   \n",
       "5                          0.0                  0.0                  0.0   \n",
       "6                          0.0                  0.0                  0.0   \n",
       "7                          0.0                  0.0                  0.0   \n",
       "8                          1.0                  1.0                  1.0   \n",
       "9                          0.0                  0.0                  0.0   \n",
       "10                         0.0                  0.0                  0.0   \n",
       "11                         0.0                  0.0                  0.0   \n",
       "12                         0.0                  0.0                  0.0   \n",
       "13                         0.0                  0.0                  0.0   \n",
       "14                         0.0                  1.0                  1.0   \n",
       "15                         0.0                  0.0                  0.0   \n",
       "16                         0.0                  0.0                  0.0   \n",
       "17                         0.0                  0.0                  0.0   \n",
       "18                         0.0                  0.0                  0.0   \n",
       "19                         0.0                  0.0                  0.0   \n",
       "20                         0.0                  0.0                  0.0   \n",
       "21                         0.0                  0.0                  0.0   \n",
       "22                         2.0                  4.0                  5.0   \n",
       "23                         0.0                  0.0                  0.0   \n",
       "24                        27.0                 35.0                 48.0   \n",
       "25                         0.0                  0.0                  0.0   \n",
       "26                         0.0                  0.0                  0.0   \n",
       "\n",
       "timestamp  2020-05-05 00:00:00  2020-05-06 00:00:00  2020-05-07 00:00:00  \\\n",
       "0                          0.0                  0.0                  0.0   \n",
       "1                          0.0                  0.0                  0.0   \n",
       "2                          1.0                  1.0                  1.0   \n",
       "3                          0.0                  0.0                  0.0   \n",
       "4                          0.0                  0.0                  0.0   \n",
       "5                          1.0                  1.0                  1.0   \n",
       "6                          0.0                  0.0                  0.0   \n",
       "7                          0.0                  0.0                  0.0   \n",
       "8                          1.0                  1.0                  1.0   \n",
       "9                          0.0                  0.0                  0.0   \n",
       "10                         0.0                  0.0                  0.0   \n",
       "11                        57.0                 58.0                 58.0   \n",
       "12                         0.0                  0.0                  0.0   \n",
       "13                         0.0                  0.0                  0.0   \n",
       "14                         1.0                  1.0                  1.0   \n",
       "15                         0.0                  0.0                  0.0   \n",
       "16                         0.0                  0.0                  0.0   \n",
       "17                         0.0                  0.0                  0.0   \n",
       "18                         0.0                  0.0                  0.0   \n",
       "19                         0.0                  0.0                  0.0   \n",
       "20                         0.0                  0.0                  0.0   \n",
       "21                         0.0                  0.0                  1.0   \n",
       "22                         5.0                  5.0                 12.0   \n",
       "23                         0.0                  0.0                  1.0   \n",
       "24                        53.0                 53.0                 71.0   \n",
       "25                         0.0                  0.0                  0.0   \n",
       "26                         0.0                  0.0                  0.0   \n",
       "\n",
       "timestamp  2020-05-08 00:00:00  2020-05-09 00:00:00  2020-05-10 00:00:00  \\\n",
       "0                          0.0                  0.0                  0.0   \n",
       "1                          0.0                  0.0                  0.0   \n",
       "2                          1.0                  1.0                  1.0   \n",
       "3                          0.0                  0.0                  0.0   \n",
       "4                          0.0                  0.0                  0.0   \n",
       "5                          1.0                 18.0                 25.0   \n",
       "6                          0.0                  0.0                  0.0   \n",
       "7                          0.0                  0.0                  0.0   \n",
       "8                          1.0                  1.0                  1.0   \n",
       "9                          0.0                  0.0                  0.0   \n",
       "10                         0.0                  0.0                  0.0   \n",
       "11                        58.0                 58.0                 62.0   \n",
       "12                         0.0                  0.0                  0.0   \n",
       "13                         0.0                  0.0                  7.0   \n",
       "14                         1.0                  1.0                  1.0   \n",
       "15                         0.0                  0.0                  0.0   \n",
       "16                         5.0                 27.0                 29.0   \n",
       "17                         0.0                  0.0                 35.0   \n",
       "18                         0.0                  0.0                  0.0   \n",
       "19                         0.0                  0.0                  0.0   \n",
       "20                         0.0                  0.0                  0.0   \n",
       "21                        28.0                 29.0                 31.0   \n",
       "22                        12.0                 12.0                 17.0   \n",
       "23                         1.0                  4.0                  4.0   \n",
       "24                        83.0                 83.0                 83.0   \n",
       "25                         0.0                  0.0                  0.0   \n",
       "26                         0.0                  0.0                  0.0   \n",
       "\n",
       "timestamp  2020-05-11 00:00:00  2020-05-12 00:00:00  2020-05-13 00:00:00  \\\n",
       "0                          0.0                  0.0                  0.0   \n",
       "1                          0.0                  7.0                 21.0   \n",
       "2                          1.0                  1.0                  1.0   \n",
       "3                          0.0                  0.0                  0.0   \n",
       "4                          2.0                 30.0                 30.0   \n",
       "5                         49.0                 92.0                 92.0   \n",
       "6                          0.0                  0.0                  0.0   \n",
       "7                          0.0                  3.0                  3.0   \n",
       "8                          1.0                  3.0                  3.0   \n",
       "9                          7.0                  7.0                  8.0   \n",
       "10                         0.0                  0.0                  0.0   \n",
       "11                        74.0                 78.0                 93.0   \n",
       "12                        11.0                 11.0                 11.0   \n",
       "13                         7.0                  7.0                  7.0   \n",
       "14                         1.0                  1.0                  1.0   \n",
       "15                         0.0                  0.0                  9.0   \n",
       "16                        33.0                 54.0                 57.0   \n",
       "17                        35.0                 35.0                 52.0   \n",
       "18                         0.0                  0.0                  0.0   \n",
       "19                         0.0                  2.0                 20.0   \n",
       "20                         5.0                 18.0                 34.0   \n",
       "21                        54.0                 56.0                 56.0   \n",
       "22                        17.0                 17.0                 17.0   \n",
       "23                         6.0                  6.0                  6.0   \n",
       "24                        87.0                125.0                137.0   \n",
       "25                         0.0                  0.0                  1.0   \n",
       "26                         0.0                  0.0                  0.0   \n",
       "\n",
       "timestamp  2020-05-14 00:00:00  2020-05-15 00:00:00  \n",
       "0                         11.0                 11.0  \n",
       "1                         59.0                 59.0  \n",
       "2                          1.0                  1.0  \n",
       "3                          4.0                  4.0  \n",
       "4                         32.0                 32.0  \n",
       "5                         99.0                 99.0  \n",
       "6                          3.0                  3.0  \n",
       "7                         10.0                 10.0  \n",
       "8                          6.0                  6.0  \n",
       "9                         31.0                 31.0  \n",
       "10                        25.0                 29.0  \n",
       "11                        95.0                 95.0  \n",
       "12                        54.0                 54.0  \n",
       "13                         9.0                  9.0  \n",
       "14                         2.0                  2.0  \n",
       "15                        34.0                 34.0  \n",
       "16                        77.0                 77.0  \n",
       "17                        67.0                 67.0  \n",
       "18                         8.0                  8.0  \n",
       "19                        26.0                 27.0  \n",
       "20                        35.0                 35.0  \n",
       "21                        58.0                 58.0  \n",
       "22                        19.0                 19.0  \n",
       "23                         8.0                  8.0  \n",
       "24                       164.0                164.0  \n",
       "25                         2.0                  2.0  \n",
       "26                         8.0                  8.0  "
      ]
     },
     "execution_count": 6,
     "metadata": {},
     "output_type": "execute_result"
    }
   ],
   "source": [
    "last_value = 0\n",
    "for j in range (len(data)):\n",
    "    for i in range (len(data.iloc[j])):\n",
    "        value = data.iloc[j][i]\n",
    "        if 0 < value and value < 999:\n",
    "            last_value = int(value)\n",
    "        else:\n",
    "            data.iloc[j][i] = last_value\n",
    "    last_value = 0\n",
    "data = data.reset_index()\n",
    "data"
   ]
  },
  {
   "cell_type": "markdown",
   "metadata": {},
   "source": [
    "##### 3.Plot:"
   ]
  },
  {
   "cell_type": "code",
   "execution_count": 7,
   "metadata": {},
   "outputs": [],
   "source": [
    "num_rows = data.shape[0]\n",
    "num_cols = data.shape[1]\n",
    "num_frames = num_cols - 1\n",
    "xaxis_range = [0,num_frames + 2]\n",
    "x_init = np.array([1])\n",
    "initial_data = []\n",
    "for id in data['uid'].unique():\n",
    "    y_axis = np.array(id)\n",
    "    initial_data.append(go.Scatter(x =x_init, y = y_axis,mode = \"lines\",name = id))\n",
    "initial_max = 600"
   ]
  },
  {
   "cell_type": "code",
   "execution_count": 8,
   "metadata": {},
   "outputs": [],
   "source": [
    "frames = []\n",
    "for f in range (1,num_frames):\n",
    "    x_axis = np.arange(1,f+1)\n",
    "    date = str(data.columns[f])\n",
    "    curr_data = [] \n",
    "    title_names = [] \n",
    "    start = \"For \" + date\n",
    "    for id in data['uid'].unique():\n",
    "        y_axis = np.array(data[data.uid == id].values.tolist()[0][1:f+1])\n",
    "        y_axis[0] = 0\n",
    "        curr_data.append(go.Scatter(x = x_axis, y = y_axis,mode = \"lines+markers\", name = id)) # ready\n",
    "        title_names.append(id + \": \" + str(y_axis[f-1]) +\"commit\")\n",
    "    curr_frame = go.Frame(data = curr_data)\n",
    "    frames.append(curr_frame)"
   ]
  },
  {
   "cell_type": "code",
   "execution_count": 9,
   "metadata": {},
   "outputs": [],
   "source": [
    "figure = go.Figure(\n",
    "    data = initial_data,\n",
    "    layout = {\n",
    "        \"title\":\"Dynamic of commits per user in project1\",\n",
    "        \"xaxis\":{\"range\":xaxis_range, \"visible\":True, \"showline\":False},\n",
    "        \"yaxis\":{\"range\": [0, 170], \"visible\":True, \"showline\":False},\n",
    "        \"updatemenus\":[{\"type\":\"buttons\",\"buttons\":[{\"method\":\"animate\",\"label\":\"play\", \"args\":[None]}]}]\n",
    "        },\n",
    "    frames = frames\n",
    "    )\n",
    "figure.layout.template='seaborn'"
   ]
  },
  {
   "cell_type": "code",
   "execution_count": 10,
   "metadata": {},
   "outputs": [
    {
     "data": {
      "application/vnd.plotly.v1+json": {
       "config": {
        "plotlyServerURL": "https://plot.ly"
       },
       "data": [
        {
         "mode": "lines",
         "name": "user_1",
         "type": "scatter",
         "x": {
          "bdata": "AQ==",
          "dtype": "i1"
         },
         "y": "user_1"
        },
        {
         "mode": "lines",
         "name": "user_10",
         "type": "scatter",
         "x": {
          "bdata": "AQ==",
          "dtype": "i1"
         },
         "y": "user_10"
        },
        {
         "mode": "lines",
         "name": "user_11",
         "type": "scatter",
         "x": {
          "bdata": "AQ==",
          "dtype": "i1"
         },
         "y": "user_11"
        },
        {
         "mode": "lines",
         "name": "user_12",
         "type": "scatter",
         "x": {
          "bdata": "AQ==",
          "dtype": "i1"
         },
         "y": "user_12"
        },
        {
         "mode": "lines",
         "name": "user_13",
         "type": "scatter",
         "x": {
          "bdata": "AQ==",
          "dtype": "i1"
         },
         "y": "user_13"
        },
        {
         "mode": "lines",
         "name": "user_14",
         "type": "scatter",
         "x": {
          "bdata": "AQ==",
          "dtype": "i1"
         },
         "y": "user_14"
        },
        {
         "mode": "lines",
         "name": "user_15",
         "type": "scatter",
         "x": {
          "bdata": "AQ==",
          "dtype": "i1"
         },
         "y": "user_15"
        },
        {
         "mode": "lines",
         "name": "user_16",
         "type": "scatter",
         "x": {
          "bdata": "AQ==",
          "dtype": "i1"
         },
         "y": "user_16"
        },
        {
         "mode": "lines",
         "name": "user_17",
         "type": "scatter",
         "x": {
          "bdata": "AQ==",
          "dtype": "i1"
         },
         "y": "user_17"
        },
        {
         "mode": "lines",
         "name": "user_18",
         "type": "scatter",
         "x": {
          "bdata": "AQ==",
          "dtype": "i1"
         },
         "y": "user_18"
        },
        {
         "mode": "lines",
         "name": "user_19",
         "type": "scatter",
         "x": {
          "bdata": "AQ==",
          "dtype": "i1"
         },
         "y": "user_19"
        },
        {
         "mode": "lines",
         "name": "user_2",
         "type": "scatter",
         "x": {
          "bdata": "AQ==",
          "dtype": "i1"
         },
         "y": "user_2"
        },
        {
         "mode": "lines",
         "name": "user_20",
         "type": "scatter",
         "x": {
          "bdata": "AQ==",
          "dtype": "i1"
         },
         "y": "user_20"
        },
        {
         "mode": "lines",
         "name": "user_21",
         "type": "scatter",
         "x": {
          "bdata": "AQ==",
          "dtype": "i1"
         },
         "y": "user_21"
        },
        {
         "mode": "lines",
         "name": "user_22",
         "type": "scatter",
         "x": {
          "bdata": "AQ==",
          "dtype": "i1"
         },
         "y": "user_22"
        },
        {
         "mode": "lines",
         "name": "user_24",
         "type": "scatter",
         "x": {
          "bdata": "AQ==",
          "dtype": "i1"
         },
         "y": "user_24"
        },
        {
         "mode": "lines",
         "name": "user_25",
         "type": "scatter",
         "x": {
          "bdata": "AQ==",
          "dtype": "i1"
         },
         "y": "user_25"
        },
        {
         "mode": "lines",
         "name": "user_26",
         "type": "scatter",
         "x": {
          "bdata": "AQ==",
          "dtype": "i1"
         },
         "y": "user_26"
        },
        {
         "mode": "lines",
         "name": "user_27",
         "type": "scatter",
         "x": {
          "bdata": "AQ==",
          "dtype": "i1"
         },
         "y": "user_27"
        },
        {
         "mode": "lines",
         "name": "user_28",
         "type": "scatter",
         "x": {
          "bdata": "AQ==",
          "dtype": "i1"
         },
         "y": "user_28"
        },
        {
         "mode": "lines",
         "name": "user_29",
         "type": "scatter",
         "x": {
          "bdata": "AQ==",
          "dtype": "i1"
         },
         "y": "user_29"
        },
        {
         "mode": "lines",
         "name": "user_3",
         "type": "scatter",
         "x": {
          "bdata": "AQ==",
          "dtype": "i1"
         },
         "y": "user_3"
        },
        {
         "mode": "lines",
         "name": "user_30",
         "type": "scatter",
         "x": {
          "bdata": "AQ==",
          "dtype": "i1"
         },
         "y": "user_30"
        },
        {
         "mode": "lines",
         "name": "user_31",
         "type": "scatter",
         "x": {
          "bdata": "AQ==",
          "dtype": "i1"
         },
         "y": "user_31"
        },
        {
         "mode": "lines",
         "name": "user_4",
         "type": "scatter",
         "x": {
          "bdata": "AQ==",
          "dtype": "i1"
         },
         "y": "user_4"
        },
        {
         "mode": "lines",
         "name": "user_6",
         "type": "scatter",
         "x": {
          "bdata": "AQ==",
          "dtype": "i1"
         },
         "y": "user_6"
        },
        {
         "mode": "lines",
         "name": "user_8",
         "type": "scatter",
         "x": {
          "bdata": "AQ==",
          "dtype": "i1"
         },
         "y": "user_8"
        }
       ],
       "frames": [
        {
         "data": [
          {
           "mode": "lines+markers",
           "name": "user_1",
           "type": "scatter",
           "x": {
            "bdata": "AQ==",
            "dtype": "i1"
           },
           "y": {
            "bdata": "AAAAAAAAAAA=",
            "dtype": "f8"
           }
          },
          {
           "mode": "lines+markers",
           "name": "user_10",
           "type": "scatter",
           "x": {
            "bdata": "AQ==",
            "dtype": "i1"
           },
           "y": {
            "bdata": "AAAAAAAAAAA=",
            "dtype": "f8"
           }
          },
          {
           "mode": "lines+markers",
           "name": "user_11",
           "type": "scatter",
           "x": {
            "bdata": "AQ==",
            "dtype": "i1"
           },
           "y": {
            "bdata": "AAAAAAAAAAA=",
            "dtype": "f8"
           }
          },
          {
           "mode": "lines+markers",
           "name": "user_12",
           "type": "scatter",
           "x": {
            "bdata": "AQ==",
            "dtype": "i1"
           },
           "y": {
            "bdata": "AAAAAAAAAAA=",
            "dtype": "f8"
           }
          },
          {
           "mode": "lines+markers",
           "name": "user_13",
           "type": "scatter",
           "x": {
            "bdata": "AQ==",
            "dtype": "i1"
           },
           "y": {
            "bdata": "AAAAAAAAAAA=",
            "dtype": "f8"
           }
          },
          {
           "mode": "lines+markers",
           "name": "user_14",
           "type": "scatter",
           "x": {
            "bdata": "AQ==",
            "dtype": "i1"
           },
           "y": {
            "bdata": "AAAAAAAAAAA=",
            "dtype": "f8"
           }
          },
          {
           "mode": "lines+markers",
           "name": "user_15",
           "type": "scatter",
           "x": {
            "bdata": "AQ==",
            "dtype": "i1"
           },
           "y": {
            "bdata": "AAAAAAAAAAA=",
            "dtype": "f8"
           }
          },
          {
           "mode": "lines+markers",
           "name": "user_16",
           "type": "scatter",
           "x": {
            "bdata": "AQ==",
            "dtype": "i1"
           },
           "y": {
            "bdata": "AAAAAAAAAAA=",
            "dtype": "f8"
           }
          },
          {
           "mode": "lines+markers",
           "name": "user_17",
           "type": "scatter",
           "x": {
            "bdata": "AQ==",
            "dtype": "i1"
           },
           "y": {
            "bdata": "AAAAAAAAAAA=",
            "dtype": "f8"
           }
          },
          {
           "mode": "lines+markers",
           "name": "user_18",
           "type": "scatter",
           "x": {
            "bdata": "AQ==",
            "dtype": "i1"
           },
           "y": {
            "bdata": "AAAAAAAAAAA=",
            "dtype": "f8"
           }
          },
          {
           "mode": "lines+markers",
           "name": "user_19",
           "type": "scatter",
           "x": {
            "bdata": "AQ==",
            "dtype": "i1"
           },
           "y": {
            "bdata": "AAAAAAAAAAA=",
            "dtype": "f8"
           }
          },
          {
           "mode": "lines+markers",
           "name": "user_2",
           "type": "scatter",
           "x": {
            "bdata": "AQ==",
            "dtype": "i1"
           },
           "y": {
            "bdata": "AAAAAAAAAAA=",
            "dtype": "f8"
           }
          },
          {
           "mode": "lines+markers",
           "name": "user_20",
           "type": "scatter",
           "x": {
            "bdata": "AQ==",
            "dtype": "i1"
           },
           "y": {
            "bdata": "AAAAAAAAAAA=",
            "dtype": "f8"
           }
          },
          {
           "mode": "lines+markers",
           "name": "user_21",
           "type": "scatter",
           "x": {
            "bdata": "AQ==",
            "dtype": "i1"
           },
           "y": {
            "bdata": "AAAAAAAAAAA=",
            "dtype": "f8"
           }
          },
          {
           "mode": "lines+markers",
           "name": "user_22",
           "type": "scatter",
           "x": {
            "bdata": "AQ==",
            "dtype": "i1"
           },
           "y": {
            "bdata": "AAAAAAAAAAA=",
            "dtype": "f8"
           }
          },
          {
           "mode": "lines+markers",
           "name": "user_24",
           "type": "scatter",
           "x": {
            "bdata": "AQ==",
            "dtype": "i1"
           },
           "y": {
            "bdata": "AAAAAAAAAAA=",
            "dtype": "f8"
           }
          },
          {
           "mode": "lines+markers",
           "name": "user_25",
           "type": "scatter",
           "x": {
            "bdata": "AQ==",
            "dtype": "i1"
           },
           "y": {
            "bdata": "AAAAAAAAAAA=",
            "dtype": "f8"
           }
          },
          {
           "mode": "lines+markers",
           "name": "user_26",
           "type": "scatter",
           "x": {
            "bdata": "AQ==",
            "dtype": "i1"
           },
           "y": {
            "bdata": "AAAAAAAAAAA=",
            "dtype": "f8"
           }
          },
          {
           "mode": "lines+markers",
           "name": "user_27",
           "type": "scatter",
           "x": {
            "bdata": "AQ==",
            "dtype": "i1"
           },
           "y": {
            "bdata": "AAAAAAAAAAA=",
            "dtype": "f8"
           }
          },
          {
           "mode": "lines+markers",
           "name": "user_28",
           "type": "scatter",
           "x": {
            "bdata": "AQ==",
            "dtype": "i1"
           },
           "y": {
            "bdata": "AAAAAAAAAAA=",
            "dtype": "f8"
           }
          },
          {
           "mode": "lines+markers",
           "name": "user_29",
           "type": "scatter",
           "x": {
            "bdata": "AQ==",
            "dtype": "i1"
           },
           "y": {
            "bdata": "AAAAAAAAAAA=",
            "dtype": "f8"
           }
          },
          {
           "mode": "lines+markers",
           "name": "user_3",
           "type": "scatter",
           "x": {
            "bdata": "AQ==",
            "dtype": "i1"
           },
           "y": {
            "bdata": "AAAAAAAAAAA=",
            "dtype": "f8"
           }
          },
          {
           "mode": "lines+markers",
           "name": "user_30",
           "type": "scatter",
           "x": {
            "bdata": "AQ==",
            "dtype": "i1"
           },
           "y": {
            "bdata": "AAAAAAAAAAA=",
            "dtype": "f8"
           }
          },
          {
           "mode": "lines+markers",
           "name": "user_31",
           "type": "scatter",
           "x": {
            "bdata": "AQ==",
            "dtype": "i1"
           },
           "y": {
            "bdata": "AAAAAAAAAAA=",
            "dtype": "f8"
           }
          },
          {
           "mode": "lines+markers",
           "name": "user_4",
           "type": "scatter",
           "x": {
            "bdata": "AQ==",
            "dtype": "i1"
           },
           "y": {
            "bdata": "AAAAAAAAAAA=",
            "dtype": "f8"
           }
          },
          {
           "mode": "lines+markers",
           "name": "user_6",
           "type": "scatter",
           "x": {
            "bdata": "AQ==",
            "dtype": "i1"
           },
           "y": {
            "bdata": "AAAAAAAAAAA=",
            "dtype": "f8"
           }
          },
          {
           "mode": "lines+markers",
           "name": "user_8",
           "type": "scatter",
           "x": {
            "bdata": "AQ==",
            "dtype": "i1"
           },
           "y": {
            "bdata": "AAAAAAAAAAA=",
            "dtype": "f8"
           }
          }
         ]
        },
        {
         "data": [
          {
           "mode": "lines+markers",
           "name": "user_1",
           "type": "scatter",
           "x": {
            "bdata": "AQI=",
            "dtype": "i1"
           },
           "y": {
            "bdata": "AAAAAAAAAAAAAAAAAAAAAA==",
            "dtype": "f8"
           }
          },
          {
           "mode": "lines+markers",
           "name": "user_10",
           "type": "scatter",
           "x": {
            "bdata": "AQI=",
            "dtype": "i1"
           },
           "y": {
            "bdata": "AAAAAAAAAAAAAAAAAAAAAA==",
            "dtype": "f8"
           }
          },
          {
           "mode": "lines+markers",
           "name": "user_11",
           "type": "scatter",
           "x": {
            "bdata": "AQI=",
            "dtype": "i1"
           },
           "y": {
            "bdata": "AAAAAAAAAAAAAAAAAAAAAA==",
            "dtype": "f8"
           }
          },
          {
           "mode": "lines+markers",
           "name": "user_12",
           "type": "scatter",
           "x": {
            "bdata": "AQI=",
            "dtype": "i1"
           },
           "y": {
            "bdata": "AAAAAAAAAAAAAAAAAAAAAA==",
            "dtype": "f8"
           }
          },
          {
           "mode": "lines+markers",
           "name": "user_13",
           "type": "scatter",
           "x": {
            "bdata": "AQI=",
            "dtype": "i1"
           },
           "y": {
            "bdata": "AAAAAAAAAAAAAAAAAAAAAA==",
            "dtype": "f8"
           }
          },
          {
           "mode": "lines+markers",
           "name": "user_14",
           "type": "scatter",
           "x": {
            "bdata": "AQI=",
            "dtype": "i1"
           },
           "y": {
            "bdata": "AAAAAAAAAAAAAAAAAAAAAA==",
            "dtype": "f8"
           }
          },
          {
           "mode": "lines+markers",
           "name": "user_15",
           "type": "scatter",
           "x": {
            "bdata": "AQI=",
            "dtype": "i1"
           },
           "y": {
            "bdata": "AAAAAAAAAAAAAAAAAAAAAA==",
            "dtype": "f8"
           }
          },
          {
           "mode": "lines+markers",
           "name": "user_16",
           "type": "scatter",
           "x": {
            "bdata": "AQI=",
            "dtype": "i1"
           },
           "y": {
            "bdata": "AAAAAAAAAAAAAAAAAAAAAA==",
            "dtype": "f8"
           }
          },
          {
           "mode": "lines+markers",
           "name": "user_17",
           "type": "scatter",
           "x": {
            "bdata": "AQI=",
            "dtype": "i1"
           },
           "y": {
            "bdata": "AAAAAAAAAAAAAAAAAADwPw==",
            "dtype": "f8"
           }
          },
          {
           "mode": "lines+markers",
           "name": "user_18",
           "type": "scatter",
           "x": {
            "bdata": "AQI=",
            "dtype": "i1"
           },
           "y": {
            "bdata": "AAAAAAAAAAAAAAAAAAAAAA==",
            "dtype": "f8"
           }
          },
          {
           "mode": "lines+markers",
           "name": "user_19",
           "type": "scatter",
           "x": {
            "bdata": "AQI=",
            "dtype": "i1"
           },
           "y": {
            "bdata": "AAAAAAAAAAAAAAAAAAAAAA==",
            "dtype": "f8"
           }
          },
          {
           "mode": "lines+markers",
           "name": "user_2",
           "type": "scatter",
           "x": {
            "bdata": "AQI=",
            "dtype": "i1"
           },
           "y": {
            "bdata": "AAAAAAAAAAAAAAAAAAAAAA==",
            "dtype": "f8"
           }
          },
          {
           "mode": "lines+markers",
           "name": "user_20",
           "type": "scatter",
           "x": {
            "bdata": "AQI=",
            "dtype": "i1"
           },
           "y": {
            "bdata": "AAAAAAAAAAAAAAAAAAAAAA==",
            "dtype": "f8"
           }
          },
          {
           "mode": "lines+markers",
           "name": "user_21",
           "type": "scatter",
           "x": {
            "bdata": "AQI=",
            "dtype": "i1"
           },
           "y": {
            "bdata": "AAAAAAAAAAAAAAAAAAAAAA==",
            "dtype": "f8"
           }
          },
          {
           "mode": "lines+markers",
           "name": "user_22",
           "type": "scatter",
           "x": {
            "bdata": "AQI=",
            "dtype": "i1"
           },
           "y": {
            "bdata": "AAAAAAAAAAAAAAAAAAAAAA==",
            "dtype": "f8"
           }
          },
          {
           "mode": "lines+markers",
           "name": "user_24",
           "type": "scatter",
           "x": {
            "bdata": "AQI=",
            "dtype": "i1"
           },
           "y": {
            "bdata": "AAAAAAAAAAAAAAAAAAAAAA==",
            "dtype": "f8"
           }
          },
          {
           "mode": "lines+markers",
           "name": "user_25",
           "type": "scatter",
           "x": {
            "bdata": "AQI=",
            "dtype": "i1"
           },
           "y": {
            "bdata": "AAAAAAAAAAAAAAAAAAAAAA==",
            "dtype": "f8"
           }
          },
          {
           "mode": "lines+markers",
           "name": "user_26",
           "type": "scatter",
           "x": {
            "bdata": "AQI=",
            "dtype": "i1"
           },
           "y": {
            "bdata": "AAAAAAAAAAAAAAAAAAAAAA==",
            "dtype": "f8"
           }
          },
          {
           "mode": "lines+markers",
           "name": "user_27",
           "type": "scatter",
           "x": {
            "bdata": "AQI=",
            "dtype": "i1"
           },
           "y": {
            "bdata": "AAAAAAAAAAAAAAAAAAAAAA==",
            "dtype": "f8"
           }
          },
          {
           "mode": "lines+markers",
           "name": "user_28",
           "type": "scatter",
           "x": {
            "bdata": "AQI=",
            "dtype": "i1"
           },
           "y": {
            "bdata": "AAAAAAAAAAAAAAAAAAAAAA==",
            "dtype": "f8"
           }
          },
          {
           "mode": "lines+markers",
           "name": "user_29",
           "type": "scatter",
           "x": {
            "bdata": "AQI=",
            "dtype": "i1"
           },
           "y": {
            "bdata": "AAAAAAAAAAAAAAAAAAAAAA==",
            "dtype": "f8"
           }
          },
          {
           "mode": "lines+markers",
           "name": "user_3",
           "type": "scatter",
           "x": {
            "bdata": "AQI=",
            "dtype": "i1"
           },
           "y": {
            "bdata": "AAAAAAAAAAAAAAAAAAAAAA==",
            "dtype": "f8"
           }
          },
          {
           "mode": "lines+markers",
           "name": "user_30",
           "type": "scatter",
           "x": {
            "bdata": "AQI=",
            "dtype": "i1"
           },
           "y": {
            "bdata": "AAAAAAAAAAAAAAAAAAAAAA==",
            "dtype": "f8"
           }
          },
          {
           "mode": "lines+markers",
           "name": "user_31",
           "type": "scatter",
           "x": {
            "bdata": "AQI=",
            "dtype": "i1"
           },
           "y": {
            "bdata": "AAAAAAAAAAAAAAAAAAAAAA==",
            "dtype": "f8"
           }
          },
          {
           "mode": "lines+markers",
           "name": "user_4",
           "type": "scatter",
           "x": {
            "bdata": "AQI=",
            "dtype": "i1"
           },
           "y": {
            "bdata": "AAAAAAAAAAAAAAAAAAAcQA==",
            "dtype": "f8"
           }
          },
          {
           "mode": "lines+markers",
           "name": "user_6",
           "type": "scatter",
           "x": {
            "bdata": "AQI=",
            "dtype": "i1"
           },
           "y": {
            "bdata": "AAAAAAAAAAAAAAAAAAAAAA==",
            "dtype": "f8"
           }
          },
          {
           "mode": "lines+markers",
           "name": "user_8",
           "type": "scatter",
           "x": {
            "bdata": "AQI=",
            "dtype": "i1"
           },
           "y": {
            "bdata": "AAAAAAAAAAAAAAAAAAAAAA==",
            "dtype": "f8"
           }
          }
         ]
        },
        {
         "data": [
          {
           "mode": "lines+markers",
           "name": "user_1",
           "type": "scatter",
           "x": {
            "bdata": "AQID",
            "dtype": "i1"
           },
           "y": {
            "bdata": "AAAAAAAAAAAAAAAAAAAAAAAAAAAAAAAA",
            "dtype": "f8"
           }
          },
          {
           "mode": "lines+markers",
           "name": "user_10",
           "type": "scatter",
           "x": {
            "bdata": "AQID",
            "dtype": "i1"
           },
           "y": {
            "bdata": "AAAAAAAAAAAAAAAAAAAAAAAAAAAAAAAA",
            "dtype": "f8"
           }
          },
          {
           "mode": "lines+markers",
           "name": "user_11",
           "type": "scatter",
           "x": {
            "bdata": "AQID",
            "dtype": "i1"
           },
           "y": {
            "bdata": "AAAAAAAAAAAAAAAAAAAAAAAAAAAAAAAA",
            "dtype": "f8"
           }
          },
          {
           "mode": "lines+markers",
           "name": "user_12",
           "type": "scatter",
           "x": {
            "bdata": "AQID",
            "dtype": "i1"
           },
           "y": {
            "bdata": "AAAAAAAAAAAAAAAAAAAAAAAAAAAAAAAA",
            "dtype": "f8"
           }
          },
          {
           "mode": "lines+markers",
           "name": "user_13",
           "type": "scatter",
           "x": {
            "bdata": "AQID",
            "dtype": "i1"
           },
           "y": {
            "bdata": "AAAAAAAAAAAAAAAAAAAAAAAAAAAAAAAA",
            "dtype": "f8"
           }
          },
          {
           "mode": "lines+markers",
           "name": "user_14",
           "type": "scatter",
           "x": {
            "bdata": "AQID",
            "dtype": "i1"
           },
           "y": {
            "bdata": "AAAAAAAAAAAAAAAAAAAAAAAAAAAAAAAA",
            "dtype": "f8"
           }
          },
          {
           "mode": "lines+markers",
           "name": "user_15",
           "type": "scatter",
           "x": {
            "bdata": "AQID",
            "dtype": "i1"
           },
           "y": {
            "bdata": "AAAAAAAAAAAAAAAAAAAAAAAAAAAAAAAA",
            "dtype": "f8"
           }
          },
          {
           "mode": "lines+markers",
           "name": "user_16",
           "type": "scatter",
           "x": {
            "bdata": "AQID",
            "dtype": "i1"
           },
           "y": {
            "bdata": "AAAAAAAAAAAAAAAAAAAAAAAAAAAAAAAA",
            "dtype": "f8"
           }
          },
          {
           "mode": "lines+markers",
           "name": "user_17",
           "type": "scatter",
           "x": {
            "bdata": "AQID",
            "dtype": "i1"
           },
           "y": {
            "bdata": "AAAAAAAAAAAAAAAAAADwPwAAAAAAAPA/",
            "dtype": "f8"
           }
          },
          {
           "mode": "lines+markers",
           "name": "user_18",
           "type": "scatter",
           "x": {
            "bdata": "AQID",
            "dtype": "i1"
           },
           "y": {
            "bdata": "AAAAAAAAAAAAAAAAAAAAAAAAAAAAAAAA",
            "dtype": "f8"
           }
          },
          {
           "mode": "lines+markers",
           "name": "user_19",
           "type": "scatter",
           "x": {
            "bdata": "AQID",
            "dtype": "i1"
           },
           "y": {
            "bdata": "AAAAAAAAAAAAAAAAAAAAAAAAAAAAAAAA",
            "dtype": "f8"
           }
          },
          {
           "mode": "lines+markers",
           "name": "user_2",
           "type": "scatter",
           "x": {
            "bdata": "AQID",
            "dtype": "i1"
           },
           "y": {
            "bdata": "AAAAAAAAAAAAAAAAAAAAAAAAAAAAAAAA",
            "dtype": "f8"
           }
          },
          {
           "mode": "lines+markers",
           "name": "user_20",
           "type": "scatter",
           "x": {
            "bdata": "AQID",
            "dtype": "i1"
           },
           "y": {
            "bdata": "AAAAAAAAAAAAAAAAAAAAAAAAAAAAAAAA",
            "dtype": "f8"
           }
          },
          {
           "mode": "lines+markers",
           "name": "user_21",
           "type": "scatter",
           "x": {
            "bdata": "AQID",
            "dtype": "i1"
           },
           "y": {
            "bdata": "AAAAAAAAAAAAAAAAAAAAAAAAAAAAAAAA",
            "dtype": "f8"
           }
          },
          {
           "mode": "lines+markers",
           "name": "user_22",
           "type": "scatter",
           "x": {
            "bdata": "AQID",
            "dtype": "i1"
           },
           "y": {
            "bdata": "AAAAAAAAAAAAAAAAAAAAAAAAAAAAAAAA",
            "dtype": "f8"
           }
          },
          {
           "mode": "lines+markers",
           "name": "user_24",
           "type": "scatter",
           "x": {
            "bdata": "AQID",
            "dtype": "i1"
           },
           "y": {
            "bdata": "AAAAAAAAAAAAAAAAAAAAAAAAAAAAAAAA",
            "dtype": "f8"
           }
          },
          {
           "mode": "lines+markers",
           "name": "user_25",
           "type": "scatter",
           "x": {
            "bdata": "AQID",
            "dtype": "i1"
           },
           "y": {
            "bdata": "AAAAAAAAAAAAAAAAAAAAAAAAAAAAAAAA",
            "dtype": "f8"
           }
          },
          {
           "mode": "lines+markers",
           "name": "user_26",
           "type": "scatter",
           "x": {
            "bdata": "AQID",
            "dtype": "i1"
           },
           "y": {
            "bdata": "AAAAAAAAAAAAAAAAAAAAAAAAAAAAAAAA",
            "dtype": "f8"
           }
          },
          {
           "mode": "lines+markers",
           "name": "user_27",
           "type": "scatter",
           "x": {
            "bdata": "AQID",
            "dtype": "i1"
           },
           "y": {
            "bdata": "AAAAAAAAAAAAAAAAAAAAAAAAAAAAAAAA",
            "dtype": "f8"
           }
          },
          {
           "mode": "lines+markers",
           "name": "user_28",
           "type": "scatter",
           "x": {
            "bdata": "AQID",
            "dtype": "i1"
           },
           "y": {
            "bdata": "AAAAAAAAAAAAAAAAAAAAAAAAAAAAAAAA",
            "dtype": "f8"
           }
          },
          {
           "mode": "lines+markers",
           "name": "user_29",
           "type": "scatter",
           "x": {
            "bdata": "AQID",
            "dtype": "i1"
           },
           "y": {
            "bdata": "AAAAAAAAAAAAAAAAAAAAAAAAAAAAAAAA",
            "dtype": "f8"
           }
          },
          {
           "mode": "lines+markers",
           "name": "user_3",
           "type": "scatter",
           "x": {
            "bdata": "AQID",
            "dtype": "i1"
           },
           "y": {
            "bdata": "AAAAAAAAAAAAAAAAAAAAAAAAAAAAAAAA",
            "dtype": "f8"
           }
          },
          {
           "mode": "lines+markers",
           "name": "user_30",
           "type": "scatter",
           "x": {
            "bdata": "AQID",
            "dtype": "i1"
           },
           "y": {
            "bdata": "AAAAAAAAAAAAAAAAAAAAAAAAAAAAAAAA",
            "dtype": "f8"
           }
          },
          {
           "mode": "lines+markers",
           "name": "user_31",
           "type": "scatter",
           "x": {
            "bdata": "AQID",
            "dtype": "i1"
           },
           "y": {
            "bdata": "AAAAAAAAAAAAAAAAAAAAAAAAAAAAAAAA",
            "dtype": "f8"
           }
          },
          {
           "mode": "lines+markers",
           "name": "user_4",
           "type": "scatter",
           "x": {
            "bdata": "AQID",
            "dtype": "i1"
           },
           "y": {
            "bdata": "AAAAAAAAAAAAAAAAAAAcQAAAAAAAACZA",
            "dtype": "f8"
           }
          },
          {
           "mode": "lines+markers",
           "name": "user_6",
           "type": "scatter",
           "x": {
            "bdata": "AQID",
            "dtype": "i1"
           },
           "y": {
            "bdata": "AAAAAAAAAAAAAAAAAAAAAAAAAAAAAAAA",
            "dtype": "f8"
           }
          },
          {
           "mode": "lines+markers",
           "name": "user_8",
           "type": "scatter",
           "x": {
            "bdata": "AQID",
            "dtype": "i1"
           },
           "y": {
            "bdata": "AAAAAAAAAAAAAAAAAAAAAAAAAAAAAAAA",
            "dtype": "f8"
           }
          }
         ]
        },
        {
         "data": [
          {
           "mode": "lines+markers",
           "name": "user_1",
           "type": "scatter",
           "x": {
            "bdata": "AQIDBA==",
            "dtype": "i1"
           },
           "y": {
            "bdata": "AAAAAAAAAAAAAAAAAAAAAAAAAAAAAAAAAAAAAAAAAAA=",
            "dtype": "f8"
           }
          },
          {
           "mode": "lines+markers",
           "name": "user_10",
           "type": "scatter",
           "x": {
            "bdata": "AQIDBA==",
            "dtype": "i1"
           },
           "y": {
            "bdata": "AAAAAAAAAAAAAAAAAAAAAAAAAAAAAAAAAAAAAAAAAAA=",
            "dtype": "f8"
           }
          },
          {
           "mode": "lines+markers",
           "name": "user_11",
           "type": "scatter",
           "x": {
            "bdata": "AQIDBA==",
            "dtype": "i1"
           },
           "y": {
            "bdata": "AAAAAAAAAAAAAAAAAAAAAAAAAAAAAAAAAAAAAAAAAAA=",
            "dtype": "f8"
           }
          },
          {
           "mode": "lines+markers",
           "name": "user_12",
           "type": "scatter",
           "x": {
            "bdata": "AQIDBA==",
            "dtype": "i1"
           },
           "y": {
            "bdata": "AAAAAAAAAAAAAAAAAAAAAAAAAAAAAAAAAAAAAAAAAAA=",
            "dtype": "f8"
           }
          },
          {
           "mode": "lines+markers",
           "name": "user_13",
           "type": "scatter",
           "x": {
            "bdata": "AQIDBA==",
            "dtype": "i1"
           },
           "y": {
            "bdata": "AAAAAAAAAAAAAAAAAAAAAAAAAAAAAAAAAAAAAAAAAAA=",
            "dtype": "f8"
           }
          },
          {
           "mode": "lines+markers",
           "name": "user_14",
           "type": "scatter",
           "x": {
            "bdata": "AQIDBA==",
            "dtype": "i1"
           },
           "y": {
            "bdata": "AAAAAAAAAAAAAAAAAAAAAAAAAAAAAAAAAAAAAAAAAAA=",
            "dtype": "f8"
           }
          },
          {
           "mode": "lines+markers",
           "name": "user_15",
           "type": "scatter",
           "x": {
            "bdata": "AQIDBA==",
            "dtype": "i1"
           },
           "y": {
            "bdata": "AAAAAAAAAAAAAAAAAAAAAAAAAAAAAAAAAAAAAAAAAAA=",
            "dtype": "f8"
           }
          },
          {
           "mode": "lines+markers",
           "name": "user_16",
           "type": "scatter",
           "x": {
            "bdata": "AQIDBA==",
            "dtype": "i1"
           },
           "y": {
            "bdata": "AAAAAAAAAAAAAAAAAAAAAAAAAAAAAAAAAAAAAAAAAAA=",
            "dtype": "f8"
           }
          },
          {
           "mode": "lines+markers",
           "name": "user_17",
           "type": "scatter",
           "x": {
            "bdata": "AQIDBA==",
            "dtype": "i1"
           },
           "y": {
            "bdata": "AAAAAAAAAAAAAAAAAADwPwAAAAAAAPA/AAAAAAAA8D8=",
            "dtype": "f8"
           }
          },
          {
           "mode": "lines+markers",
           "name": "user_18",
           "type": "scatter",
           "x": {
            "bdata": "AQIDBA==",
            "dtype": "i1"
           },
           "y": {
            "bdata": "AAAAAAAAAAAAAAAAAAAAAAAAAAAAAAAAAAAAAAAAAAA=",
            "dtype": "f8"
           }
          },
          {
           "mode": "lines+markers",
           "name": "user_19",
           "type": "scatter",
           "x": {
            "bdata": "AQIDBA==",
            "dtype": "i1"
           },
           "y": {
            "bdata": "AAAAAAAAAAAAAAAAAAAAAAAAAAAAAAAAAAAAAAAAAAA=",
            "dtype": "f8"
           }
          },
          {
           "mode": "lines+markers",
           "name": "user_2",
           "type": "scatter",
           "x": {
            "bdata": "AQIDBA==",
            "dtype": "i1"
           },
           "y": {
            "bdata": "AAAAAAAAAAAAAAAAAAAAAAAAAAAAAAAAAAAAAAAAAAA=",
            "dtype": "f8"
           }
          },
          {
           "mode": "lines+markers",
           "name": "user_20",
           "type": "scatter",
           "x": {
            "bdata": "AQIDBA==",
            "dtype": "i1"
           },
           "y": {
            "bdata": "AAAAAAAAAAAAAAAAAAAAAAAAAAAAAAAAAAAAAAAAAAA=",
            "dtype": "f8"
           }
          },
          {
           "mode": "lines+markers",
           "name": "user_21",
           "type": "scatter",
           "x": {
            "bdata": "AQIDBA==",
            "dtype": "i1"
           },
           "y": {
            "bdata": "AAAAAAAAAAAAAAAAAAAAAAAAAAAAAAAAAAAAAAAAAAA=",
            "dtype": "f8"
           }
          },
          {
           "mode": "lines+markers",
           "name": "user_22",
           "type": "scatter",
           "x": {
            "bdata": "AQIDBA==",
            "dtype": "i1"
           },
           "y": {
            "bdata": "AAAAAAAAAAAAAAAAAAAAAAAAAAAAAAAAAAAAAAAAAAA=",
            "dtype": "f8"
           }
          },
          {
           "mode": "lines+markers",
           "name": "user_24",
           "type": "scatter",
           "x": {
            "bdata": "AQIDBA==",
            "dtype": "i1"
           },
           "y": {
            "bdata": "AAAAAAAAAAAAAAAAAAAAAAAAAAAAAAAAAAAAAAAAAAA=",
            "dtype": "f8"
           }
          },
          {
           "mode": "lines+markers",
           "name": "user_25",
           "type": "scatter",
           "x": {
            "bdata": "AQIDBA==",
            "dtype": "i1"
           },
           "y": {
            "bdata": "AAAAAAAAAAAAAAAAAAAAAAAAAAAAAAAAAAAAAAAAAAA=",
            "dtype": "f8"
           }
          },
          {
           "mode": "lines+markers",
           "name": "user_26",
           "type": "scatter",
           "x": {
            "bdata": "AQIDBA==",
            "dtype": "i1"
           },
           "y": {
            "bdata": "AAAAAAAAAAAAAAAAAAAAAAAAAAAAAAAAAAAAAAAAAAA=",
            "dtype": "f8"
           }
          },
          {
           "mode": "lines+markers",
           "name": "user_27",
           "type": "scatter",
           "x": {
            "bdata": "AQIDBA==",
            "dtype": "i1"
           },
           "y": {
            "bdata": "AAAAAAAAAAAAAAAAAAAAAAAAAAAAAAAAAAAAAAAAAAA=",
            "dtype": "f8"
           }
          },
          {
           "mode": "lines+markers",
           "name": "user_28",
           "type": "scatter",
           "x": {
            "bdata": "AQIDBA==",
            "dtype": "i1"
           },
           "y": {
            "bdata": "AAAAAAAAAAAAAAAAAAAAAAAAAAAAAAAAAAAAAAAAAAA=",
            "dtype": "f8"
           }
          },
          {
           "mode": "lines+markers",
           "name": "user_29",
           "type": "scatter",
           "x": {
            "bdata": "AQIDBA==",
            "dtype": "i1"
           },
           "y": {
            "bdata": "AAAAAAAAAAAAAAAAAAAAAAAAAAAAAAAAAAAAAAAAAAA=",
            "dtype": "f8"
           }
          },
          {
           "mode": "lines+markers",
           "name": "user_3",
           "type": "scatter",
           "x": {
            "bdata": "AQIDBA==",
            "dtype": "i1"
           },
           "y": {
            "bdata": "AAAAAAAAAAAAAAAAAAAAAAAAAAAAAAAAAAAAAAAAAAA=",
            "dtype": "f8"
           }
          },
          {
           "mode": "lines+markers",
           "name": "user_30",
           "type": "scatter",
           "x": {
            "bdata": "AQIDBA==",
            "dtype": "i1"
           },
           "y": {
            "bdata": "AAAAAAAAAAAAAAAAAAAAAAAAAAAAAAAAAAAAAAAA8D8=",
            "dtype": "f8"
           }
          },
          {
           "mode": "lines+markers",
           "name": "user_31",
           "type": "scatter",
           "x": {
            "bdata": "AQIDBA==",
            "dtype": "i1"
           },
           "y": {
            "bdata": "AAAAAAAAAAAAAAAAAAAAAAAAAAAAAAAAAAAAAAAAAAA=",
            "dtype": "f8"
           }
          },
          {
           "mode": "lines+markers",
           "name": "user_4",
           "type": "scatter",
           "x": {
            "bdata": "AQIDBA==",
            "dtype": "i1"
           },
           "y": {
            "bdata": "AAAAAAAAAAAAAAAAAAAcQAAAAAAAACZAAAAAAAAAJkA=",
            "dtype": "f8"
           }
          },
          {
           "mode": "lines+markers",
           "name": "user_6",
           "type": "scatter",
           "x": {
            "bdata": "AQIDBA==",
            "dtype": "i1"
           },
           "y": {
            "bdata": "AAAAAAAAAAAAAAAAAAAAAAAAAAAAAAAAAAAAAAAAAAA=",
            "dtype": "f8"
           }
          },
          {
           "mode": "lines+markers",
           "name": "user_8",
           "type": "scatter",
           "x": {
            "bdata": "AQIDBA==",
            "dtype": "i1"
           },
           "y": {
            "bdata": "AAAAAAAAAAAAAAAAAAAAAAAAAAAAAAAAAAAAAAAAAAA=",
            "dtype": "f8"
           }
          }
         ]
        },
        {
         "data": [
          {
           "mode": "lines+markers",
           "name": "user_1",
           "type": "scatter",
           "x": {
            "bdata": "AQIDBAU=",
            "dtype": "i1"
           },
           "y": {
            "bdata": "AAAAAAAAAAAAAAAAAAAAAAAAAAAAAAAAAAAAAAAAAAAAAAAAAAAAAA==",
            "dtype": "f8"
           }
          },
          {
           "mode": "lines+markers",
           "name": "user_10",
           "type": "scatter",
           "x": {
            "bdata": "AQIDBAU=",
            "dtype": "i1"
           },
           "y": {
            "bdata": "AAAAAAAAAAAAAAAAAAAAAAAAAAAAAAAAAAAAAAAAAAAAAAAAAAAAAA==",
            "dtype": "f8"
           }
          },
          {
           "mode": "lines+markers",
           "name": "user_11",
           "type": "scatter",
           "x": {
            "bdata": "AQIDBAU=",
            "dtype": "i1"
           },
           "y": {
            "bdata": "AAAAAAAAAAAAAAAAAAAAAAAAAAAAAAAAAAAAAAAAAAAAAAAAAAAAAA==",
            "dtype": "f8"
           }
          },
          {
           "mode": "lines+markers",
           "name": "user_12",
           "type": "scatter",
           "x": {
            "bdata": "AQIDBAU=",
            "dtype": "i1"
           },
           "y": {
            "bdata": "AAAAAAAAAAAAAAAAAAAAAAAAAAAAAAAAAAAAAAAAAAAAAAAAAAAAAA==",
            "dtype": "f8"
           }
          },
          {
           "mode": "lines+markers",
           "name": "user_13",
           "type": "scatter",
           "x": {
            "bdata": "AQIDBAU=",
            "dtype": "i1"
           },
           "y": {
            "bdata": "AAAAAAAAAAAAAAAAAAAAAAAAAAAAAAAAAAAAAAAAAAAAAAAAAAAAAA==",
            "dtype": "f8"
           }
          },
          {
           "mode": "lines+markers",
           "name": "user_14",
           "type": "scatter",
           "x": {
            "bdata": "AQIDBAU=",
            "dtype": "i1"
           },
           "y": {
            "bdata": "AAAAAAAAAAAAAAAAAAAAAAAAAAAAAAAAAAAAAAAAAAAAAAAAAAAAAA==",
            "dtype": "f8"
           }
          },
          {
           "mode": "lines+markers",
           "name": "user_15",
           "type": "scatter",
           "x": {
            "bdata": "AQIDBAU=",
            "dtype": "i1"
           },
           "y": {
            "bdata": "AAAAAAAAAAAAAAAAAAAAAAAAAAAAAAAAAAAAAAAAAAAAAAAAAAAAAA==",
            "dtype": "f8"
           }
          },
          {
           "mode": "lines+markers",
           "name": "user_16",
           "type": "scatter",
           "x": {
            "bdata": "AQIDBAU=",
            "dtype": "i1"
           },
           "y": {
            "bdata": "AAAAAAAAAAAAAAAAAAAAAAAAAAAAAAAAAAAAAAAAAAAAAAAAAAAAAA==",
            "dtype": "f8"
           }
          },
          {
           "mode": "lines+markers",
           "name": "user_17",
           "type": "scatter",
           "x": {
            "bdata": "AQIDBAU=",
            "dtype": "i1"
           },
           "y": {
            "bdata": "AAAAAAAAAAAAAAAAAADwPwAAAAAAAPA/AAAAAAAA8D8AAAAAAADwPw==",
            "dtype": "f8"
           }
          },
          {
           "mode": "lines+markers",
           "name": "user_18",
           "type": "scatter",
           "x": {
            "bdata": "AQIDBAU=",
            "dtype": "i1"
           },
           "y": {
            "bdata": "AAAAAAAAAAAAAAAAAAAAAAAAAAAAAAAAAAAAAAAAAAAAAAAAAAAAAA==",
            "dtype": "f8"
           }
          },
          {
           "mode": "lines+markers",
           "name": "user_19",
           "type": "scatter",
           "x": {
            "bdata": "AQIDBAU=",
            "dtype": "i1"
           },
           "y": {
            "bdata": "AAAAAAAAAAAAAAAAAAAAAAAAAAAAAAAAAAAAAAAAAAAAAAAAAAAAAA==",
            "dtype": "f8"
           }
          },
          {
           "mode": "lines+markers",
           "name": "user_2",
           "type": "scatter",
           "x": {
            "bdata": "AQIDBAU=",
            "dtype": "i1"
           },
           "y": {
            "bdata": "AAAAAAAAAAAAAAAAAAAAAAAAAAAAAAAAAAAAAAAAAAAAAAAAAAAAAA==",
            "dtype": "f8"
           }
          },
          {
           "mode": "lines+markers",
           "name": "user_20",
           "type": "scatter",
           "x": {
            "bdata": "AQIDBAU=",
            "dtype": "i1"
           },
           "y": {
            "bdata": "AAAAAAAAAAAAAAAAAAAAAAAAAAAAAAAAAAAAAAAAAAAAAAAAAAAAAA==",
            "dtype": "f8"
           }
          },
          {
           "mode": "lines+markers",
           "name": "user_21",
           "type": "scatter",
           "x": {
            "bdata": "AQIDBAU=",
            "dtype": "i1"
           },
           "y": {
            "bdata": "AAAAAAAAAAAAAAAAAAAAAAAAAAAAAAAAAAAAAAAAAAAAAAAAAAAAAA==",
            "dtype": "f8"
           }
          },
          {
           "mode": "lines+markers",
           "name": "user_22",
           "type": "scatter",
           "x": {
            "bdata": "AQIDBAU=",
            "dtype": "i1"
           },
           "y": {
            "bdata": "AAAAAAAAAAAAAAAAAAAAAAAAAAAAAAAAAAAAAAAAAAAAAAAAAAAAAA==",
            "dtype": "f8"
           }
          },
          {
           "mode": "lines+markers",
           "name": "user_24",
           "type": "scatter",
           "x": {
            "bdata": "AQIDBAU=",
            "dtype": "i1"
           },
           "y": {
            "bdata": "AAAAAAAAAAAAAAAAAAAAAAAAAAAAAAAAAAAAAAAAAAAAAAAAAAAAAA==",
            "dtype": "f8"
           }
          },
          {
           "mode": "lines+markers",
           "name": "user_25",
           "type": "scatter",
           "x": {
            "bdata": "AQIDBAU=",
            "dtype": "i1"
           },
           "y": {
            "bdata": "AAAAAAAAAAAAAAAAAAAAAAAAAAAAAAAAAAAAAAAAAAAAAAAAAAAAAA==",
            "dtype": "f8"
           }
          },
          {
           "mode": "lines+markers",
           "name": "user_26",
           "type": "scatter",
           "x": {
            "bdata": "AQIDBAU=",
            "dtype": "i1"
           },
           "y": {
            "bdata": "AAAAAAAAAAAAAAAAAAAAAAAAAAAAAAAAAAAAAAAAAAAAAAAAAAAAAA==",
            "dtype": "f8"
           }
          },
          {
           "mode": "lines+markers",
           "name": "user_27",
           "type": "scatter",
           "x": {
            "bdata": "AQIDBAU=",
            "dtype": "i1"
           },
           "y": {
            "bdata": "AAAAAAAAAAAAAAAAAAAAAAAAAAAAAAAAAAAAAAAAAAAAAAAAAAAAAA==",
            "dtype": "f8"
           }
          },
          {
           "mode": "lines+markers",
           "name": "user_28",
           "type": "scatter",
           "x": {
            "bdata": "AQIDBAU=",
            "dtype": "i1"
           },
           "y": {
            "bdata": "AAAAAAAAAAAAAAAAAAAAAAAAAAAAAAAAAAAAAAAAAAAAAAAAAAAAAA==",
            "dtype": "f8"
           }
          },
          {
           "mode": "lines+markers",
           "name": "user_29",
           "type": "scatter",
           "x": {
            "bdata": "AQIDBAU=",
            "dtype": "i1"
           },
           "y": {
            "bdata": "AAAAAAAAAAAAAAAAAAAAAAAAAAAAAAAAAAAAAAAAAAAAAAAAAAAAAA==",
            "dtype": "f8"
           }
          },
          {
           "mode": "lines+markers",
           "name": "user_3",
           "type": "scatter",
           "x": {
            "bdata": "AQIDBAU=",
            "dtype": "i1"
           },
           "y": {
            "bdata": "AAAAAAAAAAAAAAAAAAAAAAAAAAAAAAAAAAAAAAAAAAAAAAAAAAAAAA==",
            "dtype": "f8"
           }
          },
          {
           "mode": "lines+markers",
           "name": "user_30",
           "type": "scatter",
           "x": {
            "bdata": "AQIDBAU=",
            "dtype": "i1"
           },
           "y": {
            "bdata": "AAAAAAAAAAAAAAAAAAAAAAAAAAAAAAAAAAAAAAAA8D8AAAAAAAAAQA==",
            "dtype": "f8"
           }
          },
          {
           "mode": "lines+markers",
           "name": "user_31",
           "type": "scatter",
           "x": {
            "bdata": "AQIDBAU=",
            "dtype": "i1"
           },
           "y": {
            "bdata": "AAAAAAAAAAAAAAAAAAAAAAAAAAAAAAAAAAAAAAAAAAAAAAAAAAAAAA==",
            "dtype": "f8"
           }
          },
          {
           "mode": "lines+markers",
           "name": "user_4",
           "type": "scatter",
           "x": {
            "bdata": "AQIDBAU=",
            "dtype": "i1"
           },
           "y": {
            "bdata": "AAAAAAAAAAAAAAAAAAAcQAAAAAAAACZAAAAAAAAAJkAAAAAAAAA0QA==",
            "dtype": "f8"
           }
          },
          {
           "mode": "lines+markers",
           "name": "user_6",
           "type": "scatter",
           "x": {
            "bdata": "AQIDBAU=",
            "dtype": "i1"
           },
           "y": {
            "bdata": "AAAAAAAAAAAAAAAAAAAAAAAAAAAAAAAAAAAAAAAAAAAAAAAAAAAAAA==",
            "dtype": "f8"
           }
          },
          {
           "mode": "lines+markers",
           "name": "user_8",
           "type": "scatter",
           "x": {
            "bdata": "AQIDBAU=",
            "dtype": "i1"
           },
           "y": {
            "bdata": "AAAAAAAAAAAAAAAAAAAAAAAAAAAAAAAAAAAAAAAAAAAAAAAAAAAAAA==",
            "dtype": "f8"
           }
          }
         ]
        },
        {
         "data": [
          {
           "mode": "lines+markers",
           "name": "user_1",
           "type": "scatter",
           "x": {
            "bdata": "AQIDBAUG",
            "dtype": "i1"
           },
           "y": {
            "bdata": "AAAAAAAAAAAAAAAAAAAAAAAAAAAAAAAAAAAAAAAAAAAAAAAAAAAAAAAAAAAAAAAA",
            "dtype": "f8"
           }
          },
          {
           "mode": "lines+markers",
           "name": "user_10",
           "type": "scatter",
           "x": {
            "bdata": "AQIDBAUG",
            "dtype": "i1"
           },
           "y": {
            "bdata": "AAAAAAAAAAAAAAAAAAAAAAAAAAAAAAAAAAAAAAAAAAAAAAAAAAAAAAAAAAAAAAAA",
            "dtype": "f8"
           }
          },
          {
           "mode": "lines+markers",
           "name": "user_11",
           "type": "scatter",
           "x": {
            "bdata": "AQIDBAUG",
            "dtype": "i1"
           },
           "y": {
            "bdata": "AAAAAAAAAAAAAAAAAAAAAAAAAAAAAAAAAAAAAAAAAAAAAAAAAAAAAAAAAAAAAAAA",
            "dtype": "f8"
           }
          },
          {
           "mode": "lines+markers",
           "name": "user_12",
           "type": "scatter",
           "x": {
            "bdata": "AQIDBAUG",
            "dtype": "i1"
           },
           "y": {
            "bdata": "AAAAAAAAAAAAAAAAAAAAAAAAAAAAAAAAAAAAAAAAAAAAAAAAAAAAAAAAAAAAAAAA",
            "dtype": "f8"
           }
          },
          {
           "mode": "lines+markers",
           "name": "user_13",
           "type": "scatter",
           "x": {
            "bdata": "AQIDBAUG",
            "dtype": "i1"
           },
           "y": {
            "bdata": "AAAAAAAAAAAAAAAAAAAAAAAAAAAAAAAAAAAAAAAAAAAAAAAAAAAAAAAAAAAAAAAA",
            "dtype": "f8"
           }
          },
          {
           "mode": "lines+markers",
           "name": "user_14",
           "type": "scatter",
           "x": {
            "bdata": "AQIDBAUG",
            "dtype": "i1"
           },
           "y": {
            "bdata": "AAAAAAAAAAAAAAAAAAAAAAAAAAAAAAAAAAAAAAAAAAAAAAAAAAAAAAAAAAAAAAAA",
            "dtype": "f8"
           }
          },
          {
           "mode": "lines+markers",
           "name": "user_15",
           "type": "scatter",
           "x": {
            "bdata": "AQIDBAUG",
            "dtype": "i1"
           },
           "y": {
            "bdata": "AAAAAAAAAAAAAAAAAAAAAAAAAAAAAAAAAAAAAAAAAAAAAAAAAAAAAAAAAAAAAAAA",
            "dtype": "f8"
           }
          },
          {
           "mode": "lines+markers",
           "name": "user_16",
           "type": "scatter",
           "x": {
            "bdata": "AQIDBAUG",
            "dtype": "i1"
           },
           "y": {
            "bdata": "AAAAAAAAAAAAAAAAAAAAAAAAAAAAAAAAAAAAAAAAAAAAAAAAAAAAAAAAAAAAAAAA",
            "dtype": "f8"
           }
          },
          {
           "mode": "lines+markers",
           "name": "user_17",
           "type": "scatter",
           "x": {
            "bdata": "AQIDBAUG",
            "dtype": "i1"
           },
           "y": {
            "bdata": "AAAAAAAAAAAAAAAAAADwPwAAAAAAAPA/AAAAAAAA8D8AAAAAAADwPwAAAAAAAPA/",
            "dtype": "f8"
           }
          },
          {
           "mode": "lines+markers",
           "name": "user_18",
           "type": "scatter",
           "x": {
            "bdata": "AQIDBAUG",
            "dtype": "i1"
           },
           "y": {
            "bdata": "AAAAAAAAAAAAAAAAAAAAAAAAAAAAAAAAAAAAAAAAAAAAAAAAAAAAAAAAAAAAAAAA",
            "dtype": "f8"
           }
          },
          {
           "mode": "lines+markers",
           "name": "user_19",
           "type": "scatter",
           "x": {
            "bdata": "AQIDBAUG",
            "dtype": "i1"
           },
           "y": {
            "bdata": "AAAAAAAAAAAAAAAAAAAAAAAAAAAAAAAAAAAAAAAAAAAAAAAAAAAAAAAAAAAAAAAA",
            "dtype": "f8"
           }
          },
          {
           "mode": "lines+markers",
           "name": "user_2",
           "type": "scatter",
           "x": {
            "bdata": "AQIDBAUG",
            "dtype": "i1"
           },
           "y": {
            "bdata": "AAAAAAAAAAAAAAAAAAAAAAAAAAAAAAAAAAAAAAAAAAAAAAAAAAAAAAAAAAAAAAAA",
            "dtype": "f8"
           }
          },
          {
           "mode": "lines+markers",
           "name": "user_20",
           "type": "scatter",
           "x": {
            "bdata": "AQIDBAUG",
            "dtype": "i1"
           },
           "y": {
            "bdata": "AAAAAAAAAAAAAAAAAAAAAAAAAAAAAAAAAAAAAAAAAAAAAAAAAAAAAAAAAAAAAAAA",
            "dtype": "f8"
           }
          },
          {
           "mode": "lines+markers",
           "name": "user_21",
           "type": "scatter",
           "x": {
            "bdata": "AQIDBAUG",
            "dtype": "i1"
           },
           "y": {
            "bdata": "AAAAAAAAAAAAAAAAAAAAAAAAAAAAAAAAAAAAAAAAAAAAAAAAAAAAAAAAAAAAAAAA",
            "dtype": "f8"
           }
          },
          {
           "mode": "lines+markers",
           "name": "user_22",
           "type": "scatter",
           "x": {
            "bdata": "AQIDBAUG",
            "dtype": "i1"
           },
           "y": {
            "bdata": "AAAAAAAAAAAAAAAAAAAAAAAAAAAAAAAAAAAAAAAAAAAAAAAAAAAAAAAAAAAAAAAA",
            "dtype": "f8"
           }
          },
          {
           "mode": "lines+markers",
           "name": "user_24",
           "type": "scatter",
           "x": {
            "bdata": "AQIDBAUG",
            "dtype": "i1"
           },
           "y": {
            "bdata": "AAAAAAAAAAAAAAAAAAAAAAAAAAAAAAAAAAAAAAAAAAAAAAAAAAAAAAAAAAAAAAAA",
            "dtype": "f8"
           }
          },
          {
           "mode": "lines+markers",
           "name": "user_25",
           "type": "scatter",
           "x": {
            "bdata": "AQIDBAUG",
            "dtype": "i1"
           },
           "y": {
            "bdata": "AAAAAAAAAAAAAAAAAAAAAAAAAAAAAAAAAAAAAAAAAAAAAAAAAAAAAAAAAAAAAAAA",
            "dtype": "f8"
           }
          },
          {
           "mode": "lines+markers",
           "name": "user_26",
           "type": "scatter",
           "x": {
            "bdata": "AQIDBAUG",
            "dtype": "i1"
           },
           "y": {
            "bdata": "AAAAAAAAAAAAAAAAAAAAAAAAAAAAAAAAAAAAAAAAAAAAAAAAAAAAAAAAAAAAAAAA",
            "dtype": "f8"
           }
          },
          {
           "mode": "lines+markers",
           "name": "user_27",
           "type": "scatter",
           "x": {
            "bdata": "AQIDBAUG",
            "dtype": "i1"
           },
           "y": {
            "bdata": "AAAAAAAAAAAAAAAAAAAAAAAAAAAAAAAAAAAAAAAAAAAAAAAAAAAAAAAAAAAAAAAA",
            "dtype": "f8"
           }
          },
          {
           "mode": "lines+markers",
           "name": "user_28",
           "type": "scatter",
           "x": {
            "bdata": "AQIDBAUG",
            "dtype": "i1"
           },
           "y": {
            "bdata": "AAAAAAAAAAAAAAAAAAAAAAAAAAAAAAAAAAAAAAAAAAAAAAAAAAAAAAAAAAAAAAAA",
            "dtype": "f8"
           }
          },
          {
           "mode": "lines+markers",
           "name": "user_29",
           "type": "scatter",
           "x": {
            "bdata": "AQIDBAUG",
            "dtype": "i1"
           },
           "y": {
            "bdata": "AAAAAAAAAAAAAAAAAAAAAAAAAAAAAAAAAAAAAAAAAAAAAAAAAAAAAAAAAAAAAAAA",
            "dtype": "f8"
           }
          },
          {
           "mode": "lines+markers",
           "name": "user_3",
           "type": "scatter",
           "x": {
            "bdata": "AQIDBAUG",
            "dtype": "i1"
           },
           "y": {
            "bdata": "AAAAAAAAAAAAAAAAAAAAAAAAAAAAAAAAAAAAAAAAAAAAAAAAAAAAAAAAAAAAAAAA",
            "dtype": "f8"
           }
          },
          {
           "mode": "lines+markers",
           "name": "user_30",
           "type": "scatter",
           "x": {
            "bdata": "AQIDBAUG",
            "dtype": "i1"
           },
           "y": {
            "bdata": "AAAAAAAAAAAAAAAAAAAAAAAAAAAAAAAAAAAAAAAA8D8AAAAAAAAAQAAAAAAAAABA",
            "dtype": "f8"
           }
          },
          {
           "mode": "lines+markers",
           "name": "user_31",
           "type": "scatter",
           "x": {
            "bdata": "AQIDBAUG",
            "dtype": "i1"
           },
           "y": {
            "bdata": "AAAAAAAAAAAAAAAAAAAAAAAAAAAAAAAAAAAAAAAAAAAAAAAAAAAAAAAAAAAAAAAA",
            "dtype": "f8"
           }
          },
          {
           "mode": "lines+markers",
           "name": "user_4",
           "type": "scatter",
           "x": {
            "bdata": "AQIDBAUG",
            "dtype": "i1"
           },
           "y": {
            "bdata": "AAAAAAAAAAAAAAAAAAAcQAAAAAAAACZAAAAAAAAAJkAAAAAAAAA0QAAAAAAAADtA",
            "dtype": "f8"
           }
          },
          {
           "mode": "lines+markers",
           "name": "user_6",
           "type": "scatter",
           "x": {
            "bdata": "AQIDBAUG",
            "dtype": "i1"
           },
           "y": {
            "bdata": "AAAAAAAAAAAAAAAAAAAAAAAAAAAAAAAAAAAAAAAAAAAAAAAAAAAAAAAAAAAAAAAA",
            "dtype": "f8"
           }
          },
          {
           "mode": "lines+markers",
           "name": "user_8",
           "type": "scatter",
           "x": {
            "bdata": "AQIDBAUG",
            "dtype": "i1"
           },
           "y": {
            "bdata": "AAAAAAAAAAAAAAAAAAAAAAAAAAAAAAAAAAAAAAAAAAAAAAAAAAAAAAAAAAAAAAAA",
            "dtype": "f8"
           }
          }
         ]
        },
        {
         "data": [
          {
           "mode": "lines+markers",
           "name": "user_1",
           "type": "scatter",
           "x": {
            "bdata": "AQIDBAUGBw==",
            "dtype": "i1"
           },
           "y": {
            "bdata": "AAAAAAAAAAAAAAAAAAAAAAAAAAAAAAAAAAAAAAAAAAAAAAAAAAAAAAAAAAAAAAAAAAAAAAAAAAA=",
            "dtype": "f8"
           }
          },
          {
           "mode": "lines+markers",
           "name": "user_10",
           "type": "scatter",
           "x": {
            "bdata": "AQIDBAUGBw==",
            "dtype": "i1"
           },
           "y": {
            "bdata": "AAAAAAAAAAAAAAAAAAAAAAAAAAAAAAAAAAAAAAAAAAAAAAAAAAAAAAAAAAAAAAAAAAAAAAAAAAA=",
            "dtype": "f8"
           }
          },
          {
           "mode": "lines+markers",
           "name": "user_11",
           "type": "scatter",
           "x": {
            "bdata": "AQIDBAUGBw==",
            "dtype": "i1"
           },
           "y": {
            "bdata": "AAAAAAAAAAAAAAAAAAAAAAAAAAAAAAAAAAAAAAAAAAAAAAAAAAAAAAAAAAAAAAAAAAAAAAAA8D8=",
            "dtype": "f8"
           }
          },
          {
           "mode": "lines+markers",
           "name": "user_12",
           "type": "scatter",
           "x": {
            "bdata": "AQIDBAUGBw==",
            "dtype": "i1"
           },
           "y": {
            "bdata": "AAAAAAAAAAAAAAAAAAAAAAAAAAAAAAAAAAAAAAAAAAAAAAAAAAAAAAAAAAAAAAAAAAAAAAAAAAA=",
            "dtype": "f8"
           }
          },
          {
           "mode": "lines+markers",
           "name": "user_13",
           "type": "scatter",
           "x": {
            "bdata": "AQIDBAUGBw==",
            "dtype": "i1"
           },
           "y": {
            "bdata": "AAAAAAAAAAAAAAAAAAAAAAAAAAAAAAAAAAAAAAAAAAAAAAAAAAAAAAAAAAAAAAAAAAAAAAAAAAA=",
            "dtype": "f8"
           }
          },
          {
           "mode": "lines+markers",
           "name": "user_14",
           "type": "scatter",
           "x": {
            "bdata": "AQIDBAUGBw==",
            "dtype": "i1"
           },
           "y": {
            "bdata": "AAAAAAAAAAAAAAAAAAAAAAAAAAAAAAAAAAAAAAAAAAAAAAAAAAAAAAAAAAAAAAAAAAAAAAAAAAA=",
            "dtype": "f8"
           }
          },
          {
           "mode": "lines+markers",
           "name": "user_15",
           "type": "scatter",
           "x": {
            "bdata": "AQIDBAUGBw==",
            "dtype": "i1"
           },
           "y": {
            "bdata": "AAAAAAAAAAAAAAAAAAAAAAAAAAAAAAAAAAAAAAAAAAAAAAAAAAAAAAAAAAAAAAAAAAAAAAAAAAA=",
            "dtype": "f8"
           }
          },
          {
           "mode": "lines+markers",
           "name": "user_16",
           "type": "scatter",
           "x": {
            "bdata": "AQIDBAUGBw==",
            "dtype": "i1"
           },
           "y": {
            "bdata": "AAAAAAAAAAAAAAAAAAAAAAAAAAAAAAAAAAAAAAAAAAAAAAAAAAAAAAAAAAAAAAAAAAAAAAAAAAA=",
            "dtype": "f8"
           }
          },
          {
           "mode": "lines+markers",
           "name": "user_17",
           "type": "scatter",
           "x": {
            "bdata": "AQIDBAUGBw==",
            "dtype": "i1"
           },
           "y": {
            "bdata": "AAAAAAAAAAAAAAAAAADwPwAAAAAAAPA/AAAAAAAA8D8AAAAAAADwPwAAAAAAAPA/AAAAAAAA8D8=",
            "dtype": "f8"
           }
          },
          {
           "mode": "lines+markers",
           "name": "user_18",
           "type": "scatter",
           "x": {
            "bdata": "AQIDBAUGBw==",
            "dtype": "i1"
           },
           "y": {
            "bdata": "AAAAAAAAAAAAAAAAAAAAAAAAAAAAAAAAAAAAAAAAAAAAAAAAAAAAAAAAAAAAAAAAAAAAAAAAAAA=",
            "dtype": "f8"
           }
          },
          {
           "mode": "lines+markers",
           "name": "user_19",
           "type": "scatter",
           "x": {
            "bdata": "AQIDBAUGBw==",
            "dtype": "i1"
           },
           "y": {
            "bdata": "AAAAAAAAAAAAAAAAAAAAAAAAAAAAAAAAAAAAAAAAAAAAAAAAAAAAAAAAAAAAAAAAAAAAAAAAAAA=",
            "dtype": "f8"
           }
          },
          {
           "mode": "lines+markers",
           "name": "user_2",
           "type": "scatter",
           "x": {
            "bdata": "AQIDBAUGBw==",
            "dtype": "i1"
           },
           "y": {
            "bdata": "AAAAAAAAAAAAAAAAAAAAAAAAAAAAAAAAAAAAAAAAAAAAAAAAAAAAAAAAAAAAAAAAAAAAAAAAAAA=",
            "dtype": "f8"
           }
          },
          {
           "mode": "lines+markers",
           "name": "user_20",
           "type": "scatter",
           "x": {
            "bdata": "AQIDBAUGBw==",
            "dtype": "i1"
           },
           "y": {
            "bdata": "AAAAAAAAAAAAAAAAAAAAAAAAAAAAAAAAAAAAAAAAAAAAAAAAAAAAAAAAAAAAAAAAAAAAAAAAAAA=",
            "dtype": "f8"
           }
          },
          {
           "mode": "lines+markers",
           "name": "user_21",
           "type": "scatter",
           "x": {
            "bdata": "AQIDBAUGBw==",
            "dtype": "i1"
           },
           "y": {
            "bdata": "AAAAAAAAAAAAAAAAAAAAAAAAAAAAAAAAAAAAAAAAAAAAAAAAAAAAAAAAAAAAAAAAAAAAAAAAAAA=",
            "dtype": "f8"
           }
          },
          {
           "mode": "lines+markers",
           "name": "user_22",
           "type": "scatter",
           "x": {
            "bdata": "AQIDBAUGBw==",
            "dtype": "i1"
           },
           "y": {
            "bdata": "AAAAAAAAAAAAAAAAAAAAAAAAAAAAAAAAAAAAAAAAAAAAAAAAAAAAAAAAAAAAAAAAAAAAAAAA8D8=",
            "dtype": "f8"
           }
          },
          {
           "mode": "lines+markers",
           "name": "user_24",
           "type": "scatter",
           "x": {
            "bdata": "AQIDBAUGBw==",
            "dtype": "i1"
           },
           "y": {
            "bdata": "AAAAAAAAAAAAAAAAAAAAAAAAAAAAAAAAAAAAAAAAAAAAAAAAAAAAAAAAAAAAAAAAAAAAAAAAAAA=",
            "dtype": "f8"
           }
          },
          {
           "mode": "lines+markers",
           "name": "user_25",
           "type": "scatter",
           "x": {
            "bdata": "AQIDBAUGBw==",
            "dtype": "i1"
           },
           "y": {
            "bdata": "AAAAAAAAAAAAAAAAAAAAAAAAAAAAAAAAAAAAAAAAAAAAAAAAAAAAAAAAAAAAAAAAAAAAAAAAAAA=",
            "dtype": "f8"
           }
          },
          {
           "mode": "lines+markers",
           "name": "user_26",
           "type": "scatter",
           "x": {
            "bdata": "AQIDBAUGBw==",
            "dtype": "i1"
           },
           "y": {
            "bdata": "AAAAAAAAAAAAAAAAAAAAAAAAAAAAAAAAAAAAAAAAAAAAAAAAAAAAAAAAAAAAAAAAAAAAAAAAAAA=",
            "dtype": "f8"
           }
          },
          {
           "mode": "lines+markers",
           "name": "user_27",
           "type": "scatter",
           "x": {
            "bdata": "AQIDBAUGBw==",
            "dtype": "i1"
           },
           "y": {
            "bdata": "AAAAAAAAAAAAAAAAAAAAAAAAAAAAAAAAAAAAAAAAAAAAAAAAAAAAAAAAAAAAAAAAAAAAAAAAAAA=",
            "dtype": "f8"
           }
          },
          {
           "mode": "lines+markers",
           "name": "user_28",
           "type": "scatter",
           "x": {
            "bdata": "AQIDBAUGBw==",
            "dtype": "i1"
           },
           "y": {
            "bdata": "AAAAAAAAAAAAAAAAAAAAAAAAAAAAAAAAAAAAAAAAAAAAAAAAAAAAAAAAAAAAAAAAAAAAAAAAAAA=",
            "dtype": "f8"
           }
          },
          {
           "mode": "lines+markers",
           "name": "user_29",
           "type": "scatter",
           "x": {
            "bdata": "AQIDBAUGBw==",
            "dtype": "i1"
           },
           "y": {
            "bdata": "AAAAAAAAAAAAAAAAAAAAAAAAAAAAAAAAAAAAAAAAAAAAAAAAAAAAAAAAAAAAAAAAAAAAAAAAAAA=",
            "dtype": "f8"
           }
          },
          {
           "mode": "lines+markers",
           "name": "user_3",
           "type": "scatter",
           "x": {
            "bdata": "AQIDBAUGBw==",
            "dtype": "i1"
           },
           "y": {
            "bdata": "AAAAAAAAAAAAAAAAAAAAAAAAAAAAAAAAAAAAAAAAAAAAAAAAAAAAAAAAAAAAAAAAAAAAAAAAAAA=",
            "dtype": "f8"
           }
          },
          {
           "mode": "lines+markers",
           "name": "user_30",
           "type": "scatter",
           "x": {
            "bdata": "AQIDBAUGBw==",
            "dtype": "i1"
           },
           "y": {
            "bdata": "AAAAAAAAAAAAAAAAAAAAAAAAAAAAAAAAAAAAAAAA8D8AAAAAAAAAQAAAAAAAAABAAAAAAAAAEEA=",
            "dtype": "f8"
           }
          },
          {
           "mode": "lines+markers",
           "name": "user_31",
           "type": "scatter",
           "x": {
            "bdata": "AQIDBAUGBw==",
            "dtype": "i1"
           },
           "y": {
            "bdata": "AAAAAAAAAAAAAAAAAAAAAAAAAAAAAAAAAAAAAAAAAAAAAAAAAAAAAAAAAAAAAAAAAAAAAAAAAAA=",
            "dtype": "f8"
           }
          },
          {
           "mode": "lines+markers",
           "name": "user_4",
           "type": "scatter",
           "x": {
            "bdata": "AQIDBAUGBw==",
            "dtype": "i1"
           },
           "y": {
            "bdata": "AAAAAAAAAAAAAAAAAAAcQAAAAAAAACZAAAAAAAAAJkAAAAAAAAA0QAAAAAAAADtAAAAAAACAQUA=",
            "dtype": "f8"
           }
          },
          {
           "mode": "lines+markers",
           "name": "user_6",
           "type": "scatter",
           "x": {
            "bdata": "AQIDBAUGBw==",
            "dtype": "i1"
           },
           "y": {
            "bdata": "AAAAAAAAAAAAAAAAAAAAAAAAAAAAAAAAAAAAAAAAAAAAAAAAAAAAAAAAAAAAAAAAAAAAAAAAAAA=",
            "dtype": "f8"
           }
          },
          {
           "mode": "lines+markers",
           "name": "user_8",
           "type": "scatter",
           "x": {
            "bdata": "AQIDBAUGBw==",
            "dtype": "i1"
           },
           "y": {
            "bdata": "AAAAAAAAAAAAAAAAAAAAAAAAAAAAAAAAAAAAAAAAAAAAAAAAAAAAAAAAAAAAAAAAAAAAAAAAAAA=",
            "dtype": "f8"
           }
          }
         ]
        },
        {
         "data": [
          {
           "mode": "lines+markers",
           "name": "user_1",
           "type": "scatter",
           "x": {
            "bdata": "AQIDBAUGBwg=",
            "dtype": "i1"
           },
           "y": {
            "bdata": "AAAAAAAAAAAAAAAAAAAAAAAAAAAAAAAAAAAAAAAAAAAAAAAAAAAAAAAAAAAAAAAAAAAAAAAAAAAAAAAAAAAAAA==",
            "dtype": "f8"
           }
          },
          {
           "mode": "lines+markers",
           "name": "user_10",
           "type": "scatter",
           "x": {
            "bdata": "AQIDBAUGBwg=",
            "dtype": "i1"
           },
           "y": {
            "bdata": "AAAAAAAAAAAAAAAAAAAAAAAAAAAAAAAAAAAAAAAAAAAAAAAAAAAAAAAAAAAAAAAAAAAAAAAAAAAAAAAAAAAAAA==",
            "dtype": "f8"
           }
          },
          {
           "mode": "lines+markers",
           "name": "user_11",
           "type": "scatter",
           "x": {
            "bdata": "AQIDBAUGBwg=",
            "dtype": "i1"
           },
           "y": {
            "bdata": "AAAAAAAAAAAAAAAAAAAAAAAAAAAAAAAAAAAAAAAAAAAAAAAAAAAAAAAAAAAAAAAAAAAAAAAA8D8AAAAAAADwPw==",
            "dtype": "f8"
           }
          },
          {
           "mode": "lines+markers",
           "name": "user_12",
           "type": "scatter",
           "x": {
            "bdata": "AQIDBAUGBwg=",
            "dtype": "i1"
           },
           "y": {
            "bdata": "AAAAAAAAAAAAAAAAAAAAAAAAAAAAAAAAAAAAAAAAAAAAAAAAAAAAAAAAAAAAAAAAAAAAAAAAAAAAAAAAAAAAAA==",
            "dtype": "f8"
           }
          },
          {
           "mode": "lines+markers",
           "name": "user_13",
           "type": "scatter",
           "x": {
            "bdata": "AQIDBAUGBwg=",
            "dtype": "i1"
           },
           "y": {
            "bdata": "AAAAAAAAAAAAAAAAAAAAAAAAAAAAAAAAAAAAAAAAAAAAAAAAAAAAAAAAAAAAAAAAAAAAAAAAAAAAAAAAAAAAAA==",
            "dtype": "f8"
           }
          },
          {
           "mode": "lines+markers",
           "name": "user_14",
           "type": "scatter",
           "x": {
            "bdata": "AQIDBAUGBwg=",
            "dtype": "i1"
           },
           "y": {
            "bdata": "AAAAAAAAAAAAAAAAAAAAAAAAAAAAAAAAAAAAAAAAAAAAAAAAAAAAAAAAAAAAAAAAAAAAAAAAAAAAAAAAAAAAAA==",
            "dtype": "f8"
           }
          },
          {
           "mode": "lines+markers",
           "name": "user_15",
           "type": "scatter",
           "x": {
            "bdata": "AQIDBAUGBwg=",
            "dtype": "i1"
           },
           "y": {
            "bdata": "AAAAAAAAAAAAAAAAAAAAAAAAAAAAAAAAAAAAAAAAAAAAAAAAAAAAAAAAAAAAAAAAAAAAAAAAAAAAAAAAAAAAAA==",
            "dtype": "f8"
           }
          },
          {
           "mode": "lines+markers",
           "name": "user_16",
           "type": "scatter",
           "x": {
            "bdata": "AQIDBAUGBwg=",
            "dtype": "i1"
           },
           "y": {
            "bdata": "AAAAAAAAAAAAAAAAAAAAAAAAAAAAAAAAAAAAAAAAAAAAAAAAAAAAAAAAAAAAAAAAAAAAAAAAAAAAAAAAAAAAAA==",
            "dtype": "f8"
           }
          },
          {
           "mode": "lines+markers",
           "name": "user_17",
           "type": "scatter",
           "x": {
            "bdata": "AQIDBAUGBwg=",
            "dtype": "i1"
           },
           "y": {
            "bdata": "AAAAAAAAAAAAAAAAAADwPwAAAAAAAPA/AAAAAAAA8D8AAAAAAADwPwAAAAAAAPA/AAAAAAAA8D8AAAAAAADwPw==",
            "dtype": "f8"
           }
          },
          {
           "mode": "lines+markers",
           "name": "user_18",
           "type": "scatter",
           "x": {
            "bdata": "AQIDBAUGBwg=",
            "dtype": "i1"
           },
           "y": {
            "bdata": "AAAAAAAAAAAAAAAAAAAAAAAAAAAAAAAAAAAAAAAAAAAAAAAAAAAAAAAAAAAAAAAAAAAAAAAAAAAAAAAAAAAAAA==",
            "dtype": "f8"
           }
          },
          {
           "mode": "lines+markers",
           "name": "user_19",
           "type": "scatter",
           "x": {
            "bdata": "AQIDBAUGBwg=",
            "dtype": "i1"
           },
           "y": {
            "bdata": "AAAAAAAAAAAAAAAAAAAAAAAAAAAAAAAAAAAAAAAAAAAAAAAAAAAAAAAAAAAAAAAAAAAAAAAAAAAAAAAAAAAAAA==",
            "dtype": "f8"
           }
          },
          {
           "mode": "lines+markers",
           "name": "user_2",
           "type": "scatter",
           "x": {
            "bdata": "AQIDBAUGBwg=",
            "dtype": "i1"
           },
           "y": {
            "bdata": "AAAAAAAAAAAAAAAAAAAAAAAAAAAAAAAAAAAAAAAAAAAAAAAAAAAAAAAAAAAAAAAAAAAAAAAAAAAAAAAAAAAAAA==",
            "dtype": "f8"
           }
          },
          {
           "mode": "lines+markers",
           "name": "user_20",
           "type": "scatter",
           "x": {
            "bdata": "AQIDBAUGBwg=",
            "dtype": "i1"
           },
           "y": {
            "bdata": "AAAAAAAAAAAAAAAAAAAAAAAAAAAAAAAAAAAAAAAAAAAAAAAAAAAAAAAAAAAAAAAAAAAAAAAAAAAAAAAAAAAAAA==",
            "dtype": "f8"
           }
          },
          {
           "mode": "lines+markers",
           "name": "user_21",
           "type": "scatter",
           "x": {
            "bdata": "AQIDBAUGBwg=",
            "dtype": "i1"
           },
           "y": {
            "bdata": "AAAAAAAAAAAAAAAAAAAAAAAAAAAAAAAAAAAAAAAAAAAAAAAAAAAAAAAAAAAAAAAAAAAAAAAAAAAAAAAAAAAAAA==",
            "dtype": "f8"
           }
          },
          {
           "mode": "lines+markers",
           "name": "user_22",
           "type": "scatter",
           "x": {
            "bdata": "AQIDBAUGBwg=",
            "dtype": "i1"
           },
           "y": {
            "bdata": "AAAAAAAAAAAAAAAAAAAAAAAAAAAAAAAAAAAAAAAAAAAAAAAAAAAAAAAAAAAAAAAAAAAAAAAA8D8AAAAAAADwPw==",
            "dtype": "f8"
           }
          },
          {
           "mode": "lines+markers",
           "name": "user_24",
           "type": "scatter",
           "x": {
            "bdata": "AQIDBAUGBwg=",
            "dtype": "i1"
           },
           "y": {
            "bdata": "AAAAAAAAAAAAAAAAAAAAAAAAAAAAAAAAAAAAAAAAAAAAAAAAAAAAAAAAAAAAAAAAAAAAAAAAAAAAAAAAAAAAAA==",
            "dtype": "f8"
           }
          },
          {
           "mode": "lines+markers",
           "name": "user_25",
           "type": "scatter",
           "x": {
            "bdata": "AQIDBAUGBwg=",
            "dtype": "i1"
           },
           "y": {
            "bdata": "AAAAAAAAAAAAAAAAAAAAAAAAAAAAAAAAAAAAAAAAAAAAAAAAAAAAAAAAAAAAAAAAAAAAAAAAAAAAAAAAAAAAAA==",
            "dtype": "f8"
           }
          },
          {
           "mode": "lines+markers",
           "name": "user_26",
           "type": "scatter",
           "x": {
            "bdata": "AQIDBAUGBwg=",
            "dtype": "i1"
           },
           "y": {
            "bdata": "AAAAAAAAAAAAAAAAAAAAAAAAAAAAAAAAAAAAAAAAAAAAAAAAAAAAAAAAAAAAAAAAAAAAAAAAAAAAAAAAAAAAAA==",
            "dtype": "f8"
           }
          },
          {
           "mode": "lines+markers",
           "name": "user_27",
           "type": "scatter",
           "x": {
            "bdata": "AQIDBAUGBwg=",
            "dtype": "i1"
           },
           "y": {
            "bdata": "AAAAAAAAAAAAAAAAAAAAAAAAAAAAAAAAAAAAAAAAAAAAAAAAAAAAAAAAAAAAAAAAAAAAAAAAAAAAAAAAAAAAAA==",
            "dtype": "f8"
           }
          },
          {
           "mode": "lines+markers",
           "name": "user_28",
           "type": "scatter",
           "x": {
            "bdata": "AQIDBAUGBwg=",
            "dtype": "i1"
           },
           "y": {
            "bdata": "AAAAAAAAAAAAAAAAAAAAAAAAAAAAAAAAAAAAAAAAAAAAAAAAAAAAAAAAAAAAAAAAAAAAAAAAAAAAAAAAAAAAAA==",
            "dtype": "f8"
           }
          },
          {
           "mode": "lines+markers",
           "name": "user_29",
           "type": "scatter",
           "x": {
            "bdata": "AQIDBAUGBwg=",
            "dtype": "i1"
           },
           "y": {
            "bdata": "AAAAAAAAAAAAAAAAAAAAAAAAAAAAAAAAAAAAAAAAAAAAAAAAAAAAAAAAAAAAAAAAAAAAAAAAAAAAAAAAAAAAAA==",
            "dtype": "f8"
           }
          },
          {
           "mode": "lines+markers",
           "name": "user_3",
           "type": "scatter",
           "x": {
            "bdata": "AQIDBAUGBwg=",
            "dtype": "i1"
           },
           "y": {
            "bdata": "AAAAAAAAAAAAAAAAAAAAAAAAAAAAAAAAAAAAAAAAAAAAAAAAAAAAAAAAAAAAAAAAAAAAAAAAAAAAAAAAAAAAAA==",
            "dtype": "f8"
           }
          },
          {
           "mode": "lines+markers",
           "name": "user_30",
           "type": "scatter",
           "x": {
            "bdata": "AQIDBAUGBwg=",
            "dtype": "i1"
           },
           "y": {
            "bdata": "AAAAAAAAAAAAAAAAAAAAAAAAAAAAAAAAAAAAAAAA8D8AAAAAAAAAQAAAAAAAAABAAAAAAAAAEEAAAAAAAAAUQA==",
            "dtype": "f8"
           }
          },
          {
           "mode": "lines+markers",
           "name": "user_31",
           "type": "scatter",
           "x": {
            "bdata": "AQIDBAUGBwg=",
            "dtype": "i1"
           },
           "y": {
            "bdata": "AAAAAAAAAAAAAAAAAAAAAAAAAAAAAAAAAAAAAAAAAAAAAAAAAAAAAAAAAAAAAAAAAAAAAAAAAAAAAAAAAAAAAA==",
            "dtype": "f8"
           }
          },
          {
           "mode": "lines+markers",
           "name": "user_4",
           "type": "scatter",
           "x": {
            "bdata": "AQIDBAUGBwg=",
            "dtype": "i1"
           },
           "y": {
            "bdata": "AAAAAAAAAAAAAAAAAAAcQAAAAAAAACZAAAAAAAAAJkAAAAAAAAA0QAAAAAAAADtAAAAAAACAQUAAAAAAAABIQA==",
            "dtype": "f8"
           }
          },
          {
           "mode": "lines+markers",
           "name": "user_6",
           "type": "scatter",
           "x": {
            "bdata": "AQIDBAUGBwg=",
            "dtype": "i1"
           },
           "y": {
            "bdata": "AAAAAAAAAAAAAAAAAAAAAAAAAAAAAAAAAAAAAAAAAAAAAAAAAAAAAAAAAAAAAAAAAAAAAAAAAAAAAAAAAAAAAA==",
            "dtype": "f8"
           }
          },
          {
           "mode": "lines+markers",
           "name": "user_8",
           "type": "scatter",
           "x": {
            "bdata": "AQIDBAUGBwg=",
            "dtype": "i1"
           },
           "y": {
            "bdata": "AAAAAAAAAAAAAAAAAAAAAAAAAAAAAAAAAAAAAAAAAAAAAAAAAAAAAAAAAAAAAAAAAAAAAAAAAAAAAAAAAAAAAA==",
            "dtype": "f8"
           }
          }
         ]
        },
        {
         "data": [
          {
           "mode": "lines+markers",
           "name": "user_1",
           "type": "scatter",
           "x": {
            "bdata": "AQIDBAUGBwgJ",
            "dtype": "i1"
           },
           "y": {
            "bdata": "AAAAAAAAAAAAAAAAAAAAAAAAAAAAAAAAAAAAAAAAAAAAAAAAAAAAAAAAAAAAAAAAAAAAAAAAAAAAAAAAAAAAAAAAAAAAAAAA",
            "dtype": "f8"
           }
          },
          {
           "mode": "lines+markers",
           "name": "user_10",
           "type": "scatter",
           "x": {
            "bdata": "AQIDBAUGBwgJ",
            "dtype": "i1"
           },
           "y": {
            "bdata": "AAAAAAAAAAAAAAAAAAAAAAAAAAAAAAAAAAAAAAAAAAAAAAAAAAAAAAAAAAAAAAAAAAAAAAAAAAAAAAAAAAAAAAAAAAAAAAAA",
            "dtype": "f8"
           }
          },
          {
           "mode": "lines+markers",
           "name": "user_11",
           "type": "scatter",
           "x": {
            "bdata": "AQIDBAUGBwgJ",
            "dtype": "i1"
           },
           "y": {
            "bdata": "AAAAAAAAAAAAAAAAAAAAAAAAAAAAAAAAAAAAAAAAAAAAAAAAAAAAAAAAAAAAAAAAAAAAAAAA8D8AAAAAAADwPwAAAAAAAPA/",
            "dtype": "f8"
           }
          },
          {
           "mode": "lines+markers",
           "name": "user_12",
           "type": "scatter",
           "x": {
            "bdata": "AQIDBAUGBwgJ",
            "dtype": "i1"
           },
           "y": {
            "bdata": "AAAAAAAAAAAAAAAAAAAAAAAAAAAAAAAAAAAAAAAAAAAAAAAAAAAAAAAAAAAAAAAAAAAAAAAAAAAAAAAAAAAAAAAAAAAAAAAA",
            "dtype": "f8"
           }
          },
          {
           "mode": "lines+markers",
           "name": "user_13",
           "type": "scatter",
           "x": {
            "bdata": "AQIDBAUGBwgJ",
            "dtype": "i1"
           },
           "y": {
            "bdata": "AAAAAAAAAAAAAAAAAAAAAAAAAAAAAAAAAAAAAAAAAAAAAAAAAAAAAAAAAAAAAAAAAAAAAAAAAAAAAAAAAAAAAAAAAAAAAAAA",
            "dtype": "f8"
           }
          },
          {
           "mode": "lines+markers",
           "name": "user_14",
           "type": "scatter",
           "x": {
            "bdata": "AQIDBAUGBwgJ",
            "dtype": "i1"
           },
           "y": {
            "bdata": "AAAAAAAAAAAAAAAAAAAAAAAAAAAAAAAAAAAAAAAAAAAAAAAAAAAAAAAAAAAAAAAAAAAAAAAAAAAAAAAAAAAAAAAAAAAAAPA/",
            "dtype": "f8"
           }
          },
          {
           "mode": "lines+markers",
           "name": "user_15",
           "type": "scatter",
           "x": {
            "bdata": "AQIDBAUGBwgJ",
            "dtype": "i1"
           },
           "y": {
            "bdata": "AAAAAAAAAAAAAAAAAAAAAAAAAAAAAAAAAAAAAAAAAAAAAAAAAAAAAAAAAAAAAAAAAAAAAAAAAAAAAAAAAAAAAAAAAAAAAAAA",
            "dtype": "f8"
           }
          },
          {
           "mode": "lines+markers",
           "name": "user_16",
           "type": "scatter",
           "x": {
            "bdata": "AQIDBAUGBwgJ",
            "dtype": "i1"
           },
           "y": {
            "bdata": "AAAAAAAAAAAAAAAAAAAAAAAAAAAAAAAAAAAAAAAAAAAAAAAAAAAAAAAAAAAAAAAAAAAAAAAAAAAAAAAAAAAAAAAAAAAAAAAA",
            "dtype": "f8"
           }
          },
          {
           "mode": "lines+markers",
           "name": "user_17",
           "type": "scatter",
           "x": {
            "bdata": "AQIDBAUGBwgJ",
            "dtype": "i1"
           },
           "y": {
            "bdata": "AAAAAAAAAAAAAAAAAADwPwAAAAAAAPA/AAAAAAAA8D8AAAAAAADwPwAAAAAAAPA/AAAAAAAA8D8AAAAAAADwPwAAAAAAAPA/",
            "dtype": "f8"
           }
          },
          {
           "mode": "lines+markers",
           "name": "user_18",
           "type": "scatter",
           "x": {
            "bdata": "AQIDBAUGBwgJ",
            "dtype": "i1"
           },
           "y": {
            "bdata": "AAAAAAAAAAAAAAAAAAAAAAAAAAAAAAAAAAAAAAAAAAAAAAAAAAAAAAAAAAAAAAAAAAAAAAAAAAAAAAAAAAAAAAAAAAAAAAAA",
            "dtype": "f8"
           }
          },
          {
           "mode": "lines+markers",
           "name": "user_19",
           "type": "scatter",
           "x": {
            "bdata": "AQIDBAUGBwgJ",
            "dtype": "i1"
           },
           "y": {
            "bdata": "AAAAAAAAAAAAAAAAAAAAAAAAAAAAAAAAAAAAAAAAAAAAAAAAAAAAAAAAAAAAAAAAAAAAAAAAAAAAAAAAAAAAAAAAAAAAAAAA",
            "dtype": "f8"
           }
          },
          {
           "mode": "lines+markers",
           "name": "user_2",
           "type": "scatter",
           "x": {
            "bdata": "AQIDBAUGBwgJ",
            "dtype": "i1"
           },
           "y": {
            "bdata": "AAAAAAAAAAAAAAAAAAAAAAAAAAAAAAAAAAAAAAAAAAAAAAAAAAAAAAAAAAAAAAAAAAAAAAAAAAAAAAAAAAAAAAAAAAAAgExA",
            "dtype": "f8"
           }
          },
          {
           "mode": "lines+markers",
           "name": "user_20",
           "type": "scatter",
           "x": {
            "bdata": "AQIDBAUGBwgJ",
            "dtype": "i1"
           },
           "y": {
            "bdata": "AAAAAAAAAAAAAAAAAAAAAAAAAAAAAAAAAAAAAAAAAAAAAAAAAAAAAAAAAAAAAAAAAAAAAAAAAAAAAAAAAAAAAAAAAAAAAAAA",
            "dtype": "f8"
           }
          },
          {
           "mode": "lines+markers",
           "name": "user_21",
           "type": "scatter",
           "x": {
            "bdata": "AQIDBAUGBwgJ",
            "dtype": "i1"
           },
           "y": {
            "bdata": "AAAAAAAAAAAAAAAAAAAAAAAAAAAAAAAAAAAAAAAAAAAAAAAAAAAAAAAAAAAAAAAAAAAAAAAAAAAAAAAAAAAAAAAAAAAAAAAA",
            "dtype": "f8"
           }
          },
          {
           "mode": "lines+markers",
           "name": "user_22",
           "type": "scatter",
           "x": {
            "bdata": "AQIDBAUGBwgJ",
            "dtype": "i1"
           },
           "y": {
            "bdata": "AAAAAAAAAAAAAAAAAAAAAAAAAAAAAAAAAAAAAAAAAAAAAAAAAAAAAAAAAAAAAAAAAAAAAAAA8D8AAAAAAADwPwAAAAAAAPA/",
            "dtype": "f8"
           }
          },
          {
           "mode": "lines+markers",
           "name": "user_24",
           "type": "scatter",
           "x": {
            "bdata": "AQIDBAUGBwgJ",
            "dtype": "i1"
           },
           "y": {
            "bdata": "AAAAAAAAAAAAAAAAAAAAAAAAAAAAAAAAAAAAAAAAAAAAAAAAAAAAAAAAAAAAAAAAAAAAAAAAAAAAAAAAAAAAAAAAAAAAAAAA",
            "dtype": "f8"
           }
          },
          {
           "mode": "lines+markers",
           "name": "user_25",
           "type": "scatter",
           "x": {
            "bdata": "AQIDBAUGBwgJ",
            "dtype": "i1"
           },
           "y": {
            "bdata": "AAAAAAAAAAAAAAAAAAAAAAAAAAAAAAAAAAAAAAAAAAAAAAAAAAAAAAAAAAAAAAAAAAAAAAAAAAAAAAAAAAAAAAAAAAAAAAAA",
            "dtype": "f8"
           }
          },
          {
           "mode": "lines+markers",
           "name": "user_26",
           "type": "scatter",
           "x": {
            "bdata": "AQIDBAUGBwgJ",
            "dtype": "i1"
           },
           "y": {
            "bdata": "AAAAAAAAAAAAAAAAAAAAAAAAAAAAAAAAAAAAAAAAAAAAAAAAAAAAAAAAAAAAAAAAAAAAAAAAAAAAAAAAAAAAAAAAAAAAAAAA",
            "dtype": "f8"
           }
          },
          {
           "mode": "lines+markers",
           "name": "user_27",
           "type": "scatter",
           "x": {
            "bdata": "AQIDBAUGBwgJ",
            "dtype": "i1"
           },
           "y": {
            "bdata": "AAAAAAAAAAAAAAAAAAAAAAAAAAAAAAAAAAAAAAAAAAAAAAAAAAAAAAAAAAAAAAAAAAAAAAAAAAAAAAAAAAAAAAAAAAAAAAAA",
            "dtype": "f8"
           }
          },
          {
           "mode": "lines+markers",
           "name": "user_28",
           "type": "scatter",
           "x": {
            "bdata": "AQIDBAUGBwgJ",
            "dtype": "i1"
           },
           "y": {
            "bdata": "AAAAAAAAAAAAAAAAAAAAAAAAAAAAAAAAAAAAAAAAAAAAAAAAAAAAAAAAAAAAAAAAAAAAAAAAAAAAAAAAAAAAAAAAAAAAAAAA",
            "dtype": "f8"
           }
          },
          {
           "mode": "lines+markers",
           "name": "user_29",
           "type": "scatter",
           "x": {
            "bdata": "AQIDBAUGBwgJ",
            "dtype": "i1"
           },
           "y": {
            "bdata": "AAAAAAAAAAAAAAAAAAAAAAAAAAAAAAAAAAAAAAAAAAAAAAAAAAAAAAAAAAAAAAAAAAAAAAAAAAAAAAAAAAAAAAAAAAAAAAAA",
            "dtype": "f8"
           }
          },
          {
           "mode": "lines+markers",
           "name": "user_3",
           "type": "scatter",
           "x": {
            "bdata": "AQIDBAUGBwgJ",
            "dtype": "i1"
           },
           "y": {
            "bdata": "AAAAAAAAAAAAAAAAAAAAAAAAAAAAAAAAAAAAAAAAAAAAAAAAAAAAAAAAAAAAAAAAAAAAAAAAAAAAAAAAAAAAAAAAAAAAAAAA",
            "dtype": "f8"
           }
          },
          {
           "mode": "lines+markers",
           "name": "user_30",
           "type": "scatter",
           "x": {
            "bdata": "AQIDBAUGBwgJ",
            "dtype": "i1"
           },
           "y": {
            "bdata": "AAAAAAAAAAAAAAAAAAAAAAAAAAAAAAAAAAAAAAAA8D8AAAAAAAAAQAAAAAAAAABAAAAAAAAAEEAAAAAAAAAUQAAAAAAAABRA",
            "dtype": "f8"
           }
          },
          {
           "mode": "lines+markers",
           "name": "user_31",
           "type": "scatter",
           "x": {
            "bdata": "AQIDBAUGBwgJ",
            "dtype": "i1"
           },
           "y": {
            "bdata": "AAAAAAAAAAAAAAAAAAAAAAAAAAAAAAAAAAAAAAAAAAAAAAAAAAAAAAAAAAAAAAAAAAAAAAAAAAAAAAAAAAAAAAAAAAAAAAAA",
            "dtype": "f8"
           }
          },
          {
           "mode": "lines+markers",
           "name": "user_4",
           "type": "scatter",
           "x": {
            "bdata": "AQIDBAUGBwgJ",
            "dtype": "i1"
           },
           "y": {
            "bdata": "AAAAAAAAAAAAAAAAAAAcQAAAAAAAACZAAAAAAAAAJkAAAAAAAAA0QAAAAAAAADtAAAAAAACAQUAAAAAAAABIQAAAAAAAgEpA",
            "dtype": "f8"
           }
          },
          {
           "mode": "lines+markers",
           "name": "user_6",
           "type": "scatter",
           "x": {
            "bdata": "AQIDBAUGBwgJ",
            "dtype": "i1"
           },
           "y": {
            "bdata": "AAAAAAAAAAAAAAAAAAAAAAAAAAAAAAAAAAAAAAAAAAAAAAAAAAAAAAAAAAAAAAAAAAAAAAAAAAAAAAAAAAAAAAAAAAAAAAAA",
            "dtype": "f8"
           }
          },
          {
           "mode": "lines+markers",
           "name": "user_8",
           "type": "scatter",
           "x": {
            "bdata": "AQIDBAUGBwgJ",
            "dtype": "i1"
           },
           "y": {
            "bdata": "AAAAAAAAAAAAAAAAAAAAAAAAAAAAAAAAAAAAAAAAAAAAAAAAAAAAAAAAAAAAAAAAAAAAAAAAAAAAAAAAAAAAAAAAAAAAAAAA",
            "dtype": "f8"
           }
          }
         ]
        },
        {
         "data": [
          {
           "mode": "lines+markers",
           "name": "user_1",
           "type": "scatter",
           "x": {
            "bdata": "AQIDBAUGBwgJCg==",
            "dtype": "i1"
           },
           "y": {
            "bdata": "AAAAAAAAAAAAAAAAAAAAAAAAAAAAAAAAAAAAAAAAAAAAAAAAAAAAAAAAAAAAAAAAAAAAAAAAAAAAAAAAAAAAAAAAAAAAAAAAAAAAAAAAAAA=",
            "dtype": "f8"
           }
          },
          {
           "mode": "lines+markers",
           "name": "user_10",
           "type": "scatter",
           "x": {
            "bdata": "AQIDBAUGBwgJCg==",
            "dtype": "i1"
           },
           "y": {
            "bdata": "AAAAAAAAAAAAAAAAAAAAAAAAAAAAAAAAAAAAAAAAAAAAAAAAAAAAAAAAAAAAAAAAAAAAAAAAAAAAAAAAAAAAAAAAAAAAAAAAAAAAAAAAAAA=",
            "dtype": "f8"
           }
          },
          {
           "mode": "lines+markers",
           "name": "user_11",
           "type": "scatter",
           "x": {
            "bdata": "AQIDBAUGBwgJCg==",
            "dtype": "i1"
           },
           "y": {
            "bdata": "AAAAAAAAAAAAAAAAAAAAAAAAAAAAAAAAAAAAAAAAAAAAAAAAAAAAAAAAAAAAAAAAAAAAAAAA8D8AAAAAAADwPwAAAAAAAPA/AAAAAAAA8D8=",
            "dtype": "f8"
           }
          },
          {
           "mode": "lines+markers",
           "name": "user_12",
           "type": "scatter",
           "x": {
            "bdata": "AQIDBAUGBwgJCg==",
            "dtype": "i1"
           },
           "y": {
            "bdata": "AAAAAAAAAAAAAAAAAAAAAAAAAAAAAAAAAAAAAAAAAAAAAAAAAAAAAAAAAAAAAAAAAAAAAAAAAAAAAAAAAAAAAAAAAAAAAAAAAAAAAAAAAAA=",
            "dtype": "f8"
           }
          },
          {
           "mode": "lines+markers",
           "name": "user_13",
           "type": "scatter",
           "x": {
            "bdata": "AQIDBAUGBwgJCg==",
            "dtype": "i1"
           },
           "y": {
            "bdata": "AAAAAAAAAAAAAAAAAAAAAAAAAAAAAAAAAAAAAAAAAAAAAAAAAAAAAAAAAAAAAAAAAAAAAAAAAAAAAAAAAAAAAAAAAAAAAAAAAAAAAAAAAAA=",
            "dtype": "f8"
           }
          },
          {
           "mode": "lines+markers",
           "name": "user_14",
           "type": "scatter",
           "x": {
            "bdata": "AQIDBAUGBwgJCg==",
            "dtype": "i1"
           },
           "y": {
            "bdata": "AAAAAAAAAAAAAAAAAAAAAAAAAAAAAAAAAAAAAAAAAAAAAAAAAAAAAAAAAAAAAAAAAAAAAAAAAAAAAAAAAAAAAAAAAAAAAPA/AAAAAAAA8D8=",
            "dtype": "f8"
           }
          },
          {
           "mode": "lines+markers",
           "name": "user_15",
           "type": "scatter",
           "x": {
            "bdata": "AQIDBAUGBwgJCg==",
            "dtype": "i1"
           },
           "y": {
            "bdata": "AAAAAAAAAAAAAAAAAAAAAAAAAAAAAAAAAAAAAAAAAAAAAAAAAAAAAAAAAAAAAAAAAAAAAAAAAAAAAAAAAAAAAAAAAAAAAAAAAAAAAAAAAAA=",
            "dtype": "f8"
           }
          },
          {
           "mode": "lines+markers",
           "name": "user_16",
           "type": "scatter",
           "x": {
            "bdata": "AQIDBAUGBwgJCg==",
            "dtype": "i1"
           },
           "y": {
            "bdata": "AAAAAAAAAAAAAAAAAAAAAAAAAAAAAAAAAAAAAAAAAAAAAAAAAAAAAAAAAAAAAAAAAAAAAAAAAAAAAAAAAAAAAAAAAAAAAAAAAAAAAAAAAAA=",
            "dtype": "f8"
           }
          },
          {
           "mode": "lines+markers",
           "name": "user_17",
           "type": "scatter",
           "x": {
            "bdata": "AQIDBAUGBwgJCg==",
            "dtype": "i1"
           },
           "y": {
            "bdata": "AAAAAAAAAAAAAAAAAADwPwAAAAAAAPA/AAAAAAAA8D8AAAAAAADwPwAAAAAAAPA/AAAAAAAA8D8AAAAAAADwPwAAAAAAAPA/AAAAAAAA8D8=",
            "dtype": "f8"
           }
          },
          {
           "mode": "lines+markers",
           "name": "user_18",
           "type": "scatter",
           "x": {
            "bdata": "AQIDBAUGBwgJCg==",
            "dtype": "i1"
           },
           "y": {
            "bdata": "AAAAAAAAAAAAAAAAAAAAAAAAAAAAAAAAAAAAAAAAAAAAAAAAAAAAAAAAAAAAAAAAAAAAAAAAAAAAAAAAAAAAAAAAAAAAAAAAAAAAAAAAAAA=",
            "dtype": "f8"
           }
          },
          {
           "mode": "lines+markers",
           "name": "user_19",
           "type": "scatter",
           "x": {
            "bdata": "AQIDBAUGBwgJCg==",
            "dtype": "i1"
           },
           "y": {
            "bdata": "AAAAAAAAAAAAAAAAAAAAAAAAAAAAAAAAAAAAAAAAAAAAAAAAAAAAAAAAAAAAAAAAAAAAAAAAAAAAAAAAAAAAAAAAAAAAAAAAAAAAAAAAAAA=",
            "dtype": "f8"
           }
          },
          {
           "mode": "lines+markers",
           "name": "user_2",
           "type": "scatter",
           "x": {
            "bdata": "AQIDBAUGBwgJCg==",
            "dtype": "i1"
           },
           "y": {
            "bdata": "AAAAAAAAAAAAAAAAAAAAAAAAAAAAAAAAAAAAAAAAAAAAAAAAAAAAAAAAAAAAAAAAAAAAAAAAAAAAAAAAAAAAAAAAAAAAgExAAAAAAAAATUA=",
            "dtype": "f8"
           }
          },
          {
           "mode": "lines+markers",
           "name": "user_20",
           "type": "scatter",
           "x": {
            "bdata": "AQIDBAUGBwgJCg==",
            "dtype": "i1"
           },
           "y": {
            "bdata": "AAAAAAAAAAAAAAAAAAAAAAAAAAAAAAAAAAAAAAAAAAAAAAAAAAAAAAAAAAAAAAAAAAAAAAAAAAAAAAAAAAAAAAAAAAAAAAAAAAAAAAAAAAA=",
            "dtype": "f8"
           }
          },
          {
           "mode": "lines+markers",
           "name": "user_21",
           "type": "scatter",
           "x": {
            "bdata": "AQIDBAUGBwgJCg==",
            "dtype": "i1"
           },
           "y": {
            "bdata": "AAAAAAAAAAAAAAAAAAAAAAAAAAAAAAAAAAAAAAAAAAAAAAAAAAAAAAAAAAAAAAAAAAAAAAAAAAAAAAAAAAAAAAAAAAAAAAAAAAAAAAAAAAA=",
            "dtype": "f8"
           }
          },
          {
           "mode": "lines+markers",
           "name": "user_22",
           "type": "scatter",
           "x": {
            "bdata": "AQIDBAUGBwgJCg==",
            "dtype": "i1"
           },
           "y": {
            "bdata": "AAAAAAAAAAAAAAAAAAAAAAAAAAAAAAAAAAAAAAAAAAAAAAAAAAAAAAAAAAAAAAAAAAAAAAAA8D8AAAAAAADwPwAAAAAAAPA/AAAAAAAA8D8=",
            "dtype": "f8"
           }
          },
          {
           "mode": "lines+markers",
           "name": "user_24",
           "type": "scatter",
           "x": {
            "bdata": "AQIDBAUGBwgJCg==",
            "dtype": "i1"
           },
           "y": {
            "bdata": "AAAAAAAAAAAAAAAAAAAAAAAAAAAAAAAAAAAAAAAAAAAAAAAAAAAAAAAAAAAAAAAAAAAAAAAAAAAAAAAAAAAAAAAAAAAAAAAAAAAAAAAAAAA=",
            "dtype": "f8"
           }
          },
          {
           "mode": "lines+markers",
           "name": "user_25",
           "type": "scatter",
           "x": {
            "bdata": "AQIDBAUGBwgJCg==",
            "dtype": "i1"
           },
           "y": {
            "bdata": "AAAAAAAAAAAAAAAAAAAAAAAAAAAAAAAAAAAAAAAAAAAAAAAAAAAAAAAAAAAAAAAAAAAAAAAAAAAAAAAAAAAAAAAAAAAAAAAAAAAAAAAAAAA=",
            "dtype": "f8"
           }
          },
          {
           "mode": "lines+markers",
           "name": "user_26",
           "type": "scatter",
           "x": {
            "bdata": "AQIDBAUGBwgJCg==",
            "dtype": "i1"
           },
           "y": {
            "bdata": "AAAAAAAAAAAAAAAAAAAAAAAAAAAAAAAAAAAAAAAAAAAAAAAAAAAAAAAAAAAAAAAAAAAAAAAAAAAAAAAAAAAAAAAAAAAAAAAAAAAAAAAAAAA=",
            "dtype": "f8"
           }
          },
          {
           "mode": "lines+markers",
           "name": "user_27",
           "type": "scatter",
           "x": {
            "bdata": "AQIDBAUGBwgJCg==",
            "dtype": "i1"
           },
           "y": {
            "bdata": "AAAAAAAAAAAAAAAAAAAAAAAAAAAAAAAAAAAAAAAAAAAAAAAAAAAAAAAAAAAAAAAAAAAAAAAAAAAAAAAAAAAAAAAAAAAAAAAAAAAAAAAAAAA=",
            "dtype": "f8"
           }
          },
          {
           "mode": "lines+markers",
           "name": "user_28",
           "type": "scatter",
           "x": {
            "bdata": "AQIDBAUGBwgJCg==",
            "dtype": "i1"
           },
           "y": {
            "bdata": "AAAAAAAAAAAAAAAAAAAAAAAAAAAAAAAAAAAAAAAAAAAAAAAAAAAAAAAAAAAAAAAAAAAAAAAAAAAAAAAAAAAAAAAAAAAAAAAAAAAAAAAAAAA=",
            "dtype": "f8"
           }
          },
          {
           "mode": "lines+markers",
           "name": "user_29",
           "type": "scatter",
           "x": {
            "bdata": "AQIDBAUGBwgJCg==",
            "dtype": "i1"
           },
           "y": {
            "bdata": "AAAAAAAAAAAAAAAAAAAAAAAAAAAAAAAAAAAAAAAAAAAAAAAAAAAAAAAAAAAAAAAAAAAAAAAAAAAAAAAAAAAAAAAAAAAAAAAAAAAAAAAAAAA=",
            "dtype": "f8"
           }
          },
          {
           "mode": "lines+markers",
           "name": "user_3",
           "type": "scatter",
           "x": {
            "bdata": "AQIDBAUGBwgJCg==",
            "dtype": "i1"
           },
           "y": {
            "bdata": "AAAAAAAAAAAAAAAAAAAAAAAAAAAAAAAAAAAAAAAAAAAAAAAAAAAAAAAAAAAAAAAAAAAAAAAAAAAAAAAAAAAAAAAAAAAAAAAAAAAAAAAAAAA=",
            "dtype": "f8"
           }
          },
          {
           "mode": "lines+markers",
           "name": "user_30",
           "type": "scatter",
           "x": {
            "bdata": "AQIDBAUGBwgJCg==",
            "dtype": "i1"
           },
           "y": {
            "bdata": "AAAAAAAAAAAAAAAAAAAAAAAAAAAAAAAAAAAAAAAA8D8AAAAAAAAAQAAAAAAAAABAAAAAAAAAEEAAAAAAAAAUQAAAAAAAABRAAAAAAAAAFEA=",
            "dtype": "f8"
           }
          },
          {
           "mode": "lines+markers",
           "name": "user_31",
           "type": "scatter",
           "x": {
            "bdata": "AQIDBAUGBwgJCg==",
            "dtype": "i1"
           },
           "y": {
            "bdata": "AAAAAAAAAAAAAAAAAAAAAAAAAAAAAAAAAAAAAAAAAAAAAAAAAAAAAAAAAAAAAAAAAAAAAAAAAAAAAAAAAAAAAAAAAAAAAAAAAAAAAAAAAAA=",
            "dtype": "f8"
           }
          },
          {
           "mode": "lines+markers",
           "name": "user_4",
           "type": "scatter",
           "x": {
            "bdata": "AQIDBAUGBwgJCg==",
            "dtype": "i1"
           },
           "y": {
            "bdata": "AAAAAAAAAAAAAAAAAAAcQAAAAAAAACZAAAAAAAAAJkAAAAAAAAA0QAAAAAAAADtAAAAAAACAQUAAAAAAAABIQAAAAAAAgEpAAAAAAACASkA=",
            "dtype": "f8"
           }
          },
          {
           "mode": "lines+markers",
           "name": "user_6",
           "type": "scatter",
           "x": {
            "bdata": "AQIDBAUGBwgJCg==",
            "dtype": "i1"
           },
           "y": {
            "bdata": "AAAAAAAAAAAAAAAAAAAAAAAAAAAAAAAAAAAAAAAAAAAAAAAAAAAAAAAAAAAAAAAAAAAAAAAAAAAAAAAAAAAAAAAAAAAAAAAAAAAAAAAAAAA=",
            "dtype": "f8"
           }
          },
          {
           "mode": "lines+markers",
           "name": "user_8",
           "type": "scatter",
           "x": {
            "bdata": "AQIDBAUGBwgJCg==",
            "dtype": "i1"
           },
           "y": {
            "bdata": "AAAAAAAAAAAAAAAAAAAAAAAAAAAAAAAAAAAAAAAAAAAAAAAAAAAAAAAAAAAAAAAAAAAAAAAAAAAAAAAAAAAAAAAAAAAAAAAAAAAAAAAAAAA=",
            "dtype": "f8"
           }
          }
         ]
        },
        {
         "data": [
          {
           "mode": "lines+markers",
           "name": "user_1",
           "type": "scatter",
           "x": {
            "bdata": "AQIDBAUGBwgJCgs=",
            "dtype": "i1"
           },
           "y": {
            "bdata": "AAAAAAAAAAAAAAAAAAAAAAAAAAAAAAAAAAAAAAAAAAAAAAAAAAAAAAAAAAAAAAAAAAAAAAAAAAAAAAAAAAAAAAAAAAAAAAAAAAAAAAAAAAAAAAAAAAAAAA==",
            "dtype": "f8"
           }
          },
          {
           "mode": "lines+markers",
           "name": "user_10",
           "type": "scatter",
           "x": {
            "bdata": "AQIDBAUGBwgJCgs=",
            "dtype": "i1"
           },
           "y": {
            "bdata": "AAAAAAAAAAAAAAAAAAAAAAAAAAAAAAAAAAAAAAAAAAAAAAAAAAAAAAAAAAAAAAAAAAAAAAAAAAAAAAAAAAAAAAAAAAAAAAAAAAAAAAAAAAAAAAAAAAAAAA==",
            "dtype": "f8"
           }
          },
          {
           "mode": "lines+markers",
           "name": "user_11",
           "type": "scatter",
           "x": {
            "bdata": "AQIDBAUGBwgJCgs=",
            "dtype": "i1"
           },
           "y": {
            "bdata": "AAAAAAAAAAAAAAAAAAAAAAAAAAAAAAAAAAAAAAAAAAAAAAAAAAAAAAAAAAAAAAAAAAAAAAAA8D8AAAAAAADwPwAAAAAAAPA/AAAAAAAA8D8AAAAAAADwPw==",
            "dtype": "f8"
           }
          },
          {
           "mode": "lines+markers",
           "name": "user_12",
           "type": "scatter",
           "x": {
            "bdata": "AQIDBAUGBwgJCgs=",
            "dtype": "i1"
           },
           "y": {
            "bdata": "AAAAAAAAAAAAAAAAAAAAAAAAAAAAAAAAAAAAAAAAAAAAAAAAAAAAAAAAAAAAAAAAAAAAAAAAAAAAAAAAAAAAAAAAAAAAAAAAAAAAAAAAAAAAAAAAAAAAAA==",
            "dtype": "f8"
           }
          },
          {
           "mode": "lines+markers",
           "name": "user_13",
           "type": "scatter",
           "x": {
            "bdata": "AQIDBAUGBwgJCgs=",
            "dtype": "i1"
           },
           "y": {
            "bdata": "AAAAAAAAAAAAAAAAAAAAAAAAAAAAAAAAAAAAAAAAAAAAAAAAAAAAAAAAAAAAAAAAAAAAAAAAAAAAAAAAAAAAAAAAAAAAAAAAAAAAAAAAAAAAAAAAAAAAAA==",
            "dtype": "f8"
           }
          },
          {
           "mode": "lines+markers",
           "name": "user_14",
           "type": "scatter",
           "x": {
            "bdata": "AQIDBAUGBwgJCgs=",
            "dtype": "i1"
           },
           "y": {
            "bdata": "AAAAAAAAAAAAAAAAAAAAAAAAAAAAAAAAAAAAAAAAAAAAAAAAAAAAAAAAAAAAAAAAAAAAAAAAAAAAAAAAAAAAAAAAAAAAAPA/AAAAAAAA8D8AAAAAAADwPw==",
            "dtype": "f8"
           }
          },
          {
           "mode": "lines+markers",
           "name": "user_15",
           "type": "scatter",
           "x": {
            "bdata": "AQIDBAUGBwgJCgs=",
            "dtype": "i1"
           },
           "y": {
            "bdata": "AAAAAAAAAAAAAAAAAAAAAAAAAAAAAAAAAAAAAAAAAAAAAAAAAAAAAAAAAAAAAAAAAAAAAAAAAAAAAAAAAAAAAAAAAAAAAAAAAAAAAAAAAAAAAAAAAAAAAA==",
            "dtype": "f8"
           }
          },
          {
           "mode": "lines+markers",
           "name": "user_16",
           "type": "scatter",
           "x": {
            "bdata": "AQIDBAUGBwgJCgs=",
            "dtype": "i1"
           },
           "y": {
            "bdata": "AAAAAAAAAAAAAAAAAAAAAAAAAAAAAAAAAAAAAAAAAAAAAAAAAAAAAAAAAAAAAAAAAAAAAAAAAAAAAAAAAAAAAAAAAAAAAAAAAAAAAAAAAAAAAAAAAAAAAA==",
            "dtype": "f8"
           }
          },
          {
           "mode": "lines+markers",
           "name": "user_17",
           "type": "scatter",
           "x": {
            "bdata": "AQIDBAUGBwgJCgs=",
            "dtype": "i1"
           },
           "y": {
            "bdata": "AAAAAAAAAAAAAAAAAADwPwAAAAAAAPA/AAAAAAAA8D8AAAAAAADwPwAAAAAAAPA/AAAAAAAA8D8AAAAAAADwPwAAAAAAAPA/AAAAAAAA8D8AAAAAAADwPw==",
            "dtype": "f8"
           }
          },
          {
           "mode": "lines+markers",
           "name": "user_18",
           "type": "scatter",
           "x": {
            "bdata": "AQIDBAUGBwgJCgs=",
            "dtype": "i1"
           },
           "y": {
            "bdata": "AAAAAAAAAAAAAAAAAAAAAAAAAAAAAAAAAAAAAAAAAAAAAAAAAAAAAAAAAAAAAAAAAAAAAAAAAAAAAAAAAAAAAAAAAAAAAAAAAAAAAAAAAAAAAAAAAAAAAA==",
            "dtype": "f8"
           }
          },
          {
           "mode": "lines+markers",
           "name": "user_19",
           "type": "scatter",
           "x": {
            "bdata": "AQIDBAUGBwgJCgs=",
            "dtype": "i1"
           },
           "y": {
            "bdata": "AAAAAAAAAAAAAAAAAAAAAAAAAAAAAAAAAAAAAAAAAAAAAAAAAAAAAAAAAAAAAAAAAAAAAAAAAAAAAAAAAAAAAAAAAAAAAAAAAAAAAAAAAAAAAAAAAAAAAA==",
            "dtype": "f8"
           }
          },
          {
           "mode": "lines+markers",
           "name": "user_2",
           "type": "scatter",
           "x": {
            "bdata": "AQIDBAUGBwgJCgs=",
            "dtype": "i1"
           },
           "y": {
            "bdata": "AAAAAAAAAAAAAAAAAAAAAAAAAAAAAAAAAAAAAAAAAAAAAAAAAAAAAAAAAAAAAAAAAAAAAAAAAAAAAAAAAAAAAAAAAAAAgExAAAAAAAAATUAAAAAAAABNQA==",
            "dtype": "f8"
           }
          },
          {
           "mode": "lines+markers",
           "name": "user_20",
           "type": "scatter",
           "x": {
            "bdata": "AQIDBAUGBwgJCgs=",
            "dtype": "i1"
           },
           "y": {
            "bdata": "AAAAAAAAAAAAAAAAAAAAAAAAAAAAAAAAAAAAAAAAAAAAAAAAAAAAAAAAAAAAAAAAAAAAAAAAAAAAAAAAAAAAAAAAAAAAAAAAAAAAAAAAAAAAAAAAAAAAAA==",
            "dtype": "f8"
           }
          },
          {
           "mode": "lines+markers",
           "name": "user_21",
           "type": "scatter",
           "x": {
            "bdata": "AQIDBAUGBwgJCgs=",
            "dtype": "i1"
           },
           "y": {
            "bdata": "AAAAAAAAAAAAAAAAAAAAAAAAAAAAAAAAAAAAAAAAAAAAAAAAAAAAAAAAAAAAAAAAAAAAAAAAAAAAAAAAAAAAAAAAAAAAAAAAAAAAAAAAAAAAAAAAAAAAAA==",
            "dtype": "f8"
           }
          },
          {
           "mode": "lines+markers",
           "name": "user_22",
           "type": "scatter",
           "x": {
            "bdata": "AQIDBAUGBwgJCgs=",
            "dtype": "i1"
           },
           "y": {
            "bdata": "AAAAAAAAAAAAAAAAAAAAAAAAAAAAAAAAAAAAAAAAAAAAAAAAAAAAAAAAAAAAAAAAAAAAAAAA8D8AAAAAAADwPwAAAAAAAPA/AAAAAAAA8D8AAAAAAADwPw==",
            "dtype": "f8"
           }
          },
          {
           "mode": "lines+markers",
           "name": "user_24",
           "type": "scatter",
           "x": {
            "bdata": "AQIDBAUGBwgJCgs=",
            "dtype": "i1"
           },
           "y": {
            "bdata": "AAAAAAAAAAAAAAAAAAAAAAAAAAAAAAAAAAAAAAAAAAAAAAAAAAAAAAAAAAAAAAAAAAAAAAAAAAAAAAAAAAAAAAAAAAAAAAAAAAAAAAAAAAAAAAAAAAAAAA==",
            "dtype": "f8"
           }
          },
          {
           "mode": "lines+markers",
           "name": "user_25",
           "type": "scatter",
           "x": {
            "bdata": "AQIDBAUGBwgJCgs=",
            "dtype": "i1"
           },
           "y": {
            "bdata": "AAAAAAAAAAAAAAAAAAAAAAAAAAAAAAAAAAAAAAAAAAAAAAAAAAAAAAAAAAAAAAAAAAAAAAAAAAAAAAAAAAAAAAAAAAAAAAAAAAAAAAAAAAAAAAAAAAAAAA==",
            "dtype": "f8"
           }
          },
          {
           "mode": "lines+markers",
           "name": "user_26",
           "type": "scatter",
           "x": {
            "bdata": "AQIDBAUGBwgJCgs=",
            "dtype": "i1"
           },
           "y": {
            "bdata": "AAAAAAAAAAAAAAAAAAAAAAAAAAAAAAAAAAAAAAAAAAAAAAAAAAAAAAAAAAAAAAAAAAAAAAAAAAAAAAAAAAAAAAAAAAAAAAAAAAAAAAAAAAAAAAAAAAAAAA==",
            "dtype": "f8"
           }
          },
          {
           "mode": "lines+markers",
           "name": "user_27",
           "type": "scatter",
           "x": {
            "bdata": "AQIDBAUGBwgJCgs=",
            "dtype": "i1"
           },
           "y": {
            "bdata": "AAAAAAAAAAAAAAAAAAAAAAAAAAAAAAAAAAAAAAAAAAAAAAAAAAAAAAAAAAAAAAAAAAAAAAAAAAAAAAAAAAAAAAAAAAAAAAAAAAAAAAAAAAAAAAAAAAAAAA==",
            "dtype": "f8"
           }
          },
          {
           "mode": "lines+markers",
           "name": "user_28",
           "type": "scatter",
           "x": {
            "bdata": "AQIDBAUGBwgJCgs=",
            "dtype": "i1"
           },
           "y": {
            "bdata": "AAAAAAAAAAAAAAAAAAAAAAAAAAAAAAAAAAAAAAAAAAAAAAAAAAAAAAAAAAAAAAAAAAAAAAAAAAAAAAAAAAAAAAAAAAAAAAAAAAAAAAAAAAAAAAAAAAAAAA==",
            "dtype": "f8"
           }
          },
          {
           "mode": "lines+markers",
           "name": "user_29",
           "type": "scatter",
           "x": {
            "bdata": "AQIDBAUGBwgJCgs=",
            "dtype": "i1"
           },
           "y": {
            "bdata": "AAAAAAAAAAAAAAAAAAAAAAAAAAAAAAAAAAAAAAAAAAAAAAAAAAAAAAAAAAAAAAAAAAAAAAAAAAAAAAAAAAAAAAAAAAAAAAAAAAAAAAAAAAAAAAAAAAAAAA==",
            "dtype": "f8"
           }
          },
          {
           "mode": "lines+markers",
           "name": "user_3",
           "type": "scatter",
           "x": {
            "bdata": "AQIDBAUGBwgJCgs=",
            "dtype": "i1"
           },
           "y": {
            "bdata": "AAAAAAAAAAAAAAAAAAAAAAAAAAAAAAAAAAAAAAAAAAAAAAAAAAAAAAAAAAAAAAAAAAAAAAAAAAAAAAAAAAAAAAAAAAAAAAAAAAAAAAAAAAAAAAAAAADwPw==",
            "dtype": "f8"
           }
          },
          {
           "mode": "lines+markers",
           "name": "user_30",
           "type": "scatter",
           "x": {
            "bdata": "AQIDBAUGBwgJCgs=",
            "dtype": "i1"
           },
           "y": {
            "bdata": "AAAAAAAAAAAAAAAAAAAAAAAAAAAAAAAAAAAAAAAA8D8AAAAAAAAAQAAAAAAAAABAAAAAAAAAEEAAAAAAAAAUQAAAAAAAABRAAAAAAAAAFEAAAAAAAAAoQA==",
            "dtype": "f8"
           }
          },
          {
           "mode": "lines+markers",
           "name": "user_31",
           "type": "scatter",
           "x": {
            "bdata": "AQIDBAUGBwgJCgs=",
            "dtype": "i1"
           },
           "y": {
            "bdata": "AAAAAAAAAAAAAAAAAAAAAAAAAAAAAAAAAAAAAAAAAAAAAAAAAAAAAAAAAAAAAAAAAAAAAAAAAAAAAAAAAAAAAAAAAAAAAAAAAAAAAAAAAAAAAAAAAADwPw==",
            "dtype": "f8"
           }
          },
          {
           "mode": "lines+markers",
           "name": "user_4",
           "type": "scatter",
           "x": {
            "bdata": "AQIDBAUGBwgJCgs=",
            "dtype": "i1"
           },
           "y": {
            "bdata": "AAAAAAAAAAAAAAAAAAAcQAAAAAAAACZAAAAAAAAAJkAAAAAAAAA0QAAAAAAAADtAAAAAAACAQUAAAAAAAABIQAAAAAAAgEpAAAAAAACASkAAAAAAAMBRQA==",
            "dtype": "f8"
           }
          },
          {
           "mode": "lines+markers",
           "name": "user_6",
           "type": "scatter",
           "x": {
            "bdata": "AQIDBAUGBwgJCgs=",
            "dtype": "i1"
           },
           "y": {
            "bdata": "AAAAAAAAAAAAAAAAAAAAAAAAAAAAAAAAAAAAAAAAAAAAAAAAAAAAAAAAAAAAAAAAAAAAAAAAAAAAAAAAAAAAAAAAAAAAAAAAAAAAAAAAAAAAAAAAAAAAAA==",
            "dtype": "f8"
           }
          },
          {
           "mode": "lines+markers",
           "name": "user_8",
           "type": "scatter",
           "x": {
            "bdata": "AQIDBAUGBwgJCgs=",
            "dtype": "i1"
           },
           "y": {
            "bdata": "AAAAAAAAAAAAAAAAAAAAAAAAAAAAAAAAAAAAAAAAAAAAAAAAAAAAAAAAAAAAAAAAAAAAAAAAAAAAAAAAAAAAAAAAAAAAAAAAAAAAAAAAAAAAAAAAAAAAAA==",
            "dtype": "f8"
           }
          }
         ]
        },
        {
         "data": [
          {
           "mode": "lines+markers",
           "name": "user_1",
           "type": "scatter",
           "x": {
            "bdata": "AQIDBAUGBwgJCgsM",
            "dtype": "i1"
           },
           "y": {
            "bdata": "AAAAAAAAAAAAAAAAAAAAAAAAAAAAAAAAAAAAAAAAAAAAAAAAAAAAAAAAAAAAAAAAAAAAAAAAAAAAAAAAAAAAAAAAAAAAAAAAAAAAAAAAAAAAAAAAAAAAAAAAAAAAAAAA",
            "dtype": "f8"
           }
          },
          {
           "mode": "lines+markers",
           "name": "user_10",
           "type": "scatter",
           "x": {
            "bdata": "AQIDBAUGBwgJCgsM",
            "dtype": "i1"
           },
           "y": {
            "bdata": "AAAAAAAAAAAAAAAAAAAAAAAAAAAAAAAAAAAAAAAAAAAAAAAAAAAAAAAAAAAAAAAAAAAAAAAAAAAAAAAAAAAAAAAAAAAAAAAAAAAAAAAAAAAAAAAAAAAAAAAAAAAAAAAA",
            "dtype": "f8"
           }
          },
          {
           "mode": "lines+markers",
           "name": "user_11",
           "type": "scatter",
           "x": {
            "bdata": "AQIDBAUGBwgJCgsM",
            "dtype": "i1"
           },
           "y": {
            "bdata": "AAAAAAAAAAAAAAAAAAAAAAAAAAAAAAAAAAAAAAAAAAAAAAAAAAAAAAAAAAAAAAAAAAAAAAAA8D8AAAAAAADwPwAAAAAAAPA/AAAAAAAA8D8AAAAAAADwPwAAAAAAAPA/",
            "dtype": "f8"
           }
          },
          {
           "mode": "lines+markers",
           "name": "user_12",
           "type": "scatter",
           "x": {
            "bdata": "AQIDBAUGBwgJCgsM",
            "dtype": "i1"
           },
           "y": {
            "bdata": "AAAAAAAAAAAAAAAAAAAAAAAAAAAAAAAAAAAAAAAAAAAAAAAAAAAAAAAAAAAAAAAAAAAAAAAAAAAAAAAAAAAAAAAAAAAAAAAAAAAAAAAAAAAAAAAAAAAAAAAAAAAAAAAA",
            "dtype": "f8"
           }
          },
          {
           "mode": "lines+markers",
           "name": "user_13",
           "type": "scatter",
           "x": {
            "bdata": "AQIDBAUGBwgJCgsM",
            "dtype": "i1"
           },
           "y": {
            "bdata": "AAAAAAAAAAAAAAAAAAAAAAAAAAAAAAAAAAAAAAAAAAAAAAAAAAAAAAAAAAAAAAAAAAAAAAAAAAAAAAAAAAAAAAAAAAAAAAAAAAAAAAAAAAAAAAAAAAAAAAAAAAAAAAAA",
            "dtype": "f8"
           }
          },
          {
           "mode": "lines+markers",
           "name": "user_14",
           "type": "scatter",
           "x": {
            "bdata": "AQIDBAUGBwgJCgsM",
            "dtype": "i1"
           },
           "y": {
            "bdata": "AAAAAAAAAAAAAAAAAAAAAAAAAAAAAAAAAAAAAAAAAAAAAAAAAAAAAAAAAAAAAAAAAAAAAAAAAAAAAAAAAAAAAAAAAAAAAPA/AAAAAAAA8D8AAAAAAADwPwAAAAAAAPA/",
            "dtype": "f8"
           }
          },
          {
           "mode": "lines+markers",
           "name": "user_15",
           "type": "scatter",
           "x": {
            "bdata": "AQIDBAUGBwgJCgsM",
            "dtype": "i1"
           },
           "y": {
            "bdata": "AAAAAAAAAAAAAAAAAAAAAAAAAAAAAAAAAAAAAAAAAAAAAAAAAAAAAAAAAAAAAAAAAAAAAAAAAAAAAAAAAAAAAAAAAAAAAAAAAAAAAAAAAAAAAAAAAAAAAAAAAAAAAAAA",
            "dtype": "f8"
           }
          },
          {
           "mode": "lines+markers",
           "name": "user_16",
           "type": "scatter",
           "x": {
            "bdata": "AQIDBAUGBwgJCgsM",
            "dtype": "i1"
           },
           "y": {
            "bdata": "AAAAAAAAAAAAAAAAAAAAAAAAAAAAAAAAAAAAAAAAAAAAAAAAAAAAAAAAAAAAAAAAAAAAAAAAAAAAAAAAAAAAAAAAAAAAAAAAAAAAAAAAAAAAAAAAAAAAAAAAAAAAAAAA",
            "dtype": "f8"
           }
          },
          {
           "mode": "lines+markers",
           "name": "user_17",
           "type": "scatter",
           "x": {
            "bdata": "AQIDBAUGBwgJCgsM",
            "dtype": "i1"
           },
           "y": {
            "bdata": "AAAAAAAAAAAAAAAAAADwPwAAAAAAAPA/AAAAAAAA8D8AAAAAAADwPwAAAAAAAPA/AAAAAAAA8D8AAAAAAADwPwAAAAAAAPA/AAAAAAAA8D8AAAAAAADwPwAAAAAAAPA/",
            "dtype": "f8"
           }
          },
          {
           "mode": "lines+markers",
           "name": "user_18",
           "type": "scatter",
           "x": {
            "bdata": "AQIDBAUGBwgJCgsM",
            "dtype": "i1"
           },
           "y": {
            "bdata": "AAAAAAAAAAAAAAAAAAAAAAAAAAAAAAAAAAAAAAAAAAAAAAAAAAAAAAAAAAAAAAAAAAAAAAAAAAAAAAAAAAAAAAAAAAAAAAAAAAAAAAAAAAAAAAAAAAAAAAAAAAAAAAAA",
            "dtype": "f8"
           }
          },
          {
           "mode": "lines+markers",
           "name": "user_19",
           "type": "scatter",
           "x": {
            "bdata": "AQIDBAUGBwgJCgsM",
            "dtype": "i1"
           },
           "y": {
            "bdata": "AAAAAAAAAAAAAAAAAAAAAAAAAAAAAAAAAAAAAAAAAAAAAAAAAAAAAAAAAAAAAAAAAAAAAAAAAAAAAAAAAAAAAAAAAAAAAAAAAAAAAAAAAAAAAAAAAAAAAAAAAAAAAAAA",
            "dtype": "f8"
           }
          },
          {
           "mode": "lines+markers",
           "name": "user_2",
           "type": "scatter",
           "x": {
            "bdata": "AQIDBAUGBwgJCgsM",
            "dtype": "i1"
           },
           "y": {
            "bdata": "AAAAAAAAAAAAAAAAAAAAAAAAAAAAAAAAAAAAAAAAAAAAAAAAAAAAAAAAAAAAAAAAAAAAAAAAAAAAAAAAAAAAAAAAAAAAgExAAAAAAAAATUAAAAAAAABNQAAAAAAAAE1A",
            "dtype": "f8"
           }
          },
          {
           "mode": "lines+markers",
           "name": "user_20",
           "type": "scatter",
           "x": {
            "bdata": "AQIDBAUGBwgJCgsM",
            "dtype": "i1"
           },
           "y": {
            "bdata": "AAAAAAAAAAAAAAAAAAAAAAAAAAAAAAAAAAAAAAAAAAAAAAAAAAAAAAAAAAAAAAAAAAAAAAAAAAAAAAAAAAAAAAAAAAAAAAAAAAAAAAAAAAAAAAAAAAAAAAAAAAAAAAAA",
            "dtype": "f8"
           }
          },
          {
           "mode": "lines+markers",
           "name": "user_21",
           "type": "scatter",
           "x": {
            "bdata": "AQIDBAUGBwgJCgsM",
            "dtype": "i1"
           },
           "y": {
            "bdata": "AAAAAAAAAAAAAAAAAAAAAAAAAAAAAAAAAAAAAAAAAAAAAAAAAAAAAAAAAAAAAAAAAAAAAAAAAAAAAAAAAAAAAAAAAAAAAAAAAAAAAAAAAAAAAAAAAAAAAAAAAAAAAAAA",
            "dtype": "f8"
           }
          },
          {
           "mode": "lines+markers",
           "name": "user_22",
           "type": "scatter",
           "x": {
            "bdata": "AQIDBAUGBwgJCgsM",
            "dtype": "i1"
           },
           "y": {
            "bdata": "AAAAAAAAAAAAAAAAAAAAAAAAAAAAAAAAAAAAAAAAAAAAAAAAAAAAAAAAAAAAAAAAAAAAAAAA8D8AAAAAAADwPwAAAAAAAPA/AAAAAAAA8D8AAAAAAADwPwAAAAAAAPA/",
            "dtype": "f8"
           }
          },
          {
           "mode": "lines+markers",
           "name": "user_24",
           "type": "scatter",
           "x": {
            "bdata": "AQIDBAUGBwgJCgsM",
            "dtype": "i1"
           },
           "y": {
            "bdata": "AAAAAAAAAAAAAAAAAAAAAAAAAAAAAAAAAAAAAAAAAAAAAAAAAAAAAAAAAAAAAAAAAAAAAAAAAAAAAAAAAAAAAAAAAAAAAAAAAAAAAAAAAAAAAAAAAAAAAAAAAAAAAAAA",
            "dtype": "f8"
           }
          },
          {
           "mode": "lines+markers",
           "name": "user_25",
           "type": "scatter",
           "x": {
            "bdata": "AQIDBAUGBwgJCgsM",
            "dtype": "i1"
           },
           "y": {
            "bdata": "AAAAAAAAAAAAAAAAAAAAAAAAAAAAAAAAAAAAAAAAAAAAAAAAAAAAAAAAAAAAAAAAAAAAAAAAAAAAAAAAAAAAAAAAAAAAAAAAAAAAAAAAAAAAAAAAAAAAAAAAAAAAABRA",
            "dtype": "f8"
           }
          },
          {
           "mode": "lines+markers",
           "name": "user_26",
           "type": "scatter",
           "x": {
            "bdata": "AQIDBAUGBwgJCgsM",
            "dtype": "i1"
           },
           "y": {
            "bdata": "AAAAAAAAAAAAAAAAAAAAAAAAAAAAAAAAAAAAAAAAAAAAAAAAAAAAAAAAAAAAAAAAAAAAAAAAAAAAAAAAAAAAAAAAAAAAAAAAAAAAAAAAAAAAAAAAAAAAAAAAAAAAAAAA",
            "dtype": "f8"
           }
          },
          {
           "mode": "lines+markers",
           "name": "user_27",
           "type": "scatter",
           "x": {
            "bdata": "AQIDBAUGBwgJCgsM",
            "dtype": "i1"
           },
           "y": {
            "bdata": "AAAAAAAAAAAAAAAAAAAAAAAAAAAAAAAAAAAAAAAAAAAAAAAAAAAAAAAAAAAAAAAAAAAAAAAAAAAAAAAAAAAAAAAAAAAAAAAAAAAAAAAAAAAAAAAAAAAAAAAAAAAAAAAA",
            "dtype": "f8"
           }
          },
          {
           "mode": "lines+markers",
           "name": "user_28",
           "type": "scatter",
           "x": {
            "bdata": "AQIDBAUGBwgJCgsM",
            "dtype": "i1"
           },
           "y": {
            "bdata": "AAAAAAAAAAAAAAAAAAAAAAAAAAAAAAAAAAAAAAAAAAAAAAAAAAAAAAAAAAAAAAAAAAAAAAAAAAAAAAAAAAAAAAAAAAAAAAAAAAAAAAAAAAAAAAAAAAAAAAAAAAAAAAAA",
            "dtype": "f8"
           }
          },
          {
           "mode": "lines+markers",
           "name": "user_29",
           "type": "scatter",
           "x": {
            "bdata": "AQIDBAUGBwgJCgsM",
            "dtype": "i1"
           },
           "y": {
            "bdata": "AAAAAAAAAAAAAAAAAAAAAAAAAAAAAAAAAAAAAAAAAAAAAAAAAAAAAAAAAAAAAAAAAAAAAAAAAAAAAAAAAAAAAAAAAAAAAAAAAAAAAAAAAAAAAAAAAAAAAAAAAAAAAAAA",
            "dtype": "f8"
           }
          },
          {
           "mode": "lines+markers",
           "name": "user_3",
           "type": "scatter",
           "x": {
            "bdata": "AQIDBAUGBwgJCgsM",
            "dtype": "i1"
           },
           "y": {
            "bdata": "AAAAAAAAAAAAAAAAAAAAAAAAAAAAAAAAAAAAAAAAAAAAAAAAAAAAAAAAAAAAAAAAAAAAAAAAAAAAAAAAAAAAAAAAAAAAAAAAAAAAAAAAAAAAAAAAAADwPwAAAAAAADxA",
            "dtype": "f8"
           }
          },
          {
           "mode": "lines+markers",
           "name": "user_30",
           "type": "scatter",
           "x": {
            "bdata": "AQIDBAUGBwgJCgsM",
            "dtype": "i1"
           },
           "y": {
            "bdata": "AAAAAAAAAAAAAAAAAAAAAAAAAAAAAAAAAAAAAAAA8D8AAAAAAAAAQAAAAAAAAABAAAAAAAAAEEAAAAAAAAAUQAAAAAAAABRAAAAAAAAAFEAAAAAAAAAoQAAAAAAAAChA",
            "dtype": "f8"
           }
          },
          {
           "mode": "lines+markers",
           "name": "user_31",
           "type": "scatter",
           "x": {
            "bdata": "AQIDBAUGBwgJCgsM",
            "dtype": "i1"
           },
           "y": {
            "bdata": "AAAAAAAAAAAAAAAAAAAAAAAAAAAAAAAAAAAAAAAAAAAAAAAAAAAAAAAAAAAAAAAAAAAAAAAAAAAAAAAAAAAAAAAAAAAAAAAAAAAAAAAAAAAAAAAAAADwPwAAAAAAAPA/",
            "dtype": "f8"
           }
          },
          {
           "mode": "lines+markers",
           "name": "user_4",
           "type": "scatter",
           "x": {
            "bdata": "AQIDBAUGBwgJCgsM",
            "dtype": "i1"
           },
           "y": {
            "bdata": "AAAAAAAAAAAAAAAAAAAcQAAAAAAAACZAAAAAAAAAJkAAAAAAAAA0QAAAAAAAADtAAAAAAACAQUAAAAAAAABIQAAAAAAAgEpAAAAAAACASkAAAAAAAMBRQAAAAAAAwFRA",
            "dtype": "f8"
           }
          },
          {
           "mode": "lines+markers",
           "name": "user_6",
           "type": "scatter",
           "x": {
            "bdata": "AQIDBAUGBwgJCgsM",
            "dtype": "i1"
           },
           "y": {
            "bdata": "AAAAAAAAAAAAAAAAAAAAAAAAAAAAAAAAAAAAAAAAAAAAAAAAAAAAAAAAAAAAAAAAAAAAAAAAAAAAAAAAAAAAAAAAAAAAAAAAAAAAAAAAAAAAAAAAAAAAAAAAAAAAAAAA",
            "dtype": "f8"
           }
          },
          {
           "mode": "lines+markers",
           "name": "user_8",
           "type": "scatter",
           "x": {
            "bdata": "AQIDBAUGBwgJCgsM",
            "dtype": "i1"
           },
           "y": {
            "bdata": "AAAAAAAAAAAAAAAAAAAAAAAAAAAAAAAAAAAAAAAAAAAAAAAAAAAAAAAAAAAAAAAAAAAAAAAAAAAAAAAAAAAAAAAAAAAAAAAAAAAAAAAAAAAAAAAAAAAAAAAAAAAAAAAA",
            "dtype": "f8"
           }
          }
         ]
        },
        {
         "data": [
          {
           "mode": "lines+markers",
           "name": "user_1",
           "type": "scatter",
           "x": {
            "bdata": "AQIDBAUGBwgJCgsMDQ==",
            "dtype": "i1"
           },
           "y": {
            "bdata": "AAAAAAAAAAAAAAAAAAAAAAAAAAAAAAAAAAAAAAAAAAAAAAAAAAAAAAAAAAAAAAAAAAAAAAAAAAAAAAAAAAAAAAAAAAAAAAAAAAAAAAAAAAAAAAAAAAAAAAAAAAAAAAAAAAAAAAAAAAA=",
            "dtype": "f8"
           }
          },
          {
           "mode": "lines+markers",
           "name": "user_10",
           "type": "scatter",
           "x": {
            "bdata": "AQIDBAUGBwgJCgsMDQ==",
            "dtype": "i1"
           },
           "y": {
            "bdata": "AAAAAAAAAAAAAAAAAAAAAAAAAAAAAAAAAAAAAAAAAAAAAAAAAAAAAAAAAAAAAAAAAAAAAAAAAAAAAAAAAAAAAAAAAAAAAAAAAAAAAAAAAAAAAAAAAAAAAAAAAAAAAAAAAAAAAAAAAAA=",
            "dtype": "f8"
           }
          },
          {
           "mode": "lines+markers",
           "name": "user_11",
           "type": "scatter",
           "x": {
            "bdata": "AQIDBAUGBwgJCgsMDQ==",
            "dtype": "i1"
           },
           "y": {
            "bdata": "AAAAAAAAAAAAAAAAAAAAAAAAAAAAAAAAAAAAAAAAAAAAAAAAAAAAAAAAAAAAAAAAAAAAAAAA8D8AAAAAAADwPwAAAAAAAPA/AAAAAAAA8D8AAAAAAADwPwAAAAAAAPA/AAAAAAAA8D8=",
            "dtype": "f8"
           }
          },
          {
           "mode": "lines+markers",
           "name": "user_12",
           "type": "scatter",
           "x": {
            "bdata": "AQIDBAUGBwgJCgsMDQ==",
            "dtype": "i1"
           },
           "y": {
            "bdata": "AAAAAAAAAAAAAAAAAAAAAAAAAAAAAAAAAAAAAAAAAAAAAAAAAAAAAAAAAAAAAAAAAAAAAAAAAAAAAAAAAAAAAAAAAAAAAAAAAAAAAAAAAAAAAAAAAAAAAAAAAAAAAAAAAAAAAAAAAAA=",
            "dtype": "f8"
           }
          },
          {
           "mode": "lines+markers",
           "name": "user_13",
           "type": "scatter",
           "x": {
            "bdata": "AQIDBAUGBwgJCgsMDQ==",
            "dtype": "i1"
           },
           "y": {
            "bdata": "AAAAAAAAAAAAAAAAAAAAAAAAAAAAAAAAAAAAAAAAAAAAAAAAAAAAAAAAAAAAAAAAAAAAAAAAAAAAAAAAAAAAAAAAAAAAAAAAAAAAAAAAAAAAAAAAAAAAAAAAAAAAAAAAAAAAAAAAAAA=",
            "dtype": "f8"
           }
          },
          {
           "mode": "lines+markers",
           "name": "user_14",
           "type": "scatter",
           "x": {
            "bdata": "AQIDBAUGBwgJCgsMDQ==",
            "dtype": "i1"
           },
           "y": {
            "bdata": "AAAAAAAAAAAAAAAAAAAAAAAAAAAAAAAAAAAAAAAAAAAAAAAAAAAAAAAAAAAAAAAAAAAAAAAAAAAAAAAAAAAAAAAAAAAAAPA/AAAAAAAA8D8AAAAAAADwPwAAAAAAAPA/AAAAAAAAMkA=",
            "dtype": "f8"
           }
          },
          {
           "mode": "lines+markers",
           "name": "user_15",
           "type": "scatter",
           "x": {
            "bdata": "AQIDBAUGBwgJCgsMDQ==",
            "dtype": "i1"
           },
           "y": {
            "bdata": "AAAAAAAAAAAAAAAAAAAAAAAAAAAAAAAAAAAAAAAAAAAAAAAAAAAAAAAAAAAAAAAAAAAAAAAAAAAAAAAAAAAAAAAAAAAAAAAAAAAAAAAAAAAAAAAAAAAAAAAAAAAAAAAAAAAAAAAAAAA=",
            "dtype": "f8"
           }
          },
          {
           "mode": "lines+markers",
           "name": "user_16",
           "type": "scatter",
           "x": {
            "bdata": "AQIDBAUGBwgJCgsMDQ==",
            "dtype": "i1"
           },
           "y": {
            "bdata": "AAAAAAAAAAAAAAAAAAAAAAAAAAAAAAAAAAAAAAAAAAAAAAAAAAAAAAAAAAAAAAAAAAAAAAAAAAAAAAAAAAAAAAAAAAAAAAAAAAAAAAAAAAAAAAAAAAAAAAAAAAAAAAAAAAAAAAAAAAA=",
            "dtype": "f8"
           }
          },
          {
           "mode": "lines+markers",
           "name": "user_17",
           "type": "scatter",
           "x": {
            "bdata": "AQIDBAUGBwgJCgsMDQ==",
            "dtype": "i1"
           },
           "y": {
            "bdata": "AAAAAAAAAAAAAAAAAADwPwAAAAAAAPA/AAAAAAAA8D8AAAAAAADwPwAAAAAAAPA/AAAAAAAA8D8AAAAAAADwPwAAAAAAAPA/AAAAAAAA8D8AAAAAAADwPwAAAAAAAPA/AAAAAAAA8D8=",
            "dtype": "f8"
           }
          },
          {
           "mode": "lines+markers",
           "name": "user_18",
           "type": "scatter",
           "x": {
            "bdata": "AQIDBAUGBwgJCgsMDQ==",
            "dtype": "i1"
           },
           "y": {
            "bdata": "AAAAAAAAAAAAAAAAAAAAAAAAAAAAAAAAAAAAAAAAAAAAAAAAAAAAAAAAAAAAAAAAAAAAAAAAAAAAAAAAAAAAAAAAAAAAAAAAAAAAAAAAAAAAAAAAAAAAAAAAAAAAAAAAAAAAAAAAAAA=",
            "dtype": "f8"
           }
          },
          {
           "mode": "lines+markers",
           "name": "user_19",
           "type": "scatter",
           "x": {
            "bdata": "AQIDBAUGBwgJCgsMDQ==",
            "dtype": "i1"
           },
           "y": {
            "bdata": "AAAAAAAAAAAAAAAAAAAAAAAAAAAAAAAAAAAAAAAAAAAAAAAAAAAAAAAAAAAAAAAAAAAAAAAAAAAAAAAAAAAAAAAAAAAAAAAAAAAAAAAAAAAAAAAAAAAAAAAAAAAAAAAAAAAAAAAAAAA=",
            "dtype": "f8"
           }
          },
          {
           "mode": "lines+markers",
           "name": "user_2",
           "type": "scatter",
           "x": {
            "bdata": "AQIDBAUGBwgJCgsMDQ==",
            "dtype": "i1"
           },
           "y": {
            "bdata": "AAAAAAAAAAAAAAAAAAAAAAAAAAAAAAAAAAAAAAAAAAAAAAAAAAAAAAAAAAAAAAAAAAAAAAAAAAAAAAAAAAAAAAAAAAAAgExAAAAAAAAATUAAAAAAAABNQAAAAAAAAE1AAAAAAAAATUA=",
            "dtype": "f8"
           }
          },
          {
           "mode": "lines+markers",
           "name": "user_20",
           "type": "scatter",
           "x": {
            "bdata": "AQIDBAUGBwgJCgsMDQ==",
            "dtype": "i1"
           },
           "y": {
            "bdata": "AAAAAAAAAAAAAAAAAAAAAAAAAAAAAAAAAAAAAAAAAAAAAAAAAAAAAAAAAAAAAAAAAAAAAAAAAAAAAAAAAAAAAAAAAAAAAAAAAAAAAAAAAAAAAAAAAAAAAAAAAAAAAAAAAAAAAAAAAAA=",
            "dtype": "f8"
           }
          },
          {
           "mode": "lines+markers",
           "name": "user_21",
           "type": "scatter",
           "x": {
            "bdata": "AQIDBAUGBwgJCgsMDQ==",
            "dtype": "i1"
           },
           "y": {
            "bdata": "AAAAAAAAAAAAAAAAAAAAAAAAAAAAAAAAAAAAAAAAAAAAAAAAAAAAAAAAAAAAAAAAAAAAAAAAAAAAAAAAAAAAAAAAAAAAAAAAAAAAAAAAAAAAAAAAAAAAAAAAAAAAAAAAAAAAAAAAAAA=",
            "dtype": "f8"
           }
          },
          {
           "mode": "lines+markers",
           "name": "user_22",
           "type": "scatter",
           "x": {
            "bdata": "AQIDBAUGBwgJCgsMDQ==",
            "dtype": "i1"
           },
           "y": {
            "bdata": "AAAAAAAAAAAAAAAAAAAAAAAAAAAAAAAAAAAAAAAAAAAAAAAAAAAAAAAAAAAAAAAAAAAAAAAA8D8AAAAAAADwPwAAAAAAAPA/AAAAAAAA8D8AAAAAAADwPwAAAAAAAPA/AAAAAAAA8D8=",
            "dtype": "f8"
           }
          },
          {
           "mode": "lines+markers",
           "name": "user_24",
           "type": "scatter",
           "x": {
            "bdata": "AQIDBAUGBwgJCgsMDQ==",
            "dtype": "i1"
           },
           "y": {
            "bdata": "AAAAAAAAAAAAAAAAAAAAAAAAAAAAAAAAAAAAAAAAAAAAAAAAAAAAAAAAAAAAAAAAAAAAAAAAAAAAAAAAAAAAAAAAAAAAAAAAAAAAAAAAAAAAAAAAAAAAAAAAAAAAAAAAAAAAAAAAAAA=",
            "dtype": "f8"
           }
          },
          {
           "mode": "lines+markers",
           "name": "user_25",
           "type": "scatter",
           "x": {
            "bdata": "AQIDBAUGBwgJCgsMDQ==",
            "dtype": "i1"
           },
           "y": {
            "bdata": "AAAAAAAAAAAAAAAAAAAAAAAAAAAAAAAAAAAAAAAAAAAAAAAAAAAAAAAAAAAAAAAAAAAAAAAAAAAAAAAAAAAAAAAAAAAAAAAAAAAAAAAAAAAAAAAAAAAAAAAAAAAAABRAAAAAAAAAO0A=",
            "dtype": "f8"
           }
          },
          {
           "mode": "lines+markers",
           "name": "user_26",
           "type": "scatter",
           "x": {
            "bdata": "AQIDBAUGBwgJCgsMDQ==",
            "dtype": "i1"
           },
           "y": {
            "bdata": "AAAAAAAAAAAAAAAAAAAAAAAAAAAAAAAAAAAAAAAAAAAAAAAAAAAAAAAAAAAAAAAAAAAAAAAAAAAAAAAAAAAAAAAAAAAAAAAAAAAAAAAAAAAAAAAAAAAAAAAAAAAAAAAAAAAAAAAAAAA=",
            "dtype": "f8"
           }
          },
          {
           "mode": "lines+markers",
           "name": "user_27",
           "type": "scatter",
           "x": {
            "bdata": "AQIDBAUGBwgJCgsMDQ==",
            "dtype": "i1"
           },
           "y": {
            "bdata": "AAAAAAAAAAAAAAAAAAAAAAAAAAAAAAAAAAAAAAAAAAAAAAAAAAAAAAAAAAAAAAAAAAAAAAAAAAAAAAAAAAAAAAAAAAAAAAAAAAAAAAAAAAAAAAAAAAAAAAAAAAAAAAAAAAAAAAAAAAA=",
            "dtype": "f8"
           }
          },
          {
           "mode": "lines+markers",
           "name": "user_28",
           "type": "scatter",
           "x": {
            "bdata": "AQIDBAUGBwgJCgsMDQ==",
            "dtype": "i1"
           },
           "y": {
            "bdata": "AAAAAAAAAAAAAAAAAAAAAAAAAAAAAAAAAAAAAAAAAAAAAAAAAAAAAAAAAAAAAAAAAAAAAAAAAAAAAAAAAAAAAAAAAAAAAAAAAAAAAAAAAAAAAAAAAAAAAAAAAAAAAAAAAAAAAAAAAAA=",
            "dtype": "f8"
           }
          },
          {
           "mode": "lines+markers",
           "name": "user_29",
           "type": "scatter",
           "x": {
            "bdata": "AQIDBAUGBwgJCgsMDQ==",
            "dtype": "i1"
           },
           "y": {
            "bdata": "AAAAAAAAAAAAAAAAAAAAAAAAAAAAAAAAAAAAAAAAAAAAAAAAAAAAAAAAAAAAAAAAAAAAAAAAAAAAAAAAAAAAAAAAAAAAAAAAAAAAAAAAAAAAAAAAAAAAAAAAAAAAAAAAAAAAAAAAAAA=",
            "dtype": "f8"
           }
          },
          {
           "mode": "lines+markers",
           "name": "user_3",
           "type": "scatter",
           "x": {
            "bdata": "AQIDBAUGBwgJCgsMDQ==",
            "dtype": "i1"
           },
           "y": {
            "bdata": "AAAAAAAAAAAAAAAAAAAAAAAAAAAAAAAAAAAAAAAAAAAAAAAAAAAAAAAAAAAAAAAAAAAAAAAAAAAAAAAAAAAAAAAAAAAAAAAAAAAAAAAAAAAAAAAAAADwPwAAAAAAADxAAAAAAAAAPUA=",
            "dtype": "f8"
           }
          },
          {
           "mode": "lines+markers",
           "name": "user_30",
           "type": "scatter",
           "x": {
            "bdata": "AQIDBAUGBwgJCgsMDQ==",
            "dtype": "i1"
           },
           "y": {
            "bdata": "AAAAAAAAAAAAAAAAAAAAAAAAAAAAAAAAAAAAAAAA8D8AAAAAAAAAQAAAAAAAAABAAAAAAAAAEEAAAAAAAAAUQAAAAAAAABRAAAAAAAAAFEAAAAAAAAAoQAAAAAAAAChAAAAAAAAAKEA=",
            "dtype": "f8"
           }
          },
          {
           "mode": "lines+markers",
           "name": "user_31",
           "type": "scatter",
           "x": {
            "bdata": "AQIDBAUGBwgJCgsMDQ==",
            "dtype": "i1"
           },
           "y": {
            "bdata": "AAAAAAAAAAAAAAAAAAAAAAAAAAAAAAAAAAAAAAAAAAAAAAAAAAAAAAAAAAAAAAAAAAAAAAAAAAAAAAAAAAAAAAAAAAAAAAAAAAAAAAAAAAAAAAAAAADwPwAAAAAAAPA/AAAAAAAAEEA=",
            "dtype": "f8"
           }
          },
          {
           "mode": "lines+markers",
           "name": "user_4",
           "type": "scatter",
           "x": {
            "bdata": "AQIDBAUGBwgJCgsMDQ==",
            "dtype": "i1"
           },
           "y": {
            "bdata": "AAAAAAAAAAAAAAAAAAAcQAAAAAAAACZAAAAAAAAAJkAAAAAAAAA0QAAAAAAAADtAAAAAAACAQUAAAAAAAABIQAAAAAAAgEpAAAAAAACASkAAAAAAAMBRQAAAAAAAwFRAAAAAAADAVEA=",
            "dtype": "f8"
           }
          },
          {
           "mode": "lines+markers",
           "name": "user_6",
           "type": "scatter",
           "x": {
            "bdata": "AQIDBAUGBwgJCgsMDQ==",
            "dtype": "i1"
           },
           "y": {
            "bdata": "AAAAAAAAAAAAAAAAAAAAAAAAAAAAAAAAAAAAAAAAAAAAAAAAAAAAAAAAAAAAAAAAAAAAAAAAAAAAAAAAAAAAAAAAAAAAAAAAAAAAAAAAAAAAAAAAAAAAAAAAAAAAAAAAAAAAAAAAAAA=",
            "dtype": "f8"
           }
          },
          {
           "mode": "lines+markers",
           "name": "user_8",
           "type": "scatter",
           "x": {
            "bdata": "AQIDBAUGBwgJCgsMDQ==",
            "dtype": "i1"
           },
           "y": {
            "bdata": "AAAAAAAAAAAAAAAAAAAAAAAAAAAAAAAAAAAAAAAAAAAAAAAAAAAAAAAAAAAAAAAAAAAAAAAAAAAAAAAAAAAAAAAAAAAAAAAAAAAAAAAAAAAAAAAAAAAAAAAAAAAAAAAAAAAAAAAAAAA=",
            "dtype": "f8"
           }
          }
         ]
        },
        {
         "data": [
          {
           "mode": "lines+markers",
           "name": "user_1",
           "type": "scatter",
           "x": {
            "bdata": "AQIDBAUGBwgJCgsMDQ4=",
            "dtype": "i1"
           },
           "y": {
            "bdata": "AAAAAAAAAAAAAAAAAAAAAAAAAAAAAAAAAAAAAAAAAAAAAAAAAAAAAAAAAAAAAAAAAAAAAAAAAAAAAAAAAAAAAAAAAAAAAAAAAAAAAAAAAAAAAAAAAAAAAAAAAAAAAAAAAAAAAAAAAAAAAAAAAAAAAA==",
            "dtype": "f8"
           }
          },
          {
           "mode": "lines+markers",
           "name": "user_10",
           "type": "scatter",
           "x": {
            "bdata": "AQIDBAUGBwgJCgsMDQ4=",
            "dtype": "i1"
           },
           "y": {
            "bdata": "AAAAAAAAAAAAAAAAAAAAAAAAAAAAAAAAAAAAAAAAAAAAAAAAAAAAAAAAAAAAAAAAAAAAAAAAAAAAAAAAAAAAAAAAAAAAAAAAAAAAAAAAAAAAAAAAAAAAAAAAAAAAAAAAAAAAAAAAAAAAAAAAAAAAAA==",
            "dtype": "f8"
           }
          },
          {
           "mode": "lines+markers",
           "name": "user_11",
           "type": "scatter",
           "x": {
            "bdata": "AQIDBAUGBwgJCgsMDQ4=",
            "dtype": "i1"
           },
           "y": {
            "bdata": "AAAAAAAAAAAAAAAAAAAAAAAAAAAAAAAAAAAAAAAAAAAAAAAAAAAAAAAAAAAAAAAAAAAAAAAA8D8AAAAAAADwPwAAAAAAAPA/AAAAAAAA8D8AAAAAAADwPwAAAAAAAPA/AAAAAAAA8D8AAAAAAADwPw==",
            "dtype": "f8"
           }
          },
          {
           "mode": "lines+markers",
           "name": "user_12",
           "type": "scatter",
           "x": {
            "bdata": "AQIDBAUGBwgJCgsMDQ4=",
            "dtype": "i1"
           },
           "y": {
            "bdata": "AAAAAAAAAAAAAAAAAAAAAAAAAAAAAAAAAAAAAAAAAAAAAAAAAAAAAAAAAAAAAAAAAAAAAAAAAAAAAAAAAAAAAAAAAAAAAAAAAAAAAAAAAAAAAAAAAAAAAAAAAAAAAAAAAAAAAAAAAAAAAAAAAAAAAA==",
            "dtype": "f8"
           }
          },
          {
           "mode": "lines+markers",
           "name": "user_13",
           "type": "scatter",
           "x": {
            "bdata": "AQIDBAUGBwgJCgsMDQ4=",
            "dtype": "i1"
           },
           "y": {
            "bdata": "AAAAAAAAAAAAAAAAAAAAAAAAAAAAAAAAAAAAAAAAAAAAAAAAAAAAAAAAAAAAAAAAAAAAAAAAAAAAAAAAAAAAAAAAAAAAAAAAAAAAAAAAAAAAAAAAAAAAAAAAAAAAAAAAAAAAAAAAAAAAAAAAAAAAAA==",
            "dtype": "f8"
           }
          },
          {
           "mode": "lines+markers",
           "name": "user_14",
           "type": "scatter",
           "x": {
            "bdata": "AQIDBAUGBwgJCgsMDQ4=",
            "dtype": "i1"
           },
           "y": {
            "bdata": "AAAAAAAAAAAAAAAAAAAAAAAAAAAAAAAAAAAAAAAAAAAAAAAAAAAAAAAAAAAAAAAAAAAAAAAAAAAAAAAAAAAAAAAAAAAAAPA/AAAAAAAA8D8AAAAAAADwPwAAAAAAAPA/AAAAAAAAMkAAAAAAAAA5QA==",
            "dtype": "f8"
           }
          },
          {
           "mode": "lines+markers",
           "name": "user_15",
           "type": "scatter",
           "x": {
            "bdata": "AQIDBAUGBwgJCgsMDQ4=",
            "dtype": "i1"
           },
           "y": {
            "bdata": "AAAAAAAAAAAAAAAAAAAAAAAAAAAAAAAAAAAAAAAAAAAAAAAAAAAAAAAAAAAAAAAAAAAAAAAAAAAAAAAAAAAAAAAAAAAAAAAAAAAAAAAAAAAAAAAAAAAAAAAAAAAAAAAAAAAAAAAAAAAAAAAAAAAAAA==",
            "dtype": "f8"
           }
          },
          {
           "mode": "lines+markers",
           "name": "user_16",
           "type": "scatter",
           "x": {
            "bdata": "AQIDBAUGBwgJCgsMDQ4=",
            "dtype": "i1"
           },
           "y": {
            "bdata": "AAAAAAAAAAAAAAAAAAAAAAAAAAAAAAAAAAAAAAAAAAAAAAAAAAAAAAAAAAAAAAAAAAAAAAAAAAAAAAAAAAAAAAAAAAAAAAAAAAAAAAAAAAAAAAAAAAAAAAAAAAAAAAAAAAAAAAAAAAAAAAAAAAAAAA==",
            "dtype": "f8"
           }
          },
          {
           "mode": "lines+markers",
           "name": "user_17",
           "type": "scatter",
           "x": {
            "bdata": "AQIDBAUGBwgJCgsMDQ4=",
            "dtype": "i1"
           },
           "y": {
            "bdata": "AAAAAAAAAAAAAAAAAADwPwAAAAAAAPA/AAAAAAAA8D8AAAAAAADwPwAAAAAAAPA/AAAAAAAA8D8AAAAAAADwPwAAAAAAAPA/AAAAAAAA8D8AAAAAAADwPwAAAAAAAPA/AAAAAAAA8D8AAAAAAADwPw==",
            "dtype": "f8"
           }
          },
          {
           "mode": "lines+markers",
           "name": "user_18",
           "type": "scatter",
           "x": {
            "bdata": "AQIDBAUGBwgJCgsMDQ4=",
            "dtype": "i1"
           },
           "y": {
            "bdata": "AAAAAAAAAAAAAAAAAAAAAAAAAAAAAAAAAAAAAAAAAAAAAAAAAAAAAAAAAAAAAAAAAAAAAAAAAAAAAAAAAAAAAAAAAAAAAAAAAAAAAAAAAAAAAAAAAAAAAAAAAAAAAAAAAAAAAAAAAAAAAAAAAAAAAA==",
            "dtype": "f8"
           }
          },
          {
           "mode": "lines+markers",
           "name": "user_19",
           "type": "scatter",
           "x": {
            "bdata": "AQIDBAUGBwgJCgsMDQ4=",
            "dtype": "i1"
           },
           "y": {
            "bdata": "AAAAAAAAAAAAAAAAAAAAAAAAAAAAAAAAAAAAAAAAAAAAAAAAAAAAAAAAAAAAAAAAAAAAAAAAAAAAAAAAAAAAAAAAAAAAAAAAAAAAAAAAAAAAAAAAAAAAAAAAAAAAAAAAAAAAAAAAAAAAAAAAAAAAAA==",
            "dtype": "f8"
           }
          },
          {
           "mode": "lines+markers",
           "name": "user_2",
           "type": "scatter",
           "x": {
            "bdata": "AQIDBAUGBwgJCgsMDQ4=",
            "dtype": "i1"
           },
           "y": {
            "bdata": "AAAAAAAAAAAAAAAAAAAAAAAAAAAAAAAAAAAAAAAAAAAAAAAAAAAAAAAAAAAAAAAAAAAAAAAAAAAAAAAAAAAAAAAAAAAAgExAAAAAAAAATUAAAAAAAABNQAAAAAAAAE1AAAAAAAAATUAAAAAAAABPQA==",
            "dtype": "f8"
           }
          },
          {
           "mode": "lines+markers",
           "name": "user_20",
           "type": "scatter",
           "x": {
            "bdata": "AQIDBAUGBwgJCgsMDQ4=",
            "dtype": "i1"
           },
           "y": {
            "bdata": "AAAAAAAAAAAAAAAAAAAAAAAAAAAAAAAAAAAAAAAAAAAAAAAAAAAAAAAAAAAAAAAAAAAAAAAAAAAAAAAAAAAAAAAAAAAAAAAAAAAAAAAAAAAAAAAAAAAAAAAAAAAAAAAAAAAAAAAAAAAAAAAAAAAAAA==",
            "dtype": "f8"
           }
          },
          {
           "mode": "lines+markers",
           "name": "user_21",
           "type": "scatter",
           "x": {
            "bdata": "AQIDBAUGBwgJCgsMDQ4=",
            "dtype": "i1"
           },
           "y": {
            "bdata": "AAAAAAAAAAAAAAAAAAAAAAAAAAAAAAAAAAAAAAAAAAAAAAAAAAAAAAAAAAAAAAAAAAAAAAAAAAAAAAAAAAAAAAAAAAAAAAAAAAAAAAAAAAAAAAAAAAAAAAAAAAAAAAAAAAAAAAAAAAAAAAAAAAAcQA==",
            "dtype": "f8"
           }
          },
          {
           "mode": "lines+markers",
           "name": "user_22",
           "type": "scatter",
           "x": {
            "bdata": "AQIDBAUGBwgJCgsMDQ4=",
            "dtype": "i1"
           },
           "y": {
            "bdata": "AAAAAAAAAAAAAAAAAAAAAAAAAAAAAAAAAAAAAAAAAAAAAAAAAAAAAAAAAAAAAAAAAAAAAAAA8D8AAAAAAADwPwAAAAAAAPA/AAAAAAAA8D8AAAAAAADwPwAAAAAAAPA/AAAAAAAA8D8AAAAAAADwPw==",
            "dtype": "f8"
           }
          },
          {
           "mode": "lines+markers",
           "name": "user_24",
           "type": "scatter",
           "x": {
            "bdata": "AQIDBAUGBwgJCgsMDQ4=",
            "dtype": "i1"
           },
           "y": {
            "bdata": "AAAAAAAAAAAAAAAAAAAAAAAAAAAAAAAAAAAAAAAAAAAAAAAAAAAAAAAAAAAAAAAAAAAAAAAAAAAAAAAAAAAAAAAAAAAAAAAAAAAAAAAAAAAAAAAAAAAAAAAAAAAAAAAAAAAAAAAAAAAAAAAAAAAAAA==",
            "dtype": "f8"
           }
          },
          {
           "mode": "lines+markers",
           "name": "user_25",
           "type": "scatter",
           "x": {
            "bdata": "AQIDBAUGBwgJCgsMDQ4=",
            "dtype": "i1"
           },
           "y": {
            "bdata": "AAAAAAAAAAAAAAAAAAAAAAAAAAAAAAAAAAAAAAAAAAAAAAAAAAAAAAAAAAAAAAAAAAAAAAAAAAAAAAAAAAAAAAAAAAAAAAAAAAAAAAAAAAAAAAAAAAAAAAAAAAAAABRAAAAAAAAAO0AAAAAAAAA9QA==",
            "dtype": "f8"
           }
          },
          {
           "mode": "lines+markers",
           "name": "user_26",
           "type": "scatter",
           "x": {
            "bdata": "AQIDBAUGBwgJCgsMDQ4=",
            "dtype": "i1"
           },
           "y": {
            "bdata": "AAAAAAAAAAAAAAAAAAAAAAAAAAAAAAAAAAAAAAAAAAAAAAAAAAAAAAAAAAAAAAAAAAAAAAAAAAAAAAAAAAAAAAAAAAAAAAAAAAAAAAAAAAAAAAAAAAAAAAAAAAAAAAAAAAAAAAAAAAAAAAAAAIBBQA==",
            "dtype": "f8"
           }
          },
          {
           "mode": "lines+markers",
           "name": "user_27",
           "type": "scatter",
           "x": {
            "bdata": "AQIDBAUGBwgJCgsMDQ4=",
            "dtype": "i1"
           },
           "y": {
            "bdata": "AAAAAAAAAAAAAAAAAAAAAAAAAAAAAAAAAAAAAAAAAAAAAAAAAAAAAAAAAAAAAAAAAAAAAAAAAAAAAAAAAAAAAAAAAAAAAAAAAAAAAAAAAAAAAAAAAAAAAAAAAAAAAAAAAAAAAAAAAAAAAAAAAAAAAA==",
            "dtype": "f8"
           }
          },
          {
           "mode": "lines+markers",
           "name": "user_28",
           "type": "scatter",
           "x": {
            "bdata": "AQIDBAUGBwgJCgsMDQ4=",
            "dtype": "i1"
           },
           "y": {
            "bdata": "AAAAAAAAAAAAAAAAAAAAAAAAAAAAAAAAAAAAAAAAAAAAAAAAAAAAAAAAAAAAAAAAAAAAAAAAAAAAAAAAAAAAAAAAAAAAAAAAAAAAAAAAAAAAAAAAAAAAAAAAAAAAAAAAAAAAAAAAAAAAAAAAAAAAAA==",
            "dtype": "f8"
           }
          },
          {
           "mode": "lines+markers",
           "name": "user_29",
           "type": "scatter",
           "x": {
            "bdata": "AQIDBAUGBwgJCgsMDQ4=",
            "dtype": "i1"
           },
           "y": {
            "bdata": "AAAAAAAAAAAAAAAAAAAAAAAAAAAAAAAAAAAAAAAAAAAAAAAAAAAAAAAAAAAAAAAAAAAAAAAAAAAAAAAAAAAAAAAAAAAAAAAAAAAAAAAAAAAAAAAAAAAAAAAAAAAAAAAAAAAAAAAAAAAAAAAAAAAAAA==",
            "dtype": "f8"
           }
          },
          {
           "mode": "lines+markers",
           "name": "user_3",
           "type": "scatter",
           "x": {
            "bdata": "AQIDBAUGBwgJCgsMDQ4=",
            "dtype": "i1"
           },
           "y": {
            "bdata": "AAAAAAAAAAAAAAAAAAAAAAAAAAAAAAAAAAAAAAAAAAAAAAAAAAAAAAAAAAAAAAAAAAAAAAAAAAAAAAAAAAAAAAAAAAAAAAAAAAAAAAAAAAAAAAAAAADwPwAAAAAAADxAAAAAAAAAPUAAAAAAAAA/QA==",
            "dtype": "f8"
           }
          },
          {
           "mode": "lines+markers",
           "name": "user_30",
           "type": "scatter",
           "x": {
            "bdata": "AQIDBAUGBwgJCgsMDQ4=",
            "dtype": "i1"
           },
           "y": {
            "bdata": "AAAAAAAAAAAAAAAAAAAAAAAAAAAAAAAAAAAAAAAA8D8AAAAAAAAAQAAAAAAAAABAAAAAAAAAEEAAAAAAAAAUQAAAAAAAABRAAAAAAAAAFEAAAAAAAAAoQAAAAAAAAChAAAAAAAAAKEAAAAAAAAAxQA==",
            "dtype": "f8"
           }
          },
          {
           "mode": "lines+markers",
           "name": "user_31",
           "type": "scatter",
           "x": {
            "bdata": "AQIDBAUGBwgJCgsMDQ4=",
            "dtype": "i1"
           },
           "y": {
            "bdata": "AAAAAAAAAAAAAAAAAAAAAAAAAAAAAAAAAAAAAAAAAAAAAAAAAAAAAAAAAAAAAAAAAAAAAAAAAAAAAAAAAAAAAAAAAAAAAAAAAAAAAAAAAAAAAAAAAADwPwAAAAAAAPA/AAAAAAAAEEAAAAAAAAAQQA==",
            "dtype": "f8"
           }
          },
          {
           "mode": "lines+markers",
           "name": "user_4",
           "type": "scatter",
           "x": {
            "bdata": "AQIDBAUGBwgJCgsMDQ4=",
            "dtype": "i1"
           },
           "y": {
            "bdata": "AAAAAAAAAAAAAAAAAAAcQAAAAAAAACZAAAAAAAAAJkAAAAAAAAA0QAAAAAAAADtAAAAAAACAQUAAAAAAAABIQAAAAAAAgEpAAAAAAACASkAAAAAAAMBRQAAAAAAAwFRAAAAAAADAVEAAAAAAAMBUQA==",
            "dtype": "f8"
           }
          },
          {
           "mode": "lines+markers",
           "name": "user_6",
           "type": "scatter",
           "x": {
            "bdata": "AQIDBAUGBwgJCgsMDQ4=",
            "dtype": "i1"
           },
           "y": {
            "bdata": "AAAAAAAAAAAAAAAAAAAAAAAAAAAAAAAAAAAAAAAAAAAAAAAAAAAAAAAAAAAAAAAAAAAAAAAAAAAAAAAAAAAAAAAAAAAAAAAAAAAAAAAAAAAAAAAAAAAAAAAAAAAAAAAAAAAAAAAAAAAAAAAAAAAAAA==",
            "dtype": "f8"
           }
          },
          {
           "mode": "lines+markers",
           "name": "user_8",
           "type": "scatter",
           "x": {
            "bdata": "AQIDBAUGBwgJCgsMDQ4=",
            "dtype": "i1"
           },
           "y": {
            "bdata": "AAAAAAAAAAAAAAAAAAAAAAAAAAAAAAAAAAAAAAAAAAAAAAAAAAAAAAAAAAAAAAAAAAAAAAAAAAAAAAAAAAAAAAAAAAAAAAAAAAAAAAAAAAAAAAAAAAAAAAAAAAAAAAAAAAAAAAAAAAAAAAAAAAAAAA==",
            "dtype": "f8"
           }
          }
         ]
        },
        {
         "data": [
          {
           "mode": "lines+markers",
           "name": "user_1",
           "type": "scatter",
           "x": {
            "bdata": "AQIDBAUGBwgJCgsMDQ4P",
            "dtype": "i1"
           },
           "y": {
            "bdata": "AAAAAAAAAAAAAAAAAAAAAAAAAAAAAAAAAAAAAAAAAAAAAAAAAAAAAAAAAAAAAAAAAAAAAAAAAAAAAAAAAAAAAAAAAAAAAAAAAAAAAAAAAAAAAAAAAAAAAAAAAAAAAAAAAAAAAAAAAAAAAAAAAAAAAAAAAAAAAAAA",
            "dtype": "f8"
           }
          },
          {
           "mode": "lines+markers",
           "name": "user_10",
           "type": "scatter",
           "x": {
            "bdata": "AQIDBAUGBwgJCgsMDQ4P",
            "dtype": "i1"
           },
           "y": {
            "bdata": "AAAAAAAAAAAAAAAAAAAAAAAAAAAAAAAAAAAAAAAAAAAAAAAAAAAAAAAAAAAAAAAAAAAAAAAAAAAAAAAAAAAAAAAAAAAAAAAAAAAAAAAAAAAAAAAAAAAAAAAAAAAAAAAAAAAAAAAAAAAAAAAAAAAAAAAAAAAAAAAA",
            "dtype": "f8"
           }
          },
          {
           "mode": "lines+markers",
           "name": "user_11",
           "type": "scatter",
           "x": {
            "bdata": "AQIDBAUGBwgJCgsMDQ4P",
            "dtype": "i1"
           },
           "y": {
            "bdata": "AAAAAAAAAAAAAAAAAAAAAAAAAAAAAAAAAAAAAAAAAAAAAAAAAAAAAAAAAAAAAAAAAAAAAAAA8D8AAAAAAADwPwAAAAAAAPA/AAAAAAAA8D8AAAAAAADwPwAAAAAAAPA/AAAAAAAA8D8AAAAAAADwPwAAAAAAAPA/",
            "dtype": "f8"
           }
          },
          {
           "mode": "lines+markers",
           "name": "user_12",
           "type": "scatter",
           "x": {
            "bdata": "AQIDBAUGBwgJCgsMDQ4P",
            "dtype": "i1"
           },
           "y": {
            "bdata": "AAAAAAAAAAAAAAAAAAAAAAAAAAAAAAAAAAAAAAAAAAAAAAAAAAAAAAAAAAAAAAAAAAAAAAAAAAAAAAAAAAAAAAAAAAAAAAAAAAAAAAAAAAAAAAAAAAAAAAAAAAAAAAAAAAAAAAAAAAAAAAAAAAAAAAAAAAAAAAAA",
            "dtype": "f8"
           }
          },
          {
           "mode": "lines+markers",
           "name": "user_13",
           "type": "scatter",
           "x": {
            "bdata": "AQIDBAUGBwgJCgsMDQ4P",
            "dtype": "i1"
           },
           "y": {
            "bdata": "AAAAAAAAAAAAAAAAAAAAAAAAAAAAAAAAAAAAAAAAAAAAAAAAAAAAAAAAAAAAAAAAAAAAAAAAAAAAAAAAAAAAAAAAAAAAAAAAAAAAAAAAAAAAAAAAAAAAAAAAAAAAAAAAAAAAAAAAAAAAAAAAAAAAAAAAAAAAAABA",
            "dtype": "f8"
           }
          },
          {
           "mode": "lines+markers",
           "name": "user_14",
           "type": "scatter",
           "x": {
            "bdata": "AQIDBAUGBwgJCgsMDQ4P",
            "dtype": "i1"
           },
           "y": {
            "bdata": "AAAAAAAAAAAAAAAAAAAAAAAAAAAAAAAAAAAAAAAAAAAAAAAAAAAAAAAAAAAAAAAAAAAAAAAAAAAAAAAAAAAAAAAAAAAAAPA/AAAAAAAA8D8AAAAAAADwPwAAAAAAAPA/AAAAAAAAMkAAAAAAAAA5QAAAAAAAgEhA",
            "dtype": "f8"
           }
          },
          {
           "mode": "lines+markers",
           "name": "user_15",
           "type": "scatter",
           "x": {
            "bdata": "AQIDBAUGBwgJCgsMDQ4P",
            "dtype": "i1"
           },
           "y": {
            "bdata": "AAAAAAAAAAAAAAAAAAAAAAAAAAAAAAAAAAAAAAAAAAAAAAAAAAAAAAAAAAAAAAAAAAAAAAAAAAAAAAAAAAAAAAAAAAAAAAAAAAAAAAAAAAAAAAAAAAAAAAAAAAAAAAAAAAAAAAAAAAAAAAAAAAAAAAAAAAAAAAAA",
            "dtype": "f8"
           }
          },
          {
           "mode": "lines+markers",
           "name": "user_16",
           "type": "scatter",
           "x": {
            "bdata": "AQIDBAUGBwgJCgsMDQ4P",
            "dtype": "i1"
           },
           "y": {
            "bdata": "AAAAAAAAAAAAAAAAAAAAAAAAAAAAAAAAAAAAAAAAAAAAAAAAAAAAAAAAAAAAAAAAAAAAAAAAAAAAAAAAAAAAAAAAAAAAAAAAAAAAAAAAAAAAAAAAAAAAAAAAAAAAAAAAAAAAAAAAAAAAAAAAAAAAAAAAAAAAAAAA",
            "dtype": "f8"
           }
          },
          {
           "mode": "lines+markers",
           "name": "user_17",
           "type": "scatter",
           "x": {
            "bdata": "AQIDBAUGBwgJCgsMDQ4P",
            "dtype": "i1"
           },
           "y": {
            "bdata": "AAAAAAAAAAAAAAAAAADwPwAAAAAAAPA/AAAAAAAA8D8AAAAAAADwPwAAAAAAAPA/AAAAAAAA8D8AAAAAAADwPwAAAAAAAPA/AAAAAAAA8D8AAAAAAADwPwAAAAAAAPA/AAAAAAAA8D8AAAAAAADwPwAAAAAAAPA/",
            "dtype": "f8"
           }
          },
          {
           "mode": "lines+markers",
           "name": "user_18",
           "type": "scatter",
           "x": {
            "bdata": "AQIDBAUGBwgJCgsMDQ4P",
            "dtype": "i1"
           },
           "y": {
            "bdata": "AAAAAAAAAAAAAAAAAAAAAAAAAAAAAAAAAAAAAAAAAAAAAAAAAAAAAAAAAAAAAAAAAAAAAAAAAAAAAAAAAAAAAAAAAAAAAAAAAAAAAAAAAAAAAAAAAAAAAAAAAAAAAAAAAAAAAAAAAAAAAAAAAAAAAAAAAAAAABxA",
            "dtype": "f8"
           }
          },
          {
           "mode": "lines+markers",
           "name": "user_19",
           "type": "scatter",
           "x": {
            "bdata": "AQIDBAUGBwgJCgsMDQ4P",
            "dtype": "i1"
           },
           "y": {
            "bdata": "AAAAAAAAAAAAAAAAAAAAAAAAAAAAAAAAAAAAAAAAAAAAAAAAAAAAAAAAAAAAAAAAAAAAAAAAAAAAAAAAAAAAAAAAAAAAAAAAAAAAAAAAAAAAAAAAAAAAAAAAAAAAAAAAAAAAAAAAAAAAAAAAAAAAAAAAAAAAAAAA",
            "dtype": "f8"
           }
          },
          {
           "mode": "lines+markers",
           "name": "user_2",
           "type": "scatter",
           "x": {
            "bdata": "AQIDBAUGBwgJCgsMDQ4P",
            "dtype": "i1"
           },
           "y": {
            "bdata": "AAAAAAAAAAAAAAAAAAAAAAAAAAAAAAAAAAAAAAAAAAAAAAAAAAAAAAAAAAAAAAAAAAAAAAAAAAAAAAAAAAAAAAAAAAAAgExAAAAAAAAATUAAAAAAAABNQAAAAAAAAE1AAAAAAAAATUAAAAAAAABPQAAAAAAAgFJA",
            "dtype": "f8"
           }
          },
          {
           "mode": "lines+markers",
           "name": "user_20",
           "type": "scatter",
           "x": {
            "bdata": "AQIDBAUGBwgJCgsMDQ4P",
            "dtype": "i1"
           },
           "y": {
            "bdata": "AAAAAAAAAAAAAAAAAAAAAAAAAAAAAAAAAAAAAAAAAAAAAAAAAAAAAAAAAAAAAAAAAAAAAAAAAAAAAAAAAAAAAAAAAAAAAAAAAAAAAAAAAAAAAAAAAAAAAAAAAAAAAAAAAAAAAAAAAAAAAAAAAAAAAAAAAAAAACZA",
            "dtype": "f8"
           }
          },
          {
           "mode": "lines+markers",
           "name": "user_21",
           "type": "scatter",
           "x": {
            "bdata": "AQIDBAUGBwgJCgsMDQ4P",
            "dtype": "i1"
           },
           "y": {
            "bdata": "AAAAAAAAAAAAAAAAAAAAAAAAAAAAAAAAAAAAAAAAAAAAAAAAAAAAAAAAAAAAAAAAAAAAAAAAAAAAAAAAAAAAAAAAAAAAAAAAAAAAAAAAAAAAAAAAAAAAAAAAAAAAAAAAAAAAAAAAAAAAAAAAAAAcQAAAAAAAABxA",
            "dtype": "f8"
           }
          },
          {
           "mode": "lines+markers",
           "name": "user_22",
           "type": "scatter",
           "x": {
            "bdata": "AQIDBAUGBwgJCgsMDQ4P",
            "dtype": "i1"
           },
           "y": {
            "bdata": "AAAAAAAAAAAAAAAAAAAAAAAAAAAAAAAAAAAAAAAAAAAAAAAAAAAAAAAAAAAAAAAAAAAAAAAA8D8AAAAAAADwPwAAAAAAAPA/AAAAAAAA8D8AAAAAAADwPwAAAAAAAPA/AAAAAAAA8D8AAAAAAADwPwAAAAAAAPA/",
            "dtype": "f8"
           }
          },
          {
           "mode": "lines+markers",
           "name": "user_24",
           "type": "scatter",
           "x": {
            "bdata": "AQIDBAUGBwgJCgsMDQ4P",
            "dtype": "i1"
           },
           "y": {
            "bdata": "AAAAAAAAAAAAAAAAAAAAAAAAAAAAAAAAAAAAAAAAAAAAAAAAAAAAAAAAAAAAAAAAAAAAAAAAAAAAAAAAAAAAAAAAAAAAAAAAAAAAAAAAAAAAAAAAAAAAAAAAAAAAAAAAAAAAAAAAAAAAAAAAAAAAAAAAAAAAAAAA",
            "dtype": "f8"
           }
          },
          {
           "mode": "lines+markers",
           "name": "user_25",
           "type": "scatter",
           "x": {
            "bdata": "AQIDBAUGBwgJCgsMDQ4P",
            "dtype": "i1"
           },
           "y": {
            "bdata": "AAAAAAAAAAAAAAAAAAAAAAAAAAAAAAAAAAAAAAAAAAAAAAAAAAAAAAAAAAAAAAAAAAAAAAAAAAAAAAAAAAAAAAAAAAAAAAAAAAAAAAAAAAAAAAAAAAAAAAAAAAAAABRAAAAAAAAAO0AAAAAAAAA9QAAAAAAAgEBA",
            "dtype": "f8"
           }
          },
          {
           "mode": "lines+markers",
           "name": "user_26",
           "type": "scatter",
           "x": {
            "bdata": "AQIDBAUGBwgJCgsMDQ4P",
            "dtype": "i1"
           },
           "y": {
            "bdata": "AAAAAAAAAAAAAAAAAAAAAAAAAAAAAAAAAAAAAAAAAAAAAAAAAAAAAAAAAAAAAAAAAAAAAAAAAAAAAAAAAAAAAAAAAAAAAAAAAAAAAAAAAAAAAAAAAAAAAAAAAAAAAAAAAAAAAAAAAAAAAAAAAIBBQAAAAAAAgEFA",
            "dtype": "f8"
           }
          },
          {
           "mode": "lines+markers",
           "name": "user_27",
           "type": "scatter",
           "x": {
            "bdata": "AQIDBAUGBwgJCgsMDQ4P",
            "dtype": "i1"
           },
           "y": {
            "bdata": "AAAAAAAAAAAAAAAAAAAAAAAAAAAAAAAAAAAAAAAAAAAAAAAAAAAAAAAAAAAAAAAAAAAAAAAAAAAAAAAAAAAAAAAAAAAAAAAAAAAAAAAAAAAAAAAAAAAAAAAAAAAAAAAAAAAAAAAAAAAAAAAAAAAAAAAAAAAAAAAA",
            "dtype": "f8"
           }
          },
          {
           "mode": "lines+markers",
           "name": "user_28",
           "type": "scatter",
           "x": {
            "bdata": "AQIDBAUGBwgJCgsMDQ4P",
            "dtype": "i1"
           },
           "y": {
            "bdata": "AAAAAAAAAAAAAAAAAAAAAAAAAAAAAAAAAAAAAAAAAAAAAAAAAAAAAAAAAAAAAAAAAAAAAAAAAAAAAAAAAAAAAAAAAAAAAAAAAAAAAAAAAAAAAAAAAAAAAAAAAAAAAAAAAAAAAAAAAAAAAAAAAAAAAAAAAAAAAAAA",
            "dtype": "f8"
           }
          },
          {
           "mode": "lines+markers",
           "name": "user_29",
           "type": "scatter",
           "x": {
            "bdata": "AQIDBAUGBwgJCgsMDQ4P",
            "dtype": "i1"
           },
           "y": {
            "bdata": "AAAAAAAAAAAAAAAAAAAAAAAAAAAAAAAAAAAAAAAAAAAAAAAAAAAAAAAAAAAAAAAAAAAAAAAAAAAAAAAAAAAAAAAAAAAAAAAAAAAAAAAAAAAAAAAAAAAAAAAAAAAAAAAAAAAAAAAAAAAAAAAAAAAAAAAAAAAAABRA",
            "dtype": "f8"
           }
          },
          {
           "mode": "lines+markers",
           "name": "user_3",
           "type": "scatter",
           "x": {
            "bdata": "AQIDBAUGBwgJCgsMDQ4P",
            "dtype": "i1"
           },
           "y": {
            "bdata": "AAAAAAAAAAAAAAAAAAAAAAAAAAAAAAAAAAAAAAAAAAAAAAAAAAAAAAAAAAAAAAAAAAAAAAAAAAAAAAAAAAAAAAAAAAAAAAAAAAAAAAAAAAAAAAAAAADwPwAAAAAAADxAAAAAAAAAPUAAAAAAAAA/QAAAAAAAAEtA",
            "dtype": "f8"
           }
          },
          {
           "mode": "lines+markers",
           "name": "user_30",
           "type": "scatter",
           "x": {
            "bdata": "AQIDBAUGBwgJCgsMDQ4P",
            "dtype": "i1"
           },
           "y": {
            "bdata": "AAAAAAAAAAAAAAAAAAAAAAAAAAAAAAAAAAAAAAAA8D8AAAAAAAAAQAAAAAAAAABAAAAAAAAAEEAAAAAAAAAUQAAAAAAAABRAAAAAAAAAFEAAAAAAAAAoQAAAAAAAAChAAAAAAAAAKEAAAAAAAAAxQAAAAAAAADFA",
            "dtype": "f8"
           }
          },
          {
           "mode": "lines+markers",
           "name": "user_31",
           "type": "scatter",
           "x": {
            "bdata": "AQIDBAUGBwgJCgsMDQ4P",
            "dtype": "i1"
           },
           "y": {
            "bdata": "AAAAAAAAAAAAAAAAAAAAAAAAAAAAAAAAAAAAAAAAAAAAAAAAAAAAAAAAAAAAAAAAAAAAAAAAAAAAAAAAAAAAAAAAAAAAAAAAAAAAAAAAAAAAAAAAAADwPwAAAAAAAPA/AAAAAAAAEEAAAAAAAAAQQAAAAAAAABhA",
            "dtype": "f8"
           }
          },
          {
           "mode": "lines+markers",
           "name": "user_4",
           "type": "scatter",
           "x": {
            "bdata": "AQIDBAUGBwgJCgsMDQ4P",
            "dtype": "i1"
           },
           "y": {
            "bdata": "AAAAAAAAAAAAAAAAAAAcQAAAAAAAACZAAAAAAAAAJkAAAAAAAAA0QAAAAAAAADtAAAAAAACAQUAAAAAAAABIQAAAAAAAgEpAAAAAAACASkAAAAAAAMBRQAAAAAAAwFRAAAAAAADAVEAAAAAAAMBUQAAAAAAAwFVA",
            "dtype": "f8"
           }
          },
          {
           "mode": "lines+markers",
           "name": "user_6",
           "type": "scatter",
           "x": {
            "bdata": "AQIDBAUGBwgJCgsMDQ4P",
            "dtype": "i1"
           },
           "y": {
            "bdata": "AAAAAAAAAAAAAAAAAAAAAAAAAAAAAAAAAAAAAAAAAAAAAAAAAAAAAAAAAAAAAAAAAAAAAAAAAAAAAAAAAAAAAAAAAAAAAAAAAAAAAAAAAAAAAAAAAAAAAAAAAAAAAAAAAAAAAAAAAAAAAAAAAAAAAAAAAAAAAAAA",
            "dtype": "f8"
           }
          },
          {
           "mode": "lines+markers",
           "name": "user_8",
           "type": "scatter",
           "x": {
            "bdata": "AQIDBAUGBwgJCgsMDQ4P",
            "dtype": "i1"
           },
           "y": {
            "bdata": "AAAAAAAAAAAAAAAAAAAAAAAAAAAAAAAAAAAAAAAAAAAAAAAAAAAAAAAAAAAAAAAAAAAAAAAAAAAAAAAAAAAAAAAAAAAAAAAAAAAAAAAAAAAAAAAAAAAAAAAAAAAAAAAAAAAAAAAAAAAAAAAAAAAAAAAAAAAAAAAA",
            "dtype": "f8"
           }
          }
         ]
        },
        {
         "data": [
          {
           "mode": "lines+markers",
           "name": "user_1",
           "type": "scatter",
           "x": {
            "bdata": "AQIDBAUGBwgJCgsMDQ4PEA==",
            "dtype": "i1"
           },
           "y": {
            "bdata": "AAAAAAAAAAAAAAAAAAAAAAAAAAAAAAAAAAAAAAAAAAAAAAAAAAAAAAAAAAAAAAAAAAAAAAAAAAAAAAAAAAAAAAAAAAAAAAAAAAAAAAAAAAAAAAAAAAAAAAAAAAAAAAAAAAAAAAAAAAAAAAAAAAAAAAAAAAAAAAAAAAAAAAAAAAA=",
            "dtype": "f8"
           }
          },
          {
           "mode": "lines+markers",
           "name": "user_10",
           "type": "scatter",
           "x": {
            "bdata": "AQIDBAUGBwgJCgsMDQ4PEA==",
            "dtype": "i1"
           },
           "y": {
            "bdata": "AAAAAAAAAAAAAAAAAAAAAAAAAAAAAAAAAAAAAAAAAAAAAAAAAAAAAAAAAAAAAAAAAAAAAAAAAAAAAAAAAAAAAAAAAAAAAAAAAAAAAAAAAAAAAAAAAAAAAAAAAAAAAAAAAAAAAAAAAAAAAAAAAAAAAAAAAAAAAAAAAAAAAAAAHEA=",
            "dtype": "f8"
           }
          },
          {
           "mode": "lines+markers",
           "name": "user_11",
           "type": "scatter",
           "x": {
            "bdata": "AQIDBAUGBwgJCgsMDQ4PEA==",
            "dtype": "i1"
           },
           "y": {
            "bdata": "AAAAAAAAAAAAAAAAAAAAAAAAAAAAAAAAAAAAAAAAAAAAAAAAAAAAAAAAAAAAAAAAAAAAAAAA8D8AAAAAAADwPwAAAAAAAPA/AAAAAAAA8D8AAAAAAADwPwAAAAAAAPA/AAAAAAAA8D8AAAAAAADwPwAAAAAAAPA/AAAAAAAA8D8=",
            "dtype": "f8"
           }
          },
          {
           "mode": "lines+markers",
           "name": "user_12",
           "type": "scatter",
           "x": {
            "bdata": "AQIDBAUGBwgJCgsMDQ4PEA==",
            "dtype": "i1"
           },
           "y": {
            "bdata": "AAAAAAAAAAAAAAAAAAAAAAAAAAAAAAAAAAAAAAAAAAAAAAAAAAAAAAAAAAAAAAAAAAAAAAAAAAAAAAAAAAAAAAAAAAAAAAAAAAAAAAAAAAAAAAAAAAAAAAAAAAAAAAAAAAAAAAAAAAAAAAAAAAAAAAAAAAAAAAAAAAAAAAAAAAA=",
            "dtype": "f8"
           }
          },
          {
           "mode": "lines+markers",
           "name": "user_13",
           "type": "scatter",
           "x": {
            "bdata": "AQIDBAUGBwgJCgsMDQ4PEA==",
            "dtype": "i1"
           },
           "y": {
            "bdata": "AAAAAAAAAAAAAAAAAAAAAAAAAAAAAAAAAAAAAAAAAAAAAAAAAAAAAAAAAAAAAAAAAAAAAAAAAAAAAAAAAAAAAAAAAAAAAAAAAAAAAAAAAAAAAAAAAAAAAAAAAAAAAAAAAAAAAAAAAAAAAAAAAAAAAAAAAAAAAABAAAAAAAAAPkA=",
            "dtype": "f8"
           }
          },
          {
           "mode": "lines+markers",
           "name": "user_14",
           "type": "scatter",
           "x": {
            "bdata": "AQIDBAUGBwgJCgsMDQ4PEA==",
            "dtype": "i1"
           },
           "y": {
            "bdata": "AAAAAAAAAAAAAAAAAAAAAAAAAAAAAAAAAAAAAAAAAAAAAAAAAAAAAAAAAAAAAAAAAAAAAAAAAAAAAAAAAAAAAAAAAAAAAPA/AAAAAAAA8D8AAAAAAADwPwAAAAAAAPA/AAAAAAAAMkAAAAAAAAA5QAAAAAAAgEhAAAAAAAAAV0A=",
            "dtype": "f8"
           }
          },
          {
           "mode": "lines+markers",
           "name": "user_15",
           "type": "scatter",
           "x": {
            "bdata": "AQIDBAUGBwgJCgsMDQ4PEA==",
            "dtype": "i1"
           },
           "y": {
            "bdata": "AAAAAAAAAAAAAAAAAAAAAAAAAAAAAAAAAAAAAAAAAAAAAAAAAAAAAAAAAAAAAAAAAAAAAAAAAAAAAAAAAAAAAAAAAAAAAAAAAAAAAAAAAAAAAAAAAAAAAAAAAAAAAAAAAAAAAAAAAAAAAAAAAAAAAAAAAAAAAAAAAAAAAAAAAAA=",
            "dtype": "f8"
           }
          },
          {
           "mode": "lines+markers",
           "name": "user_16",
           "type": "scatter",
           "x": {
            "bdata": "AQIDBAUGBwgJCgsMDQ4PEA==",
            "dtype": "i1"
           },
           "y": {
            "bdata": "AAAAAAAAAAAAAAAAAAAAAAAAAAAAAAAAAAAAAAAAAAAAAAAAAAAAAAAAAAAAAAAAAAAAAAAAAAAAAAAAAAAAAAAAAAAAAAAAAAAAAAAAAAAAAAAAAAAAAAAAAAAAAAAAAAAAAAAAAAAAAAAAAAAAAAAAAAAAAAAAAAAAAAAACEA=",
            "dtype": "f8"
           }
          },
          {
           "mode": "lines+markers",
           "name": "user_17",
           "type": "scatter",
           "x": {
            "bdata": "AQIDBAUGBwgJCgsMDQ4PEA==",
            "dtype": "i1"
           },
           "y": {
            "bdata": "AAAAAAAAAAAAAAAAAADwPwAAAAAAAPA/AAAAAAAA8D8AAAAAAADwPwAAAAAAAPA/AAAAAAAA8D8AAAAAAADwPwAAAAAAAPA/AAAAAAAA8D8AAAAAAADwPwAAAAAAAPA/AAAAAAAA8D8AAAAAAADwPwAAAAAAAPA/AAAAAAAACEA=",
            "dtype": "f8"
           }
          },
          {
           "mode": "lines+markers",
           "name": "user_18",
           "type": "scatter",
           "x": {
            "bdata": "AQIDBAUGBwgJCgsMDQ4PEA==",
            "dtype": "i1"
           },
           "y": {
            "bdata": "AAAAAAAAAAAAAAAAAAAAAAAAAAAAAAAAAAAAAAAAAAAAAAAAAAAAAAAAAAAAAAAAAAAAAAAAAAAAAAAAAAAAAAAAAAAAAAAAAAAAAAAAAAAAAAAAAAAAAAAAAAAAAAAAAAAAAAAAAAAAAAAAAAAAAAAAAAAAABxAAAAAAAAAHEA=",
            "dtype": "f8"
           }
          },
          {
           "mode": "lines+markers",
           "name": "user_19",
           "type": "scatter",
           "x": {
            "bdata": "AQIDBAUGBwgJCgsMDQ4PEA==",
            "dtype": "i1"
           },
           "y": {
            "bdata": "AAAAAAAAAAAAAAAAAAAAAAAAAAAAAAAAAAAAAAAAAAAAAAAAAAAAAAAAAAAAAAAAAAAAAAAAAAAAAAAAAAAAAAAAAAAAAAAAAAAAAAAAAAAAAAAAAAAAAAAAAAAAAAAAAAAAAAAAAAAAAAAAAAAAAAAAAAAAAAAAAAAAAAAAAAA=",
            "dtype": "f8"
           }
          },
          {
           "mode": "lines+markers",
           "name": "user_2",
           "type": "scatter",
           "x": {
            "bdata": "AQIDBAUGBwgJCgsMDQ4PEA==",
            "dtype": "i1"
           },
           "y": {
            "bdata": "AAAAAAAAAAAAAAAAAAAAAAAAAAAAAAAAAAAAAAAAAAAAAAAAAAAAAAAAAAAAAAAAAAAAAAAAAAAAAAAAAAAAAAAAAAAAgExAAAAAAAAATUAAAAAAAABNQAAAAAAAAE1AAAAAAAAATUAAAAAAAABPQAAAAAAAgFJAAAAAAACAU0A=",
            "dtype": "f8"
           }
          },
          {
           "mode": "lines+markers",
           "name": "user_20",
           "type": "scatter",
           "x": {
            "bdata": "AQIDBAUGBwgJCgsMDQ4PEA==",
            "dtype": "i1"
           },
           "y": {
            "bdata": "AAAAAAAAAAAAAAAAAAAAAAAAAAAAAAAAAAAAAAAAAAAAAAAAAAAAAAAAAAAAAAAAAAAAAAAAAAAAAAAAAAAAAAAAAAAAAAAAAAAAAAAAAAAAAAAAAAAAAAAAAAAAAAAAAAAAAAAAAAAAAAAAAAAAAAAAAAAAACZAAAAAAAAAJkA=",
            "dtype": "f8"
           }
          },
          {
           "mode": "lines+markers",
           "name": "user_21",
           "type": "scatter",
           "x": {
            "bdata": "AQIDBAUGBwgJCgsMDQ4PEA==",
            "dtype": "i1"
           },
           "y": {
            "bdata": "AAAAAAAAAAAAAAAAAAAAAAAAAAAAAAAAAAAAAAAAAAAAAAAAAAAAAAAAAAAAAAAAAAAAAAAAAAAAAAAAAAAAAAAAAAAAAAAAAAAAAAAAAAAAAAAAAAAAAAAAAAAAAAAAAAAAAAAAAAAAAAAAAAAcQAAAAAAAABxAAAAAAAAAHEA=",
            "dtype": "f8"
           }
          },
          {
           "mode": "lines+markers",
           "name": "user_22",
           "type": "scatter",
           "x": {
            "bdata": "AQIDBAUGBwgJCgsMDQ4PEA==",
            "dtype": "i1"
           },
           "y": {
            "bdata": "AAAAAAAAAAAAAAAAAAAAAAAAAAAAAAAAAAAAAAAAAAAAAAAAAAAAAAAAAAAAAAAAAAAAAAAA8D8AAAAAAADwPwAAAAAAAPA/AAAAAAAA8D8AAAAAAADwPwAAAAAAAPA/AAAAAAAA8D8AAAAAAADwPwAAAAAAAPA/AAAAAAAA8D8=",
            "dtype": "f8"
           }
          },
          {
           "mode": "lines+markers",
           "name": "user_24",
           "type": "scatter",
           "x": {
            "bdata": "AQIDBAUGBwgJCgsMDQ4PEA==",
            "dtype": "i1"
           },
           "y": {
            "bdata": "AAAAAAAAAAAAAAAAAAAAAAAAAAAAAAAAAAAAAAAAAAAAAAAAAAAAAAAAAAAAAAAAAAAAAAAAAAAAAAAAAAAAAAAAAAAAAAAAAAAAAAAAAAAAAAAAAAAAAAAAAAAAAAAAAAAAAAAAAAAAAAAAAAAAAAAAAAAAAAAAAAAAAAAAAAA=",
            "dtype": "f8"
           }
          },
          {
           "mode": "lines+markers",
           "name": "user_25",
           "type": "scatter",
           "x": {
            "bdata": "AQIDBAUGBwgJCgsMDQ4PEA==",
            "dtype": "i1"
           },
           "y": {
            "bdata": "AAAAAAAAAAAAAAAAAAAAAAAAAAAAAAAAAAAAAAAAAAAAAAAAAAAAAAAAAAAAAAAAAAAAAAAAAAAAAAAAAAAAAAAAAAAAAAAAAAAAAAAAAAAAAAAAAAAAAAAAAAAAABRAAAAAAAAAO0AAAAAAAAA9QAAAAAAAgEBAAAAAAAAAS0A=",
            "dtype": "f8"
           }
          },
          {
           "mode": "lines+markers",
           "name": "user_26",
           "type": "scatter",
           "x": {
            "bdata": "AQIDBAUGBwgJCgsMDQ4PEA==",
            "dtype": "i1"
           },
           "y": {
            "bdata": "AAAAAAAAAAAAAAAAAAAAAAAAAAAAAAAAAAAAAAAAAAAAAAAAAAAAAAAAAAAAAAAAAAAAAAAAAAAAAAAAAAAAAAAAAAAAAAAAAAAAAAAAAAAAAAAAAAAAAAAAAAAAAAAAAAAAAAAAAAAAAAAAAIBBQAAAAAAAgEFAAAAAAACAQUA=",
            "dtype": "f8"
           }
          },
          {
           "mode": "lines+markers",
           "name": "user_27",
           "type": "scatter",
           "x": {
            "bdata": "AQIDBAUGBwgJCgsMDQ4PEA==",
            "dtype": "i1"
           },
           "y": {
            "bdata": "AAAAAAAAAAAAAAAAAAAAAAAAAAAAAAAAAAAAAAAAAAAAAAAAAAAAAAAAAAAAAAAAAAAAAAAAAAAAAAAAAAAAAAAAAAAAAAAAAAAAAAAAAAAAAAAAAAAAAAAAAAAAAAAAAAAAAAAAAAAAAAAAAAAAAAAAAAAAAAAAAAAAAAAAAAA=",
            "dtype": "f8"
           }
          },
          {
           "mode": "lines+markers",
           "name": "user_28",
           "type": "scatter",
           "x": {
            "bdata": "AQIDBAUGBwgJCgsMDQ4PEA==",
            "dtype": "i1"
           },
           "y": {
            "bdata": "AAAAAAAAAAAAAAAAAAAAAAAAAAAAAAAAAAAAAAAAAAAAAAAAAAAAAAAAAAAAAAAAAAAAAAAAAAAAAAAAAAAAAAAAAAAAAAAAAAAAAAAAAAAAAAAAAAAAAAAAAAAAAAAAAAAAAAAAAAAAAAAAAAAAAAAAAAAAAAAAAAAAAAAAAEA=",
            "dtype": "f8"
           }
          },
          {
           "mode": "lines+markers",
           "name": "user_29",
           "type": "scatter",
           "x": {
            "bdata": "AQIDBAUGBwgJCgsMDQ4PEA==",
            "dtype": "i1"
           },
           "y": {
            "bdata": "AAAAAAAAAAAAAAAAAAAAAAAAAAAAAAAAAAAAAAAAAAAAAAAAAAAAAAAAAAAAAAAAAAAAAAAAAAAAAAAAAAAAAAAAAAAAAAAAAAAAAAAAAAAAAAAAAAAAAAAAAAAAAAAAAAAAAAAAAAAAAAAAAAAAAAAAAAAAABRAAAAAAAAAMkA=",
            "dtype": "f8"
           }
          },
          {
           "mode": "lines+markers",
           "name": "user_3",
           "type": "scatter",
           "x": {
            "bdata": "AQIDBAUGBwgJCgsMDQ4PEA==",
            "dtype": "i1"
           },
           "y": {
            "bdata": "AAAAAAAAAAAAAAAAAAAAAAAAAAAAAAAAAAAAAAAAAAAAAAAAAAAAAAAAAAAAAAAAAAAAAAAAAAAAAAAAAAAAAAAAAAAAAAAAAAAAAAAAAAAAAAAAAADwPwAAAAAAADxAAAAAAAAAPUAAAAAAAAA/QAAAAAAAAEtAAAAAAAAATEA=",
            "dtype": "f8"
           }
          },
          {
           "mode": "lines+markers",
           "name": "user_30",
           "type": "scatter",
           "x": {
            "bdata": "AQIDBAUGBwgJCgsMDQ4PEA==",
            "dtype": "i1"
           },
           "y": {
            "bdata": "AAAAAAAAAAAAAAAAAAAAAAAAAAAAAAAAAAAAAAAA8D8AAAAAAAAAQAAAAAAAAABAAAAAAAAAEEAAAAAAAAAUQAAAAAAAABRAAAAAAAAAFEAAAAAAAAAoQAAAAAAAAChAAAAAAAAAKEAAAAAAAAAxQAAAAAAAADFAAAAAAAAAMUA=",
            "dtype": "f8"
           }
          },
          {
           "mode": "lines+markers",
           "name": "user_31",
           "type": "scatter",
           "x": {
            "bdata": "AQIDBAUGBwgJCgsMDQ4PEA==",
            "dtype": "i1"
           },
           "y": {
            "bdata": "AAAAAAAAAAAAAAAAAAAAAAAAAAAAAAAAAAAAAAAAAAAAAAAAAAAAAAAAAAAAAAAAAAAAAAAAAAAAAAAAAAAAAAAAAAAAAAAAAAAAAAAAAAAAAAAAAADwPwAAAAAAAPA/AAAAAAAAEEAAAAAAAAAQQAAAAAAAABhAAAAAAAAAGEA=",
            "dtype": "f8"
           }
          },
          {
           "mode": "lines+markers",
           "name": "user_4",
           "type": "scatter",
           "x": {
            "bdata": "AQIDBAUGBwgJCgsMDQ4PEA==",
            "dtype": "i1"
           },
           "y": {
            "bdata": "AAAAAAAAAAAAAAAAAAAcQAAAAAAAACZAAAAAAAAAJkAAAAAAAAA0QAAAAAAAADtAAAAAAACAQUAAAAAAAABIQAAAAAAAgEpAAAAAAACASkAAAAAAAMBRQAAAAAAAwFRAAAAAAADAVEAAAAAAAMBUQAAAAAAAwFVAAAAAAABAX0A=",
            "dtype": "f8"
           }
          },
          {
           "mode": "lines+markers",
           "name": "user_6",
           "type": "scatter",
           "x": {
            "bdata": "AQIDBAUGBwgJCgsMDQ4PEA==",
            "dtype": "i1"
           },
           "y": {
            "bdata": "AAAAAAAAAAAAAAAAAAAAAAAAAAAAAAAAAAAAAAAAAAAAAAAAAAAAAAAAAAAAAAAAAAAAAAAAAAAAAAAAAAAAAAAAAAAAAAAAAAAAAAAAAAAAAAAAAAAAAAAAAAAAAAAAAAAAAAAAAAAAAAAAAAAAAAAAAAAAAAAAAAAAAAAAAAA=",
            "dtype": "f8"
           }
          },
          {
           "mode": "lines+markers",
           "name": "user_8",
           "type": "scatter",
           "x": {
            "bdata": "AQIDBAUGBwgJCgsMDQ4PEA==",
            "dtype": "i1"
           },
           "y": {
            "bdata": "AAAAAAAAAAAAAAAAAAAAAAAAAAAAAAAAAAAAAAAAAAAAAAAAAAAAAAAAAAAAAAAAAAAAAAAAAAAAAAAAAAAAAAAAAAAAAAAAAAAAAAAAAAAAAAAAAAAAAAAAAAAAAAAAAAAAAAAAAAAAAAAAAAAAAAAAAAAAAAAAAAAAAAAAAAA=",
            "dtype": "f8"
           }
          }
         ]
        },
        {
         "data": [
          {
           "mode": "lines+markers",
           "name": "user_1",
           "type": "scatter",
           "x": {
            "bdata": "AQIDBAUGBwgJCgsMDQ4PEBE=",
            "dtype": "i1"
           },
           "y": {
            "bdata": "AAAAAAAAAAAAAAAAAAAAAAAAAAAAAAAAAAAAAAAAAAAAAAAAAAAAAAAAAAAAAAAAAAAAAAAAAAAAAAAAAAAAAAAAAAAAAAAAAAAAAAAAAAAAAAAAAAAAAAAAAAAAAAAAAAAAAAAAAAAAAAAAAAAAAAAAAAAAAAAAAAAAAAAAAAAAAAAAAAAAAA==",
            "dtype": "f8"
           }
          },
          {
           "mode": "lines+markers",
           "name": "user_10",
           "type": "scatter",
           "x": {
            "bdata": "AQIDBAUGBwgJCgsMDQ4PEBE=",
            "dtype": "i1"
           },
           "y": {
            "bdata": "AAAAAAAAAAAAAAAAAAAAAAAAAAAAAAAAAAAAAAAAAAAAAAAAAAAAAAAAAAAAAAAAAAAAAAAAAAAAAAAAAAAAAAAAAAAAAAAAAAAAAAAAAAAAAAAAAAAAAAAAAAAAAAAAAAAAAAAAAAAAAAAAAAAAAAAAAAAAAAAAAAAAAAAAHEAAAAAAAAA1QA==",
            "dtype": "f8"
           }
          },
          {
           "mode": "lines+markers",
           "name": "user_11",
           "type": "scatter",
           "x": {
            "bdata": "AQIDBAUGBwgJCgsMDQ4PEBE=",
            "dtype": "i1"
           },
           "y": {
            "bdata": "AAAAAAAAAAAAAAAAAAAAAAAAAAAAAAAAAAAAAAAAAAAAAAAAAAAAAAAAAAAAAAAAAAAAAAAA8D8AAAAAAADwPwAAAAAAAPA/AAAAAAAA8D8AAAAAAADwPwAAAAAAAPA/AAAAAAAA8D8AAAAAAADwPwAAAAAAAPA/AAAAAAAA8D8AAAAAAADwPw==",
            "dtype": "f8"
           }
          },
          {
           "mode": "lines+markers",
           "name": "user_12",
           "type": "scatter",
           "x": {
            "bdata": "AQIDBAUGBwgJCgsMDQ4PEBE=",
            "dtype": "i1"
           },
           "y": {
            "bdata": "AAAAAAAAAAAAAAAAAAAAAAAAAAAAAAAAAAAAAAAAAAAAAAAAAAAAAAAAAAAAAAAAAAAAAAAAAAAAAAAAAAAAAAAAAAAAAAAAAAAAAAAAAAAAAAAAAAAAAAAAAAAAAAAAAAAAAAAAAAAAAAAAAAAAAAAAAAAAAAAAAAAAAAAAAAAAAAAAAAAAAA==",
            "dtype": "f8"
           }
          },
          {
           "mode": "lines+markers",
           "name": "user_13",
           "type": "scatter",
           "x": {
            "bdata": "AQIDBAUGBwgJCgsMDQ4PEBE=",
            "dtype": "i1"
           },
           "y": {
            "bdata": "AAAAAAAAAAAAAAAAAAAAAAAAAAAAAAAAAAAAAAAAAAAAAAAAAAAAAAAAAAAAAAAAAAAAAAAAAAAAAAAAAAAAAAAAAAAAAAAAAAAAAAAAAAAAAAAAAAAAAAAAAAAAAAAAAAAAAAAAAAAAAAAAAAAAAAAAAAAAAABAAAAAAAAAPkAAAAAAAAA+QA==",
            "dtype": "f8"
           }
          },
          {
           "mode": "lines+markers",
           "name": "user_14",
           "type": "scatter",
           "x": {
            "bdata": "AQIDBAUGBwgJCgsMDQ4PEBE=",
            "dtype": "i1"
           },
           "y": {
            "bdata": "AAAAAAAAAAAAAAAAAAAAAAAAAAAAAAAAAAAAAAAAAAAAAAAAAAAAAAAAAAAAAAAAAAAAAAAAAAAAAAAAAAAAAAAAAAAAAPA/AAAAAAAA8D8AAAAAAADwPwAAAAAAAPA/AAAAAAAAMkAAAAAAAAA5QAAAAAAAgEhAAAAAAAAAV0AAAAAAAABXQA==",
            "dtype": "f8"
           }
          },
          {
           "mode": "lines+markers",
           "name": "user_15",
           "type": "scatter",
           "x": {
            "bdata": "AQIDBAUGBwgJCgsMDQ4PEBE=",
            "dtype": "i1"
           },
           "y": {
            "bdata": "AAAAAAAAAAAAAAAAAAAAAAAAAAAAAAAAAAAAAAAAAAAAAAAAAAAAAAAAAAAAAAAAAAAAAAAAAAAAAAAAAAAAAAAAAAAAAAAAAAAAAAAAAAAAAAAAAAAAAAAAAAAAAAAAAAAAAAAAAAAAAAAAAAAAAAAAAAAAAAAAAAAAAAAAAAAAAAAAAAAAAA==",
            "dtype": "f8"
           }
          },
          {
           "mode": "lines+markers",
           "name": "user_16",
           "type": "scatter",
           "x": {
            "bdata": "AQIDBAUGBwgJCgsMDQ4PEBE=",
            "dtype": "i1"
           },
           "y": {
            "bdata": "AAAAAAAAAAAAAAAAAAAAAAAAAAAAAAAAAAAAAAAAAAAAAAAAAAAAAAAAAAAAAAAAAAAAAAAAAAAAAAAAAAAAAAAAAAAAAAAAAAAAAAAAAAAAAAAAAAAAAAAAAAAAAAAAAAAAAAAAAAAAAAAAAAAAAAAAAAAAAAAAAAAAAAAACEAAAAAAAAAIQA==",
            "dtype": "f8"
           }
          },
          {
           "mode": "lines+markers",
           "name": "user_17",
           "type": "scatter",
           "x": {
            "bdata": "AQIDBAUGBwgJCgsMDQ4PEBE=",
            "dtype": "i1"
           },
           "y": {
            "bdata": "AAAAAAAAAAAAAAAAAADwPwAAAAAAAPA/AAAAAAAA8D8AAAAAAADwPwAAAAAAAPA/AAAAAAAA8D8AAAAAAADwPwAAAAAAAPA/AAAAAAAA8D8AAAAAAADwPwAAAAAAAPA/AAAAAAAA8D8AAAAAAADwPwAAAAAAAPA/AAAAAAAACEAAAAAAAAAIQA==",
            "dtype": "f8"
           }
          },
          {
           "mode": "lines+markers",
           "name": "user_18",
           "type": "scatter",
           "x": {
            "bdata": "AQIDBAUGBwgJCgsMDQ4PEBE=",
            "dtype": "i1"
           },
           "y": {
            "bdata": "AAAAAAAAAAAAAAAAAAAAAAAAAAAAAAAAAAAAAAAAAAAAAAAAAAAAAAAAAAAAAAAAAAAAAAAAAAAAAAAAAAAAAAAAAAAAAAAAAAAAAAAAAAAAAAAAAAAAAAAAAAAAAAAAAAAAAAAAAAAAAAAAAAAAAAAAAAAAABxAAAAAAAAAHEAAAAAAAAAgQA==",
            "dtype": "f8"
           }
          },
          {
           "mode": "lines+markers",
           "name": "user_19",
           "type": "scatter",
           "x": {
            "bdata": "AQIDBAUGBwgJCgsMDQ4PEBE=",
            "dtype": "i1"
           },
           "y": {
            "bdata": "AAAAAAAAAAAAAAAAAAAAAAAAAAAAAAAAAAAAAAAAAAAAAAAAAAAAAAAAAAAAAAAAAAAAAAAAAAAAAAAAAAAAAAAAAAAAAAAAAAAAAAAAAAAAAAAAAAAAAAAAAAAAAAAAAAAAAAAAAAAAAAAAAAAAAAAAAAAAAAAAAAAAAAAAAAAAAAAAAAAAAA==",
            "dtype": "f8"
           }
          },
          {
           "mode": "lines+markers",
           "name": "user_2",
           "type": "scatter",
           "x": {
            "bdata": "AQIDBAUGBwgJCgsMDQ4PEBE=",
            "dtype": "i1"
           },
           "y": {
            "bdata": "AAAAAAAAAAAAAAAAAAAAAAAAAAAAAAAAAAAAAAAAAAAAAAAAAAAAAAAAAAAAAAAAAAAAAAAAAAAAAAAAAAAAAAAAAAAAgExAAAAAAAAATUAAAAAAAABNQAAAAAAAAE1AAAAAAAAATUAAAAAAAABPQAAAAAAAgFJAAAAAAACAU0AAAAAAAEBXQA==",
            "dtype": "f8"
           }
          },
          {
           "mode": "lines+markers",
           "name": "user_20",
           "type": "scatter",
           "x": {
            "bdata": "AQIDBAUGBwgJCgsMDQ4PEBE=",
            "dtype": "i1"
           },
           "y": {
            "bdata": "AAAAAAAAAAAAAAAAAAAAAAAAAAAAAAAAAAAAAAAAAAAAAAAAAAAAAAAAAAAAAAAAAAAAAAAAAAAAAAAAAAAAAAAAAAAAAAAAAAAAAAAAAAAAAAAAAAAAAAAAAAAAAAAAAAAAAAAAAAAAAAAAAAAAAAAAAAAAACZAAAAAAAAAJkAAAAAAAAAmQA==",
            "dtype": "f8"
           }
          },
          {
           "mode": "lines+markers",
           "name": "user_21",
           "type": "scatter",
           "x": {
            "bdata": "AQIDBAUGBwgJCgsMDQ4PEBE=",
            "dtype": "i1"
           },
           "y": {
            "bdata": "AAAAAAAAAAAAAAAAAAAAAAAAAAAAAAAAAAAAAAAAAAAAAAAAAAAAAAAAAAAAAAAAAAAAAAAAAAAAAAAAAAAAAAAAAAAAAAAAAAAAAAAAAAAAAAAAAAAAAAAAAAAAAAAAAAAAAAAAAAAAAAAAAAAcQAAAAAAAABxAAAAAAAAAHEAAAAAAAAAcQA==",
            "dtype": "f8"
           }
          },
          {
           "mode": "lines+markers",
           "name": "user_22",
           "type": "scatter",
           "x": {
            "bdata": "AQIDBAUGBwgJCgsMDQ4PEBE=",
            "dtype": "i1"
           },
           "y": {
            "bdata": "AAAAAAAAAAAAAAAAAAAAAAAAAAAAAAAAAAAAAAAAAAAAAAAAAAAAAAAAAAAAAAAAAAAAAAAA8D8AAAAAAADwPwAAAAAAAPA/AAAAAAAA8D8AAAAAAADwPwAAAAAAAPA/AAAAAAAA8D8AAAAAAADwPwAAAAAAAPA/AAAAAAAA8D8AAAAAAADwPw==",
            "dtype": "f8"
           }
          },
          {
           "mode": "lines+markers",
           "name": "user_24",
           "type": "scatter",
           "x": {
            "bdata": "AQIDBAUGBwgJCgsMDQ4PEBE=",
            "dtype": "i1"
           },
           "y": {
            "bdata": "AAAAAAAAAAAAAAAAAAAAAAAAAAAAAAAAAAAAAAAAAAAAAAAAAAAAAAAAAAAAAAAAAAAAAAAAAAAAAAAAAAAAAAAAAAAAAAAAAAAAAAAAAAAAAAAAAAAAAAAAAAAAAAAAAAAAAAAAAAAAAAAAAAAAAAAAAAAAAAAAAAAAAAAAAAAAAAAAAAAiQA==",
            "dtype": "f8"
           }
          },
          {
           "mode": "lines+markers",
           "name": "user_25",
           "type": "scatter",
           "x": {
            "bdata": "AQIDBAUGBwgJCgsMDQ4PEBE=",
            "dtype": "i1"
           },
           "y": {
            "bdata": "AAAAAAAAAAAAAAAAAAAAAAAAAAAAAAAAAAAAAAAAAAAAAAAAAAAAAAAAAAAAAAAAAAAAAAAAAAAAAAAAAAAAAAAAAAAAAAAAAAAAAAAAAAAAAAAAAAAAAAAAAAAAABRAAAAAAAAAO0AAAAAAAAA9QAAAAAAAgEBAAAAAAAAAS0AAAAAAAIBMQA==",
            "dtype": "f8"
           }
          },
          {
           "mode": "lines+markers",
           "name": "user_26",
           "type": "scatter",
           "x": {
            "bdata": "AQIDBAUGBwgJCgsMDQ4PEBE=",
            "dtype": "i1"
           },
           "y": {
            "bdata": "AAAAAAAAAAAAAAAAAAAAAAAAAAAAAAAAAAAAAAAAAAAAAAAAAAAAAAAAAAAAAAAAAAAAAAAAAAAAAAAAAAAAAAAAAAAAAAAAAAAAAAAAAAAAAAAAAAAAAAAAAAAAAAAAAAAAAAAAAAAAAAAAAIBBQAAAAAAAgEFAAAAAAACAQUAAAAAAAABKQA==",
            "dtype": "f8"
           }
          },
          {
           "mode": "lines+markers",
           "name": "user_27",
           "type": "scatter",
           "x": {
            "bdata": "AQIDBAUGBwgJCgsMDQ4PEBE=",
            "dtype": "i1"
           },
           "y": {
            "bdata": "AAAAAAAAAAAAAAAAAAAAAAAAAAAAAAAAAAAAAAAAAAAAAAAAAAAAAAAAAAAAAAAAAAAAAAAAAAAAAAAAAAAAAAAAAAAAAAAAAAAAAAAAAAAAAAAAAAAAAAAAAAAAAAAAAAAAAAAAAAAAAAAAAAAAAAAAAAAAAAAAAAAAAAAAAAAAAAAAAAAAAA==",
            "dtype": "f8"
           }
          },
          {
           "mode": "lines+markers",
           "name": "user_28",
           "type": "scatter",
           "x": {
            "bdata": "AQIDBAUGBwgJCgsMDQ4PEBE=",
            "dtype": "i1"
           },
           "y": {
            "bdata": "AAAAAAAAAAAAAAAAAAAAAAAAAAAAAAAAAAAAAAAAAAAAAAAAAAAAAAAAAAAAAAAAAAAAAAAAAAAAAAAAAAAAAAAAAAAAAAAAAAAAAAAAAAAAAAAAAAAAAAAAAAAAAAAAAAAAAAAAAAAAAAAAAAAAAAAAAAAAAAAAAAAAAAAAAEAAAAAAAAA0QA==",
            "dtype": "f8"
           }
          },
          {
           "mode": "lines+markers",
           "name": "user_29",
           "type": "scatter",
           "x": {
            "bdata": "AQIDBAUGBwgJCgsMDQ4PEBE=",
            "dtype": "i1"
           },
           "y": {
            "bdata": "AAAAAAAAAAAAAAAAAAAAAAAAAAAAAAAAAAAAAAAAAAAAAAAAAAAAAAAAAAAAAAAAAAAAAAAAAAAAAAAAAAAAAAAAAAAAAAAAAAAAAAAAAAAAAAAAAAAAAAAAAAAAAAAAAAAAAAAAAAAAAAAAAAAAAAAAAAAAABRAAAAAAAAAMkAAAAAAAABBQA==",
            "dtype": "f8"
           }
          },
          {
           "mode": "lines+markers",
           "name": "user_3",
           "type": "scatter",
           "x": {
            "bdata": "AQIDBAUGBwgJCgsMDQ4PEBE=",
            "dtype": "i1"
           },
           "y": {
            "bdata": "AAAAAAAAAAAAAAAAAAAAAAAAAAAAAAAAAAAAAAAAAAAAAAAAAAAAAAAAAAAAAAAAAAAAAAAAAAAAAAAAAAAAAAAAAAAAAAAAAAAAAAAAAAAAAAAAAADwPwAAAAAAADxAAAAAAAAAPUAAAAAAAAA/QAAAAAAAAEtAAAAAAAAATEAAAAAAAABMQA==",
            "dtype": "f8"
           }
          },
          {
           "mode": "lines+markers",
           "name": "user_30",
           "type": "scatter",
           "x": {
            "bdata": "AQIDBAUGBwgJCgsMDQ4PEBE=",
            "dtype": "i1"
           },
           "y": {
            "bdata": "AAAAAAAAAAAAAAAAAAAAAAAAAAAAAAAAAAAAAAAA8D8AAAAAAAAAQAAAAAAAAABAAAAAAAAAEEAAAAAAAAAUQAAAAAAAABRAAAAAAAAAFEAAAAAAAAAoQAAAAAAAAChAAAAAAAAAKEAAAAAAAAAxQAAAAAAAADFAAAAAAAAAMUAAAAAAAAAxQA==",
            "dtype": "f8"
           }
          },
          {
           "mode": "lines+markers",
           "name": "user_31",
           "type": "scatter",
           "x": {
            "bdata": "AQIDBAUGBwgJCgsMDQ4PEBE=",
            "dtype": "i1"
           },
           "y": {
            "bdata": "AAAAAAAAAAAAAAAAAAAAAAAAAAAAAAAAAAAAAAAAAAAAAAAAAAAAAAAAAAAAAAAAAAAAAAAAAAAAAAAAAAAAAAAAAAAAAAAAAAAAAAAAAAAAAAAAAADwPwAAAAAAAPA/AAAAAAAAEEAAAAAAAAAQQAAAAAAAABhAAAAAAAAAGEAAAAAAAAAYQA==",
            "dtype": "f8"
           }
          },
          {
           "mode": "lines+markers",
           "name": "user_4",
           "type": "scatter",
           "x": {
            "bdata": "AQIDBAUGBwgJCgsMDQ4PEBE=",
            "dtype": "i1"
           },
           "y": {
            "bdata": "AAAAAAAAAAAAAAAAAAAcQAAAAAAAACZAAAAAAAAAJkAAAAAAAAA0QAAAAAAAADtAAAAAAACAQUAAAAAAAABIQAAAAAAAgEpAAAAAAACASkAAAAAAAMBRQAAAAAAAwFRAAAAAAADAVEAAAAAAAMBUQAAAAAAAwFVAAAAAAABAX0AAAAAAACBhQA==",
            "dtype": "f8"
           }
          },
          {
           "mode": "lines+markers",
           "name": "user_6",
           "type": "scatter",
           "x": {
            "bdata": "AQIDBAUGBwgJCgsMDQ4PEBE=",
            "dtype": "i1"
           },
           "y": {
            "bdata": "AAAAAAAAAAAAAAAAAAAAAAAAAAAAAAAAAAAAAAAAAAAAAAAAAAAAAAAAAAAAAAAAAAAAAAAAAAAAAAAAAAAAAAAAAAAAAAAAAAAAAAAAAAAAAAAAAAAAAAAAAAAAAAAAAAAAAAAAAAAAAAAAAAAAAAAAAAAAAAAAAAAAAAAAAAAAAAAAAADwPw==",
            "dtype": "f8"
           }
          },
          {
           "mode": "lines+markers",
           "name": "user_8",
           "type": "scatter",
           "x": {
            "bdata": "AQIDBAUGBwgJCgsMDQ4PEBE=",
            "dtype": "i1"
           },
           "y": {
            "bdata": "AAAAAAAAAAAAAAAAAAAAAAAAAAAAAAAAAAAAAAAAAAAAAAAAAAAAAAAAAAAAAAAAAAAAAAAAAAAAAAAAAAAAAAAAAAAAAAAAAAAAAAAAAAAAAAAAAAAAAAAAAAAAAAAAAAAAAAAAAAAAAAAAAAAAAAAAAAAAAAAAAAAAAAAAAAAAAAAAAAAAAA==",
            "dtype": "f8"
           }
          }
         ]
        },
        {
         "data": [
          {
           "mode": "lines+markers",
           "name": "user_1",
           "type": "scatter",
           "x": {
            "bdata": "AQIDBAUGBwgJCgsMDQ4PEBES",
            "dtype": "i1"
           },
           "y": {
            "bdata": "AAAAAAAAAAAAAAAAAAAAAAAAAAAAAAAAAAAAAAAAAAAAAAAAAAAAAAAAAAAAAAAAAAAAAAAAAAAAAAAAAAAAAAAAAAAAAAAAAAAAAAAAAAAAAAAAAAAAAAAAAAAAAAAAAAAAAAAAAAAAAAAAAAAAAAAAAAAAAAAAAAAAAAAAAAAAAAAAAAAAAAAAAAAAACZA",
            "dtype": "f8"
           }
          },
          {
           "mode": "lines+markers",
           "name": "user_10",
           "type": "scatter",
           "x": {
            "bdata": "AQIDBAUGBwgJCgsMDQ4PEBES",
            "dtype": "i1"
           },
           "y": {
            "bdata": "AAAAAAAAAAAAAAAAAAAAAAAAAAAAAAAAAAAAAAAAAAAAAAAAAAAAAAAAAAAAAAAAAAAAAAAAAAAAAAAAAAAAAAAAAAAAAAAAAAAAAAAAAAAAAAAAAAAAAAAAAAAAAAAAAAAAAAAAAAAAAAAAAAAAAAAAAAAAAAAAAAAAAAAAHEAAAAAAAAA1QAAAAAAAgE1A",
            "dtype": "f8"
           }
          },
          {
           "mode": "lines+markers",
           "name": "user_11",
           "type": "scatter",
           "x": {
            "bdata": "AQIDBAUGBwgJCgsMDQ4PEBES",
            "dtype": "i1"
           },
           "y": {
            "bdata": "AAAAAAAAAAAAAAAAAAAAAAAAAAAAAAAAAAAAAAAAAAAAAAAAAAAAAAAAAAAAAAAAAAAAAAAA8D8AAAAAAADwPwAAAAAAAPA/AAAAAAAA8D8AAAAAAADwPwAAAAAAAPA/AAAAAAAA8D8AAAAAAADwPwAAAAAAAPA/AAAAAAAA8D8AAAAAAADwPwAAAAAAAPA/",
            "dtype": "f8"
           }
          },
          {
           "mode": "lines+markers",
           "name": "user_12",
           "type": "scatter",
           "x": {
            "bdata": "AQIDBAUGBwgJCgsMDQ4PEBES",
            "dtype": "i1"
           },
           "y": {
            "bdata": "AAAAAAAAAAAAAAAAAAAAAAAAAAAAAAAAAAAAAAAAAAAAAAAAAAAAAAAAAAAAAAAAAAAAAAAAAAAAAAAAAAAAAAAAAAAAAAAAAAAAAAAAAAAAAAAAAAAAAAAAAAAAAAAAAAAAAAAAAAAAAAAAAAAAAAAAAAAAAAAAAAAAAAAAAAAAAAAAAAAAAAAAAAAAABBA",
            "dtype": "f8"
           }
          },
          {
           "mode": "lines+markers",
           "name": "user_13",
           "type": "scatter",
           "x": {
            "bdata": "AQIDBAUGBwgJCgsMDQ4PEBES",
            "dtype": "i1"
           },
           "y": {
            "bdata": "AAAAAAAAAAAAAAAAAAAAAAAAAAAAAAAAAAAAAAAAAAAAAAAAAAAAAAAAAAAAAAAAAAAAAAAAAAAAAAAAAAAAAAAAAAAAAAAAAAAAAAAAAAAAAAAAAAAAAAAAAAAAAAAAAAAAAAAAAAAAAAAAAAAAAAAAAAAAAABAAAAAAAAAPkAAAAAAAAA+QAAAAAAAAEBA",
            "dtype": "f8"
           }
          },
          {
           "mode": "lines+markers",
           "name": "user_14",
           "type": "scatter",
           "x": {
            "bdata": "AQIDBAUGBwgJCgsMDQ4PEBES",
            "dtype": "i1"
           },
           "y": {
            "bdata": "AAAAAAAAAAAAAAAAAAAAAAAAAAAAAAAAAAAAAAAAAAAAAAAAAAAAAAAAAAAAAAAAAAAAAAAAAAAAAAAAAAAAAAAAAAAAAPA/AAAAAAAA8D8AAAAAAADwPwAAAAAAAPA/AAAAAAAAMkAAAAAAAAA5QAAAAAAAgEhAAAAAAAAAV0AAAAAAAABXQAAAAAAAwFhA",
            "dtype": "f8"
           }
          },
          {
           "mode": "lines+markers",
           "name": "user_15",
           "type": "scatter",
           "x": {
            "bdata": "AQIDBAUGBwgJCgsMDQ4PEBES",
            "dtype": "i1"
           },
           "y": {
            "bdata": "AAAAAAAAAAAAAAAAAAAAAAAAAAAAAAAAAAAAAAAAAAAAAAAAAAAAAAAAAAAAAAAAAAAAAAAAAAAAAAAAAAAAAAAAAAAAAAAAAAAAAAAAAAAAAAAAAAAAAAAAAAAAAAAAAAAAAAAAAAAAAAAAAAAAAAAAAAAAAAAAAAAAAAAAAAAAAAAAAAAAAAAAAAAAAAhA",
            "dtype": "f8"
           }
          },
          {
           "mode": "lines+markers",
           "name": "user_16",
           "type": "scatter",
           "x": {
            "bdata": "AQIDBAUGBwgJCgsMDQ4PEBES",
            "dtype": "i1"
           },
           "y": {
            "bdata": "AAAAAAAAAAAAAAAAAAAAAAAAAAAAAAAAAAAAAAAAAAAAAAAAAAAAAAAAAAAAAAAAAAAAAAAAAAAAAAAAAAAAAAAAAAAAAAAAAAAAAAAAAAAAAAAAAAAAAAAAAAAAAAAAAAAAAAAAAAAAAAAAAAAAAAAAAAAAAAAAAAAAAAAACEAAAAAAAAAIQAAAAAAAACRA",
            "dtype": "f8"
           }
          },
          {
           "mode": "lines+markers",
           "name": "user_17",
           "type": "scatter",
           "x": {
            "bdata": "AQIDBAUGBwgJCgsMDQ4PEBES",
            "dtype": "i1"
           },
           "y": {
            "bdata": "AAAAAAAAAAAAAAAAAADwPwAAAAAAAPA/AAAAAAAA8D8AAAAAAADwPwAAAAAAAPA/AAAAAAAA8D8AAAAAAADwPwAAAAAAAPA/AAAAAAAA8D8AAAAAAADwPwAAAAAAAPA/AAAAAAAA8D8AAAAAAADwPwAAAAAAAPA/AAAAAAAACEAAAAAAAAAIQAAAAAAAABhA",
            "dtype": "f8"
           }
          },
          {
           "mode": "lines+markers",
           "name": "user_18",
           "type": "scatter",
           "x": {
            "bdata": "AQIDBAUGBwgJCgsMDQ4PEBES",
            "dtype": "i1"
           },
           "y": {
            "bdata": "AAAAAAAAAAAAAAAAAAAAAAAAAAAAAAAAAAAAAAAAAAAAAAAAAAAAAAAAAAAAAAAAAAAAAAAAAAAAAAAAAAAAAAAAAAAAAAAAAAAAAAAAAAAAAAAAAAAAAAAAAAAAAAAAAAAAAAAAAAAAAAAAAAAAAAAAAAAAABxAAAAAAAAAHEAAAAAAAAAgQAAAAAAAAD9A",
            "dtype": "f8"
           }
          },
          {
           "mode": "lines+markers",
           "name": "user_19",
           "type": "scatter",
           "x": {
            "bdata": "AQIDBAUGBwgJCgsMDQ4PEBES",
            "dtype": "i1"
           },
           "y": {
            "bdata": "AAAAAAAAAAAAAAAAAAAAAAAAAAAAAAAAAAAAAAAAAAAAAAAAAAAAAAAAAAAAAAAAAAAAAAAAAAAAAAAAAAAAAAAAAAAAAAAAAAAAAAAAAAAAAAAAAAAAAAAAAAAAAAAAAAAAAAAAAAAAAAAAAAAAAAAAAAAAAAAAAAAAAAAAAAAAAAAAAAAAAAAAAAAAADlA",
            "dtype": "f8"
           }
          },
          {
           "mode": "lines+markers",
           "name": "user_2",
           "type": "scatter",
           "x": {
            "bdata": "AQIDBAUGBwgJCgsMDQ4PEBES",
            "dtype": "i1"
           },
           "y": {
            "bdata": "AAAAAAAAAAAAAAAAAAAAAAAAAAAAAAAAAAAAAAAAAAAAAAAAAAAAAAAAAAAAAAAAAAAAAAAAAAAAAAAAAAAAAAAAAAAAgExAAAAAAAAATUAAAAAAAABNQAAAAAAAAE1AAAAAAAAATUAAAAAAAABPQAAAAAAAgFJAAAAAAACAU0AAAAAAAEBXQAAAAAAAwFdA",
            "dtype": "f8"
           }
          },
          {
           "mode": "lines+markers",
           "name": "user_20",
           "type": "scatter",
           "x": {
            "bdata": "AQIDBAUGBwgJCgsMDQ4PEBES",
            "dtype": "i1"
           },
           "y": {
            "bdata": "AAAAAAAAAAAAAAAAAAAAAAAAAAAAAAAAAAAAAAAAAAAAAAAAAAAAAAAAAAAAAAAAAAAAAAAAAAAAAAAAAAAAAAAAAAAAAAAAAAAAAAAAAAAAAAAAAAAAAAAAAAAAAAAAAAAAAAAAAAAAAAAAAAAAAAAAAAAAACZAAAAAAAAAJkAAAAAAAAAmQAAAAAAAAEtA",
            "dtype": "f8"
           }
          },
          {
           "mode": "lines+markers",
           "name": "user_21",
           "type": "scatter",
           "x": {
            "bdata": "AQIDBAUGBwgJCgsMDQ4PEBES",
            "dtype": "i1"
           },
           "y": {
            "bdata": "AAAAAAAAAAAAAAAAAAAAAAAAAAAAAAAAAAAAAAAAAAAAAAAAAAAAAAAAAAAAAAAAAAAAAAAAAAAAAAAAAAAAAAAAAAAAAAAAAAAAAAAAAAAAAAAAAAAAAAAAAAAAAAAAAAAAAAAAAAAAAAAAAAAcQAAAAAAAABxAAAAAAAAAHEAAAAAAAAAcQAAAAAAAACJA",
            "dtype": "f8"
           }
          },
          {
           "mode": "lines+markers",
           "name": "user_22",
           "type": "scatter",
           "x": {
            "bdata": "AQIDBAUGBwgJCgsMDQ4PEBES",
            "dtype": "i1"
           },
           "y": {
            "bdata": "AAAAAAAAAAAAAAAAAAAAAAAAAAAAAAAAAAAAAAAAAAAAAAAAAAAAAAAAAAAAAAAAAAAAAAAA8D8AAAAAAADwPwAAAAAAAPA/AAAAAAAA8D8AAAAAAADwPwAAAAAAAPA/AAAAAAAA8D8AAAAAAADwPwAAAAAAAPA/AAAAAAAA8D8AAAAAAADwPwAAAAAAAABA",
            "dtype": "f8"
           }
          },
          {
           "mode": "lines+markers",
           "name": "user_24",
           "type": "scatter",
           "x": {
            "bdata": "AQIDBAUGBwgJCgsMDQ4PEBES",
            "dtype": "i1"
           },
           "y": {
            "bdata": "AAAAAAAAAAAAAAAAAAAAAAAAAAAAAAAAAAAAAAAAAAAAAAAAAAAAAAAAAAAAAAAAAAAAAAAAAAAAAAAAAAAAAAAAAAAAAAAAAAAAAAAAAAAAAAAAAAAAAAAAAAAAAAAAAAAAAAAAAAAAAAAAAAAAAAAAAAAAAAAAAAAAAAAAAAAAAAAAAAAiQAAAAAAAAEFA",
            "dtype": "f8"
           }
          },
          {
           "mode": "lines+markers",
           "name": "user_25",
           "type": "scatter",
           "x": {
            "bdata": "AQIDBAUGBwgJCgsMDQ4PEBES",
            "dtype": "i1"
           },
           "y": {
            "bdata": "AAAAAAAAAAAAAAAAAAAAAAAAAAAAAAAAAAAAAAAAAAAAAAAAAAAAAAAAAAAAAAAAAAAAAAAAAAAAAAAAAAAAAAAAAAAAAAAAAAAAAAAAAAAAAAAAAAAAAAAAAAAAABRAAAAAAAAAO0AAAAAAAAA9QAAAAAAAgEBAAAAAAAAAS0AAAAAAAIBMQAAAAAAAQFNA",
            "dtype": "f8"
           }
          },
          {
           "mode": "lines+markers",
           "name": "user_26",
           "type": "scatter",
           "x": {
            "bdata": "AQIDBAUGBwgJCgsMDQ4PEBES",
            "dtype": "i1"
           },
           "y": {
            "bdata": "AAAAAAAAAAAAAAAAAAAAAAAAAAAAAAAAAAAAAAAAAAAAAAAAAAAAAAAAAAAAAAAAAAAAAAAAAAAAAAAAAAAAAAAAAAAAAAAAAAAAAAAAAAAAAAAAAAAAAAAAAAAAAAAAAAAAAAAAAAAAAAAAAIBBQAAAAAAAgEFAAAAAAACAQUAAAAAAAABKQAAAAAAAwFBA",
            "dtype": "f8"
           }
          },
          {
           "mode": "lines+markers",
           "name": "user_27",
           "type": "scatter",
           "x": {
            "bdata": "AQIDBAUGBwgJCgsMDQ4PEBES",
            "dtype": "i1"
           },
           "y": {
            "bdata": "AAAAAAAAAAAAAAAAAAAAAAAAAAAAAAAAAAAAAAAAAAAAAAAAAAAAAAAAAAAAAAAAAAAAAAAAAAAAAAAAAAAAAAAAAAAAAAAAAAAAAAAAAAAAAAAAAAAAAAAAAAAAAAAAAAAAAAAAAAAAAAAAAAAAAAAAAAAAAAAAAAAAAAAAAAAAAAAAAAAAAAAAAAAAACBA",
            "dtype": "f8"
           }
          },
          {
           "mode": "lines+markers",
           "name": "user_28",
           "type": "scatter",
           "x": {
            "bdata": "AQIDBAUGBwgJCgsMDQ4PEBES",
            "dtype": "i1"
           },
           "y": {
            "bdata": "AAAAAAAAAAAAAAAAAAAAAAAAAAAAAAAAAAAAAAAAAAAAAAAAAAAAAAAAAAAAAAAAAAAAAAAAAAAAAAAAAAAAAAAAAAAAAAAAAAAAAAAAAAAAAAAAAAAAAAAAAAAAAAAAAAAAAAAAAAAAAAAAAAAAAAAAAAAAAAAAAAAAAAAAAEAAAAAAAAA0QAAAAAAAADpA",
            "dtype": "f8"
           }
          },
          {
           "mode": "lines+markers",
           "name": "user_29",
           "type": "scatter",
           "x": {
            "bdata": "AQIDBAUGBwgJCgsMDQ4PEBES",
            "dtype": "i1"
           },
           "y": {
            "bdata": "AAAAAAAAAAAAAAAAAAAAAAAAAAAAAAAAAAAAAAAAAAAAAAAAAAAAAAAAAAAAAAAAAAAAAAAAAAAAAAAAAAAAAAAAAAAAAAAAAAAAAAAAAAAAAAAAAAAAAAAAAAAAAAAAAAAAAAAAAAAAAAAAAAAAAAAAAAAAABRAAAAAAAAAMkAAAAAAAABBQAAAAAAAgEFA",
            "dtype": "f8"
           }
          },
          {
           "mode": "lines+markers",
           "name": "user_3",
           "type": "scatter",
           "x": {
            "bdata": "AQIDBAUGBwgJCgsMDQ4PEBES",
            "dtype": "i1"
           },
           "y": {
            "bdata": "AAAAAAAAAAAAAAAAAAAAAAAAAAAAAAAAAAAAAAAAAAAAAAAAAAAAAAAAAAAAAAAAAAAAAAAAAAAAAAAAAAAAAAAAAAAAAAAAAAAAAAAAAAAAAAAAAADwPwAAAAAAADxAAAAAAAAAPUAAAAAAAAA/QAAAAAAAAEtAAAAAAAAATEAAAAAAAABMQAAAAAAAAE1A",
            "dtype": "f8"
           }
          },
          {
           "mode": "lines+markers",
           "name": "user_30",
           "type": "scatter",
           "x": {
            "bdata": "AQIDBAUGBwgJCgsMDQ4PEBES",
            "dtype": "i1"
           },
           "y": {
            "bdata": "AAAAAAAAAAAAAAAAAAAAAAAAAAAAAAAAAAAAAAAA8D8AAAAAAAAAQAAAAAAAAABAAAAAAAAAEEAAAAAAAAAUQAAAAAAAABRAAAAAAAAAFEAAAAAAAAAoQAAAAAAAAChAAAAAAAAAKEAAAAAAAAAxQAAAAAAAADFAAAAAAAAAMUAAAAAAAAAxQAAAAAAAADNA",
            "dtype": "f8"
           }
          },
          {
           "mode": "lines+markers",
           "name": "user_31",
           "type": "scatter",
           "x": {
            "bdata": "AQIDBAUGBwgJCgsMDQ4PEBES",
            "dtype": "i1"
           },
           "y": {
            "bdata": "AAAAAAAAAAAAAAAAAAAAAAAAAAAAAAAAAAAAAAAAAAAAAAAAAAAAAAAAAAAAAAAAAAAAAAAAAAAAAAAAAAAAAAAAAAAAAAAAAAAAAAAAAAAAAAAAAADwPwAAAAAAAPA/AAAAAAAAEEAAAAAAAAAQQAAAAAAAABhAAAAAAAAAGEAAAAAAAAAYQAAAAAAAACBA",
            "dtype": "f8"
           }
          },
          {
           "mode": "lines+markers",
           "name": "user_4",
           "type": "scatter",
           "x": {
            "bdata": "AQIDBAUGBwgJCgsMDQ4PEBES",
            "dtype": "i1"
           },
           "y": {
            "bdata": "AAAAAAAAAAAAAAAAAAAcQAAAAAAAACZAAAAAAAAAJkAAAAAAAAA0QAAAAAAAADtAAAAAAACAQUAAAAAAAABIQAAAAAAAgEpAAAAAAACASkAAAAAAAMBRQAAAAAAAwFRAAAAAAADAVEAAAAAAAMBUQAAAAAAAwFVAAAAAAABAX0AAAAAAACBhQAAAAAAAgGRA",
            "dtype": "f8"
           }
          },
          {
           "mode": "lines+markers",
           "name": "user_6",
           "type": "scatter",
           "x": {
            "bdata": "AQIDBAUGBwgJCgsMDQ4PEBES",
            "dtype": "i1"
           },
           "y": {
            "bdata": "AAAAAAAAAAAAAAAAAAAAAAAAAAAAAAAAAAAAAAAAAAAAAAAAAAAAAAAAAAAAAAAAAAAAAAAAAAAAAAAAAAAAAAAAAAAAAAAAAAAAAAAAAAAAAAAAAAAAAAAAAAAAAAAAAAAAAAAAAAAAAAAAAAAAAAAAAAAAAAAAAAAAAAAAAAAAAAAAAADwPwAAAAAAAABA",
            "dtype": "f8"
           }
          },
          {
           "mode": "lines+markers",
           "name": "user_8",
           "type": "scatter",
           "x": {
            "bdata": "AQIDBAUGBwgJCgsMDQ4PEBES",
            "dtype": "i1"
           },
           "y": {
            "bdata": "AAAAAAAAAAAAAAAAAAAAAAAAAAAAAAAAAAAAAAAAAAAAAAAAAAAAAAAAAAAAAAAAAAAAAAAAAAAAAAAAAAAAAAAAAAAAAAAAAAAAAAAAAAAAAAAAAAAAAAAAAAAAAAAAAAAAAAAAAAAAAAAAAAAAAAAAAAAAAAAAAAAAAAAAAAAAAAAAAAAAAAAAAAAAACBA",
            "dtype": "f8"
           }
          }
         ]
        }
       ],
       "layout": {
        "template": {
         "data": {
          "bar": [
           {
            "error_x": {
             "color": "rgb(36,36,36)"
            },
            "error_y": {
             "color": "rgb(36,36,36)"
            },
            "marker": {
             "line": {
              "color": "rgb(234,234,242)",
              "width": 0.5
             },
             "pattern": {
              "fillmode": "overlay",
              "size": 10,
              "solidity": 0.2
             }
            },
            "type": "bar"
           }
          ],
          "barpolar": [
           {
            "marker": {
             "line": {
              "color": "rgb(234,234,242)",
              "width": 0.5
             },
             "pattern": {
              "fillmode": "overlay",
              "size": 10,
              "solidity": 0.2
             }
            },
            "type": "barpolar"
           }
          ],
          "carpet": [
           {
            "aaxis": {
             "endlinecolor": "rgb(36,36,36)",
             "gridcolor": "white",
             "linecolor": "white",
             "minorgridcolor": "white",
             "startlinecolor": "rgb(36,36,36)"
            },
            "baxis": {
             "endlinecolor": "rgb(36,36,36)",
             "gridcolor": "white",
             "linecolor": "white",
             "minorgridcolor": "white",
             "startlinecolor": "rgb(36,36,36)"
            },
            "type": "carpet"
           }
          ],
          "choropleth": [
           {
            "colorbar": {
             "outlinewidth": 0,
             "tickcolor": "rgb(36,36,36)",
             "ticklen": 8,
             "ticks": "outside",
             "tickwidth": 2
            },
            "type": "choropleth"
           }
          ],
          "contour": [
           {
            "colorbar": {
             "outlinewidth": 0,
             "tickcolor": "rgb(36,36,36)",
             "ticklen": 8,
             "ticks": "outside",
             "tickwidth": 2
            },
            "colorscale": [
             [
              0,
              "rgb(2,4,25)"
             ],
             [
              0.06274509803921569,
              "rgb(24,15,41)"
             ],
             [
              0.12549019607843137,
              "rgb(47,23,57)"
             ],
             [
              0.18823529411764706,
              "rgb(71,28,72)"
             ],
             [
              0.25098039215686274,
              "rgb(97,30,82)"
             ],
             [
              0.3137254901960784,
              "rgb(123,30,89)"
             ],
             [
              0.3764705882352941,
              "rgb(150,27,91)"
             ],
             [
              0.4392156862745098,
              "rgb(177,22,88)"
             ],
             [
              0.5019607843137255,
              "rgb(203,26,79)"
             ],
             [
              0.5647058823529412,
              "rgb(223,47,67)"
             ],
             [
              0.6274509803921569,
              "rgb(236,76,61)"
             ],
             [
              0.6901960784313725,
              "rgb(242,107,73)"
             ],
             [
              0.7529411764705882,
              "rgb(244,135,95)"
             ],
             [
              0.8156862745098039,
              "rgb(245,162,122)"
             ],
             [
              0.8784313725490196,
              "rgb(246,188,153)"
             ],
             [
              0.9411764705882353,
              "rgb(247,212,187)"
             ],
             [
              1,
              "rgb(250,234,220)"
             ]
            ],
            "type": "contour"
           }
          ],
          "contourcarpet": [
           {
            "colorbar": {
             "outlinewidth": 0,
             "tickcolor": "rgb(36,36,36)",
             "ticklen": 8,
             "ticks": "outside",
             "tickwidth": 2
            },
            "type": "contourcarpet"
           }
          ],
          "heatmap": [
           {
            "colorbar": {
             "outlinewidth": 0,
             "tickcolor": "rgb(36,36,36)",
             "ticklen": 8,
             "ticks": "outside",
             "tickwidth": 2
            },
            "colorscale": [
             [
              0,
              "rgb(2,4,25)"
             ],
             [
              0.06274509803921569,
              "rgb(24,15,41)"
             ],
             [
              0.12549019607843137,
              "rgb(47,23,57)"
             ],
             [
              0.18823529411764706,
              "rgb(71,28,72)"
             ],
             [
              0.25098039215686274,
              "rgb(97,30,82)"
             ],
             [
              0.3137254901960784,
              "rgb(123,30,89)"
             ],
             [
              0.3764705882352941,
              "rgb(150,27,91)"
             ],
             [
              0.4392156862745098,
              "rgb(177,22,88)"
             ],
             [
              0.5019607843137255,
              "rgb(203,26,79)"
             ],
             [
              0.5647058823529412,
              "rgb(223,47,67)"
             ],
             [
              0.6274509803921569,
              "rgb(236,76,61)"
             ],
             [
              0.6901960784313725,
              "rgb(242,107,73)"
             ],
             [
              0.7529411764705882,
              "rgb(244,135,95)"
             ],
             [
              0.8156862745098039,
              "rgb(245,162,122)"
             ],
             [
              0.8784313725490196,
              "rgb(246,188,153)"
             ],
             [
              0.9411764705882353,
              "rgb(247,212,187)"
             ],
             [
              1,
              "rgb(250,234,220)"
             ]
            ],
            "type": "heatmap"
           }
          ],
          "histogram": [
           {
            "marker": {
             "pattern": {
              "fillmode": "overlay",
              "size": 10,
              "solidity": 0.2
             }
            },
            "type": "histogram"
           }
          ],
          "histogram2d": [
           {
            "colorbar": {
             "outlinewidth": 0,
             "tickcolor": "rgb(36,36,36)",
             "ticklen": 8,
             "ticks": "outside",
             "tickwidth": 2
            },
            "colorscale": [
             [
              0,
              "rgb(2,4,25)"
             ],
             [
              0.06274509803921569,
              "rgb(24,15,41)"
             ],
             [
              0.12549019607843137,
              "rgb(47,23,57)"
             ],
             [
              0.18823529411764706,
              "rgb(71,28,72)"
             ],
             [
              0.25098039215686274,
              "rgb(97,30,82)"
             ],
             [
              0.3137254901960784,
              "rgb(123,30,89)"
             ],
             [
              0.3764705882352941,
              "rgb(150,27,91)"
             ],
             [
              0.4392156862745098,
              "rgb(177,22,88)"
             ],
             [
              0.5019607843137255,
              "rgb(203,26,79)"
             ],
             [
              0.5647058823529412,
              "rgb(223,47,67)"
             ],
             [
              0.6274509803921569,
              "rgb(236,76,61)"
             ],
             [
              0.6901960784313725,
              "rgb(242,107,73)"
             ],
             [
              0.7529411764705882,
              "rgb(244,135,95)"
             ],
             [
              0.8156862745098039,
              "rgb(245,162,122)"
             ],
             [
              0.8784313725490196,
              "rgb(246,188,153)"
             ],
             [
              0.9411764705882353,
              "rgb(247,212,187)"
             ],
             [
              1,
              "rgb(250,234,220)"
             ]
            ],
            "type": "histogram2d"
           }
          ],
          "histogram2dcontour": [
           {
            "colorbar": {
             "outlinewidth": 0,
             "tickcolor": "rgb(36,36,36)",
             "ticklen": 8,
             "ticks": "outside",
             "tickwidth": 2
            },
            "colorscale": [
             [
              0,
              "rgb(2,4,25)"
             ],
             [
              0.06274509803921569,
              "rgb(24,15,41)"
             ],
             [
              0.12549019607843137,
              "rgb(47,23,57)"
             ],
             [
              0.18823529411764706,
              "rgb(71,28,72)"
             ],
             [
              0.25098039215686274,
              "rgb(97,30,82)"
             ],
             [
              0.3137254901960784,
              "rgb(123,30,89)"
             ],
             [
              0.3764705882352941,
              "rgb(150,27,91)"
             ],
             [
              0.4392156862745098,
              "rgb(177,22,88)"
             ],
             [
              0.5019607843137255,
              "rgb(203,26,79)"
             ],
             [
              0.5647058823529412,
              "rgb(223,47,67)"
             ],
             [
              0.6274509803921569,
              "rgb(236,76,61)"
             ],
             [
              0.6901960784313725,
              "rgb(242,107,73)"
             ],
             [
              0.7529411764705882,
              "rgb(244,135,95)"
             ],
             [
              0.8156862745098039,
              "rgb(245,162,122)"
             ],
             [
              0.8784313725490196,
              "rgb(246,188,153)"
             ],
             [
              0.9411764705882353,
              "rgb(247,212,187)"
             ],
             [
              1,
              "rgb(250,234,220)"
             ]
            ],
            "type": "histogram2dcontour"
           }
          ],
          "mesh3d": [
           {
            "colorbar": {
             "outlinewidth": 0,
             "tickcolor": "rgb(36,36,36)",
             "ticklen": 8,
             "ticks": "outside",
             "tickwidth": 2
            },
            "type": "mesh3d"
           }
          ],
          "parcoords": [
           {
            "line": {
             "colorbar": {
              "outlinewidth": 0,
              "tickcolor": "rgb(36,36,36)",
              "ticklen": 8,
              "ticks": "outside",
              "tickwidth": 2
             }
            },
            "type": "parcoords"
           }
          ],
          "pie": [
           {
            "automargin": true,
            "type": "pie"
           }
          ],
          "scatter": [
           {
            "fillpattern": {
             "fillmode": "overlay",
             "size": 10,
             "solidity": 0.2
            },
            "type": "scatter"
           }
          ],
          "scatter3d": [
           {
            "line": {
             "colorbar": {
              "outlinewidth": 0,
              "tickcolor": "rgb(36,36,36)",
              "ticklen": 8,
              "ticks": "outside",
              "tickwidth": 2
             }
            },
            "marker": {
             "colorbar": {
              "outlinewidth": 0,
              "tickcolor": "rgb(36,36,36)",
              "ticklen": 8,
              "ticks": "outside",
              "tickwidth": 2
             }
            },
            "type": "scatter3d"
           }
          ],
          "scattercarpet": [
           {
            "marker": {
             "colorbar": {
              "outlinewidth": 0,
              "tickcolor": "rgb(36,36,36)",
              "ticklen": 8,
              "ticks": "outside",
              "tickwidth": 2
             }
            },
            "type": "scattercarpet"
           }
          ],
          "scattergeo": [
           {
            "marker": {
             "colorbar": {
              "outlinewidth": 0,
              "tickcolor": "rgb(36,36,36)",
              "ticklen": 8,
              "ticks": "outside",
              "tickwidth": 2
             }
            },
            "type": "scattergeo"
           }
          ],
          "scattergl": [
           {
            "marker": {
             "colorbar": {
              "outlinewidth": 0,
              "tickcolor": "rgb(36,36,36)",
              "ticklen": 8,
              "ticks": "outside",
              "tickwidth": 2
             }
            },
            "type": "scattergl"
           }
          ],
          "scattermap": [
           {
            "marker": {
             "colorbar": {
              "outlinewidth": 0,
              "tickcolor": "rgb(36,36,36)",
              "ticklen": 8,
              "ticks": "outside",
              "tickwidth": 2
             }
            },
            "type": "scattermap"
           }
          ],
          "scattermapbox": [
           {
            "marker": {
             "colorbar": {
              "outlinewidth": 0,
              "tickcolor": "rgb(36,36,36)",
              "ticklen": 8,
              "ticks": "outside",
              "tickwidth": 2
             }
            },
            "type": "scattermapbox"
           }
          ],
          "scatterpolar": [
           {
            "marker": {
             "colorbar": {
              "outlinewidth": 0,
              "tickcolor": "rgb(36,36,36)",
              "ticklen": 8,
              "ticks": "outside",
              "tickwidth": 2
             }
            },
            "type": "scatterpolar"
           }
          ],
          "scatterpolargl": [
           {
            "marker": {
             "colorbar": {
              "outlinewidth": 0,
              "tickcolor": "rgb(36,36,36)",
              "ticklen": 8,
              "ticks": "outside",
              "tickwidth": 2
             }
            },
            "type": "scatterpolargl"
           }
          ],
          "scatterternary": [
           {
            "marker": {
             "colorbar": {
              "outlinewidth": 0,
              "tickcolor": "rgb(36,36,36)",
              "ticklen": 8,
              "ticks": "outside",
              "tickwidth": 2
             }
            },
            "type": "scatterternary"
           }
          ],
          "surface": [
           {
            "colorbar": {
             "outlinewidth": 0,
             "tickcolor": "rgb(36,36,36)",
             "ticklen": 8,
             "ticks": "outside",
             "tickwidth": 2
            },
            "colorscale": [
             [
              0,
              "rgb(2,4,25)"
             ],
             [
              0.06274509803921569,
              "rgb(24,15,41)"
             ],
             [
              0.12549019607843137,
              "rgb(47,23,57)"
             ],
             [
              0.18823529411764706,
              "rgb(71,28,72)"
             ],
             [
              0.25098039215686274,
              "rgb(97,30,82)"
             ],
             [
              0.3137254901960784,
              "rgb(123,30,89)"
             ],
             [
              0.3764705882352941,
              "rgb(150,27,91)"
             ],
             [
              0.4392156862745098,
              "rgb(177,22,88)"
             ],
             [
              0.5019607843137255,
              "rgb(203,26,79)"
             ],
             [
              0.5647058823529412,
              "rgb(223,47,67)"
             ],
             [
              0.6274509803921569,
              "rgb(236,76,61)"
             ],
             [
              0.6901960784313725,
              "rgb(242,107,73)"
             ],
             [
              0.7529411764705882,
              "rgb(244,135,95)"
             ],
             [
              0.8156862745098039,
              "rgb(245,162,122)"
             ],
             [
              0.8784313725490196,
              "rgb(246,188,153)"
             ],
             [
              0.9411764705882353,
              "rgb(247,212,187)"
             ],
             [
              1,
              "rgb(250,234,220)"
             ]
            ],
            "type": "surface"
           }
          ],
          "table": [
           {
            "cells": {
             "fill": {
              "color": "rgb(231,231,240)"
             },
             "line": {
              "color": "white"
             }
            },
            "header": {
             "fill": {
              "color": "rgb(183,183,191)"
             },
             "line": {
              "color": "white"
             }
            },
            "type": "table"
           }
          ]
         },
         "layout": {
          "annotationdefaults": {
           "arrowcolor": "rgb(67,103,167)"
          },
          "autotypenumbers": "strict",
          "coloraxis": {
           "colorbar": {
            "outlinewidth": 0,
            "tickcolor": "rgb(36,36,36)",
            "ticklen": 8,
            "ticks": "outside",
            "tickwidth": 2
           }
          },
          "colorscale": {
           "sequential": [
            [
             0,
             "rgb(2,4,25)"
            ],
            [
             0.06274509803921569,
             "rgb(24,15,41)"
            ],
            [
             0.12549019607843137,
             "rgb(47,23,57)"
            ],
            [
             0.18823529411764706,
             "rgb(71,28,72)"
            ],
            [
             0.25098039215686274,
             "rgb(97,30,82)"
            ],
            [
             0.3137254901960784,
             "rgb(123,30,89)"
            ],
            [
             0.3764705882352941,
             "rgb(150,27,91)"
            ],
            [
             0.4392156862745098,
             "rgb(177,22,88)"
            ],
            [
             0.5019607843137255,
             "rgb(203,26,79)"
            ],
            [
             0.5647058823529412,
             "rgb(223,47,67)"
            ],
            [
             0.6274509803921569,
             "rgb(236,76,61)"
            ],
            [
             0.6901960784313725,
             "rgb(242,107,73)"
            ],
            [
             0.7529411764705882,
             "rgb(244,135,95)"
            ],
            [
             0.8156862745098039,
             "rgb(245,162,122)"
            ],
            [
             0.8784313725490196,
             "rgb(246,188,153)"
            ],
            [
             0.9411764705882353,
             "rgb(247,212,187)"
            ],
            [
             1,
             "rgb(250,234,220)"
            ]
           ],
           "sequentialminus": [
            [
             0,
             "rgb(2,4,25)"
            ],
            [
             0.06274509803921569,
             "rgb(24,15,41)"
            ],
            [
             0.12549019607843137,
             "rgb(47,23,57)"
            ],
            [
             0.18823529411764706,
             "rgb(71,28,72)"
            ],
            [
             0.25098039215686274,
             "rgb(97,30,82)"
            ],
            [
             0.3137254901960784,
             "rgb(123,30,89)"
            ],
            [
             0.3764705882352941,
             "rgb(150,27,91)"
            ],
            [
             0.4392156862745098,
             "rgb(177,22,88)"
            ],
            [
             0.5019607843137255,
             "rgb(203,26,79)"
            ],
            [
             0.5647058823529412,
             "rgb(223,47,67)"
            ],
            [
             0.6274509803921569,
             "rgb(236,76,61)"
            ],
            [
             0.6901960784313725,
             "rgb(242,107,73)"
            ],
            [
             0.7529411764705882,
             "rgb(244,135,95)"
            ],
            [
             0.8156862745098039,
             "rgb(245,162,122)"
            ],
            [
             0.8784313725490196,
             "rgb(246,188,153)"
            ],
            [
             0.9411764705882353,
             "rgb(247,212,187)"
            ],
            [
             1,
             "rgb(250,234,220)"
            ]
           ]
          },
          "colorway": [
           "rgb(76,114,176)",
           "rgb(221,132,82)",
           "rgb(85,168,104)",
           "rgb(196,78,82)",
           "rgb(129,114,179)",
           "rgb(147,120,96)",
           "rgb(218,139,195)",
           "rgb(140,140,140)",
           "rgb(204,185,116)",
           "rgb(100,181,205)"
          ],
          "font": {
           "color": "rgb(36,36,36)"
          },
          "geo": {
           "bgcolor": "white",
           "lakecolor": "white",
           "landcolor": "rgb(234,234,242)",
           "showlakes": true,
           "showland": true,
           "subunitcolor": "white"
          },
          "hoverlabel": {
           "align": "left"
          },
          "hovermode": "closest",
          "paper_bgcolor": "white",
          "plot_bgcolor": "rgb(234,234,242)",
          "polar": {
           "angularaxis": {
            "gridcolor": "white",
            "linecolor": "white",
            "showgrid": true,
            "ticks": ""
           },
           "bgcolor": "rgb(234,234,242)",
           "radialaxis": {
            "gridcolor": "white",
            "linecolor": "white",
            "showgrid": true,
            "ticks": ""
           }
          },
          "scene": {
           "xaxis": {
            "backgroundcolor": "rgb(234,234,242)",
            "gridcolor": "white",
            "gridwidth": 2,
            "linecolor": "white",
            "showbackground": true,
            "showgrid": true,
            "ticks": "",
            "zerolinecolor": "white"
           },
           "yaxis": {
            "backgroundcolor": "rgb(234,234,242)",
            "gridcolor": "white",
            "gridwidth": 2,
            "linecolor": "white",
            "showbackground": true,
            "showgrid": true,
            "ticks": "",
            "zerolinecolor": "white"
           },
           "zaxis": {
            "backgroundcolor": "rgb(234,234,242)",
            "gridcolor": "white",
            "gridwidth": 2,
            "linecolor": "white",
            "showbackground": true,
            "showgrid": true,
            "ticks": "",
            "zerolinecolor": "white"
           }
          },
          "shapedefaults": {
           "fillcolor": "rgb(67,103,167)",
           "line": {
            "width": 0
           },
           "opacity": 0.5
          },
          "ternary": {
           "aaxis": {
            "gridcolor": "white",
            "linecolor": "white",
            "showgrid": true,
            "ticks": ""
           },
           "baxis": {
            "gridcolor": "white",
            "linecolor": "white",
            "showgrid": true,
            "ticks": ""
           },
           "bgcolor": "rgb(234,234,242)",
           "caxis": {
            "gridcolor": "white",
            "linecolor": "white",
            "showgrid": true,
            "ticks": ""
           }
          },
          "xaxis": {
           "automargin": true,
           "gridcolor": "white",
           "linecolor": "white",
           "showgrid": true,
           "ticks": "",
           "title": {
            "standoff": 15
           },
           "zerolinecolor": "white"
          },
          "yaxis": {
           "automargin": true,
           "gridcolor": "white",
           "linecolor": "white",
           "showgrid": true,
           "ticks": "",
           "title": {
            "standoff": 15
           },
           "zerolinecolor": "white"
          }
         }
        },
        "title": {
         "text": "Dynamic of commits per user in project1"
        },
        "updatemenus": [
         {
          "buttons": [
           {
            "args": [
             null
            ],
            "label": "play",
            "method": "animate"
           }
          ],
          "type": "buttons"
         }
        ],
        "xaxis": {
         "range": [
          0,
          21
         ],
         "showline": false,
         "visible": true
        },
        "yaxis": {
         "range": [
          0,
          170
         ],
         "showline": false,
         "visible": true
        }
       }
      }
     },
     "metadata": {},
     "output_type": "display_data"
    }
   ],
   "source": [
    "figure.show()"
   ]
  },
  {
   "cell_type": "markdown",
   "metadata": {},
   "source": [
    "##### 4.Close connect:"
   ]
  },
  {
   "cell_type": "code",
   "execution_count": 11,
   "metadata": {},
   "outputs": [],
   "source": [
    "connect.close()"
   ]
  }
 ],
 "metadata": {
  "kernelspec": {
   "display_name": "bryenmar",
   "language": "python",
   "name": "python3"
  },
  "language_info": {
   "codemirror_mode": {
    "name": "ipython",
    "version": 3
   },
   "file_extension": ".py",
   "mimetype": "text/x-python",
   "name": "python",
   "nbconvert_exporter": "python",
   "pygments_lexer": "ipython3",
   "version": "3.12.3"
  }
 },
 "nbformat": 4,
 "nbformat_minor": 2
}
