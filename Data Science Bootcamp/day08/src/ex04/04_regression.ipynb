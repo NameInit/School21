{
 "cells": [
  {
   "cell_type": "markdown",
   "metadata": {},
   "source": [
    "# Day 08. Exercise 04\n",
    "# Regression"
   ]
  },
  {
   "cell_type": "markdown",
   "metadata": {},
   "source": [
    "## 0. Imports"
   ]
  },
  {
   "cell_type": "code",
   "execution_count": 1,
   "metadata": {},
   "outputs": [],
   "source": [
    "import pandas as pd\n",
    "import numpy as np\n",
    "import seaborn as sns\n",
    "import matplotlib.pyplot as plt\n",
    "from sklearn.model_selection import train_test_split\n",
    "from sklearn.model_selection import KFold\n",
    "from sklearn.linear_model import LinearRegression\n",
    "from sklearn.metrics import root_mean_squared_error\n",
    "from sklearn.tree import DecisionTreeRegressor\n",
    "from sklearn.ensemble import RandomForestRegressor"
   ]
  },
  {
   "cell_type": "markdown",
   "metadata": {},
   "source": [
    "## 1. Preprocessing"
   ]
  },
  {
   "cell_type": "markdown",
   "metadata": {},
   "source": [
    "1. Read the file [`checker_regression.csv`](https://drive.google.com/file/d/1L8auBzJEghWFewznhhFpcrqxW4GqcfRY/view?usp=sharing).\n",
    "2. Fill the missing values in it with `0`.\n",
    "3. Make a split of your dataset on train and test with parameters `test_size=0.2`."
   ]
  },
  {
   "cell_type": "code",
   "execution_count": 2,
   "metadata": {},
   "outputs": [
    {
     "data": {
      "text/html": [
       "<div>\n",
       "<style scoped>\n",
       "    .dataframe tbody tr th:only-of-type {\n",
       "        vertical-align: middle;\n",
       "    }\n",
       "\n",
       "    .dataframe tbody tr th {\n",
       "        vertical-align: top;\n",
       "    }\n",
       "\n",
       "    .dataframe thead th {\n",
       "        text-align: right;\n",
       "    }\n",
       "</style>\n",
       "<table border=\"1\" class=\"dataframe\">\n",
       "  <thead>\n",
       "    <tr style=\"text-align: right;\">\n",
       "      <th></th>\n",
       "      <th>num_commits</th>\n",
       "      <th>pageviews</th>\n",
       "      <th>AVG(diff)</th>\n",
       "    </tr>\n",
       "  </thead>\n",
       "  <tbody>\n",
       "    <tr>\n",
       "      <th>0</th>\n",
       "      <td>62</td>\n",
       "      <td>28.0</td>\n",
       "      <td>NaN</td>\n",
       "    </tr>\n",
       "    <tr>\n",
       "      <th>1</th>\n",
       "      <td>62</td>\n",
       "      <td>28.0</td>\n",
       "      <td>NaN</td>\n",
       "    </tr>\n",
       "    <tr>\n",
       "      <th>2</th>\n",
       "      <td>62</td>\n",
       "      <td>28.0</td>\n",
       "      <td>NaN</td>\n",
       "    </tr>\n",
       "    <tr>\n",
       "      <th>3</th>\n",
       "      <td>62</td>\n",
       "      <td>28.0</td>\n",
       "      <td>NaN</td>\n",
       "    </tr>\n",
       "    <tr>\n",
       "      <th>4</th>\n",
       "      <td>62</td>\n",
       "      <td>28.0</td>\n",
       "      <td>NaN</td>\n",
       "    </tr>\n",
       "    <tr>\n",
       "      <th>...</th>\n",
       "      <td>...</td>\n",
       "      <td>...</td>\n",
       "      <td>...</td>\n",
       "    </tr>\n",
       "    <tr>\n",
       "      <th>72</th>\n",
       "      <td>128</td>\n",
       "      <td>NaN</td>\n",
       "      <td>-104.75</td>\n",
       "    </tr>\n",
       "    <tr>\n",
       "      <th>73</th>\n",
       "      <td>40</td>\n",
       "      <td>NaN</td>\n",
       "      <td>-175.60</td>\n",
       "    </tr>\n",
       "    <tr>\n",
       "      <th>74</th>\n",
       "      <td>15</td>\n",
       "      <td>NaN</td>\n",
       "      <td>-62.60</td>\n",
       "    </tr>\n",
       "    <tr>\n",
       "      <th>75</th>\n",
       "      <td>8</td>\n",
       "      <td>NaN</td>\n",
       "      <td>-115.50</td>\n",
       "    </tr>\n",
       "    <tr>\n",
       "      <th>76</th>\n",
       "      <td>71</td>\n",
       "      <td>NaN</td>\n",
       "      <td>-160.40</td>\n",
       "    </tr>\n",
       "  </tbody>\n",
       "</table>\n",
       "<p>77 rows × 3 columns</p>\n",
       "</div>"
      ],
      "text/plain": [
       "    num_commits  pageviews  AVG(diff)\n",
       "0            62       28.0        NaN\n",
       "1            62       28.0        NaN\n",
       "2            62       28.0        NaN\n",
       "3            62       28.0        NaN\n",
       "4            62       28.0        NaN\n",
       "..          ...        ...        ...\n",
       "72          128        NaN    -104.75\n",
       "73           40        NaN    -175.60\n",
       "74           15        NaN     -62.60\n",
       "75            8        NaN    -115.50\n",
       "76           71        NaN    -160.40\n",
       "\n",
       "[77 rows x 3 columns]"
      ]
     },
     "execution_count": 2,
     "metadata": {},
     "output_type": "execute_result"
    }
   ],
   "source": [
    "df = pd.read_csv('../data/checker_regression.csv').drop(columns=['uid'])\n",
    "df"
   ]
  },
  {
   "cell_type": "code",
   "execution_count": 3,
   "metadata": {},
   "outputs": [
    {
     "data": {
      "text/html": [
       "<div>\n",
       "<style scoped>\n",
       "    .dataframe tbody tr th:only-of-type {\n",
       "        vertical-align: middle;\n",
       "    }\n",
       "\n",
       "    .dataframe tbody tr th {\n",
       "        vertical-align: top;\n",
       "    }\n",
       "\n",
       "    .dataframe thead th {\n",
       "        text-align: right;\n",
       "    }\n",
       "</style>\n",
       "<table border=\"1\" class=\"dataframe\">\n",
       "  <thead>\n",
       "    <tr style=\"text-align: right;\">\n",
       "      <th></th>\n",
       "      <th>num_commits</th>\n",
       "      <th>pageviews</th>\n",
       "      <th>AVG(diff)</th>\n",
       "    </tr>\n",
       "  </thead>\n",
       "  <tbody>\n",
       "    <tr>\n",
       "      <th>0</th>\n",
       "      <td>62</td>\n",
       "      <td>28.0</td>\n",
       "      <td>0.00</td>\n",
       "    </tr>\n",
       "    <tr>\n",
       "      <th>1</th>\n",
       "      <td>62</td>\n",
       "      <td>28.0</td>\n",
       "      <td>0.00</td>\n",
       "    </tr>\n",
       "    <tr>\n",
       "      <th>2</th>\n",
       "      <td>62</td>\n",
       "      <td>28.0</td>\n",
       "      <td>0.00</td>\n",
       "    </tr>\n",
       "    <tr>\n",
       "      <th>3</th>\n",
       "      <td>62</td>\n",
       "      <td>28.0</td>\n",
       "      <td>0.00</td>\n",
       "    </tr>\n",
       "    <tr>\n",
       "      <th>4</th>\n",
       "      <td>62</td>\n",
       "      <td>28.0</td>\n",
       "      <td>0.00</td>\n",
       "    </tr>\n",
       "    <tr>\n",
       "      <th>...</th>\n",
       "      <td>...</td>\n",
       "      <td>...</td>\n",
       "      <td>...</td>\n",
       "    </tr>\n",
       "    <tr>\n",
       "      <th>72</th>\n",
       "      <td>128</td>\n",
       "      <td>0.0</td>\n",
       "      <td>-104.75</td>\n",
       "    </tr>\n",
       "    <tr>\n",
       "      <th>73</th>\n",
       "      <td>40</td>\n",
       "      <td>0.0</td>\n",
       "      <td>-175.60</td>\n",
       "    </tr>\n",
       "    <tr>\n",
       "      <th>74</th>\n",
       "      <td>15</td>\n",
       "      <td>0.0</td>\n",
       "      <td>-62.60</td>\n",
       "    </tr>\n",
       "    <tr>\n",
       "      <th>75</th>\n",
       "      <td>8</td>\n",
       "      <td>0.0</td>\n",
       "      <td>-115.50</td>\n",
       "    </tr>\n",
       "    <tr>\n",
       "      <th>76</th>\n",
       "      <td>71</td>\n",
       "      <td>0.0</td>\n",
       "      <td>-160.40</td>\n",
       "    </tr>\n",
       "  </tbody>\n",
       "</table>\n",
       "<p>77 rows × 3 columns</p>\n",
       "</div>"
      ],
      "text/plain": [
       "    num_commits  pageviews  AVG(diff)\n",
       "0            62       28.0       0.00\n",
       "1            62       28.0       0.00\n",
       "2            62       28.0       0.00\n",
       "3            62       28.0       0.00\n",
       "4            62       28.0       0.00\n",
       "..          ...        ...        ...\n",
       "72          128        0.0    -104.75\n",
       "73           40        0.0    -175.60\n",
       "74           15        0.0     -62.60\n",
       "75            8        0.0    -115.50\n",
       "76           71        0.0    -160.40\n",
       "\n",
       "[77 rows x 3 columns]"
      ]
     },
     "execution_count": 3,
     "metadata": {},
     "output_type": "execute_result"
    }
   ],
   "source": [
    "df.fillna(0,inplace=True)\n",
    "df"
   ]
  },
  {
   "cell_type": "code",
   "execution_count": 4,
   "metadata": {},
   "outputs": [],
   "source": [
    "y = df['AVG(diff)']\n",
    "X=df.drop(columns=['AVG(diff)'])"
   ]
  },
  {
   "cell_type": "code",
   "execution_count": 5,
   "metadata": {},
   "outputs": [],
   "source": [
    "X_train, X_test, y_train, y_test = train_test_split(X,y,test_size=0.2, random_state=21)"
   ]
  },
  {
   "cell_type": "markdown",
   "metadata": {},
   "source": [
    "## 2. Crossvalidation"
   ]
  },
  {
   "cell_type": "markdown",
   "metadata": {},
   "source": [
    "1. Write a function `crossval` that takes as arguments: `n_splits` for `KFold()`, `X`, `y`, model instantiated class with the parameters of the model (keep in mind: `random_state=21`) and returns for a given model class a result like this:\n",
    "\n",
    "```\n",
    "train -  2696.4496895424836   |   test -  1589.9979527104958\n",
    "train -  2660.957874001452   |   test -  2075.102636027137\n",
    "train -  2847.315529246795   |   test -  320.911928168403\n",
    "train -  2500.7691099659237   |   test -  4132.461382030178\n",
    "train -  2643.927917295123   |   test -  2237.8140952197878\n",
    "train -  2396.295678819444   |   test -  4509.650064742476\n",
    "train -  2003.402267924976   |   test -  8403.491474908551\n",
    "train -  2531.876094212613   |   test -  3135.944102735099\n",
    "train -  2683.1795186023123   |   test -  1796.01426292594\n",
    "train -  2537.1192483996338   |   test -  3439.29824116941\n",
    "Average RMSE on crossval is 3164.0686140637476\n",
    "```\n",
    "\n",
    "2. Run the function for `LinearRegression`, `DecisionTreeRegressor`, `RandomForestRegressor`. You may choose the parameters by yourself, but find the good enough for you."
   ]
  },
  {
   "cell_type": "code",
   "execution_count": 6,
   "metadata": {},
   "outputs": [],
   "source": [
    "def crossval(n_splits, X, y, model):\n",
    "\tkf = KFold(n_splits=n_splits, shuffle=True, random_state=21)\n",
    "\tl_rmse=list()\n",
    "\tfor ind_train,ind_test in kf.split(X):\n",
    "\t\tt_X_train, t_X_test = X.iloc[ind_train], X.iloc[ind_test]\n",
    "\t\tt_y_train, t_y_test = y.iloc[ind_train], y.iloc[ind_test]\n",
    "\t\t\n",
    "\t\tmodel.fit(t_X_train, t_y_train)\n",
    "\t\tt_y_pred_train = model.predict(t_X_train)\n",
    "\t\tt_y_pred_test = model.predict(t_X_test)\n",
    "\n",
    "\t\tt_rmse_train = root_mean_squared_error(t_y_train, t_y_pred_train)\n",
    "\t\tt_rmse_test = root_mean_squared_error(t_y_test, t_y_pred_test)\n",
    "\n",
    "\t\tl_rmse.append(t_rmse_test)\n",
    "\n",
    "\t\tprint(f\"train -  {t_rmse_train}   |   test -  {t_rmse_test}\")\n",
    "\tprint(f\"Average RMSE on crossval is {np.mean(l_rmse)}\")\n",
    "\n",
    "\t\t"
   ]
  },
  {
   "cell_type": "code",
   "execution_count": 7,
   "metadata": {},
   "outputs": [
    {
     "name": "stdout",
     "output_type": "stream",
     "text": [
      "train -  42.27291015233797   |   test -  70.43979397280242\n",
      "train -  47.45726648237968   |   test -  30.657394014354043\n",
      "train -  47.77854388604299   |   test -  27.137319378269105\n",
      "train -  46.2441901620785   |   test -  44.123072052096376\n",
      "train -  46.39355004742244   |   test -  42.420391728163665\n",
      "train -  47.71541914802497   |   test -  28.273391654514054\n",
      "train -  46.308918660456506   |   test -  45.67313727400561\n",
      "train -  47.81194647242181   |   test -  20.57247658092342\n",
      "train -  44.12915324532897   |   test -  63.14957718941947\n",
      "train -  42.350893141368886   |   test -  74.15893330081012\n",
      "Average RMSE on crossval is 44.66054871453583\n"
     ]
    }
   ],
   "source": [
    "model_liner = LinearRegression(fit_intercept=True)\n",
    "crossval(10, X, y, model_liner)"
   ]
  },
  {
   "cell_type": "code",
   "execution_count": 8,
   "metadata": {},
   "outputs": [
    {
     "name": "stdout",
     "output_type": "stream",
     "text": [
      "train -  0.0   |   test -  71.88489835223467\n",
      "train -  0.0   |   test -  25.24371208835975\n",
      "train -  0.0   |   test -  0.0\n",
      "train -  0.0   |   test -  20.293964620053917\n",
      "train -  0.0   |   test -  72.20506003352149\n",
      "train -  0.0   |   test -  28.991378028648448\n",
      "train -  0.0   |   test -  7.0364255643204405\n",
      "train -  0.0   |   test -  8.126236169698386\n",
      "train -  0.0   |   test -  86.63649383194165\n",
      "train -  0.0   |   test -  65.93049851867218\n",
      "Average RMSE on crossval is 38.634866720745094\n"
     ]
    }
   ],
   "source": [
    "model_tree = DecisionTreeRegressor(random_state=21, max_depth=8)\n",
    "crossval(10,X,y,model_tree)"
   ]
  },
  {
   "cell_type": "code",
   "execution_count": 9,
   "metadata": {},
   "outputs": [
    {
     "name": "stdout",
     "output_type": "stream",
     "text": [
      "train -  17.103675629871862   |   test -  54.67206534956531\n",
      "train -  19.023141498089963   |   test -  8.477431226276718\n",
      "train -  19.754390877731687   |   test -  0.0\n",
      "train -  19.142110543865996   |   test -  28.45335226395663\n",
      "train -  17.594611536132938   |   test -  48.294007038219206\n",
      "train -  18.789399151483014   |   test -  33.546524557713134\n",
      "train -  20.00984227635604   |   test -  18.16921076861153\n",
      "train -  19.17248526907595   |   test -  26.455453054282096\n",
      "train -  14.783610134802732   |   test -  67.80311223922031\n",
      "train -  17.868540799234964   |   test -  42.86743366475046\n",
      "Average RMSE on crossval is 32.873859016259544\n"
     ]
    }
   ],
   "source": [
    "model_forest = RandomForestRegressor(n_estimators=50, max_depth=4, random_state=21)\n",
    "crossval(10,X,y,model_forest)"
   ]
  },
  {
   "cell_type": "markdown",
   "metadata": {},
   "source": [
    "## 3. Predictions and evaluation"
   ]
  },
  {
   "cell_type": "markdown",
   "metadata": {},
   "source": [
    "1. Make predictions for the test dataset using each of the three models with the finalized parameters.\n",
    "2. Draw a plot for each of the models where the `x-axis` is the actual average difference and the `y-axis` is the prediction made by a model.\n",
    "3. How would plot look like in the ideal case? Put the answer to the markdown cell in the end of the section."
   ]
  },
  {
   "cell_type": "code",
   "execution_count": 10,
   "metadata": {},
   "outputs": [
    {
     "data": {
      "text/plain": [
       "array([-27.15893204, -38.51261441, -33.59771207, -36.13990293,\n",
       "       -23.94195387,  -6.99709369, -25.80407191, -41.05495923,\n",
       "       -25.80407191, -27.83541276, -25.80407191,  -6.99709369,\n",
       "        -7.84418275, -19.70122303, -29.70019922, -29.70019922])"
      ]
     },
     "execution_count": 10,
     "metadata": {},
     "output_type": "execute_result"
    }
   ],
   "source": [
    "model_liner.fit(X_train, y_train)\n",
    "y_pred_liner = model_liner.predict(X_test)\n",
    "y_pred_liner"
   ]
  },
  {
   "cell_type": "code",
   "execution_count": 11,
   "metadata": {},
   "outputs": [
    {
     "data": {
      "image/png": "[encoded data removed]",
      "text/plain": [
       "<Figure size 640x480 with 1 Axes>"
      ]
     },
     "metadata": {},
     "output_type": "display_data"
    }
   ],
   "source": [
    "sns.lineplot(x=y_test, y=y_pred_liner)\n",
    "plt.xlabel(\"True\")\n",
    "plt.ylabel(\"Predict\")\n",
    "plt.title(\"Linear model\")\n",
    "plt.show()"
   ]
  },
  {
   "cell_type": "code",
   "execution_count": 12,
   "metadata": {},
   "outputs": [
    {
     "data": {
      "text/plain": [
       "array([   0.        ,   -5.33333333, -157.4       ,  -52.33333333,\n",
       "          0.        ,    0.        ,    0.        ,    0.        ,\n",
       "          0.        , -160.4       ,    0.        ,    0.        ,\n",
       "          0.        ,    0.        ,    0.        ,    0.        ])"
      ]
     },
     "execution_count": 12,
     "metadata": {},
     "output_type": "execute_result"
    }
   ],
   "source": [
    "model_tree.fit(X_train, y_train)\n",
    "y_pred_tree = model_tree.predict(X_test)\n",
    "y_pred_tree"
   ]
  },
  {
   "cell_type": "code",
   "execution_count": 13,
   "metadata": {},
   "outputs": [
    {
     "data": {
      "image/png": "[encoded data removed]",
      "text/plain": [
       "<Figure size 640x480 with 1 Axes>"
      ]
     },
     "metadata": {},
     "output_type": "display_data"
    }
   ],
   "source": [
    "sns.lineplot(x=y_test, y=y_pred_tree)\n",
    "plt.xlabel(\"True\")\n",
    "plt.ylabel(\"Predict\")\n",
    "plt.title(\"Tree model\")\n",
    "plt.show()"
   ]
  },
  {
   "cell_type": "code",
   "execution_count": 14,
   "metadata": {},
   "outputs": [
    {
     "data": {
      "text/plain": [
       "array([   0.        ,  -49.20193614, -115.02482821,  -80.8974917 ,\n",
       "          0.        ,    0.        ,    0.        ,    0.        ,\n",
       "          0.        , -116.65107778,    0.        ,    0.        ,\n",
       "          0.        ,    0.        ,    0.        ,    0.        ])"
      ]
     },
     "execution_count": 14,
     "metadata": {},
     "output_type": "execute_result"
    }
   ],
   "source": [
    "model_forest.fit(X_train, y_train)\n",
    "y_pred_forest = model_forest.predict(X_test)\n",
    "y_pred_forest"
   ]
  },
  {
   "cell_type": "code",
   "execution_count": 15,
   "metadata": {},
   "outputs": [
    {
     "data": {
      "image/png": "[encoded data removed]",
      "text/plain": [
       "<Figure size 640x480 with 1 Axes>"
      ]
     },
     "metadata": {},
     "output_type": "display_data"
    }
   ],
   "source": [
    "sns.lineplot(x=y_test, y=y_pred_forest)\n",
    "plt.xlabel(\"True\")\n",
    "plt.ylabel(\"Predict\")\n",
    "plt.title(\"Forest model\")\n",
    "plt.show()"
   ]
  },
  {
   "cell_type": "markdown",
   "metadata": {},
   "source": [
    "В идеале прямая прошла бы по диагонали"
   ]
  }
 ],
 "metadata": {
  "kernelspec": {
   "display_name": "venv",
   "language": "python",
   "name": "python3"
  },
  "language_info": {
   "codemirror_mode": {
    "name": "ipython",
    "version": 3
   },
   "file_extension": ".py",
   "mimetype": "text/x-python",
   "name": "python",
   "nbconvert_exporter": "python",
   "pygments_lexer": "ipython3",
   "version": "3.12.3"
  }
 },
 "nbformat": 4,
 "nbformat_minor": 4
}
