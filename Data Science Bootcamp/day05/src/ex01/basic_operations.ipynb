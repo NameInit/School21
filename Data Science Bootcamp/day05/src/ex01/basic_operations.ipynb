{
 "cells": [
  {
   "cell_type": "markdown",
   "id": "a3b7ab5c",
   "metadata": {},
   "source": [
    "##### Load libs:"
   ]
  },
  {
   "cell_type": "code",
   "execution_count": 1,
   "id": "3212d024",
   "metadata": {},
   "outputs": [],
   "source": [
    "import pandas as pd"
   ]
  },
  {
   "cell_type": "markdown",
   "id": "c2d10449",
   "metadata": {},
   "source": [
    "##### Read log-file:"
   ]
  },
  {
   "cell_type": "code",
   "execution_count": 2,
   "id": "86237919",
   "metadata": {},
   "outputs": [
    {
     "name": "stdout",
     "output_type": "stream",
     "text": [
      "                       date_time       user\n",
      "0     2020-04-17 12:01:08.463179      artem\n",
      "1     2020-04-17 12:35:44.884757      artem\n",
      "2     2020-04-17 12:35:52.735016      artem\n",
      "3     2020-04-17 12:36:21.401412     oksana\n",
      "4     2020-04-17 12:36:22.023355     oksana\n",
      "...                          ...        ...\n",
      "1067  2020-05-21 16:36:40.915488  ekaterina\n",
      "1068  2020-05-21 17:49:36.429237      maxim\n",
      "1069  2020-05-21 18:45:20.441142  valentina\n",
      "1070  2020-05-21 23:03:06.457819      maxim\n",
      "1071  2020-05-21 23:23:49.995349      pavel\n",
      "\n",
      "[1072 rows x 2 columns]\n"
     ]
    }
   ],
   "source": [
    "views = pd.read_csv(\n",
    "\t'../data/feed-views-semicolon.log',\n",
    "\tsep=';'\n",
    ")\n",
    "print(views)"
   ]
  },
  {
   "cell_type": "markdown",
   "id": "01d43eef",
   "metadata": {},
   "source": [
    "##### 1.Converter to datetime:"
   ]
  },
  {
   "cell_type": "code",
   "execution_count": 3,
   "id": "c7957bfb",
   "metadata": {},
   "outputs": [
    {
     "name": "stdout",
     "output_type": "stream",
     "text": [
      "                      date_time       user  year  month  day  hour  minute  \\\n",
      "0    2020-04-17 12:01:08.463179      artem  2020      4   17    12       1   \n",
      "1    2020-04-17 12:35:44.884757      artem  2020      4   17    12      35   \n",
      "2    2020-04-17 12:35:52.735016      artem  2020      4   17    12      35   \n",
      "3    2020-04-17 12:36:21.401412     oksana  2020      4   17    12      36   \n",
      "4    2020-04-17 12:36:22.023355     oksana  2020      4   17    12      36   \n",
      "...                         ...        ...   ...    ...  ...   ...     ...   \n",
      "1067 2020-05-21 16:36:40.915488  ekaterina  2020      5   21    16      36   \n",
      "1068 2020-05-21 17:49:36.429237      maxim  2020      5   21    17      49   \n",
      "1069 2020-05-21 18:45:20.441142  valentina  2020      5   21    18      45   \n",
      "1070 2020-05-21 23:03:06.457819      maxim  2020      5   21    23       3   \n",
      "1071 2020-05-21 23:23:49.995349      pavel  2020      5   21    23      23   \n",
      "\n",
      "      second  \n",
      "0          8  \n",
      "1         44  \n",
      "2         52  \n",
      "3         21  \n",
      "4         22  \n",
      "...      ...  \n",
      "1067      40  \n",
      "1068      36  \n",
      "1069      20  \n",
      "1070       6  \n",
      "1071      49  \n",
      "\n",
      "[1072 rows x 8 columns]\n"
     ]
    }
   ],
   "source": [
    "views['date_time']=pd.to_datetime(views['date_time'])\n",
    "views['year']=views['date_time'].dt.year\n",
    "views['month'] = views['date_time'].dt.month\n",
    "views['day'] = views['date_time'].dt.day\n",
    "views['hour'] = views['date_time'].dt.hour\n",
    "views['minute'] = views['date_time'].dt.minute\n",
    "views['second'] = views['date_time'].dt.second\n",
    "print(views)"
   ]
  },
  {
   "cell_type": "markdown",
   "id": "06acf746",
   "metadata": {},
   "source": [
    "##### 2.Create new col \"datetime\":"
   ]
  },
  {
   "cell_type": "code",
   "execution_count": 4,
   "id": "724834bb",
   "metadata": {},
   "outputs": [
    {
     "name": "stdout",
     "output_type": "stream",
     "text": [
      "                           date_time  year  month  day  hour  minute  second  \\\n",
      "user                                                                           \n",
      "artem     2020-04-17 12:01:08.463179  2020      4   17    12       1       8   \n",
      "artem     2020-04-17 12:35:44.884757  2020      4   17    12      35      44   \n",
      "artem     2020-04-17 12:35:52.735016  2020      4   17    12      35      52   \n",
      "oksana    2020-04-17 12:36:21.401412  2020      4   17    12      36      21   \n",
      "oksana    2020-04-17 12:36:22.023355  2020      4   17    12      36      22   \n",
      "...                              ...   ...    ...  ...   ...     ...     ...   \n",
      "ekaterina 2020-05-21 16:36:40.915488  2020      5   21    16      36      40   \n",
      "maxim     2020-05-21 17:49:36.429237  2020      5   21    17      49      36   \n",
      "valentina 2020-05-21 18:45:20.441142  2020      5   21    18      45      20   \n",
      "maxim     2020-05-21 23:03:06.457819  2020      5   21    23       3       6   \n",
      "pavel     2020-05-21 23:23:49.995349  2020      5   21    23      23      49   \n",
      "\n",
      "                datetime  \n",
      "user                      \n",
      "artem          afternoon  \n",
      "artem          afternoon  \n",
      "artem          afternoon  \n",
      "oksana         afternoon  \n",
      "oksana         afternoon  \n",
      "...                  ...  \n",
      "ekaterina      afternoon  \n",
      "maxim      early evening  \n",
      "valentina  early evening  \n",
      "maxim            evening  \n",
      "pavel            evening  \n",
      "\n",
      "[1072 rows x 8 columns]\n"
     ]
    }
   ],
   "source": [
    "views['datetime'] = pd.cut(\n",
    "\tviews['hour'],\n",
    "\tlabels=['night', 'early morning', 'morning', 'afternoon', 'early evening', 'evening'],\n",
    "\tbins=[0,4,7,11,17,20,24],\n",
    "\tright=False\n",
    ")\n",
    "views.set_index('user', inplace=True)\n",
    "print(views)"
   ]
  },
  {
   "cell_type": "markdown",
   "id": "d2c31dd8",
   "metadata": {},
   "source": [
    "##### 3.Count elements:"
   ]
  },
  {
   "cell_type": "code",
   "execution_count": 5,
   "id": "5537f30c",
   "metadata": {},
   "outputs": [
    {
     "name": "stdout",
     "output_type": "stream",
     "text": [
      "Count all elements: 1072\n",
      "Elements in datetime\n",
      "evening          508\n",
      "afternoon        250\n",
      "early evening    145\n",
      "night            129\n",
      "morning           35\n",
      "early morning      5\n",
      "Name: count, dtype: int64\n"
     ]
    }
   ],
   "source": [
    "print(f\"Count all elements: {max(views.count())}\")\n",
    "print(f\"Elements in {views['datetime'].value_counts()}\")"
   ]
  },
  {
   "cell_type": "markdown",
   "id": "f02d6d68",
   "metadata": {},
   "source": [
    "##### 4.Sort DataFrame:"
   ]
  },
  {
   "cell_type": "code",
   "execution_count": 6,
   "id": "bc6ca28f",
   "metadata": {},
   "outputs": [
    {
     "name": "stdout",
     "output_type": "stream",
     "text": [
      "                           date_time  year  month  day  hour  minute  second  \\\n",
      "user                                                                           \n",
      "valentina 2020-05-15 00:00:13.222265  2020      5   15     0       0      13   \n",
      "valentina 2020-05-15 00:01:05.153738  2020      5   15     0       1       5   \n",
      "pavel     2020-05-12 00:01:27.764025  2020      5   12     0       1      27   \n",
      "pavel     2020-05-12 00:01:38.444917  2020      5   12     0       1      38   \n",
      "pavel     2020-05-12 00:01:55.395042  2020      5   12     0       1      55   \n",
      "...                              ...   ...    ...  ...   ...     ...     ...   \n",
      "artem     2020-04-29 23:48:14.208828  2020      4   29    23      48      14   \n",
      "anatoliy  2020-05-09 23:53:55.599821  2020      5    9    23      53      55   \n",
      "pavel     2020-05-09 23:54:54.260791  2020      5    9    23      54      54   \n",
      "valentina 2020-05-14 23:58:56.754866  2020      5   14    23      58      56   \n",
      "alexander 2020-05-14 23:59:38.758438  2020      5   14    23      59      38   \n",
      "\n",
      "          datetime  \n",
      "user                \n",
      "valentina    night  \n",
      "valentina    night  \n",
      "pavel        night  \n",
      "pavel        night  \n",
      "pavel        night  \n",
      "...            ...  \n",
      "artem      evening  \n",
      "anatoliy   evening  \n",
      "pavel      evening  \n",
      "valentina  evening  \n",
      "alexander  evening  \n",
      "\n",
      "[1072 rows x 8 columns]\n"
     ]
    }
   ],
   "source": [
    "views.sort_values(['hour','minute','second'], inplace=True)\n",
    "print(views)"
   ]
  },
  {
   "cell_type": "markdown",
   "id": "f46673f4",
   "metadata": {},
   "source": [
    "##### 5.Max and min datetime:"
   ]
  },
  {
   "cell_type": "code",
   "execution_count": 7,
   "id": "7001196b",
   "metadata": {},
   "outputs": [
    {
     "name": "stdout",
     "output_type": "stream",
     "text": [
      "Max hour night: 3\n",
      "Min hour morning: 8\n",
      "Visit in max hour night: konstantin\n",
      "Visit in min hour morning: alexander\n",
      "Mode: 22\n"
     ]
    }
   ],
   "source": [
    "print(f\"Max hour night: {views[views['datetime']=='night']['hour'].max()}\")\n",
    "print(f\"Min hour morning: {views[views['datetime']=='morning']['hour'].min()}\")\n",
    "\n",
    "print(f\"Visit in max hour night: {views[views['hour']==views[views['datetime']=='night']['hour'].max()].index.to_list()[0]}\")\n",
    "print(f\"Visit in min hour morning: {views[views['hour']==views[views['datetime']=='morning']['hour'].min()].index.to_list()[0]}\")\n",
    "\n",
    "print(f\"Mode: {views['hour'].mode().iloc[0]}\")"
   ]
  },
  {
   "cell_type": "markdown",
   "id": "33c40a34",
   "metadata": {},
   "source": [
    "##### 6.Early and late hour:"
   ]
  },
  {
   "cell_type": "code",
   "execution_count": 8,
   "id": "6ae1c55a",
   "metadata": {},
   "outputs": [
    {
     "name": "stdout",
     "output_type": "stream",
     "text": [
      "Early hour: [0, 0, 0]\n",
      "Late hour: [23, 23, 23]\n"
     ]
    }
   ],
   "source": [
    "print(f\"Early hour: {views['hour'].nsmallest(3).to_list()}\")\n",
    "print(f\"Late hour: {views['hour'].nlargest(3).to_list()}\")"
   ]
  },
  {
   "cell_type": "markdown",
   "id": "07ad485b",
   "metadata": {},
   "source": [
    "##### 7.Use describe:"
   ]
  },
  {
   "cell_type": "code",
   "execution_count": 9,
   "id": "88259954",
   "metadata": {},
   "outputs": [
    {
     "name": "stdout",
     "output_type": "stream",
     "text": [
      "Interquartile range: 9.0\n"
     ]
    }
   ],
   "source": [
    "stats = views[['hour', 'minute','second']].describe()\n",
    "iqr = stats.loc['75%','hour']-stats.loc['25%','hour']\n",
    "print(f\"Interquartile range: {iqr}\")"
   ]
  },
  {
   "cell_type": "code",
   "execution_count": 10,
   "id": "c7005031",
   "metadata": {},
   "outputs": [
    {
     "name": "stdout",
     "output_type": "stream",
     "text": [
      "<class 'pandas.core.frame.DataFrame'>\n",
      "Index: 1072 entries, valentina to alexander\n",
      "Data columns (total 8 columns):\n",
      " #   Column     Non-Null Count  Dtype         \n",
      "---  ------     --------------  -----         \n",
      " 0   date_time  1072 non-null   datetime64[ns]\n",
      " 1   year       1072 non-null   int32         \n",
      " 2   month      1072 non-null   int32         \n",
      " 3   day        1072 non-null   int32         \n",
      " 4   hour       1072 non-null   int32         \n",
      " 5   minute     1072 non-null   int32         \n",
      " 6   second     1072 non-null   int32         \n",
      " 7   datetime   1072 non-null   category      \n",
      "dtypes: category(1), datetime64[ns](1), int32(6)\n",
      "memory usage: 75.4+ KB\n",
      "None\n"
     ]
    }
   ],
   "source": [
    "print(views.info())"
   ]
  },
  {
   "cell_type": "code",
   "execution_count": 11,
   "id": "568a525c",
   "metadata": {},
   "outputs": [
    {
     "name": "stdout",
     "output_type": "stream",
     "text": [
      "date_time    1072\n",
      "year         1072\n",
      "month        1072\n",
      "day          1072\n",
      "hour         1072\n",
      "minute       1072\n",
      "second       1072\n",
      "datetime     1072\n",
      "dtype: int64\n"
     ]
    }
   ],
   "source": [
    "print(views.count())"
   ]
  },
  {
   "cell_type": "code",
   "execution_count": 14,
   "id": "63124398",
   "metadata": {},
   "outputs": [
    {
     "name": "stdout",
     "output_type": "stream",
     "text": [
      "0      2020-04-17 12:01:08.463179\n",
      "1      2020-04-17 12:35:44.884757\n",
      "2      2020-04-17 12:35:52.735016\n",
      "3      2020-04-17 12:36:21.401412\n",
      "4      2020-04-17 12:36:22.023355\n",
      "                  ...            \n",
      "1067   2020-05-21 16:36:40.915488\n",
      "1068   2020-05-21 17:49:36.429237\n",
      "1069   2020-05-21 18:45:20.441142\n",
      "1070   2020-05-21 23:03:06.457819\n",
      "1071   2020-05-21 23:23:49.995349\n",
      "Name: date_time, Length: 1072, dtype: datetime64[ns]\n"
     ]
    }
   ],
   "source": [
    "print(views['date_time'].mode())"
   ]
  }
 ],
 "metadata": {
  "kernelspec": {
   "display_name": "bryenmar",
   "language": "python",
   "name": "python3"
  },
  "language_info": {
   "codemirror_mode": {
    "name": "ipython",
    "version": 3
   },
   "file_extension": ".py",
   "mimetype": "text/x-python",
   "name": "python",
   "nbconvert_exporter": "python",
   "pygments_lexer": "ipython3",
   "version": "3.12.3"
  }
 },
 "nbformat": 4,
 "nbformat_minor": 5
}
