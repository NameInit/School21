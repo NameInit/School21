{
 "cells": [
  {
   "cell_type": "markdown",
   "id": "726226ff",
   "metadata": {},
   "source": [
    "##### Load libs:"
   ]
  },
  {
   "cell_type": "code",
   "execution_count": 1,
   "id": "c1a7a8f4",
   "metadata": {},
   "outputs": [],
   "source": [
    "import pandas as pd"
   ]
  },
  {
   "cell_type": "markdown",
   "id": "51465b2e",
   "metadata": {},
   "source": [
    "##### 1.Load data:"
   ]
  },
  {
   "cell_type": "code",
   "execution_count": 2,
   "id": "d8334d61",
   "metadata": {},
   "outputs": [
    {
     "name": "stdout",
     "output_type": "stream",
     "text": [
      "        CarNumber    Make_n_model  Refund    Fines  History\n",
      "ID                                                         \n",
      "0    Y163O8161RUS      Ford Focus     2.0   3200.0      NaN\n",
      "1     E432XX77RUS    Toyota Camry     1.0   6500.0      NaN\n",
      "2     7184TT36RUS      Ford Focus     1.0   2100.0      NaN\n",
      "3    X582HE161RUS      Ford Focus     2.0   2000.0      NaN\n",
      "4    E34877152RUS      Ford Focus     2.0   6100.0      NaN\n",
      "..            ...             ...     ...      ...      ...\n",
      "926  Y163O8161RUS      Ford Focus     2.0   1600.0      NaN\n",
      "927  M0309X197RUS      Ford Focus     1.0  22300.0      NaN\n",
      "928  O673E8197RUS      Ford Focus     2.0    600.0      NaN\n",
      "929  8610T8154RUS      Ford Focus     1.0   2000.0      NaN\n",
      "930  H419XE197RUS  Toyota Corolla     2.0      NaN      2.0\n",
      "\n",
      "[931 rows x 5 columns]\n"
     ]
    }
   ],
   "source": [
    "data = pd.read_csv(\n",
    "\t'../data/auto.csv',\n",
    "\tsep=',',\n",
    "\tindex_col='ID'\n",
    ")\n",
    "\n",
    "print(data)"
   ]
  },
  {
   "cell_type": "markdown",
   "id": "837ad599",
   "metadata": {},
   "source": [
    "##### 2.Counts elements:"
   ]
  },
  {
   "cell_type": "code",
   "execution_count": 3,
   "id": "2aa109f2",
   "metadata": {},
   "outputs": [
    {
     "name": "stdout",
     "output_type": "stream",
     "text": [
      "Count all elements: 931\n"
     ]
    }
   ],
   "source": [
    "print(f\"Count all elements: {data.count().max()}\")"
   ]
  },
  {
   "cell_type": "markdown",
   "id": "9135a193",
   "metadata": {},
   "source": [
    "##### 3.Delete duplicate:"
   ]
  },
  {
   "cell_type": "code",
   "execution_count": 4,
   "id": "274bab20",
   "metadata": {},
   "outputs": [
    {
     "name": "stdout",
     "output_type": "stream",
     "text": [
      "Count all elements: 725\n"
     ]
    }
   ],
   "source": [
    "data.drop_duplicates(\n",
    "\tsubset=['CarNumber', 'Make_n_model', 'Fines'],\n",
    "\tkeep='last',\n",
    "\tinplace=True\n",
    ")\n",
    "print(f\"Count all elements: {data.count().max()}\")"
   ]
  },
  {
   "cell_type": "markdown",
   "id": "489e3fe1",
   "metadata": {},
   "source": [
    "##### 4.Work with NaN:"
   ]
  },
  {
   "cell_type": "code",
   "execution_count": 5,
   "id": "44f90694",
   "metadata": {},
   "outputs": [
    {
     "name": "stdout",
     "output_type": "stream",
     "text": [
      "Before:\n",
      "Count NaN in CarNumber: 0\n",
      "Count NaN in Make_n_model: 0\n",
      "Count NaN in Refund: 12\n",
      "Count NaN in Fines: 60\n",
      "Count NaN in History: 660\n",
      "After 1:\n",
      "Count NaN in CarNumber: 0\n",
      "Count NaN in Make_n_model: 0\n",
      "Count NaN in Refund: 12\n",
      "Count NaN in Fines: 60\n",
      "mean: 8594.586466165414, 1.5172413793103448\n",
      "After 2:\n",
      "Count NaN in CarNumber: 0\n",
      "Count NaN in Make_n_model: 0\n",
      "Count NaN in Refund: 0\n",
      "Count NaN in Fines: 0\n",
      "       CarNumber  Make_n_model  Refund   Fines\n",
      "ID                                            \n",
      "0   Y163O8161RUS    Ford Focus     2.0  3200.0\n",
      "1    E432XX77RUS  Toyota Camry     1.0  6500.0\n",
      "2    7184TT36RUS    Ford Focus     1.0  2100.0\n",
      "3   X582HE161RUS    Ford Focus     2.0  2000.0\n",
      "5   92918M178RUS    Ford Focus     1.0  5700.0\n"
     ]
    },
    {
     "name": "stderr",
     "output_type": "stream",
     "text": [
      "/tmp/ipykernel_62942/1944449367.py:12: FutureWarning: Series.fillna with 'method' is deprecated and will raise in a future version. Use obj.ffill() or obj.bfill() instead.\n",
      "  data['Refund'] = data['Refund'].fillna(method=\"ffill\")\n"
     ]
    }
   ],
   "source": [
    "print(\"Before:\")\n",
    "for col in data.columns:\n",
    "    print(f\"Count NaN in {col}: {data[col].isna().sum()}\")\n",
    "\n",
    "data = data.dropna(axis=1, thresh=len(data) - 500)\n",
    "\n",
    "print(\"After 1:\")\n",
    "for col in data.columns:\n",
    "    print(f\"Count NaN in {col}: {data[col].isna().sum()}\")\n",
    "\n",
    "if 'Refund' in data.columns:\n",
    "    data['Refund'] = data['Refund'].fillna(method=\"ffill\")\n",
    "\n",
    "if 'Fines' in data.columns:\n",
    "    mean_fine = data['Fines'].mean()\n",
    "    data['Fines'] = data['Fines'].fillna(mean_fine)\n",
    "\n",
    "print(f\"mean: {mean_fine}, {data['Refund'].mean()}\")\n",
    "\n",
    "print(\"After 2:\")\n",
    "for col in data.columns:\n",
    "    print(f\"Count NaN in {col}: {data[col].isna().sum()}\")\n",
    "\n",
    "print(data.head())"
   ]
  },
  {
   "cell_type": "markdown",
   "id": "6e7ccfeb",
   "metadata": {},
   "source": [
    "##### 5.Split and parse:"
   ]
  },
  {
   "cell_type": "code",
   "execution_count": 6,
   "id": "9cbe2cf3",
   "metadata": {},
   "outputs": [
    {
     "name": "stdout",
     "output_type": "stream",
     "text": [
      "        CarNumber  Refund         Fines    Make    Model\n",
      "ID                                                      \n",
      "0    Y163O8161RUS     2.0   3200.000000    Ford    Focus\n",
      "1     E432XX77RUS     1.0   6500.000000  Toyota    Camry\n",
      "2     7184TT36RUS     1.0   2100.000000    Ford    Focus\n",
      "3    X582HE161RUS     2.0   2000.000000    Ford    Focus\n",
      "5    92918M178RUS     1.0   5700.000000    Ford    Focus\n",
      "..            ...     ...           ...     ...      ...\n",
      "926  Y163O8161RUS     2.0   1600.000000    Ford    Focus\n",
      "927  M0309X197RUS     1.0  22300.000000    Ford    Focus\n",
      "928  O673E8197RUS     2.0    600.000000    Ford    Focus\n",
      "929  8610T8154RUS     1.0   2000.000000    Ford    Focus\n",
      "930  H419XE197RUS     2.0   8594.586466  Toyota  Corolla\n",
      "\n",
      "[725 rows x 5 columns]\n"
     ]
    }
   ],
   "source": [
    "data[['Make','Model']] = data['Make_n_model'].apply(lambda x: pd.Series(x.split(' ')))\n",
    "data=data.drop('Make_n_model',axis=1)\n",
    "data.to_json('../data/auto.json', orient='records')\n",
    "\n",
    "print(data)"
   ]
  },
  {
   "cell_type": "code",
   "execution_count": 7,
   "id": "b588127a",
   "metadata": {},
   "outputs": [
    {
     "name": "stdout",
     "output_type": "stream",
     "text": [
      "        CarNumber  Refund         Fines    Make    Model\n",
      "ID                                                      \n",
      "0    Y163O8161RUS     2.0   3200.000000    Ford    Focus\n",
      "2     7184TT36RUS     1.0   2100.000000    Ford    Focus\n",
      "3    X582HE161RUS     2.0   2000.000000    Ford    Focus\n",
      "5    92918M178RUS     1.0   5700.000000    Ford    Focus\n",
      "10   H234YH197RUS     2.0   6000.000000    Ford    Focus\n",
      "..            ...     ...           ...     ...      ...\n",
      "926  Y163O8161RUS     2.0   1600.000000    Ford    Focus\n",
      "927  M0309X197RUS     1.0  22300.000000    Ford    Focus\n",
      "928  O673E8197RUS     2.0    600.000000    Ford    Focus\n",
      "929  8610T8154RUS     1.0   2000.000000    Ford    Focus\n",
      "930  H419XE197RUS     2.0   8594.586466  Toyota  Corolla\n",
      "\n",
      "[593 rows x 5 columns]\n"
     ]
    }
   ],
   "source": [
    "print(data.loc[data['Model'].isin([\"Focus\",\"Corolla\"])])"
   ]
  },
  {
   "cell_type": "code",
   "execution_count": 8,
   "id": "7e3ec422",
   "metadata": {},
   "outputs": [
    {
     "name": "stdout",
     "output_type": "stream",
     "text": [
      "Make        Model  \n",
      "Ford        Focus      575\n",
      "            Mondeo       6\n",
      "Skoda       Octavia     48\n",
      "Toyota      Camry       16\n",
      "            Corolla     18\n",
      "Volkswagen  Golf        20\n",
      "            Jetta        6\n",
      "            Passat      22\n",
      "            Touareg      5\n",
      "Name: Fines, dtype: int64\n"
     ]
    }
   ],
   "source": [
    "print(data.groupby(['Make', 'Model']).agg('Fines').count())"
   ]
  }
 ],
 "metadata": {
  "kernelspec": {
   "display_name": "bryenmar",
   "language": "python",
   "name": "python3"
  },
  "language_info": {
   "codemirror_mode": {
    "name": "ipython",
    "version": 3
   },
   "file_extension": ".py",
   "mimetype": "text/x-python",
   "name": "python",
   "nbconvert_exporter": "python",
   "pygments_lexer": "ipython3",
   "version": "3.12.3"
  }
 },
 "nbformat": 4,
 "nbformat_minor": 5
}
