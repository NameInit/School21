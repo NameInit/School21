{
 "cells": [
  {
   "cell_type": "markdown",
   "id": "9c1e5023",
   "metadata": {},
   "source": [
    "##### Load libs:"
   ]
  },
  {
   "cell_type": "code",
   "execution_count": 6,
   "id": "5bd5073a",
   "metadata": {},
   "outputs": [],
   "source": [
    "import pandas as pd\n",
    "import numpy as np\n",
    "import requests"
   ]
  },
  {
   "cell_type": "markdown",
   "id": "2cdf3b80",
   "metadata": {},
   "source": [
    "##### 1.Load data:"
   ]
  },
  {
   "cell_type": "code",
   "execution_count": 7,
   "id": "9cce1b6a",
   "metadata": {},
   "outputs": [
    {
     "name": "stdout",
     "output_type": "stream",
     "text": [
      "        CarNumber  Refund    Fines    Make    Model\n",
      "0    Y163O8161RUS       2  3200.00    Ford    Focus\n",
      "1     E432XX77RUS       1  6500.00  Toyota    Camry\n",
      "2     7184TT36RUS       1  2100.00    Ford    Focus\n",
      "3    X582HE161RUS       2  2000.00    Ford    Focus\n",
      "4    92918M178RUS       1  5700.00    Ford    Focus\n",
      "..            ...     ...      ...     ...      ...\n",
      "720  Y163O8161RUS       2  1600.00    Ford    Focus\n",
      "721  M0309X197RUS       1 22300.00    Ford    Focus\n",
      "722  O673E8197RUS       2   600.00    Ford    Focus\n",
      "723  8610T8154RUS       1  2000.00    Ford    Focus\n",
      "724  H419XE197RUS       2  8594.59  Toyota  Corolla\n",
      "\n",
      "[725 rows x 5 columns]\n"
     ]
    }
   ],
   "source": [
    "pd.options.display.float_format = '{:.2f}'.format\n",
    "data = pd.read_json('../data/auto.json')\n",
    "print(data)"
   ]
  },
  {
   "cell_type": "markdown",
   "id": "2ac7639d",
   "metadata": {},
   "source": [
    "##### 2.New DataFrame:"
   ]
  },
  {
   "cell_type": "code",
   "execution_count": 8,
   "id": "4e7c0b3b",
   "metadata": {},
   "outputs": [
    {
     "name": "stdout",
     "output_type": "stream",
     "text": [
      "\n",
      "Concat DataFrame:         CarNumber  Refund    Fines        Make   Model\n",
      "0    Y163O8161RUS       2  3200.00        Ford   Focus\n",
      "1     E432XX77RUS       1  6500.00      Toyota   Camry\n",
      "2     7184TT36RUS       1  2100.00        Ford   Focus\n",
      "3    X582HE161RUS       2  2000.00        Ford   Focus\n",
      "4    92918M178RUS       1  5700.00        Ford   Focus\n",
      "..            ...     ...      ...         ...     ...\n",
      "920  8182XX154RUS       1   500.00        Ford   Focus\n",
      "921   X796TH96RUS       2 40600.00        Ford   Focus\n",
      "922  T011MY163RUS       1  2300.00        Ford   Focus\n",
      "923   T341CC96RUS       2  7100.00  Volkswagen  Passat\n",
      "924   T119CT96RUS       2   200.00        Ford   Focus\n",
      "\n",
      "[925 rows x 5 columns]\n",
      "<class 'pandas.core.frame.DataFrame'>\n",
      "RangeIndex: 925 entries, 0 to 924\n",
      "Data columns (total 5 columns):\n",
      " #   Column     Non-Null Count  Dtype  \n",
      "---  ------     --------------  -----  \n",
      " 0   CarNumber  925 non-null    object \n",
      " 1   Refund     925 non-null    int64  \n",
      " 2   Fines      925 non-null    float64\n",
      " 3   Make       925 non-null    object \n",
      " 4   Model      914 non-null    object \n",
      "dtypes: float64(1), int64(1), object(3)\n",
      "memory usage: 36.3+ KB\n",
      "None\n"
     ]
    }
   ],
   "source": [
    "np.random.seed(21)\n",
    "sample = data.sample(n=200, random_state=21)\n",
    "\n",
    "sample['Refund'] = np.random.choice(data['Refund'].dropna(), size=200)\n",
    "sample['Fines'] = np.random.choice(data['Fines'].dropna(), size=200)\n",
    "\n",
    "concat_rows = pd.concat([data, sample], ignore_index=True)\n",
    "print(f\"\\nConcat DataFrame: {concat_rows}\")\n",
    "print(concat_rows.info())"
   ]
  },
  {
   "cell_type": "markdown",
   "id": "a62af885",
   "metadata": {},
   "source": [
    "##### 3.DataFrame with year:"
   ]
  },
  {
   "cell_type": "code",
   "execution_count": 9,
   "id": "3028ef5b",
   "metadata": {},
   "outputs": [
    {
     "name": "stdout",
     "output_type": "stream",
     "text": [
      "        CarNumber  Refund    Fines        Make   Model  Year\n",
      "0    Y163O8161RUS       2  3200.00        Ford   Focus  2013\n",
      "1     E432XX77RUS       1  6500.00      Toyota   Camry  2000\n",
      "2     7184TT36RUS       1  2100.00        Ford   Focus  2000\n",
      "3    X582HE161RUS       2  2000.00        Ford   Focus  1982\n",
      "4    92918M178RUS       1  5700.00        Ford   Focus  1994\n",
      "..            ...     ...      ...         ...     ...   ...\n",
      "920  8182XX154RUS       1   500.00        Ford   Focus  1980\n",
      "921   X796TH96RUS       2 40600.00        Ford   Focus  2001\n",
      "922  T011MY163RUS       1  2300.00        Ford   Focus  2015\n",
      "923   T341CC96RUS       2  7100.00  Volkswagen  Passat  2013\n",
      "924   T119CT96RUS       2   200.00        Ford   Focus  1997\n",
      "\n",
      "[925 rows x 6 columns]\n"
     ]
    }
   ],
   "source": [
    "years = pd.Series(np.random.randint(1980, 2020, size=len(concat_rows)), name='Year')\n",
    "fines = pd.concat([concat_rows, years], axis=1)\n",
    "print(fines)"
   ]
  },
  {
   "cell_type": "markdown",
   "id": "f12ce1ff",
   "metadata": {},
   "source": [
    "##### 4.New DataFrame with help surname.json:"
   ]
  },
  {
   "cell_type": "markdown",
   "id": "5df8685d",
   "metadata": {},
   "source": [
    "Load data surname.json:"
   ]
  },
  {
   "cell_type": "code",
   "execution_count": 10,
   "id": "aed5b62d",
   "metadata": {},
   "outputs": [
    {
     "name": "stdout",
     "output_type": "stream",
     "text": [
      "---Most popular surname---\n",
      "     NAME    COUNT RANK\n",
      "85  SMITH  2442977    1\n",
      "\n",
      "---OWNERS---\n",
      "        CarNumber     SURNAME\n",
      "0    T399KX197RUS  RICHARDSON\n",
      "1    9491H7178RUS        ROSS\n",
      "2     E811HE77RUS      MORGAN\n",
      "3    7065C8197RUS      BAILEY\n",
      "4    7368C8197RUS       LOPEZ\n",
      "..            ...         ...\n",
      "526  T018OX197RUS    CAMPBELL\n",
      "527  7363C8197RUS        HALL\n",
      "528   Y156E877RUS       BAKER\n",
      "529  8165XX154RUS        DIAZ\n",
      "530   9502XX38RUS      MORGAN\n",
      "\n",
      "[531 rows x 2 columns]\n"
     ]
    }
   ],
   "source": [
    "np.random.seed(21)\n",
    "surnames_data = pd.read_json(\n",
    "\t'../../datasets/surname.json',\n",
    "\t\n",
    ")\n",
    "surnames_data.columns=surnames_data.iloc[0].to_list()\n",
    "surnames_data=surnames_data.drop(0)\n",
    "print(f\"---Most popular surname---\\n{surnames_data.sort_values('COUNT', key=lambda x: x.astype(int), ascending=False).head(1)}\")\n",
    "\n",
    "selected_surnames = np.random.choice(surnames_data['NAME'].to_list(), size=len(set(data['CarNumber'].to_list())), replace=True)\n",
    "\n",
    "owners = pd.DataFrame({\"CarNumber\": list(set(data['CarNumber'].to_list())), \"SURNAME\": selected_surnames})\n",
    "print(f\"\\n---OWNERS---\\n{owners}\")"
   ]
  },
  {
   "cell_type": "markdown",
   "id": "8df2231a",
   "metadata": {},
   "source": [
    "Add 5 string:"
   ]
  },
  {
   "cell_type": "code",
   "execution_count": 11,
   "id": "0f32cbf9",
   "metadata": {},
   "outputs": [
    {
     "name": "stdout",
     "output_type": "stream",
     "text": [
      "        CarNumber  Refund    Fines        Make   Model  Year\n",
      "0       ABC123RUS    1.00  2500.00      Toyota   Camry  2015\n",
      "1       XYZ789RUS    2.00  1800.00       Honda   Civic  2018\n",
      "2       DEF456RUS    1.00  3200.00        Ford   Focus  2016\n",
      "3       GHI789RUS    2.00  1500.00      Nissan  Altima  2019\n",
      "4       JKL012RUS    1.00  2800.00   Chevrolet  Malibu  2017\n",
      "..            ...     ...      ...         ...     ...   ...\n",
      "925  8182XX154RUS    1.00   500.00        Ford   Focus  1980\n",
      "926   X796TH96RUS    2.00 40600.00        Ford   Focus  2001\n",
      "927  T011MY163RUS    1.00  2300.00        Ford   Focus  2015\n",
      "928   T341CC96RUS    2.00  7100.00  Volkswagen  Passat  2013\n",
      "929   T119CT96RUS    2.00   200.00        Ford   Focus  1997\n",
      "\n",
      "[930 rows x 6 columns]\n"
     ]
    }
   ],
   "source": [
    "fines = pd.concat(\n",
    "\t[\n",
    "\t\tpd.DataFrame(\n",
    "\t\t\t[\n",
    "\t\t\t\t{'CarNumber': 'ABC123RUS', 'Refund': 1.0, 'Fines': 2500.0, 'Make': 'Toyota', 'Model': 'Camry', 'Year': 2015},\n",
    "\t\t\t\t{'CarNumber': 'XYZ789RUS', 'Refund': 2.0, 'Fines': 1800.0, 'Make': 'Honda', 'Model': 'Civic', 'Year': 2018},\n",
    "\t\t\t\t{'CarNumber': 'DEF456RUS', 'Refund': 1.0, 'Fines': 3200.0, 'Make': 'Ford', 'Model': 'Focus', 'Year': 2016},\n",
    "\t\t\t\t{'CarNumber': 'GHI789RUS', 'Refund': 2.0, 'Fines': 1500.0, 'Make': 'Nissan', 'Model': 'Altima', 'Year': 2019},\n",
    "\t\t\t\t{'CarNumber': 'JKL012RUS', 'Refund': 1.0, 'Fines': 2800.0, 'Make': 'Chevrolet', 'Model': 'Malibu', 'Year': 2017}\n",
    "\t\t\t]\n",
    "\t\t),\n",
    "\t\tfines\n",
    "\t],\n",
    "\tignore_index=True\n",
    ")\n",
    "print(fines)"
   ]
  },
  {
   "cell_type": "markdown",
   "id": "d4aa438e",
   "metadata": {},
   "source": [
    "Del 20 and add 3 string in owners:"
   ]
  },
  {
   "cell_type": "code",
   "execution_count": 12,
   "id": "c3b2085d",
   "metadata": {},
   "outputs": [
    {
     "name": "stdout",
     "output_type": "stream",
     "text": [
      "        CarNumber     SURNAME\n",
      "0       MNO555RUS       Smith\n",
      "1       PQR999RUS     Johnson\n",
      "2       STU111RUS    Williams\n",
      "3    T399KX197RUS  RICHARDSON\n",
      "4    9491H7178RUS        ROSS\n",
      "..            ...         ...\n",
      "509   Y7129Y50RUS   HERNANDEZ\n",
      "510  7831C8197RUS       BAKER\n",
      "511  T6428M116RUS      MARTIN\n",
      "512  9470EX178RUS      WRIGHT\n",
      "513   T6439O50RUS        HILL\n",
      "\n",
      "[514 rows x 2 columns]\n"
     ]
    }
   ],
   "source": [
    "owners = owners.iloc[:-20]\n",
    "owners = pd.concat(\n",
    "    [\n",
    "        pd.DataFrame([\n",
    "            {'CarNumber': 'MNO555RUS', 'SURNAME': 'Smith'},\n",
    "            {'CarNumber': 'PQR999RUS', 'SURNAME': 'Johnson'},\n",
    "            {'CarNumber': 'STU111RUS', 'SURNAME': 'Williams'}\n",
    "        ]),\n",
    "        owners\n",
    "    ],\n",
    "    ignore_index=True\n",
    ")\n",
    "print(owners)"
   ]
  },
  {
   "cell_type": "markdown",
   "id": "8311dcc1",
   "metadata": {},
   "source": [
    "Merge DataFrames:"
   ]
  },
  {
   "cell_type": "code",
   "execution_count": 13,
   "id": "8bb559b3",
   "metadata": {},
   "outputs": [
    {
     "name": "stdout",
     "output_type": "stream",
     "text": [
      "---Inner join---\n",
      "(890, 7)\n",
      "\n",
      "---Full join---\n",
      "(933, 7)\n",
      "\n",
      "---Left join---\n",
      "(930, 7)\n",
      "\n",
      "Right join---\n",
      "(893, 7)\n"
     ]
    }
   ],
   "source": [
    "inner_merge = pd.merge(fines, owners, on='CarNumber', how='inner')\n",
    "print(f\"---Inner join---\\n{inner_merge.shape}\")\n",
    "\n",
    "outer_merge = pd.merge(fines, owners, on='CarNumber', how='outer')\n",
    "print(f\"\\n---Full join---\\n{outer_merge.shape}\")\n",
    "\n",
    "left_merge = pd.merge(fines, owners, on='CarNumber', how='left')\n",
    "print(f\"\\n---Left join---\\n{left_merge.shape}\")\n",
    "\n",
    "right_merge = pd.merge(fines, owners, on='CarNumber', how='right')\n",
    "print(f\"\\nRight join---\\n{right_merge.shape}\")"
   ]
  },
  {
   "cell_type": "markdown",
   "id": "15c67c9f",
   "metadata": {},
   "source": [
    "##### 5.New DataFrame by year:"
   ]
  },
  {
   "cell_type": "code",
   "execution_count": 14,
   "id": "7a4a5ea9",
   "metadata": {},
   "outputs": [
    {
     "name": "stdout",
     "output_type": "stream",
     "text": [
      "Year                    1980     1981      1982      1983     1984      1985  \\\n",
      "Make       Model                                                               \n",
      "Chevrolet  Malibu        nan      nan       nan       nan      nan       nan   \n",
      "Ford       Focus   188794.59 56994.59 117000.00 157800.00 80700.00 153378.35   \n",
      "           Mondeo        nan      nan       nan       nan      nan       nan   \n",
      "Honda      Civic         nan      nan       nan       nan      nan       nan   \n",
      "Nissan     Altima        nan      nan       nan       nan      nan       nan   \n",
      "Skoda      Octavia       nan 10094.59       nan   8200.00 13694.59   3900.00   \n",
      "Toyota     Camry    19800.00   800.00       nan       nan      nan   9494.59   \n",
      "           Corolla  16000.00 12100.00       nan       nan      nan  24000.00   \n",
      "Volkswagen Golf          nan      nan   4600.00   2600.00      nan       nan   \n",
      "           Jetta         nan  9000.00       nan       nan      nan   1000.00   \n",
      "           Passat        nan  8594.59       nan       nan      nan   1600.00   \n",
      "           Touareg       nan      nan       nan       nan      nan       nan   \n",
      "\n",
      "Year                    1986      1987      1988      1989  ...      2010  \\\n",
      "Make       Model                                            ...             \n",
      "Chevrolet  Malibu        nan       nan       nan       nan  ...       nan   \n",
      "Ford       Focus   208889.17 139400.00 150600.00 172889.17  ... 140594.59   \n",
      "           Mondeo        nan       nan   8600.00   1100.00  ...  34400.00   \n",
      "Honda      Civic         nan       nan       nan       nan  ...       nan   \n",
      "Nissan     Altima        nan       nan       nan       nan  ...       nan   \n",
      "Skoda      Octavia  12994.59  19600.00   6600.00   4800.00  ...       nan   \n",
      "Toyota     Camry         nan       nan       nan       nan  ...       nan   \n",
      "           Corolla       nan       nan   9594.59       nan  ...  34300.00   \n",
      "Volkswagen Golf          nan  10300.00  18400.00    300.00  ...       nan   \n",
      "           Jetta         nan       nan       nan       nan  ...       nan   \n",
      "           Passat    1100.00  18494.59   1600.00       nan  ...  15000.00   \n",
      "           Touareg   8594.59    500.00       nan       nan  ...       nan   \n",
      "\n",
      "Year                    2011      2012      2013     2014      2015      2016  \\\n",
      "Make       Model                                                                \n",
      "Chevrolet  Malibu        nan       nan       nan      nan       nan       nan   \n",
      "Ford       Focus   376200.00 118889.17 192594.59 47189.17 306494.59 236400.00   \n",
      "           Mondeo        nan       nan       nan      nan       nan       nan   \n",
      "Honda      Civic         nan       nan       nan      nan       nan       nan   \n",
      "Nissan     Altima        nan       nan       nan      nan       nan       nan   \n",
      "Skoda      Octavia   4200.00    900.00  11594.59 14594.59   5500.00  27400.00   \n",
      "Toyota     Camry         nan       nan       nan  3200.00   2500.00   7900.00   \n",
      "           Corolla       nan  30300.00   7200.00  3400.00       nan  12700.00   \n",
      "Volkswagen Golf      8594.59       nan   9294.59      nan       nan       nan   \n",
      "           Jetta         nan       nan       nan      nan    500.00       nan   \n",
      "           Passat        nan       nan   7100.00  3000.00   2000.00       nan   \n",
      "           Touareg       nan       nan       nan  6300.00       nan       nan   \n",
      "\n",
      "Year                    2017      2018      2019  \n",
      "Make       Model                                  \n",
      "Chevrolet  Malibu    2800.00       nan       nan  \n",
      "Ford       Focus   144889.17  89689.17 176000.00  \n",
      "           Mondeo    6700.00       nan       nan  \n",
      "Honda      Civic         nan   1800.00       nan  \n",
      "Nissan     Altima        nan       nan   1500.00  \n",
      "Skoda      Octavia       nan 145000.00       nan  \n",
      "Toyota     Camry         nan       nan   1000.00  \n",
      "           Corolla   6900.00   7800.00   9600.00  \n",
      "Volkswagen Golf          nan       nan  20800.00  \n",
      "           Jetta         nan  10600.00       nan  \n",
      "           Passat   22900.00       nan       nan  \n",
      "           Touareg       nan       nan       nan  \n",
      "\n",
      "[12 rows x 40 columns]\n"
     ]
    }
   ],
   "source": [
    "pivot_table = fines.pivot_table(\n",
    "    values='Fines',\n",
    "    index=['Make','Model'],\n",
    "    columns='Year',\n",
    "    aggfunc='sum',\n",
    "    fill_value=0\n",
    ").replace(0.0, 'nan')\n",
    "\n",
    "print(pivot_table)"
   ]
  },
  {
   "cell_type": "markdown",
   "id": "4e2d5d83",
   "metadata": {},
   "source": [
    "##### 6.Save DataFrames:"
   ]
  },
  {
   "cell_type": "code",
   "execution_count": 15,
   "id": "c512027e",
   "metadata": {},
   "outputs": [
    {
     "name": "stdout",
     "output_type": "stream",
     "text": [
      "        CarNumber  Refund    Fines        Make   Model  Year\n",
      "0       ABC123RUS    1.00  2500.00      Toyota   Camry  2015\n",
      "1       XYZ789RUS    2.00  1800.00       Honda   Civic  2018\n",
      "2       DEF456RUS    1.00  3200.00        Ford   Focus  2016\n",
      "3       GHI789RUS    2.00  1500.00      Nissan  Altima  2019\n",
      "4       JKL012RUS    1.00  2800.00   Chevrolet  Malibu  2017\n",
      "..            ...     ...      ...         ...     ...   ...\n",
      "925  8182XX154RUS    1.00   500.00        Ford   Focus  1980\n",
      "926   X796TH96RUS    2.00 40600.00        Ford   Focus  2001\n",
      "927  T011MY163RUS    1.00  2300.00        Ford   Focus  2015\n",
      "928   T341CC96RUS    2.00  7100.00  Volkswagen  Passat  2013\n",
      "929   T119CT96RUS    2.00   200.00        Ford   Focus  1997\n",
      "\n",
      "[930 rows x 6 columns]\n",
      "        CarNumber     SURNAME\n",
      "0       MNO555RUS       Smith\n",
      "1       PQR999RUS     Johnson\n",
      "2       STU111RUS    Williams\n",
      "3    T399KX197RUS  RICHARDSON\n",
      "4    9491H7178RUS        ROSS\n",
      "..            ...         ...\n",
      "509   Y7129Y50RUS   HERNANDEZ\n",
      "510  7831C8197RUS       BAKER\n",
      "511  T6428M116RUS      MARTIN\n",
      "512  9470EX178RUS      WRIGHT\n",
      "513   T6439O50RUS        HILL\n",
      "\n",
      "[514 rows x 2 columns]\n"
     ]
    }
   ],
   "source": [
    "print(fines)\n",
    "print(owners)\n",
    "\n",
    "fines.to_csv('../data/fines.csv',index=False)\n",
    "owners.to_csv('../data/owners.csv',index=False)"
   ]
  },
  {
   "cell_type": "code",
   "execution_count": 16,
   "id": "c3211394",
   "metadata": {},
   "outputs": [
    {
     "name": "stdout",
     "output_type": "stream",
     "text": [
      "CarNumber    930\n",
      "Refund       930\n",
      "Fines        930\n",
      "Make         930\n",
      "Model        919\n",
      "Year         930\n",
      "dtype: int64\n"
     ]
    }
   ],
   "source": [
    "print(fines.count())"
   ]
  },
  {
   "cell_type": "code",
   "execution_count": 18,
   "id": "027742da",
   "metadata": {},
   "outputs": [
    {
     "name": "stdout",
     "output_type": "stream",
     "text": [
      "        CarNumber     SURNAME\n",
      "0       MNO555RUS       Smith\n",
      "1       PQR999RUS     Johnson\n",
      "2       STU111RUS    Williams\n",
      "3    T399KX197RUS  RICHARDSON\n",
      "4    9491H7178RUS        ROSS\n",
      "..            ...         ...\n",
      "509   Y7129Y50RUS   HERNANDEZ\n",
      "510  7831C8197RUS       BAKER\n",
      "511  T6428M116RUS      MARTIN\n",
      "512  9470EX178RUS      WRIGHT\n",
      "513   T6439O50RUS        HILL\n",
      "\n",
      "[514 rows x 2 columns]\n"
     ]
    }
   ],
   "source": [
    "print(owners)"
   ]
  },
  {
   "cell_type": "code",
   "execution_count": 19,
   "id": "372cee92",
   "metadata": {},
   "outputs": [
    {
     "name": "stdout",
     "output_type": "stream",
     "text": [
      "CarNumber    930\n",
      "Refund       930\n",
      "Fines        930\n",
      "Make         930\n",
      "Model        919\n",
      "Year         930\n",
      "dtype: int64\n"
     ]
    }
   ],
   "source": [
    "print(fines.count())"
   ]
  }
 ],
 "metadata": {
  "kernelspec": {
   "display_name": "bryenmar",
   "language": "python",
   "name": "python3"
  },
  "language_info": {
   "codemirror_mode": {
    "name": "ipython",
    "version": 3
   },
   "file_extension": ".py",
   "mimetype": "text/x-python",
   "name": "python",
   "nbconvert_exporter": "python",
   "pygments_lexer": "ipython3",
   "version": "3.12.3"
  }
 },
 "nbformat": 4,
 "nbformat_minor": 5
}
