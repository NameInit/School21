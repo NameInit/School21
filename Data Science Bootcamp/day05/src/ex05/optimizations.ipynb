{
 "cells": [
  {
   "cell_type": "markdown",
   "id": "45fc9cf4",
   "metadata": {},
   "source": [
    "##### Load libs:"
   ]
  },
  {
   "cell_type": "code",
   "execution_count": 1,
   "id": "77ad451d",
   "metadata": {},
   "outputs": [],
   "source": [
    "import pandas as pd\n",
    "import gc"
   ]
  },
  {
   "cell_type": "markdown",
   "id": "f40ffc4b",
   "metadata": {},
   "source": [
    "##### 1.Read data csv:"
   ]
  },
  {
   "cell_type": "code",
   "execution_count": 2,
   "id": "e8aec598",
   "metadata": {},
   "outputs": [
    {
     "name": "stdout",
     "output_type": "stream",
     "text": [
      "        CarNumber  Refund    Fines        Make   Model  Year\n",
      "0       ABC123RUS     1.0   2500.0      Toyota   Camry  2015\n",
      "1       XYZ789RUS     2.0   1800.0       Honda   Civic  2018\n",
      "2       DEF456RUS     1.0   3200.0        Ford   Focus  2016\n",
      "3       GHI789RUS     2.0   1500.0      Nissan  Altima  2019\n",
      "4       JKL012RUS     1.0   2800.0   Chevrolet  Malibu  2017\n",
      "..            ...     ...      ...         ...     ...   ...\n",
      "925  8182XX154RUS     1.0    500.0        Ford   Focus  1980\n",
      "926   X796TH96RUS     2.0  40600.0        Ford   Focus  2001\n",
      "927  T011MY163RUS     1.0   2300.0        Ford   Focus  2015\n",
      "928   T341CC96RUS     2.0   7100.0  Volkswagen  Passat  2013\n",
      "929   T119CT96RUS     2.0    200.0        Ford   Focus  1997\n",
      "\n",
      "[930 rows x 6 columns]\n"
     ]
    }
   ],
   "source": [
    "fines = pd.read_csv('../data/fines.csv')\n",
    "print(fines)"
   ]
  },
  {
   "cell_type": "markdown",
   "id": "e82a276d",
   "metadata": {},
   "source": [
    "##### 2.Iteration:"
   ]
  },
  {
   "cell_type": "markdown",
   "id": "64dffe81",
   "metadata": {},
   "source": [
    "Use for and iloc:"
   ]
  },
  {
   "cell_type": "code",
   "execution_count": 3,
   "id": "7661ad29",
   "metadata": {},
   "outputs": [
    {
     "name": "stdout",
     "output_type": "stream",
     "text": [
      "27.6 ms ± 594 μs per loop (mean ± std. dev. of 7 runs, 10 loops each)\n"
     ]
    }
   ],
   "source": [
    "%%timeit \n",
    "def method_iloc(df):\n",
    "\tresult = []\n",
    "\tfor i in range(len(df)):\n",
    "\t\trow = df.iloc[i]\n",
    "\t\tresult.append(row['Fines'] / row['Refund'] * row['Year'] if row['Refund']!=0 else None)\n",
    "\treturn result\n",
    "\n",
    "fines['calc_1'] = method_iloc(fines)"
   ]
  },
  {
   "cell_type": "markdown",
   "id": "cd4f3374",
   "metadata": {},
   "source": [
    "Use iterrows:"
   ]
  },
  {
   "cell_type": "code",
   "execution_count": 4,
   "id": "2f4b58dd",
   "metadata": {},
   "outputs": [
    {
     "name": "stdout",
     "output_type": "stream",
     "text": [
      "23.9 ms ± 749 μs per loop (mean ± std. dev. of 7 runs, 10 loops each)\n"
     ]
    }
   ],
   "source": [
    "%%timeit \n",
    "def method_iterrows(df):\n",
    "    result = []\n",
    "    for index, row in df.iterrows():\n",
    "        result.append(row['Fines'] / row['Refund'] * row['Year'])\n",
    "    return result\n",
    "\n",
    "fines['calc_2'] = method_iterrows(fines)"
   ]
  },
  {
   "cell_type": "markdown",
   "id": "57e62252",
   "metadata": {},
   "source": [
    "Use apply:"
   ]
  },
  {
   "cell_type": "code",
   "execution_count": 5,
   "id": "836d3ea0",
   "metadata": {},
   "outputs": [
    {
     "name": "stdout",
     "output_type": "stream",
     "text": [
      "5.3 ms ± 69.6 μs per loop (mean ± std. dev. of 7 runs, 100 loops each)\n"
     ]
    }
   ],
   "source": [
    "%%timeit\n",
    "fines['calc_3'] = fines.apply(lambda row: row['Fines'] / row['Refund'] * row['Year'], axis=1)"
   ]
  },
  {
   "cell_type": "markdown",
   "id": "378651e7",
   "metadata": {},
   "source": [
    "Serias object:"
   ]
  },
  {
   "cell_type": "code",
   "execution_count": 6,
   "id": "bd13b4af",
   "metadata": {},
   "outputs": [
    {
     "name": "stdout",
     "output_type": "stream",
     "text": [
      "138 μs ± 4.45 μs per loop (mean ± std. dev. of 7 runs, 10,000 loops each)\n"
     ]
    }
   ],
   "source": [
    "%%timeit\n",
    "fines['calc_4'] = fines['Fines'] / fines['Refund'] * fines['Year']"
   ]
  },
  {
   "cell_type": "markdown",
   "id": "e407f36b",
   "metadata": {},
   "source": [
    "Use dot values:"
   ]
  },
  {
   "cell_type": "code",
   "execution_count": 7,
   "id": "ffaad234",
   "metadata": {},
   "outputs": [
    {
     "name": "stdout",
     "output_type": "stream",
     "text": [
      "61 μs ± 1.18 μs per loop (mean ± std. dev. of 7 runs, 10,000 loops each)\n"
     ]
    }
   ],
   "source": [
    "%%timeit\n",
    "fines['calc_5'] = fines['Fines'].values / fines['Refund'].values * fines['Year'].values"
   ]
  },
  {
   "cell_type": "markdown",
   "id": "e7270b24",
   "metadata": {},
   "source": [
    "CHECK:"
   ]
  },
  {
   "cell_type": "code",
   "execution_count": 8,
   "id": "bea9bb7e",
   "metadata": {},
   "outputs": [
    {
     "name": "stdout",
     "output_type": "stream",
     "text": [
      "        CarNumber  Refund    Fines        Make   Model  Year      calc_1  \\\n",
      "0       ABC123RUS     1.0   2500.0      Toyota   Camry  2015   5037500.0   \n",
      "1       XYZ789RUS     2.0   1800.0       Honda   Civic  2018   1816200.0   \n",
      "2       DEF456RUS     1.0   3200.0        Ford   Focus  2016   6451200.0   \n",
      "3       GHI789RUS     2.0   1500.0      Nissan  Altima  2019   1514250.0   \n",
      "4       JKL012RUS     1.0   2800.0   Chevrolet  Malibu  2017   5647600.0   \n",
      "..            ...     ...      ...         ...     ...   ...         ...   \n",
      "925  8182XX154RUS     1.0    500.0        Ford   Focus  1980    990000.0   \n",
      "926   X796TH96RUS     2.0  40600.0        Ford   Focus  2001  40620300.0   \n",
      "927  T011MY163RUS     1.0   2300.0        Ford   Focus  2015   4634500.0   \n",
      "928   T341CC96RUS     2.0   7100.0  Volkswagen  Passat  2013   7146150.0   \n",
      "929   T119CT96RUS     2.0    200.0        Ford   Focus  1997    199700.0   \n",
      "\n",
      "         calc_2      calc_3      calc_4      calc_5  \n",
      "0     5037500.0   5037500.0   5037500.0   5037500.0  \n",
      "1     1816200.0   1816200.0   1816200.0   1816200.0  \n",
      "2     6451200.0   6451200.0   6451200.0   6451200.0  \n",
      "3     1514250.0   1514250.0   1514250.0   1514250.0  \n",
      "4     5647600.0   5647600.0   5647600.0   5647600.0  \n",
      "..          ...         ...         ...         ...  \n",
      "925    990000.0    990000.0    990000.0    990000.0  \n",
      "926  40620300.0  40620300.0  40620300.0  40620300.0  \n",
      "927   4634500.0   4634500.0   4634500.0   4634500.0  \n",
      "928   7146150.0   7146150.0   7146150.0   7146150.0  \n",
      "929    199700.0    199700.0    199700.0    199700.0  \n",
      "\n",
      "[930 rows x 11 columns]\n"
     ]
    }
   ],
   "source": [
    "print(fines)"
   ]
  },
  {
   "cell_type": "markdown",
   "id": "396658cb",
   "metadata": {},
   "source": [
    "##### 3.Indexing:"
   ]
  },
  {
   "cell_type": "markdown",
   "id": "dd51c88c",
   "metadata": {},
   "source": [
    "Not use index:"
   ]
  },
  {
   "cell_type": "code",
   "execution_count": 9,
   "id": "d86cb1d0",
   "metadata": {},
   "outputs": [
    {
     "name": "stdout",
     "output_type": "stream",
     "text": [
      "221 μs ± 1.56 μs per loop (mean ± std. dev. of 7 runs, 1,000 loops each)\n",
      "        CarNumber  Refund   Fines    Make    Model  Year     calc_1  \\\n",
      "720  O136HO197RUS     2.0  7800.0  Toyota  Corolla  2018  7870200.0   \n",
      "907  O136HO197RUS     1.0   300.0  Toyota  Corolla  2001   600300.0   \n",
      "\n",
      "        calc_2     calc_3     calc_4     calc_5  \n",
      "720  7870200.0  7870200.0  7870200.0  7870200.0  \n",
      "907   600300.0   600300.0   600300.0   600300.0  \n"
     ]
    }
   ],
   "source": [
    "%timeit fines[fines['CarNumber']=='O136HO197RUS']\n",
    "print(fines[fines['CarNumber']=='O136HO197RUS'])"
   ]
  },
  {
   "cell_type": "markdown",
   "id": "ec121496",
   "metadata": {},
   "source": [
    "Use index:"
   ]
  },
  {
   "cell_type": "code",
   "execution_count": 10,
   "id": "ede77b5a",
   "metadata": {},
   "outputs": [
    {
     "name": "stdout",
     "output_type": "stream",
     "text": [
      "125 μs ± 720 ns per loop (mean ± std. dev. of 7 runs, 10,000 loops each)\n",
      "              Refund   Fines    Make    Model  Year     calc_1     calc_2  \\\n",
      "CarNumber                                                                   \n",
      "O136HO197RUS     2.0  7800.0  Toyota  Corolla  2018  7870200.0  7870200.0   \n",
      "O136HO197RUS     1.0   300.0  Toyota  Corolla  2001   600300.0   600300.0   \n",
      "\n",
      "                 calc_3     calc_4     calc_5  \n",
      "CarNumber                                      \n",
      "O136HO197RUS  7870200.0  7870200.0  7870200.0  \n",
      "O136HO197RUS   600300.0   600300.0   600300.0  \n"
     ]
    }
   ],
   "source": [
    "temp_fines = fines.copy().set_index('CarNumber')\n",
    "%timeit temp_fines[temp_fines.index=='O136HO197RUS']\n",
    "print(temp_fines[temp_fines.index=='O136HO197RUS'])"
   ]
  },
  {
   "cell_type": "markdown",
   "id": "9e2e2746",
   "metadata": {},
   "source": [
    "##### 4.Downcasting:"
   ]
  },
  {
   "cell_type": "markdown",
   "id": "917c7144",
   "metadata": {},
   "source": [
    "Info:"
   ]
  },
  {
   "cell_type": "code",
   "execution_count": 11,
   "id": "dbb38d72",
   "metadata": {},
   "outputs": [
    {
     "name": "stdout",
     "output_type": "stream",
     "text": [
      "<class 'pandas.core.frame.DataFrame'>\n",
      "RangeIndex: 930 entries, 0 to 929\n",
      "Data columns (total 11 columns):\n",
      " #   Column     Non-Null Count  Dtype  \n",
      "---  ------     --------------  -----  \n",
      " 0   CarNumber  930 non-null    object \n",
      " 1   Refund     930 non-null    float64\n",
      " 2   Fines      930 non-null    float64\n",
      " 3   Make       930 non-null    object \n",
      " 4   Model      919 non-null    object \n",
      " 5   Year       930 non-null    int64  \n",
      " 6   calc_1     930 non-null    float64\n",
      " 7   calc_2     930 non-null    float64\n",
      " 8   calc_3     930 non-null    float64\n",
      " 9   calc_4     930 non-null    float64\n",
      " 10  calc_5     930 non-null    float64\n",
      "dtypes: float64(7), int64(1), object(3)\n",
      "memory usage: 211.2 KB\n"
     ]
    }
   ],
   "source": [
    "fines.info(memory_usage='deep')"
   ]
  },
  {
   "cell_type": "markdown",
   "id": "bc7f89ae",
   "metadata": {},
   "source": [
    "Copy:"
   ]
  },
  {
   "cell_type": "code",
   "execution_count": 12,
   "id": "73d34029",
   "metadata": {},
   "outputs": [],
   "source": [
    "optimized_df = fines.copy()"
   ]
  },
  {
   "cell_type": "markdown",
   "id": "72809871",
   "metadata": {},
   "source": [
    "float64 to float32:"
   ]
  },
  {
   "cell_type": "code",
   "execution_count": 13,
   "id": "595d01e9",
   "metadata": {},
   "outputs": [],
   "source": [
    "for col in optimized_df.select_dtypes(include='float64').columns:\n",
    "\toptimized_df[col]=optimized_df[col].astype('float32')"
   ]
  },
  {
   "cell_type": "markdown",
   "id": "686c5415",
   "metadata": {},
   "source": [
    "int64 to int_min:"
   ]
  },
  {
   "cell_type": "code",
   "execution_count": 14,
   "id": "30b67aeb",
   "metadata": {},
   "outputs": [],
   "source": [
    "for col in optimized_df.select_dtypes(include=['int64']).columns:\n",
    "    optimized_df[col] = pd.to_numeric(optimized_df[col], downcast='integer')"
   ]
  },
  {
   "cell_type": "markdown",
   "id": "0a941be8",
   "metadata": {},
   "source": [
    "result:"
   ]
  },
  {
   "cell_type": "code",
   "execution_count": 15,
   "id": "82f7c370",
   "metadata": {},
   "outputs": [
    {
     "name": "stdout",
     "output_type": "stream",
     "text": [
      "<class 'pandas.core.frame.DataFrame'>\n",
      "RangeIndex: 930 entries, 0 to 929\n",
      "Data columns (total 11 columns):\n",
      " #   Column     Non-Null Count  Dtype  \n",
      "---  ------     --------------  -----  \n",
      " 0   CarNumber  930 non-null    object \n",
      " 1   Refund     930 non-null    float32\n",
      " 2   Fines      930 non-null    float32\n",
      " 3   Make       930 non-null    object \n",
      " 4   Model      919 non-null    object \n",
      " 5   Year       930 non-null    int16  \n",
      " 6   calc_1     930 non-null    float32\n",
      " 7   calc_2     930 non-null    float32\n",
      " 8   calc_3     930 non-null    float32\n",
      " 9   calc_4     930 non-null    float32\n",
      " 10  calc_5     930 non-null    float32\n",
      "dtypes: float32(7), int16(1), object(3)\n",
      "memory usage: 180.3 KB\n",
      "None\n"
     ]
    }
   ],
   "source": [
    "print(optimized_df.info(memory_usage='deep'))"
   ]
  },
  {
   "cell_type": "markdown",
   "id": "15619f31",
   "metadata": {},
   "source": [
    "##### 5.Use Category:"
   ]
  },
  {
   "cell_type": "code",
   "execution_count": 16,
   "id": "448b52eb",
   "metadata": {},
   "outputs": [
    {
     "name": "stdout",
     "output_type": "stream",
     "text": [
      "<class 'pandas.core.frame.DataFrame'>\n",
      "RangeIndex: 930 entries, 0 to 929\n",
      "Data columns (total 11 columns):\n",
      " #   Column     Non-Null Count  Dtype   \n",
      "---  ------     --------------  -----   \n",
      " 0   CarNumber  930 non-null    category\n",
      " 1   Refund     930 non-null    float32 \n",
      " 2   Fines      930 non-null    float32 \n",
      " 3   Make       930 non-null    category\n",
      " 4   Model      919 non-null    category\n",
      " 5   Year       930 non-null    int16   \n",
      " 6   calc_1     930 non-null    float32 \n",
      " 7   calc_2     930 non-null    float32 \n",
      " 8   calc_3     930 non-null    float32 \n",
      " 9   calc_4     930 non-null    float32 \n",
      " 10  calc_5     930 non-null    float32 \n",
      "dtypes: category(3), float32(7), int16(1)\n",
      "memory usage: 80.8 KB\n",
      "None\n"
     ]
    }
   ],
   "source": [
    "for col in optimized_df.select_dtypes(include=['object']).columns:\n",
    "    optimized_df[col] = optimized_df[col].astype('category')\n",
    "\n",
    "print(optimized_df.info(memory_usage='deep'))"
   ]
  },
  {
   "cell_type": "markdown",
   "id": "9596c321",
   "metadata": {},
   "source": [
    "##### 6.Clean:"
   ]
  },
  {
   "cell_type": "markdown",
   "id": "5f75e9f1",
   "metadata": {},
   "source": [
    "CHECK:"
   ]
  },
  {
   "cell_type": "code",
   "execution_count": 17,
   "id": "8e2213ea",
   "metadata": {},
   "outputs": [
    {
     "name": "stdout",
     "output_type": "stream",
     "text": [
      "True\n",
      "True\n",
      "True\n",
      "True\n"
     ]
    }
   ],
   "source": [
    "print('fines' in locals())\n",
    "print('fines' in globals())\n",
    "print('optimized_df' in locals())\n",
    "print('optimized_df' in globals())"
   ]
  },
  {
   "cell_type": "markdown",
   "id": "a59806d5",
   "metadata": {},
   "source": [
    "Clean:"
   ]
  },
  {
   "cell_type": "code",
   "execution_count": 20,
   "id": "210f3344",
   "metadata": {},
   "outputs": [
    {
     "data": {
      "text/plain": [
       "59"
      ]
     },
     "execution_count": 20,
     "metadata": {},
     "output_type": "execute_result"
    }
   ],
   "source": [
    "%reset_selective -f fines optimized_df\n",
    "gc.collect()"
   ]
  },
  {
   "cell_type": "code",
   "execution_count": 22,
   "id": "b21818a3",
   "metadata": {},
   "outputs": [
    {
     "data": {
      "text/plain": [
       "0"
      ]
     },
     "execution_count": 22,
     "metadata": {},
     "output_type": "execute_result"
    }
   ],
   "source": [
    "del fines\n",
    "del optimized_df\n",
    "gc.collect()"
   ]
  },
  {
   "cell_type": "markdown",
   "id": "91d554de",
   "metadata": {},
   "source": [
    "CHECK:"
   ]
  },
  {
   "cell_type": "code",
   "execution_count": 24,
   "id": "79469aca",
   "metadata": {},
   "outputs": [
    {
     "name": "stdout",
     "output_type": "stream",
     "text": [
      "False\n",
      "False\n",
      "False\n",
      "False\n"
     ]
    }
   ],
   "source": [
    "print('fines' in locals())\n",
    "print('fines' in globals())\n",
    "print('optimized_df' in locals())\n",
    "print('optimized_df' in globals())"
   ]
  },
  {
   "cell_type": "markdown",
   "id": "ba1bb9a2",
   "metadata": {},
   "source": [
    "CHECK DATA:"
   ]
  },
  {
   "cell_type": "code",
   "execution_count": null,
   "id": "9e38de1c",
   "metadata": {},
   "outputs": [
    {
     "ename": "NameError",
     "evalue": "name 'fines' is not defined",
     "output_type": "error",
     "traceback": [
      "\u001b[31m---------------------------------------------------------------------------\u001b[39m",
      "\u001b[31mNameError\u001b[39m                                 Traceback (most recent call last)",
      "\u001b[36mCell\u001b[39m\u001b[36m \u001b[39m\u001b[32mIn[25]\u001b[39m\u001b[32m, line 1\u001b[39m\n\u001b[32m----> \u001b[39m\u001b[32m1\u001b[39m \u001b[38;5;28mprint\u001b[39m(\u001b[43mfines\u001b[49m)\n\u001b[32m      2\u001b[39m \u001b[38;5;28mprint\u001b[39m(optimized_df)\n",
      "\u001b[31mNameError\u001b[39m: name 'fines' is not defined"
     ]
    }
   ],
   "source": [
    "\tprint(fines)\n",
    "\tprint(optimized_df)"
   ]
  }
 ],
 "metadata": {
  "kernelspec": {
   "display_name": "bryenmar",
   "language": "python",
   "name": "python3"
  },
  "language_info": {
   "codemirror_mode": {
    "name": "ipython",
    "version": 3
   },
   "file_extension": ".py",
   "mimetype": "text/x-python",
   "name": "python",
   "nbconvert_exporter": "python",
   "pygments_lexer": "ipython3",
   "version": "3.12.3"
  }
 },
 "nbformat": 4,
 "nbformat_minor": 5
}
