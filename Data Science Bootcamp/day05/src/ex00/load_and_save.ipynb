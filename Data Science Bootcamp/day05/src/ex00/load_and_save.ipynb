{
 "cells": [
  {
   "cell_type": "markdown",
   "id": "e305ad93",
   "metadata": {},
   "source": [
    "##### Load Libs:"
   ]
  },
  {
   "cell_type": "code",
   "execution_count": 1,
   "id": "a8de10d0",
   "metadata": {},
   "outputs": [],
   "source": [
    "import pandas as pd"
   ]
  },
  {
   "cell_type": "markdown",
   "id": "6fc6f5a4",
   "metadata": {},
   "source": [
    "Read log-file:"
   ]
  },
  {
   "cell_type": "code",
   "execution_count": 2,
   "id": "e749a051",
   "metadata": {},
   "outputs": [
    {
     "name": "stdout",
     "output_type": "stream",
     "text": [
      "                        datetime       user\n",
      "0     2020-04-17 12:01:08.463179      artem\n",
      "1     2020-04-17 12:35:44.884757      artem\n",
      "2     2020-04-17 12:35:52.735016      artem\n",
      "3     2020-04-17 12:36:21.401412     oksana\n",
      "4     2020-04-17 12:36:22.023355     oksana\n",
      "...                          ...        ...\n",
      "1067  2020-05-21 16:36:40.915488  ekaterina\n",
      "1068  2020-05-21 17:49:36.429237      maxim\n",
      "1069  2020-05-21 18:45:20.441142  valentina\n",
      "1070  2020-05-21 23:03:06.457819      maxim\n",
      "1071  2020-05-21 23:23:49.995349      pavel\n",
      "\n",
      "[1072 rows x 2 columns]\n"
     ]
    }
   ],
   "source": [
    "data = pd.read_csv(\n",
    "\t'../data/feed-views.log', \n",
    "\tsep='\\t',\n",
    "\theader=None,\n",
    "\tskiprows=[1,2],\n",
    "\tskipfooter=2,\n",
    "\tengine='python',\n",
    "\tnames=['datetime','user']\n",
    ")\n",
    "print(data)"
   ]
  },
  {
   "cell_type": "markdown",
   "id": "eaa7fc25",
   "metadata": {},
   "source": [
    "##### Set index:"
   ]
  },
  {
   "cell_type": "code",
   "execution_count": 3,
   "id": "e3ab87ba",
   "metadata": {},
   "outputs": [
    {
     "name": "stdout",
     "output_type": "stream",
     "text": [
      "                                 user\n",
      "datetime                             \n",
      "2020-04-17 12:01:08.463179      artem\n",
      "2020-04-17 12:35:44.884757      artem\n",
      "2020-04-17 12:35:52.735016      artem\n",
      "2020-04-17 12:36:21.401412     oksana\n",
      "2020-04-17 12:36:22.023355     oksana\n",
      "...                               ...\n",
      "2020-05-21 16:36:40.915488  ekaterina\n",
      "2020-05-21 17:49:36.429237      maxim\n",
      "2020-05-21 18:45:20.441142  valentina\n",
      "2020-05-21 23:03:06.457819      maxim\n",
      "2020-05-21 23:23:49.995349      pavel\n",
      "\n",
      "[1072 rows x 1 columns]\n"
     ]
    }
   ],
   "source": [
    "data=data.set_index('datetime')\n",
    "print(data)"
   ]
  },
  {
   "cell_type": "markdown",
   "id": "1cafc37f",
   "metadata": {},
   "source": [
    "Rename index:"
   ]
  },
  {
   "cell_type": "code",
   "execution_count": 4,
   "id": "bf8f31d6",
   "metadata": {},
   "outputs": [
    {
     "name": "stdout",
     "output_type": "stream",
     "text": [
      "                                 user\n",
      "date_time                            \n",
      "2020-04-17 12:01:08.463179      artem\n",
      "2020-04-17 12:35:44.884757      artem\n",
      "2020-04-17 12:35:52.735016      artem\n",
      "2020-04-17 12:36:21.401412     oksana\n",
      "2020-04-17 12:36:22.023355     oksana\n",
      "...                               ...\n",
      "2020-05-21 16:36:40.915488  ekaterina\n",
      "2020-05-21 17:49:36.429237      maxim\n",
      "2020-05-21 18:45:20.441142  valentina\n",
      "2020-05-21 23:03:06.457819      maxim\n",
      "2020-05-21 23:23:49.995349      pavel\n",
      "\n",
      "[1072 rows x 1 columns]\n"
     ]
    }
   ],
   "source": [
    "data.index.name='date_time'\n",
    "print(data)"
   ]
  },
  {
   "cell_type": "markdown",
   "id": "406aeaa1",
   "metadata": {},
   "source": [
    "##### Save to json:"
   ]
  },
  {
   "cell_type": "code",
   "execution_count": 5,
   "id": "f2010257",
   "metadata": {},
   "outputs": [],
   "source": [
    "data.to_csv('../data/feed-views-semicolon.log',sep=';')"
   ]
  },
  {
   "cell_type": "code",
   "execution_count": 6,
   "id": "ca05b6e1",
   "metadata": {},
   "outputs": [
    {
     "name": "stdout",
     "output_type": "stream",
     "text": [
      "user    1072\n",
      "dtype: int64\n"
     ]
    }
   ],
   "source": [
    "print(data.count())"
   ]
  },
  {
   "cell_type": "code",
   "execution_count": 7,
   "id": "f7d67488",
   "metadata": {},
   "outputs": [
    {
     "name": "stdout",
     "output_type": "stream",
     "text": [
      "                             user\n",
      "date_time                        \n",
      "2020-04-17 12:01:08.463179  artem\n",
      "2020-04-17 12:35:44.884757  artem\n"
     ]
    }
   ],
   "source": [
    "print(data.head(2))"
   ]
  }
 ],
 "metadata": {
  "kernelspec": {
   "display_name": "bryenmar",
   "language": "python",
   "name": "python3"
  },
  "language_info": {
   "codemirror_mode": {
    "name": "ipython",
    "version": 3
   },
   "file_extension": ".py",
   "mimetype": "text/x-python",
   "name": "python",
   "nbconvert_exporter": "python",
   "pygments_lexer": "ipython3",
   "version": "3.12.3"
  }
 },
 "nbformat": 4,
 "nbformat_minor": 5
}
