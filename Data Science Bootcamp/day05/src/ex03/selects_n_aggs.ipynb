{
 "cells": [
  {
   "cell_type": "markdown",
   "id": "aadc8b35",
   "metadata": {},
   "source": [
    "##### Load libs:"
   ]
  },
  {
   "cell_type": "code",
   "execution_count": 1,
   "id": "ed1dd940",
   "metadata": {},
   "outputs": [],
   "source": [
    "import pandas as pd"
   ]
  },
  {
   "cell_type": "markdown",
   "id": "cee8e6e7",
   "metadata": {},
   "source": [
    "##### 1.Load data:"
   ]
  },
  {
   "cell_type": "code",
   "execution_count": 2,
   "id": "6044f9ba",
   "metadata": {},
   "outputs": [
    {
     "name": "stdout",
     "output_type": "stream",
     "text": [
      "              Refund         Fines    Make    Model\n",
      "CarNumber                                          \n",
      "Y163O8161RUS       2   3200.000000    Ford    Focus\n",
      "E432XX77RUS        1   6500.000000  Toyota    Camry\n",
      "7184TT36RUS        1   2100.000000    Ford    Focus\n",
      "X582HE161RUS       2   2000.000000    Ford    Focus\n",
      "92918M178RUS       1   5700.000000    Ford    Focus\n",
      "...              ...           ...     ...      ...\n",
      "Y163O8161RUS       2   1600.000000    Ford    Focus\n",
      "M0309X197RUS       1  22300.000000    Ford    Focus\n",
      "O673E8197RUS       2    600.000000    Ford    Focus\n",
      "8610T8154RUS       1   2000.000000    Ford    Focus\n",
      "H419XE197RUS       2   8594.586466  Toyota  Corolla\n",
      "\n",
      "[725 rows x 4 columns]\n"
     ]
    }
   ],
   "source": [
    "data = pd.read_json(\n",
    "\t'../data/auto.json'\n",
    ")\n",
    "data.set_index('CarNumber',inplace=True)\n",
    "print(data)"
   ]
  },
  {
   "cell_type": "markdown",
   "id": "90a124a6",
   "metadata": {},
   "source": [
    "##### 2.Selections:"
   ]
  },
  {
   "cell_type": "markdown",
   "id": "691fe783",
   "metadata": {},
   "source": [
    "data['Fines']>2100:"
   ]
  },
  {
   "cell_type": "code",
   "execution_count": 3,
   "id": "3ab718a3",
   "metadata": {},
   "outputs": [
    {
     "name": "stdout",
     "output_type": "stream",
     "text": [
      "              Refund         Fines        Make    Model\n",
      "CarNumber                                              \n",
      "Y163O8161RUS       2   3200.000000        Ford    Focus\n",
      "E432XX77RUS        1   6500.000000      Toyota    Camry\n",
      "92918M178RUS       1   5700.000000        Ford    Focus\n",
      "H234YH197RUS       2   6000.000000        Ford    Focus\n",
      "E40577152RUS       1   8594.586466        Ford    Focus\n",
      "...              ...           ...         ...      ...\n",
      "O718MM163RUS       2   8594.586466        Ford    Focus\n",
      "7065C8197RUS       2  11400.000000  Volkswagen   Passat\n",
      "O22097197RUS       1  24300.000000        Ford    Focus\n",
      "M0309X197RUS       1  22300.000000        Ford    Focus\n",
      "H419XE197RUS       2   8594.586466      Toyota  Corolla\n",
      "\n",
      "[455 rows x 4 columns]\n"
     ]
    }
   ],
   "source": [
    "print(f\"{data[data['Fines']>2100]}\")"
   ]
  },
  {
   "cell_type": "markdown",
   "id": "a435a62d",
   "metadata": {},
   "source": [
    "(data['Fines']>2100) & (data['Refund']==2):"
   ]
  },
  {
   "cell_type": "code",
   "execution_count": 4,
   "id": "57a4d716",
   "metadata": {},
   "outputs": [
    {
     "name": "stdout",
     "output_type": "stream",
     "text": [
      "              Refund         Fines        Make    Model\n",
      "CarNumber                                              \n",
      "Y163O8161RUS       2   3200.000000        Ford    Focus\n",
      "H234YH197RUS       2   6000.000000        Ford    Focus\n",
      "707987163RUS       2   2200.000000        Ford    Focus\n",
      "K330T8197RUS       2   8200.000000       Skoda  Octavia\n",
      "M592CH197RUS       2   8594.586466       Skoda  Octavia\n",
      "...              ...           ...         ...      ...\n",
      "O136HO197RUS       2   7800.000000      Toyota  Corolla\n",
      "O68897197RUS       2  12300.000000        Ford    Focus\n",
      "O718MM163RUS       2   8594.586466        Ford    Focus\n",
      "7065C8197RUS       2  11400.000000  Volkswagen   Passat\n",
      "H419XE197RUS       2   8594.586466      Toyota  Corolla\n",
      "\n",
      "[309 rows x 4 columns]\n"
     ]
    }
   ],
   "source": [
    "print(f\"{data[(data['Fines']>2100) & (data['Refund']==2)]}\")"
   ]
  },
  {
   "cell_type": "markdown",
   "id": "c58e5db9",
   "metadata": {},
   "source": [
    "data['Model'].isin(['Focus', 'Corolla']):"
   ]
  },
  {
   "cell_type": "code",
   "execution_count": 5,
   "id": "2ff70b95",
   "metadata": {},
   "outputs": [
    {
     "name": "stdout",
     "output_type": "stream",
     "text": [
      "              Refund         Fines    Make    Model\n",
      "CarNumber                                          \n",
      "Y163O8161RUS       2   3200.000000    Ford    Focus\n",
      "7184TT36RUS        1   2100.000000    Ford    Focus\n",
      "X582HE161RUS       2   2000.000000    Ford    Focus\n",
      "92918M178RUS       1   5700.000000    Ford    Focus\n",
      "H234YH197RUS       2   6000.000000    Ford    Focus\n",
      "...              ...           ...     ...      ...\n",
      "Y163O8161RUS       2   1600.000000    Ford    Focus\n",
      "M0309X197RUS       1  22300.000000    Ford    Focus\n",
      "O673E8197RUS       2    600.000000    Ford    Focus\n",
      "8610T8154RUS       1   2000.000000    Ford    Focus\n",
      "H419XE197RUS       2   8594.586466  Toyota  Corolla\n",
      "\n",
      "[593 rows x 4 columns]\n"
     ]
    }
   ],
   "source": [
    "print(f\"{data[data['Model'].isin(['Focus', 'Corolla'])]}\")"
   ]
  },
  {
   "cell_type": "markdown",
   "id": "d7208c8c",
   "metadata": {},
   "source": [
    "Isin list:"
   ]
  },
  {
   "cell_type": "code",
   "execution_count": 6,
   "id": "6d2ad800",
   "metadata": {},
   "outputs": [
    {
     "name": "stdout",
     "output_type": "stream",
     "text": [
      "              Refund          Fines  Make  Model\n",
      "CarNumber                                       \n",
      "92928M178RUS       1    8594.586466  Ford  Focus\n",
      "H115YO163RUS       1    2200.000000  Ford  Focus\n",
      "7788KT197RUS       2   12000.000000  Ford  Focus\n",
      "X758HY197RUS       2   24200.000000  Ford  Focus\n",
      "X758HY197RUS       2   72600.000000  Ford  Focus\n",
      "Y7689C197RUS       1   27000.000000  Ford  Focus\n",
      "92928M178RUS       1     600.000000  Ford  Focus\n",
      "H115YO163RUS       1    8594.586466  Ford  Focus\n",
      "H115YO163RUS       2    1100.000000  Ford  Focus\n",
      "7788KT197RUS       2    8594.586466  Ford  Focus\n",
      "7788KT197RUS       1   20000.000000  Ford  Focus\n",
      "X758HY197RUS       2  145200.000000  Ford  Focus\n",
      "92928M178RUS       1    1200.000000  Ford  Focus\n",
      "Y7689C197RUS       2    9000.000000  Ford  Focus\n",
      "Y7689C197RUS       2   45000.000000  Ford  Focus\n",
      "7788KT197RUS       2    4000.000000  Ford  Focus\n",
      "Y7689C197RUS       1   36000.000000  Ford  Focus\n",
      "92928M178RUS       2    3000.000000  Ford  Focus\n"
     ]
    }
   ],
   "source": [
    "print(data[data.index.isin(['Y7689C197RUS', '92928M178RUS', '7788KT197RUS', 'H115YO163RUS', 'X758HY197RUS'])])"
   ]
  },
  {
   "cell_type": "markdown",
   "id": "fd17d026",
   "metadata": {},
   "source": [
    "##### 3.Agr:"
   ]
  },
  {
   "cell_type": "markdown",
   "id": "d3614091",
   "metadata": {},
   "source": [
    "Median fines group by 'Make':"
   ]
  },
  {
   "cell_type": "code",
   "execution_count": 7,
   "id": "175c83dc",
   "metadata": {},
   "outputs": [
    {
     "name": "stdout",
     "output_type": "stream",
     "text": [
      "Make\n",
      "Audi          4200.0\n",
      "BMW           6500.0\n",
      "Ford          3500.0\n",
      "Skoda         3250.0\n",
      "Toyota        7700.0\n",
      "Volkswagen    4300.0\n",
      "Volvo         8500.0\n",
      "Name: Fines, dtype: float64\n"
     ]
    }
   ],
   "source": [
    "print(data.groupby('Make')['Fines'].median())"
   ]
  },
  {
   "cell_type": "markdown",
   "id": "23223eac",
   "metadata": {},
   "source": [
    "Median fines group by make, model:"
   ]
  },
  {
   "cell_type": "code",
   "execution_count": 8,
   "id": "4bbe1154",
   "metadata": {},
   "outputs": [
    {
     "name": "stdout",
     "output_type": "stream",
     "text": [
      "Make        Model  \n",
      "Ford        Focus      3500.0\n",
      "            Mondeo     7650.0\n",
      "Skoda       Octavia    3250.0\n",
      "Toyota      Camry      7700.0\n",
      "            Corolla    7700.0\n",
      "Volkswagen  Golf       4800.0\n",
      "            Jetta      2800.0\n",
      "            Passat     3500.0\n",
      "            Touareg    5800.0\n",
      "Name: Fines, dtype: float64\n"
     ]
    }
   ],
   "source": [
    "print(data.groupby(['Make', 'Model'])['Fines'].median())"
   ]
  },
  {
   "cell_type": "markdown",
   "id": "81363d7c",
   "metadata": {},
   "source": [
    "Count fines group by make and model:"
   ]
  },
  {
   "cell_type": "code",
   "execution_count": 9,
   "id": "4c365e1b",
   "metadata": {},
   "outputs": [
    {
     "name": "stdout",
     "output_type": "stream",
     "text": [
      "Make        Model  \n",
      "Ford        Focus      575\n",
      "            Mondeo       6\n",
      "Skoda       Octavia     48\n",
      "Toyota      Camry       16\n",
      "            Corolla     18\n",
      "Volkswagen  Golf        20\n",
      "            Jetta        6\n",
      "            Passat      22\n",
      "            Touareg      5\n",
      "Name: Fines, dtype: int64\n"
     ]
    }
   ],
   "source": [
    "print(data.groupby(['Make', 'Model'])['Fines'].count())"
   ]
  },
  {
   "cell_type": "markdown",
   "id": "aae38a31",
   "metadata": {},
   "source": [
    "Min and max fines group by make and model:"
   ]
  },
  {
   "cell_type": "code",
   "execution_count": 10,
   "id": "6cbb658d",
   "metadata": {},
   "outputs": [
    {
     "name": "stdout",
     "output_type": "stream",
     "text": [
      "                       min            max\n",
      "Make       Model                         \n",
      "Ford       Focus     100.0  180000.000000\n",
      "           Mondeo   1100.0   46200.000000\n",
      "Skoda      Octavia   300.0  145000.000000\n",
      "Toyota     Camry     500.0   22400.000000\n",
      "           Corolla   900.0   34300.000000\n",
      "Volkswagen Golf      200.0  168000.000000\n",
      "           Jetta     500.0   46000.000000\n",
      "           Passat    100.0   29700.000000\n",
      "           Touareg   500.0    8594.586466\n"
     ]
    }
   ],
   "source": [
    "print(data.groupby(['Make', 'Model'])['Fines'].agg(['min', 'max']))"
   ]
  },
  {
   "cell_type": "markdown",
   "id": "7417493b",
   "metadata": {},
   "source": [
    "Standart dev group by make and model:"
   ]
  },
  {
   "cell_type": "code",
   "execution_count": 11,
   "id": "cc4999ad",
   "metadata": {},
   "outputs": [
    {
     "name": "stdout",
     "output_type": "stream",
     "text": [
      "Make        Model  \n",
      "Ford        Focus      15041.269437\n",
      "            Mondeo     18987.329108\n",
      "Skoda       Octavia    24339.742174\n",
      "Toyota      Camry       6410.250654\n",
      "            Corolla     9629.325617\n",
      "Volkswagen  Golf       36950.839950\n",
      "            Jetta      17743.026799\n",
      "            Passat      6969.739135\n",
      "            Touareg     3461.778173\n",
      "Name: Fines, dtype: float64\n"
     ]
    }
   ],
   "source": [
    "print(data.groupby(['Make', 'Model'])['Fines'].std())"
   ]
  },
  {
   "cell_type": "markdown",
   "id": "d4c03493",
   "metadata": {},
   "source": [
    "##### 4.Agr with number car:"
   ]
  },
  {
   "cell_type": "markdown",
   "id": "0fa27fcb",
   "metadata": {},
   "source": [
    "Asc fines group by carnumber:"
   ]
  },
  {
   "cell_type": "code",
   "execution_count": 12,
   "id": "ef05b454",
   "metadata": {},
   "outputs": [
    {
     "name": "stdout",
     "output_type": "stream",
     "text": [
      "CarNumber\n",
      "Y7689C197RUS    4\n",
      "7788KT197RUS    4\n",
      "92928M178RUS    4\n",
      "Y7129Y50RUS     3\n",
      "X758HY197RUS    3\n",
      "               ..\n",
      "Y967O8197RUS    1\n",
      "Y965O8197RUS    1\n",
      "Y965EE197RUS    1\n",
      "Y964O8197RUS    1\n",
      "Y964EE197RUS    1\n",
      "Name: Fines, Length: 531, dtype: int64\n"
     ]
    }
   ],
   "source": [
    "print(data.groupby('CarNumber')['Fines'].count().sort_values(ascending=False))"
   ]
  },
  {
   "cell_type": "markdown",
   "id": "577e2bb1",
   "metadata": {},
   "source": [
    "Car with max fines:"
   ]
  },
  {
   "cell_type": "code",
   "execution_count": 13,
   "id": "199fbce9",
   "metadata": {},
   "outputs": [
    {
     "name": "stdout",
     "output_type": "stream",
     "text": [
      "CarNumber\n",
      "Y7689C197RUS    4\n",
      "Name: Fines, dtype: int64\n"
     ]
    }
   ],
   "source": [
    "print(data.groupby('CarNumber')['Fines'].count().sort_values(ascending=False).head(1))"
   ]
  },
  {
   "cell_type": "markdown",
   "id": "e3dd6fca",
   "metadata": {},
   "source": [
    "Seacrh car with max sum fines:"
   ]
  },
  {
   "cell_type": "code",
   "execution_count": 14,
   "id": "a8e81ef7",
   "metadata": {},
   "outputs": [
    {
     "name": "stdout",
     "output_type": "stream",
     "text": [
      "CarNumber\n",
      "X758HY197RUS    242000.0\n",
      "9020YC197RUS    217500.0\n",
      "M0279X197RUS    216000.0\n",
      "Y352O8197RUS    207200.0\n",
      "Y778EE197RUS    192000.0\n",
      "                  ...   \n",
      "Y166O8161RUS       100.0\n",
      "K326T8197RUS       100.0\n",
      "Y195O8161RUS       100.0\n",
      "C58078163RUS       100.0\n",
      "705787163RUS       100.0\n",
      "Name: Fines, Length: 531, dtype: float64\n"
     ]
    }
   ],
   "source": [
    "print(data.groupby('CarNumber')['Fines'].sum().sort_values(ascending=False))"
   ]
  },
  {
   "cell_type": "markdown",
   "id": "8819f078",
   "metadata": {},
   "source": [
    "All string with car with max sum fines:"
   ]
  },
  {
   "cell_type": "code",
   "execution_count": 15,
   "id": "c52b33c5",
   "metadata": {},
   "outputs": [
    {
     "name": "stdout",
     "output_type": "stream",
     "text": [
      "              Refund     Fines  Make  Model\n",
      "CarNumber                                  \n",
      "X758HY197RUS       2   24200.0  Ford  Focus\n",
      "X758HY197RUS       2   72600.0  Ford  Focus\n",
      "X758HY197RUS       2  145200.0  Ford  Focus\n"
     ]
    }
   ],
   "source": [
    "print(data[data.index==data.groupby('CarNumber')['Fines'].sum().sort_values(ascending=False).index[0]])\n"
   ]
  },
  {
   "cell_type": "markdown",
   "id": "bd9f8302",
   "metadata": {},
   "source": [
    "Check carnumber with diff model:"
   ]
  },
  {
   "cell_type": "code",
   "execution_count": 16,
   "id": "20de2959",
   "metadata": {},
   "outputs": [
    {
     "name": "stdout",
     "output_type": "stream",
     "text": [
      "No\n"
     ]
    }
   ],
   "source": [
    "print('Yes' if len(data.groupby('CarNumber')['Model'].nunique()[data.groupby('CarNumber')['Model'].nunique()>1])>0 else 'No')"
   ]
  },
  {
   "cell_type": "code",
   "execution_count": 28,
   "id": "6b1e15d8",
   "metadata": {},
   "outputs": [
    {
     "name": "stdout",
     "output_type": "stream",
     "text": [
      "CarNumber\n",
      "Y7689C197RUS    4\n",
      "7788KT197RUS    4\n",
      "92928M178RUS    4\n",
      "Y7129Y50RUS     3\n",
      "X758HY197RUS    3\n",
      "               ..\n",
      "Y967O8197RUS    1\n",
      "Y965O8197RUS    1\n",
      "Y965EE197RUS    1\n",
      "Y964O8197RUS    1\n",
      "Y964EE197RUS    1\n",
      "Name: Refund, Length: 531, dtype: int64\n"
     ]
    }
   ],
   "source": [
    "print(data['Refund'].groupby('CarNumber').count().sort_values(ascending=False))"
   ]
  }
 ],
 "metadata": {
  "kernelspec": {
   "display_name": "bryenmar",
   "language": "python",
   "name": "python3"
  },
  "language_info": {
   "codemirror_mode": {
    "name": "ipython",
    "version": 3
   },
   "file_extension": ".py",
   "mimetype": "text/x-python",
   "name": "python",
   "nbconvert_exporter": "python",
   "pygments_lexer": "ipython3",
   "version": "3.12.3"
  }
 },
 "nbformat": 4,
 "nbformat_minor": 5
}
