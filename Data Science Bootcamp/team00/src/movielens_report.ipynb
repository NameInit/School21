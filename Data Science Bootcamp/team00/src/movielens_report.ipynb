{
 "cells": [
  {
   "cell_type": "markdown",
   "id": "8d33f423",
   "metadata": {},
   "source": [
    "## ⏳ Part 0. Load libs and data."
   ]
  },
  {
   "cell_type": "code",
   "execution_count": 1,
   "id": "bb8084f3",
   "metadata": {},
   "outputs": [
    {
     "name": "stdout",
     "output_type": "stream",
     "text": [
      "258 μs ± 10.6 μs per loop (mean ± std. dev. of 7 runs, 1,000 loops each)\n",
      "515 μs ± 16.1 μs per loop (mean ± std. dev. of 7 runs, 1,000 loops each)\n",
      "251 μs ± 7.4 μs per loop (mean ± std. dev. of 7 runs, 1,000 loops each)\n",
      "471 μs ± 8.25 μs per loop (mean ± std. dev. of 7 runs, 1,000 loops each)\n"
     ]
    }
   ],
   "source": [
    "import timeit\n",
    "from movielens_analysis import Links, Movies, Ratings, Tags\n",
    "\n",
    "links = Links(\"data/links.csv\")\n",
    "movies = Movies(\"data/movies.csv\")\n",
    "ratings = Ratings(\"data/ratings.csv\")\n",
    "tags = Tags(\"data/tags.csv\")\n",
    "\n",
    "%timeit links.load_data()\n",
    "%timeit movies.load_data()\n",
    "%timeit ratings.load_data()\n",
    "%timeit tags.load_data()\n"
   ]
  },
  {
   "cell_type": "markdown",
   "id": "27064dc6",
   "metadata": {},
   "source": [
    "## ⏩ Part 1. Let's work with datasets"
   ]
  },
  {
   "cell_type": "markdown",
   "id": "d909b0a5",
   "metadata": {},
   "source": [
    "##### Какой средний рейтинг фильмов на MovieLens?"
   ]
  },
  {
   "cell_type": "code",
   "execution_count": 2,
   "id": "38d2a433",
   "metadata": {},
   "outputs": [
    {
     "name": "stdout",
     "output_type": "stream",
     "text": [
      "161 μs ± 2.32 μs per loop (mean ± std. dev. of 7 runs, 10,000 loops each)\n",
      "Средний рейтинг на MovieLens = 3.669\n"
     ]
    }
   ],
   "source": [
    "%timeit ratings.mean_rating()\n",
    "print(f\"Средний рейтинг на MovieLens = {ratings.mean_rating()}\")"
   ]
  },
  {
   "cell_type": "markdown",
   "id": "29469fcd",
   "metadata": {},
   "source": [
    "##### Какая медина рейтинга фильмов на MovieLens?"
   ]
  },
  {
   "cell_type": "code",
   "execution_count": 3,
   "id": "31e72c2e",
   "metadata": {},
   "outputs": [
    {
     "name": "stdout",
     "output_type": "stream",
     "text": [
      "506 μs ± 3.82 μs per loop (mean ± std. dev. of 7 runs, 1,000 loops each)\n",
      "Медиана рейтинга фильмов на MovieLens = 2.25\n"
     ]
    }
   ],
   "source": [
    "%timeit ratings.median_rating()\n",
    "print(f\"Медиана рейтинга фильмов на MovieLens = {ratings.median_rating()}\")"
   ]
  },
  {
   "cell_type": "markdown",
   "id": "d4867158",
   "metadata": {},
   "source": [
    "##### Какие лучшие месяцы для просмотра фильмов?"
   ]
  },
  {
   "cell_type": "code",
   "execution_count": 4,
   "id": "425697a2",
   "metadata": {},
   "outputs": [
    {
     "name": "stdout",
     "output_type": "stream",
     "text": [
      "2.17 ms ± 54.9 μs per loop (mean ± std. dev. of 7 runs, 100 loops each)\n",
      "Топ 5 фильмов: ['October', 'July', 'January', 'December', 'April']\n"
     ]
    }
   ],
   "source": [
    "%timeit ratings.top5_month()\n",
    "print(f\"Топ 5 фильмов: {ratings.top5_month()}\")"
   ]
  },
  {
   "cell_type": "markdown",
   "id": "3052e07b",
   "metadata": {},
   "source": [
    "##### Какой самый длинный тег?"
   ]
  },
  {
   "cell_type": "code",
   "execution_count": 5,
   "id": "b9b220b1",
   "metadata": {},
   "outputs": [
    {
     "name": "stdout",
     "output_type": "stream",
     "text": [
      "33.4 μs ± 828 ns per loop (mean ± std. dev. of 7 runs, 10,000 loops each)\n",
      "Самый длинный тег: \"Something for everyone in this one... saw it without and plan on seeing it with kids!\"\n"
     ]
    }
   ],
   "source": [
    "%timeit tags.longest_tag()\n",
    "print(f\"Самый длинный тег: \\\"{tags.longest_tag()}\\\"\")"
   ]
  },
  {
   "cell_type": "markdown",
   "id": "019e4077",
   "metadata": {},
   "source": [
    "##### Какие пользователи оставили больше всего тегов?"
   ]
  },
  {
   "cell_type": "code",
   "execution_count": 6,
   "id": "202024c9",
   "metadata": {},
   "outputs": [
    {
     "name": "stdout",
     "output_type": "stream",
     "text": [
      "56.3 μs ± 2.08 μs per loop (mean ± std. dev. of 7 runs, 10,000 loops each)\n",
      "Пользователи с наибольшим кол-вом тегов: ['62', '424', '125', '357', '318', '184', '193', '474', '18', '119']\n"
     ]
    }
   ],
   "source": [
    "%timeit tags.top10_user_with_most_tag()\n",
    "print(f\"Пользователи с наибольшим кол-вом тегов: {tags.top10_user_with_most_tag()}\")"
   ]
  },
  {
   "cell_type": "markdown",
   "id": "71e88bd3",
   "metadata": {},
   "source": [
    "##### В каком году было выпущено больше всего фильмов?"
   ]
  },
  {
   "cell_type": "code",
   "execution_count": 7,
   "id": "8ad7a2cf",
   "metadata": {},
   "outputs": [
    {
     "name": "stdout",
     "output_type": "stream",
     "text": [
      "1.1 ms ± 29.2 μs per loop (mean ± std. dev. of 7 runs, 1,000 loops each)\n",
      "Год с наибольшим кол-вом фильмов: 1995\n"
     ]
    }
   ],
   "source": [
    "%timeit movies.year_most_films()\n",
    "print(f\"Год с наибольшим кол-вом фильмов: {movies.year_most_films()}\")"
   ]
  },
  {
   "cell_type": "markdown",
   "id": "f11757a2",
   "metadata": {},
   "source": [
    "##### Какие фильмы занимают верхнюю строчку в топе?"
   ]
  },
  {
   "cell_type": "code",
   "execution_count": 8,
   "id": "ea294035",
   "metadata": {},
   "outputs": [
    {
     "name": "stdout",
     "output_type": "stream",
     "text": [
      "481 μs ± 12.8 μs per loop (mean ± std. dev. of 7 runs, 1,000 loops each)\n",
      "250 μs ± 11.7 μs per loop (mean ± std. dev. of 7 runs, 1,000 loops each)\n",
      "1 Canadian Bacon (1995)\n",
      "2 Star Wars: Episode IV - A New Hope (1977)\n",
      "3 James and the Giant Peach (1996)\n",
      "4 \"Wizard of Oz, The (1939)\"\n",
      "5 Citizen Kane (1941)\n",
      "6 \"Adventures of Robin Hood, The (1938)\"\n",
      "7 Mr. Smith Goes to Washington (1939)\n",
      "8 Winnie the Pooh and the Blustery Day (1968)\n",
      "9 \"Three Caballeros, The (1945)\"\n",
      "10 Dumbo (1941)\n"
     ]
    }
   ],
   "source": [
    "limit: int = 10 #top 10\n",
    "%timeit ratings.id_best_films()\n",
    "%timeit movies.create_dict_on_name_col('movieId')\n",
    "best_films=ratings.id_best_films()\n",
    "d_movies=movies.create_dict_on_name_col('movieId')\n",
    "i: int = 0\n",
    "while i<limit:\n",
    "\tif best_films[i] in d_movies.keys():\n",
    "\t\ti+=1\n",
    "\t\tprint(i, d_movies[best_films[i]]['title'])"
   ]
  },
  {
   "cell_type": "markdown",
   "id": "dad830a7",
   "metadata": {},
   "source": [
    "## 💻 Part 2. Web scraping"
   ]
  },
  {
   "cell_type": "markdown",
   "id": "d54224ce",
   "metadata": {},
   "source": [
    "##### Посмотрим продолжительность первых N фильмов."
   ]
  },
  {
   "cell_type": "code",
   "execution_count": 9,
   "id": "d16e8068",
   "metadata": {},
   "outputs": [
    {
     "name": "stdout",
     "output_type": "stream",
     "text": [
      "3.46 s ± 535 ms per loop (mean ± std. dev. of 7 runs, 1 loop each)\n",
      "['81 minutes', '104 minutes', '101 minutes']\n"
     ]
    }
   ],
   "source": [
    "N: int = 3\n",
    "%timeit links.duration_first_films(N)\n",
    "list_duration = links.duration_first_films(N)\n",
    "print(list(map(lambda x: x+' minutes', list_duration)))"
   ]
  },
  {
   "cell_type": "markdown",
   "id": "cb337ee4",
   "metadata": {},
   "source": [
    "##### Сравним рейтинги которые предоставлены на сайте и в базе данных. Выведем первые N фильмов по таблице."
   ]
  },
  {
   "cell_type": "code",
   "execution_count": 10,
   "id": "1f2cb64b",
   "metadata": {},
   "outputs": [
    {
     "name": "stdout",
     "output_type": "stream",
     "text": [
      "63.4 ns ± 0.596 ns per loop (mean ± std. dev. of 7 runs, 10,000,000 loops each)\n",
      "1 ID: 0114709 | DB: 4.5 | WEBSITE: 8.3/10\n",
      "2 ID: 0113497 | DB: 4.0 | WEBSITE: 7.1/10\n",
      "3 ID: 0113228 | DB: 5.0 | WEBSITE: 6.7/10\n",
      "4 ID: 0114885 | DB: 3.0 | WEBSITE: 6.0/10\n",
      "5 ID: 0113041 | DB: 5.0 | WEBSITE: 6.1/10\n",
      "6 ID: 0113277 | DB: 4.0 | WEBSITE: 8.3/10\n",
      "7 ID: 0114319 | DB: 4.0 | WEBSITE: 6.3/10\n",
      "8 ID: 0112302 | DB: 3.0 | WEBSITE: 5.5/10\n",
      "9 ID: 0114576 | DB: N/A | WEBSITE: 5.9/10\n",
      "10 ID: 0113189 | DB: 3.0 | WEBSITE: 7.2/10\n"
     ]
    }
   ],
   "source": [
    "N: int = 10\n",
    "i: int = 0\n",
    "\n",
    "%timeit links.compare_rating_with_imdb()\n",
    "for item in links.compare_rating_with_imdb():\n",
    "\ti+=1\n",
    "\tprint(i,item)\n",
    "\tif i==N:\n",
    "\t\tbreak"
   ]
  },
  {
   "cell_type": "markdown",
   "id": "c635bbde",
   "metadata": {},
   "source": [
    "##### Сравним жанры, которые предоставлены на сайте и в базе данных. Выведем первые N фильмов по таблице."
   ]
  },
  {
   "cell_type": "code",
   "execution_count": 11,
   "id": "39c98d37",
   "metadata": {},
   "outputs": [
    {
     "name": "stdout",
     "output_type": "stream",
     "text": [
      "60 ns ± 1.18 ns per loop (mean ± std. dev. of 7 runs, 10,000,000 loops each)\n",
      "1 ID: 0114709 | DB: ['Adventure', 'Animation', 'Children', 'Comedy', 'Fantasy'] | WEBSITE: ['Buddy Comedy', 'Computer Animation', 'Supernatural Fantasy', 'Urban Adventure', 'Adventure']\n",
      "2 ID: 0113497 | DB: ['Adventure', 'Children', 'Fantasy'] | WEBSITE: ['High-Concept Comedy', 'Jungle Adventure', 'Supernatural Fantasy', 'Adventure', 'Comedy']\n",
      "3 ID: 0113228 | DB: ['Comedy', 'Romance'] | WEBSITE: ['Buddy Comedy', 'Comedy', 'Romance', 'Back to top']\n",
      "4 ID: 0114885 | DB: ['Comedy', 'Drama', 'Romance'] | WEBSITE: ['Feel-Good Romance', 'Romantic Comedy', 'Comedy', 'Drama', 'Romance']\n",
      "5 ID: 0113041 | DB: ['Comedy'] | WEBSITE: ['Romantic Comedy', 'Comedy', 'Family', 'Romance', 'Back to top']\n",
      "6 ID: 0113277 | DB: ['Action', 'Crime', 'Thriller'] | WEBSITE: ['Action Epic', 'Cop Drama', 'Epic', 'Gangster', 'Heist']\n",
      "7 ID: 0114319 | DB: ['Comedy', 'Romance'] | WEBSITE: ['Romantic Comedy', 'Comedy', 'Drama', 'Romance', 'Back to top']\n",
      "8 ID: 0112302 | DB: ['Adventure', 'Children'] | WEBSITE: ['Coming-of-Age', 'Period Drama', 'Adventure', 'Drama', 'Family']\n",
      "9 ID: 0114576 | DB: ['Action'] | WEBSITE: ['Dark Comedy', 'Action', 'Crime', 'Thriller', 'Back to top']\n",
      "10 ID: 0113189 | DB: ['Action', 'Adventure', 'Thriller'] | WEBSITE: ['Spy', 'Action', 'Adventure', 'Thriller', 'Back to top']\n"
     ]
    }
   ],
   "source": [
    "N: int = 10\n",
    "i: int = 0\n",
    "\n",
    "%timeit links.compare_genres_with_imdb()\n",
    "for item in links.compare_genres_with_imdb():\n",
    "\ti+=1\n",
    "\tprint(i,item)\n",
    "\tif i == N:\n",
    "\t\tbreak"
   ]
  },
  {
   "cell_type": "markdown",
   "id": "0b676481",
   "metadata": {},
   "source": [
    "##### Создадим краткие отчёты о каждом фильме. Выведем первые N фильмов."
   ]
  },
  {
   "cell_type": "code",
   "execution_count": 12,
   "id": "bea275c5",
   "metadata": {},
   "outputs": [
    {
     "name": "stdout",
     "output_type": "stream",
     "text": [
      "60.4 ns ± 0.973 ns per loop (mean ± std. dev. of 7 runs, 10,000,000 loops each)\n",
      "1 Название: \"История игрушек\"\tВремя:1h 21m(81 min)\n",
      "О чём: A cowboy doll is profoundly jealous when a new spaceman action figure supplants him as the top toy in a boy's bedroom. When circumstances separate them from their owner, the duo have to put aside their differences to return to him.\n",
      "\n",
      "2 Название: \"Джуманджи\"\tВремя:1h 44m(104 min)\n",
      "О чём: A magic board game summons jungle perils and a missing boy.\n",
      "\n",
      "3 Название: \"Старые ворчуны разбушевались\"\tВремя:1h 41m(101 min)\n",
      "О чём: Just as John and Max resolve to save their beloved bait shop from turning into an Italian restaurant, its new female owner catches Max's attention.\n",
      "\n",
      "4 Название: \"В ожидании выдоха\"\tВремя:2h 4m(124 min)\n",
      "О чём: Based on Terry McMillan's novel, this film follows four very different African-American women and their relationships with men.\n",
      "\n",
      "5 Название: \"Отец невесты 2\"\tВремя:1h 46m(106 min)\n",
      "О чём: George Banks must deal not only with his daughter's pregnancy, but also with his wife's.\n",
      "\n",
      "6 Название: \"Схватка\"\tВремя:2h 50m(170 min)\n",
      "О чём: A group of high-end professional thieves start to feel the heat from the LAPD when they unknowingly leave a verbal clue at their latest heist.\n",
      "\n",
      "7 Название: \"Сабрина\"\tВремя:2h 7m(127 min)\n",
      "О чём: An ugly duckling having undergone a remarkable change, still harbors feelings for her crush: a carefree playboy, but not before his business-focused brother has something to say about it.\n",
      "\n",
      "8 Название: \"Приключения Тома Сойера\"\tВремя:1h 37m(97 min)\n",
      "О чём: Two best friends witness a murder and embark on a series of adventures in order to prove the innocence of the man wrongly accused of the crime.\n",
      "\n",
      "9 Название: \"Внeзапная смерть\"\tВремя:1h 51m(111 min)\n",
      "О чём: Darren McCord, a fire marshal for the Pittsburgh Civic Arena, finds himself in a race against time to save his daughter, the Vice President and a crowded stadium, when terrorists take over an NHL Stanley Cup game.\n",
      "\n",
      "10 Название: \"Золотой глаз\"\tВремя:2h 10m(130 min)\n",
      "О чём: When a powerful secret defense system is stolen, James Bond is assigned to stop a Russian crime syndicate from using it.\n",
      "\n"
     ]
    }
   ],
   "source": [
    "N: int = 10\n",
    "i: int = 0\n",
    "\n",
    "%timeit links.create_mini_reports()\n",
    "for item in links.create_mini_reports():\n",
    "\ti+=1\n",
    "\tprint(i,item, end='\\n\\n')\n",
    "\tif i==N:\n",
    "\t\tbreak"
   ]
  },
  {
   "cell_type": "markdown",
   "id": "ed638e5f",
   "metadata": {},
   "source": [
    "## 🤔 Part 3. Conclusion"
   ]
  },
  {
   "cell_type": "markdown",
   "id": "fc0e556d",
   "metadata": {},
   "source": [
    "**Подведём итог, что же мы узнали из данных:**\n",
    "- ✅ Мы проанализировали рейтинг фильмов, благодаря этому можем сделать небольшой вывод о подборке фильмов на MovieLens.\n",
    "- ✅ Узнали в какой месяц в году наиболее часто пользуются MovieLens для просмотра фильмов.\n",
    "- ✅ Проанализировали теги, которые оставляют пользователи после просмотра фильмов.\n",
    "- ✅ Узнали в каком году было выпущено больше всего фильмов.\n",
    "- ✅ Нашли самые популярные фильмы.\n",
    "- ✅ Проанализировали информацию хранимую в базе данных и на сайте, сравнили их.\n",
    "- ✅ Составили краткие отчёты для каждого фильма."
   ]
  },
  {
   "cell_type": "markdown",
   "id": "5ab0b4f9",
   "metadata": {},
   "source": [
    "**Примечание:** варируя параметры в нотпаде, можно получать новые результаты."
   ]
  }
 ],
 "metadata": {
  "kernelspec": {
   "display_name": "bryenmar",
   "language": "python",
   "name": "python3"
  },
  "language_info": {
   "codemirror_mode": {
    "name": "ipython",
    "version": 3
   },
   "file_extension": ".py",
   "mimetype": "text/x-python",
   "name": "python",
   "nbconvert_exporter": "python",
   "pygments_lexer": "ipython3",
   "version": "3.12.3"
  }
 },
 "nbformat": 4,
 "nbformat_minor": 5
}
