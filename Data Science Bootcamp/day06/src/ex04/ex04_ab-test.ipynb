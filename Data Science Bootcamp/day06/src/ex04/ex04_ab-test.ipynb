{
 "cells": [
  {
   "cell_type": "markdown",
   "id": "76fb0d0f",
   "metadata": {},
   "source": [
    "##### Load libs:"
   ]
  },
  {
   "cell_type": "code",
   "execution_count": 1,
   "id": "61ef07bd",
   "metadata": {},
   "outputs": [],
   "source": [
    "import pandas as pd\n",
    "import sqlite3"
   ]
  },
  {
   "cell_type": "markdown",
   "id": "7da42bf6",
   "metadata": {},
   "source": [
    "##### 1.Create connect:"
   ]
  },
  {
   "cell_type": "code",
   "execution_count": 2,
   "id": "80ac4b34",
   "metadata": {},
   "outputs": [],
   "source": [
    "connect = sqlite3.connect('../data/checking-logs.sqlite')"
   ]
  },
  {
   "cell_type": "markdown",
   "id": "e4bebe1f",
   "metadata": {},
   "source": [
    "##### 2.Query:"
   ]
  },
  {
   "cell_type": "markdown",
   "id": "be1b76b7",
   "metadata": {},
   "source": [
    "Create DataFrame \"test_results\":"
   ]
  },
  {
   "cell_type": "code",
   "execution_count": 9,
   "id": "3412b84e",
   "metadata": {},
   "outputs": [
    {
     "name": "stdout",
     "output_type": "stream",
     "text": [
      "    time    avg_diff\n",
      "0     до  -61.156438\n",
      "1  после -103.953310\n"
     ]
    }
   ],
   "source": [
    "test_query = \"\"\"\n",
    "WITH user_first_view AS (\n",
    "    SELECT \n",
    "        uid,\n",
    "        MIN(first_view_ts) as first_view_time\n",
    "    FROM test\n",
    "    GROUP BY uid\n",
    "),\n",
    "lab_deltas AS (\n",
    "    SELECT \n",
    "        t.uid,\n",
    "        t.first_commit_ts,\n",
    "        d.deadlines,\n",
    "        (julianday(t.first_commit_ts) - julianday(datetime(d.deadlines, 'unixepoch'))) * 24 as diff_hours,\n",
    "        uv.first_view_time,\n",
    "        CASE \n",
    "            WHEN t.first_commit_ts < uv.first_view_time THEN 'до'\n",
    "            ELSE 'после'\n",
    "        END as time_period\n",
    "    FROM test t\n",
    "    JOIN deadlines d ON t.labname = d.labs\n",
    "    JOIN user_first_view uv ON t.uid = uv.uid\n",
    "    WHERE t.labname != 'project1'\n",
    ")\n",
    "SELECT \n",
    "    time_period as time,\n",
    "    AVG(diff_hours) as avg_diff\n",
    "FROM lab_deltas\n",
    "GROUP BY time_period\n",
    "ORDER BY time_period\n",
    "\"\"\"\n",
    "\n",
    "test_results = pd.read_sql(test_query, connect)\n",
    "print(test_results)"
   ]
  },
  {
   "cell_type": "markdown",
   "id": "b154f954",
   "metadata": {},
   "source": [
    "Create DataFrame \"control_results\":"
   ]
  },
  {
   "cell_type": "code",
   "execution_count": 23,
   "id": "d55a9599",
   "metadata": {},
   "outputs": [
    {
     "name": "stdout",
     "output_type": "stream",
     "text": [
      "    time    avg_diff\n",
      "0     до  -99.901295\n",
      "1  после -113.232196\n"
     ]
    }
   ],
   "source": [
    "control_query = \"\"\"\n",
    "WITH user_first_view AS (\n",
    "    SELECT \n",
    "        uid,\n",
    "        MIN(first_view_ts) as first_view_time\n",
    "    FROM control\n",
    "    GROUP BY uid\n",
    "),\n",
    "lab_deltas AS (\n",
    "    SELECT \n",
    "        t.uid,\n",
    "        t.first_commit_ts,\n",
    "        d.deadlines,\n",
    "        (julianday(t.first_commit_ts) - julianday(datetime(d.deadlines, 'unixepoch'))) * 24 as diff_hours,\n",
    "        uv.first_view_time,\n",
    "        CASE \n",
    "            WHEN t.first_commit_ts < uv.first_view_time THEN 'до'\n",
    "            ELSE 'после'\n",
    "        END as time_period\n",
    "    FROM control t\n",
    "    JOIN deadlines d ON t.labname = d.labs\n",
    "    JOIN user_first_view uv ON t.uid = uv.uid\n",
    "    WHERE t.labname != 'project1'\n",
    ")\n",
    "SELECT \n",
    "    time_period as time,\n",
    "    AVG(diff_hours) as avg_diff\n",
    "FROM lab_deltas\n",
    "GROUP BY time_period\n",
    "ORDER BY time_period\n",
    "\"\"\"\n",
    "\n",
    "control_results = pd.read_sql(control_query, connect)\n",
    "print(control_results)"
   ]
  },
  {
   "cell_type": "markdown",
   "id": "b1c13f76",
   "metadata": {},
   "source": [
    "##### 3.Close connect:"
   ]
  },
  {
   "cell_type": "code",
   "execution_count": 24,
   "id": "db8cdaaf",
   "metadata": {},
   "outputs": [],
   "source": [
    "connect.close()"
   ]
  },
  {
   "cell_type": "markdown",
   "id": "75e2d99a",
   "metadata": {},
   "source": [
    "##### 4.Question"
   ]
  },
  {
   "cell_type": "markdown",
   "id": "23dd19c4",
   "metadata": {},
   "source": [
    "Вопрос: влияют ли посещения пользователем на дедлайн?<br>Ответ: ДА"
   ]
  }
 ],
 "metadata": {
  "kernelspec": {
   "display_name": "bryenmar",
   "language": "python",
   "name": "python3"
  },
  "language_info": {
   "codemirror_mode": {
    "name": "ipython",
    "version": 3
   },
   "file_extension": ".py",
   "mimetype": "text/x-python",
   "name": "python",
   "nbconvert_exporter": "python",
   "pygments_lexer": "ipython3",
   "version": "3.12.3"
  }
 },
 "nbformat": 4,
 "nbformat_minor": 5
}
