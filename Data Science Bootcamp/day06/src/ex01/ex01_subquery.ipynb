{
 "cells": [
  {
   "cell_type": "markdown",
   "id": "1726c7f9",
   "metadata": {},
   "source": [
    "##### Load libs:"
   ]
  },
  {
   "cell_type": "code",
   "execution_count": 1,
   "id": "65165337",
   "metadata": {},
   "outputs": [],
   "source": [
    "import pandas as pd\n",
    "import sqlite3"
   ]
  },
  {
   "cell_type": "markdown",
   "id": "a108f40a",
   "metadata": {},
   "source": [
    "##### 1. Create connect:"
   ]
  },
  {
   "cell_type": "code",
   "execution_count": 3,
   "id": "1e2baac5",
   "metadata": {},
   "outputs": [],
   "source": [
    "connect = sqlite3.connect('../data/checking-logs.sqlite')"
   ]
  },
  {
   "cell_type": "markdown",
   "id": "57ec2055",
   "metadata": {},
   "source": [
    "##### 2.Take schema for table \"checker\":"
   ]
  },
  {
   "cell_type": "code",
   "execution_count": 4,
   "id": "84f4ed63",
   "metadata": {},
   "outputs": [
    {
     "name": "stdout",
     "output_type": "stream",
     "text": [
      "   cid       name       type  notnull dflt_value  pk\n",
      "0    0      index    INTEGER        0       None   0\n",
      "1    1     status       TEXT        0       None   0\n",
      "2    2    success    INTEGER        0       None   0\n",
      "3    3  timestamp  TIMESTAMP        0       None   0\n",
      "4    4  numTrials    INTEGER        0       None   0\n",
      "5    5    labname       TEXT        0       None   0\n",
      "6    6        uid       TEXT        0       None   0\n"
     ]
    }
   ],
   "source": [
    "schema = pd.io.sql.read_sql(\"PRAGMA table_info(checker);\",connect)\n",
    "print(schema)"
   ]
  },
  {
   "cell_type": "markdown",
   "id": "191725da",
   "metadata": {},
   "source": [
    "##### 3.First 10 string in table \"checker\":"
   ]
  },
  {
   "cell_type": "code",
   "execution_count": 5,
   "id": "952fb6e1",
   "metadata": {},
   "outputs": [
    {
     "name": "stdout",
     "output_type": "stream",
     "text": [
      "   index    status  success                   timestamp  numTrials   labname  \\\n",
      "0      0  checking        0  2020-04-16 21:12:50.740474          5      None   \n",
      "1      1     ready        0  2020-04-16 21:12:54.708365          5  code_rvw   \n",
      "2      2  checking        0  2020-04-16 21:46:47.769088          7      None   \n",
      "3      3     ready        0  2020-04-16 21:46:48.121217          7     lab02   \n",
      "4      4  checking        0  2020-04-16 21:53:01.862637          6  code_rvw   \n",
      "5      5     ready        0  2020-04-16 21:53:05.373389          6  code_rvw   \n",
      "6      6  checking        0  2020-04-17 05:18:51.965864          1      None   \n",
      "7      7     ready        0  2020-04-17 05:19:02.744528          1  project1   \n",
      "8      8  checking        0  2020-04-17 05:22:35.249331          2  project1   \n",
      "9      9     ready        1  2020-04-17 05:22:45.549397          2  project1   \n",
      "\n",
      "       uid  \n",
      "0  admin_1  \n",
      "1  admin_1  \n",
      "2  admin_1  \n",
      "3  admin_1  \n",
      "4  admin_1  \n",
      "5  admin_1  \n",
      "6     None  \n",
      "7   user_4  \n",
      "8   user_4  \n",
      "9   user_4  \n"
     ]
    }
   ],
   "source": [
    "print(\n",
    "\tpd.io.sql.read_sql(\n",
    "\t\t\"SELECT * FROM checker LIMIT 10;\",\n",
    "\t\tconnect\n",
    "\t)\n",
    ")"
   ]
  },
  {
   "cell_type": "markdown",
   "id": "fadcb96f",
   "metadata": {},
   "source": [
    "##### 4.Counter in SQl+DataFrame:"
   ]
  },
  {
   "cell_type": "code",
   "execution_count": 18,
   "id": "29274978",
   "metadata": {},
   "outputs": [
    {
     "name": "stdout",
     "output_type": "stream",
     "text": [
      "   cnt\n",
      "0  985\n"
     ]
    }
   ],
   "source": [
    "print(\n",
    "\tpd.io.sql.read_sql(\n",
    "\t\t\"SELECT COUNT(*) AS cnt FROM pageviews \" \\\n",
    "\t\t\"WHERE uid IN (SELECT DISTINCT \"\n",
    "\t\t\t\"uid \" \\\n",
    "\t\t\"FROM checker \" \\\n",
    "\t\t\"WHERE status='ready' AND numTrials=1 \" \\\n",
    "\t\t\t\"AND labname IN ('laba04','laba04s','laba05','laba06','laba06s','project1')) \",\n",
    "\t\tconnect\n",
    "\t)\n",
    ")"
   ]
  },
  {
   "cell_type": "markdown",
   "id": "feb6f96c",
   "metadata": {},
   "source": [
    "##### 5.CLose connect:"
   ]
  },
  {
   "cell_type": "code",
   "execution_count": 19,
   "id": "1e553e7b",
   "metadata": {},
   "outputs": [],
   "source": [
    "connect.close()"
   ]
  }
 ],
 "metadata": {
  "kernelspec": {
   "display_name": "bryenmar",
   "language": "python",
   "name": "python3"
  },
  "language_info": {
   "codemirror_mode": {
    "name": "ipython",
    "version": 3
   },
   "file_extension": ".py",
   "mimetype": "text/x-python",
   "name": "python",
   "nbconvert_exporter": "python",
   "pygments_lexer": "ipython3",
   "version": "3.12.3"
  }
 },
 "nbformat": 4,
 "nbformat_minor": 5
}
