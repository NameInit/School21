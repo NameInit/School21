{
 "cells": [
  {
   "cell_type": "markdown",
   "id": "ba1f1be6",
   "metadata": {},
   "source": [
    "##### Load libs:"
   ]
  },
  {
   "cell_type": "code",
   "execution_count": 1,
   "id": "4f06b2cc",
   "metadata": {},
   "outputs": [],
   "source": [
    "import pandas as pd\n",
    "import sqlite3"
   ]
  },
  {
   "cell_type": "markdown",
   "id": "7783058d",
   "metadata": {},
   "source": [
    "##### 1.Create connect:"
   ]
  },
  {
   "cell_type": "code",
   "execution_count": 2,
   "id": "e14c5c75",
   "metadata": {},
   "outputs": [],
   "source": [
    "connect = sqlite3.connect('../data/checking-logs.sqlite')"
   ]
  },
  {
   "cell_type": "markdown",
   "id": "db6ea691",
   "metadata": {},
   "source": [
    "##### 2.Take schema for table \"test\":"
   ]
  },
  {
   "cell_type": "code",
   "execution_count": 3,
   "id": "cabfd28f",
   "metadata": {},
   "outputs": [
    {
     "name": "stdout",
     "output_type": "stream",
     "text": [
      "   cid             name  type  notnull dflt_value  pk\n",
      "0    0              uid  TEXT        0       None   0\n",
      "1    1          labname  TEXT        0       None   0\n",
      "2    2  first_commit_ts  TEXT        0       None   0\n",
      "3    3    first_view_ts  TEXT        0       None   0\n"
     ]
    }
   ],
   "source": [
    "print(pd.io.sql.read_sql(\"PRAGMA table_info(test)\",connect))"
   ]
  },
  {
   "cell_type": "markdown",
   "id": "955e50e6",
   "metadata": {},
   "source": [
    "##### 3.First 10 string table \"test\":"
   ]
  },
  {
   "cell_type": "code",
   "execution_count": 4,
   "id": "110380e3",
   "metadata": {},
   "outputs": [
    {
     "name": "stdout",
     "output_type": "stream",
     "text": [
      "       uid   labname             first_commit_ts               first_view_ts\n",
      "0   user_1    laba04  2020-04-26 17:06:18.462708  2020-04-26 21:53:59.624136\n",
      "1   user_1   laba04s  2020-04-26 17:12:11.843671  2020-04-26 21:53:59.624136\n",
      "2   user_1    laba05  2020-05-02 19:15:18.540185  2020-04-26 21:53:59.624136\n",
      "3   user_1    laba06  2020-05-17 16:26:35.268534  2020-04-26 21:53:59.624136\n",
      "4   user_1   laba06s  2020-05-20 12:23:37.289724  2020-04-26 21:53:59.624136\n",
      "5   user_1  project1  2020-05-14 20:56:08.898880  2020-04-26 21:53:59.624136\n",
      "6  user_10    laba04  2020-04-25 08:24:52.696624  2020-04-18 12:19:50.182714\n",
      "7  user_10   laba04s  2020-04-25 08:37:54.604222  2020-04-18 12:19:50.182714\n",
      "8  user_10    laba05  2020-05-01 19:27:26.063245  2020-04-18 12:19:50.182714\n",
      "9  user_10    laba06  2020-05-19 11:39:28.885637  2020-04-18 12:19:50.182714\n"
     ]
    }
   ],
   "source": [
    "print(pd.io.sql.read_sql(\"SELECT * FROM test LIMIT 10;\",connect))"
   ]
  },
  {
   "cell_type": "markdown",
   "id": "def0cfc8",
   "metadata": {},
   "source": [
    "##### 4.Min delta:"
   ]
  },
  {
   "cell_type": "code",
   "execution_count": 34,
   "id": "f7606f3e",
   "metadata": {},
   "outputs": [
    {
     "name": "stdout",
     "output_type": "stream",
     "text": [
      "        uid  min_diff_deadline_hour\n",
      "0    user_1             -175.556592\n",
      "1   user_10             -132.341698\n",
      "2   user_14             -200.766302\n",
      "3   user_17              -81.591403\n",
      "4   user_18              -10.973375\n",
      "5   user_19             -148.916028\n",
      "6   user_21             -126.199587\n",
      "7   user_25             -150.869725\n",
      "8   user_28             -174.852984\n",
      "9    user_3             -182.055144\n",
      "10  user_30             -202.384730\n"
     ]
    }
   ],
   "source": [
    "df_min=pd.io.sql.read_sql(\n",
    "\t\"SELECT \"\n",
    "\t\t\"t.uid, \" \\\n",
    "\t\t\"MIN(\" \\\n",
    "\t\t\"\"#ABS?\n",
    "\t\t\"(julianday(t.first_commit_ts)-julianday(datetime(d.deadlines, 'unixepoch'))))*24 AS min_diff_deadline_hour \" \\\n",
    "\t\"FROM test t \" \\\n",
    "\t\"JOIN deadlines d ON t.labname=d.labs \" \\\n",
    "\t\"WHERE t.labname != 'project1' \" \\\n",
    "\t\"GROUP BY t.uid;\", \n",
    "\tconnect\n",
    ")\n",
    "print(df_min)"
   ]
  },
  {
   "cell_type": "markdown",
   "id": "add04a46",
   "metadata": {},
   "source": [
    "##### 5.Max delta"
   ]
  },
  {
   "cell_type": "code",
   "execution_count": 48,
   "id": "d42c853a",
   "metadata": {},
   "outputs": [
    {
     "name": "stdout",
     "output_type": "stream",
     "text": [
      "        uid  max_diff_deadline_hour\n",
      "0    user_1               -6.796432\n",
      "1   user_10              -39.367888\n",
      "2   user_14              -84.448466\n",
      "3   user_17              -34.643043\n",
      "4   user_18               -3.933907\n",
      "5   user_19              -32.729282\n",
      "6   user_21              -33.905274\n",
      "7   user_25               -2.867236\n",
      "8   user_28               -8.103915\n",
      "9    user_3              -60.511392\n",
      "10  user_30              -52.477951\n"
     ]
    }
   ],
   "source": [
    "df_max=pd.io.sql.read_sql(\n",
    "\t\"SELECT \"\n",
    "\t\t\"t.uid, \" \\\n",
    "\t\t\"MAX(\" \\\n",
    "\t\t\"\"#ABS?\n",
    "\t\t\"(julianday(t.first_commit_ts)-julianday(datetime(d.deadlines, 'unixepoch'))))*24 AS max_diff_deadline_hour \" \\\n",
    "\t\"FROM test t \" \\\n",
    "\t\"JOIN deadlines d ON t.labname=d.labs \" \\\n",
    "\t\"WHERE t.labname != 'project1' \" \\\n",
    "\t\"GROUP BY t.uid;\", \n",
    "\tconnect\n",
    ")\n",
    "print(df_max)"
   ]
  },
  {
   "cell_type": "markdown",
   "id": "f54c0af4",
   "metadata": {},
   "source": [
    "##### 6.Avg delta:"
   ]
  },
  {
   "cell_type": "code",
   "execution_count": 49,
   "id": "f1c4312a",
   "metadata": {},
   "outputs": [
    {
     "name": "stdout",
     "output_type": "stream",
     "text": [
      "    avg_diff_deadline_hour\n",
      "0               -65.119644\n",
      "1               -75.242310\n",
      "2              -159.568696\n",
      "3               -62.207513\n",
      "4                -6.367907\n",
      "5               -99.440298\n",
      "6               -96.111041\n",
      "7               -93.474751\n",
      "8               -86.793652\n",
      "9              -105.738041\n",
      "10             -145.528546\n"
     ]
    }
   ],
   "source": [
    "df_avg=pd.io.sql.read_sql(\n",
    "\t\"SELECT \"\n",
    "\t\t\"AVG(\" \\\n",
    "\t\t\"\"#ABS?\n",
    "\t\t\"(julianday(t.first_commit_ts)-julianday(datetime(d.deadlines, 'unixepoch'))))*24 AS avg_diff_deadline_hour \" \\\n",
    "\t\"FROM test t \" \\\n",
    "\t\"JOIN deadlines d ON t.labname=d.labs \" \\\n",
    "\t\"WHERE t.labname != 'project1' \" \\\n",
    "\t\"GROUP BY t.uid;\", \n",
    "\tconnect\n",
    ")\n",
    "print(df_avg)"
   ]
  },
  {
   "cell_type": "markdown",
   "id": "6f3ace78",
   "metadata": {},
   "source": [
    "##### 7.Correlation:"
   ]
  },
  {
   "cell_type": "code",
   "execution_count": 68,
   "id": "87b3dad7",
   "metadata": {},
   "outputs": [
    {
     "name": "stdout",
     "output_type": "stream",
     "text": [
      "        uid    avg_diff  pageviews\n",
      "0    user_1  -65.119644          5\n",
      "1   user_10  -75.242310          5\n",
      "2   user_14 -159.568696          3\n",
      "3   user_17  -62.207513          5\n",
      "4   user_18   -6.367907          3\n",
      "5   user_19  -99.440298          4\n",
      "6   user_21  -96.111041          4\n",
      "7   user_25  -93.474751          5\n",
      "8   user_28  -86.793652          5\n",
      "9    user_3 -105.738041          5\n",
      "10  user_30 -145.528546          4\n"
     ]
    }
   ],
   "source": [
    "views_diff=pd.io.sql.read_sql(\n",
    "\t\"SELECT \" \\\n",
    "\t\t\"t.uid, \" \\\n",
    "\t\t\"AVG(\" \\\n",
    "\t\t\"\"#ABS?\n",
    "\t\t\"(julianday(t.first_commit_ts)-julianday(datetime(d.deadlines, 'unixepoch'))))*24 AS avg_diff, \" \\\n",
    "\t\t\"COUNT(*) AS pageviews \" \\\n",
    "\t\"FROM test t \" \\\n",
    "\t\"JOIN deadlines d ON t.labname=d.labs \" \\\n",
    "\t\"WHERE t.labname != 'project1' \" \\\n",
    "\t\"GROUP BY t.uid;\", \n",
    "\tconnect\n",
    ")\n",
    "print(views_diff)"
   ]
  },
  {
   "cell_type": "code",
   "execution_count": 69,
   "id": "40ba4326",
   "metadata": {},
   "outputs": [
    {
     "name": "stdout",
     "output_type": "stream",
     "text": [
      "0.11837428457444202\n"
     ]
    }
   ],
   "source": [
    "print(views_diff['avg_diff'].corr(views_diff['pageviews']))"
   ]
  },
  {
   "cell_type": "markdown",
   "id": "5df459ce",
   "metadata": {},
   "source": [
    "##### Close connect:"
   ]
  },
  {
   "cell_type": "code",
   "execution_count": 84,
   "id": "33a11ac2",
   "metadata": {},
   "outputs": [],
   "source": [
    "connect.close()"
   ]
  },
  {
   "cell_type": "markdown",
   "id": "2c8df8b8",
   "metadata": {},
   "source": [
    "### CHECK:"
   ]
  },
  {
   "cell_type": "code",
   "execution_count": 83,
   "id": "c19bf4ed",
   "metadata": {},
   "outputs": [
    {
     "name": "stdout",
     "output_type": "stream",
     "text": [
      "      uid  labname        diff\n",
      "0  user_1   laba04   -6.894594\n",
      "1  user_1  laba04s   -6.796432\n",
      "2  user_1   laba05  -28.744572\n",
      "3  user_1   laba06 -175.556592\n",
      "4  user_1  laba06s -107.606031\n"
     ]
    }
   ],
   "source": [
    "print(\n",
    "\tpd.io.sql.read_sql(\n",
    "\t\t\"SELECT \"\n",
    "\t\t\t\"uid, \" \\\n",
    "\t\t\t\"labname, \"\n",
    "\t\t\t\"(julianday(first_commit_ts)-julianday(datetime(d.deadlines, 'unixepoch')))*24 AS diff \" \\\n",
    "\t\t\"FROM test t \" \\\n",
    "\t\t\"JOIN deadlines d ON d.labs=t.labname \" \\\n",
    "\t\t\"WHERE uid = 'user_1' AND labname != 'project1' \"\n",
    "\t\t,connect\n",
    "\t)\n",
    ")"
   ]
  }
 ],
 "metadata": {
  "kernelspec": {
   "display_name": "bryenmar",
   "language": "python",
   "name": "python3"
  },
  "language_info": {
   "codemirror_mode": {
    "name": "ipython",
    "version": 3
   },
   "file_extension": ".py",
   "mimetype": "text/x-python",
   "name": "python",
   "nbconvert_exporter": "python",
   "pygments_lexer": "ipython3",
   "version": "3.12.3"
  }
 },
 "nbformat": 4,
 "nbformat_minor": 5
}
