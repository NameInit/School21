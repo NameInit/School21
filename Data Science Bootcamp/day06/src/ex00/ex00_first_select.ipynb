{
 "cells": [
  {
   "cell_type": "markdown",
   "id": "be78a988",
   "metadata": {},
   "source": [
    "##### Load libs:"
   ]
  },
  {
   "cell_type": "code",
   "execution_count": 2,
   "id": "f533fbca",
   "metadata": {},
   "outputs": [],
   "source": [
    "import pandas as pd\n",
    "import sqlite3"
   ]
  },
  {
   "cell_type": "markdown",
   "id": "ac2af827",
   "metadata": {},
   "source": [
    "##### 2.Create connect:"
   ]
  },
  {
   "cell_type": "code",
   "execution_count": 8,
   "id": "9cd59da8",
   "metadata": {},
   "outputs": [],
   "source": [
    "connect = sqlite3.connect('../data/checking-logs.sqlite')"
   ]
  },
  {
   "cell_type": "markdown",
   "id": "0e07fea8",
   "metadata": {},
   "source": [
    "##### 3.Take schema:"
   ]
  },
  {
   "cell_type": "code",
   "execution_count": 9,
   "id": "ca29e977",
   "metadata": {},
   "outputs": [
    {
     "name": "stdout",
     "output_type": "stream",
     "text": [
      "   cid      name       type  notnull dflt_value  pk\n",
      "0    0     index    INTEGER        0       None   0\n",
      "1    1       uid       TEXT        0       None   0\n",
      "2    2  datetime  TIMESTAMP        0       None   0\n"
     ]
    }
   ],
   "source": [
    "schema = pd.io.sql.read_sql(\"PRAGMA table_info(pageviews);\", connect)\n",
    "print(schema)"
   ]
  },
  {
   "cell_type": "markdown",
   "id": "43a0fd55",
   "metadata": {},
   "source": [
    "##### 4.First 10 string table \"pageviews\":"
   ]
  },
  {
   "cell_type": "code",
   "execution_count": 5,
   "id": "e289aef2",
   "metadata": {},
   "outputs": [
    {
     "name": "stdout",
     "output_type": "stream",
     "text": [
      "   index      uid                    datetime\n",
      "0      0  admin_1  2020-04-17 12:01:08.463179\n",
      "1      1  admin_1  2020-04-17 12:01:23.743946\n",
      "2      2  admin_3  2020-04-17 12:17:39.287778\n",
      "3      3  admin_3  2020-04-17 12:17:40.001768\n",
      "4      4  admin_1  2020-04-17 12:27:30.646665\n",
      "5      5  admin_1  2020-04-17 12:35:44.884757\n",
      "6      6  admin_1  2020-04-17 12:35:52.735016\n",
      "7      7  admin_3  2020-04-17 12:36:21.401412\n",
      "8      8  admin_3  2020-04-17 12:36:22.023355\n",
      "9      9  admin_1  2020-04-17 13:55:19.129243\n"
     ]
    }
   ],
   "source": [
    "print(pd.io.sql.read_sql(\"SELECT * FROM pageviews LIMIT 10;\", connect))"
   ]
  },
  {
   "cell_type": "markdown",
   "id": "f71912cc",
   "metadata": {},
   "source": [
    "##### 5.Take subtable:"
   ]
  },
  {
   "cell_type": "code",
   "execution_count": 6,
   "id": "96eeaac1",
   "metadata": {},
   "outputs": [
    {
     "name": "stdout",
     "output_type": "stream",
     "text": [
      "                                uid\n",
      "DatetimeIndex                      \n",
      "2020-04-26 21:53:59.624136   user_1\n",
      "2020-04-18 12:19:50.182714  user_10\n",
      "2020-04-18 10:53:52.623447  user_14\n",
      "2020-04-18 10:56:55.833899  user_17\n",
      "2020-04-26 22:49:29.243278  user_18\n",
      "2020-04-21 20:30:38.034966  user_19\n",
      "2020-04-22 22:40:36.824081  user_21\n",
      "2020-05-09 23:54:54.260791  user_25\n",
      "2020-05-10 21:07:50.350946  user_28\n",
      "2020-05-08 10:53:47.123832   user_3\n",
      "2020-04-17 22:46:26.785035  user_30\n",
      "2020-05-22 11:30:18.368990   user_5\n",
      "2020-05-21 16:28:28.217529   user_9\n"
     ]
    }
   ],
   "source": [
    "pageviews = pd.io.sql.read_sql(\n",
    "\t\"SELECT \" \\\n",
    "\t\t\"uid, \" \\\n",
    "\t\t\"datetime \" \\\n",
    "\t\"FROM pageviews \" \\\n",
    "\t\"WHERE uid LIKE 'user_%' \" \\\n",
    "\t\"GROUP BY uid\",\n",
    "    connect,\n",
    "    index_col='datetime'\n",
    ")\n",
    "\n",
    "pageviews.index.name='DatetimeIndex'\n",
    "\n",
    "print(pageviews)"
   ]
  },
  {
   "cell_type": "markdown",
   "id": "26c47ec1",
   "metadata": {},
   "source": [
    "##### 6.Close connect:"
   ]
  },
  {
   "cell_type": "code",
   "execution_count": 7,
   "id": "b6792b1e",
   "metadata": {},
   "outputs": [],
   "source": [
    "connect.close()"
   ]
  }
 ],
 "metadata": {
  "kernelspec": {
   "display_name": "bryenmar",
   "language": "python",
   "name": "python3"
  },
  "language_info": {
   "codemirror_mode": {
    "name": "ipython",
    "version": 3
   },
   "file_extension": ".py",
   "mimetype": "text/x-python",
   "name": "python",
   "nbconvert_exporter": "python",
   "pygments_lexer": "ipython3",
   "version": "3.12.3"
  }
 },
 "nbformat": 4,
 "nbformat_minor": 5
}
